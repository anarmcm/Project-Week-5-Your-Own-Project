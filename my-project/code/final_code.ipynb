{
 "cells": [
  {
   "cell_type": "markdown",
   "metadata": {},
   "source": [
    "# Importing libraries"
   ]
  },
  {
   "cell_type": "code",
   "execution_count": 2,
   "metadata": {},
   "outputs": [],
   "source": [
    "import pandas as pd\n",
    "import numpy as np\n",
    "import matplotlib.pyplot as plt\n",
    "import plotly as pl\n",
    "from plotly.subplots import make_subplots\n",
    "import plotly.graph_objects as go\n",
    "from plotly import express as ex\n",
    "from scipy import stats\n",
    "import statsmodels.api as sm"
   ]
  },
  {
   "cell_type": "markdown",
   "metadata": {},
   "source": [
    "# Creating dataframe out of csv"
   ]
  },
  {
   "cell_type": "code",
   "execution_count": 3,
   "metadata": {},
   "outputs": [
    {
     "data": {
      "text/html": [
       "<div>\n",
       "<style scoped>\n",
       "    .dataframe tbody tr th:only-of-type {\n",
       "        vertical-align: middle;\n",
       "    }\n",
       "\n",
       "    .dataframe tbody tr th {\n",
       "        vertical-align: top;\n",
       "    }\n",
       "\n",
       "    .dataframe thead th {\n",
       "        text-align: right;\n",
       "    }\n",
       "</style>\n",
       "<table border=\"1\" class=\"dataframe\">\n",
       "  <thead>\n",
       "    <tr style=\"text-align: right;\">\n",
       "      <th></th>\n",
       "      <th>Institution</th>\n",
       "      <th>Course Number</th>\n",
       "      <th>Launch Date</th>\n",
       "      <th>Course Title</th>\n",
       "      <th>Instructors</th>\n",
       "      <th>Course Subject</th>\n",
       "      <th>Year</th>\n",
       "      <th>Honor Code Certificates</th>\n",
       "      <th>Participants (Course Content Accessed)</th>\n",
       "      <th>Audited (&gt; 50% Course Content Accessed)</th>\n",
       "      <th>...</th>\n",
       "      <th>% Certified of &gt; 50% Course Content Accessed</th>\n",
       "      <th>% Played Video</th>\n",
       "      <th>% Posted in Forum</th>\n",
       "      <th>% Grade Higher Than Zero</th>\n",
       "      <th>Total Course Hours (Thousands)</th>\n",
       "      <th>Median Hours for Certification</th>\n",
       "      <th>Median Age</th>\n",
       "      <th>% Male</th>\n",
       "      <th>% Female</th>\n",
       "      <th>% Bachelor's Degree or Higher</th>\n",
       "    </tr>\n",
       "  </thead>\n",
       "  <tbody>\n",
       "    <tr>\n",
       "      <th>0</th>\n",
       "      <td>MITx</td>\n",
       "      <td>6.002x</td>\n",
       "      <td>09/05/2012</td>\n",
       "      <td>Circuits and Electronics</td>\n",
       "      <td>Khurram Afridi</td>\n",
       "      <td>Science, Technology, Engineering, and Mathematics</td>\n",
       "      <td>1</td>\n",
       "      <td>1</td>\n",
       "      <td>36105</td>\n",
       "      <td>5431</td>\n",
       "      <td>...</td>\n",
       "      <td>54.98</td>\n",
       "      <td>83.2</td>\n",
       "      <td>8.17</td>\n",
       "      <td>28.97</td>\n",
       "      <td>418.94</td>\n",
       "      <td>64.45</td>\n",
       "      <td>26.0</td>\n",
       "      <td>88.28</td>\n",
       "      <td>11.72</td>\n",
       "      <td>60.68</td>\n",
       "    </tr>\n",
       "    <tr>\n",
       "      <th>1</th>\n",
       "      <td>MITx</td>\n",
       "      <td>6.00x</td>\n",
       "      <td>09/26/2012</td>\n",
       "      <td>Introduction to Computer Science and Programming</td>\n",
       "      <td>Eric Grimson, John Guttag, Chris Terman</td>\n",
       "      <td>Computer Science</td>\n",
       "      <td>1</td>\n",
       "      <td>1</td>\n",
       "      <td>62709</td>\n",
       "      <td>8949</td>\n",
       "      <td>...</td>\n",
       "      <td>64.05</td>\n",
       "      <td>89.14</td>\n",
       "      <td>14.38</td>\n",
       "      <td>39.50</td>\n",
       "      <td>884.04</td>\n",
       "      <td>78.53</td>\n",
       "      <td>28.0</td>\n",
       "      <td>83.50</td>\n",
       "      <td>16.50</td>\n",
       "      <td>63.04</td>\n",
       "    </tr>\n",
       "    <tr>\n",
       "      <th>2</th>\n",
       "      <td>MITx</td>\n",
       "      <td>3.091x</td>\n",
       "      <td>10/09/2012</td>\n",
       "      <td>Introduction to Solid State Chemistry</td>\n",
       "      <td>Michael Cima</td>\n",
       "      <td>Science, Technology, Engineering, and Mathematics</td>\n",
       "      <td>1</td>\n",
       "      <td>1</td>\n",
       "      <td>16663</td>\n",
       "      <td>2855</td>\n",
       "      <td>...</td>\n",
       "      <td>72.85</td>\n",
       "      <td>87.49</td>\n",
       "      <td>14.42</td>\n",
       "      <td>34.89</td>\n",
       "      <td>227.55</td>\n",
       "      <td>61.28</td>\n",
       "      <td>27.0</td>\n",
       "      <td>70.32</td>\n",
       "      <td>29.68</td>\n",
       "      <td>58.76</td>\n",
       "    </tr>\n",
       "    <tr>\n",
       "      <th>3</th>\n",
       "      <td>HarvardX</td>\n",
       "      <td>CS50x</td>\n",
       "      <td>10/15/2012</td>\n",
       "      <td>Introduction to Computer Science</td>\n",
       "      <td>David Malan, Nate Hardison, Rob Bowden, Tommy ...</td>\n",
       "      <td>Computer Science</td>\n",
       "      <td>1</td>\n",
       "      <td>1</td>\n",
       "      <td>129400</td>\n",
       "      <td>12888</td>\n",
       "      <td>...</td>\n",
       "      <td>11.11</td>\n",
       "      <td>0</td>\n",
       "      <td>0.00</td>\n",
       "      <td>1.11</td>\n",
       "      <td>220.90</td>\n",
       "      <td>0.00</td>\n",
       "      <td>28.0</td>\n",
       "      <td>80.02</td>\n",
       "      <td>19.98</td>\n",
       "      <td>58.78</td>\n",
       "    </tr>\n",
       "    <tr>\n",
       "      <th>4</th>\n",
       "      <td>HarvardX</td>\n",
       "      <td>PH207x</td>\n",
       "      <td>10/15/2012</td>\n",
       "      <td>Health in Numbers: Quantitative Methods in Cli...</td>\n",
       "      <td>Earl Francis Cook, Marcello Pagano</td>\n",
       "      <td>Government, Health, and Social Science</td>\n",
       "      <td>1</td>\n",
       "      <td>1</td>\n",
       "      <td>52521</td>\n",
       "      <td>10729</td>\n",
       "      <td>...</td>\n",
       "      <td>47.12</td>\n",
       "      <td>77.45</td>\n",
       "      <td>15.98</td>\n",
       "      <td>32.52</td>\n",
       "      <td>804.41</td>\n",
       "      <td>76.10</td>\n",
       "      <td>32.0</td>\n",
       "      <td>56.78</td>\n",
       "      <td>43.22</td>\n",
       "      <td>88.33</td>\n",
       "    </tr>\n",
       "    <tr>\n",
       "      <th>...</th>\n",
       "      <td>...</td>\n",
       "      <td>...</td>\n",
       "      <td>...</td>\n",
       "      <td>...</td>\n",
       "      <td>...</td>\n",
       "      <td>...</td>\n",
       "      <td>...</td>\n",
       "      <td>...</td>\n",
       "      <td>...</td>\n",
       "      <td>...</td>\n",
       "      <td>...</td>\n",
       "      <td>...</td>\n",
       "      <td>...</td>\n",
       "      <td>...</td>\n",
       "      <td>...</td>\n",
       "      <td>...</td>\n",
       "      <td>...</td>\n",
       "      <td>...</td>\n",
       "      <td>...</td>\n",
       "      <td>...</td>\n",
       "      <td>...</td>\n",
       "    </tr>\n",
       "    <tr>\n",
       "      <th>285</th>\n",
       "      <td>HarvardX</td>\n",
       "      <td>MUS24.4x</td>\n",
       "      <td>07/21/2016</td>\n",
       "      <td>First Nights: Symphonie Fantastique</td>\n",
       "      <td>Tom Kelly</td>\n",
       "      <td>Humanities, History, Design, Religion, and Edu...</td>\n",
       "      <td>4</td>\n",
       "      <td>0</td>\n",
       "      <td>615</td>\n",
       "      <td>305</td>\n",
       "      <td>...</td>\n",
       "      <td>6.56</td>\n",
       "      <td>80.81</td>\n",
       "      <td>8.78</td>\n",
       "      <td>3.25</td>\n",
       "      <td>1.71</td>\n",
       "      <td>5.93</td>\n",
       "      <td>38.0</td>\n",
       "      <td>56.82</td>\n",
       "      <td>43.18</td>\n",
       "      <td>74.66</td>\n",
       "    </tr>\n",
       "    <tr>\n",
       "      <th>286</th>\n",
       "      <td>HarvardX</td>\n",
       "      <td>GSE4x</td>\n",
       "      <td>07/25/2016</td>\n",
       "      <td>Introduction to Family Engagement in Education</td>\n",
       "      <td>Karen Mapp</td>\n",
       "      <td>Humanities, History, Design, Religion, and Edu...</td>\n",
       "      <td>4</td>\n",
       "      <td>0</td>\n",
       "      <td>2871</td>\n",
       "      <td>267</td>\n",
       "      <td>...</td>\n",
       "      <td>7.49</td>\n",
       "      <td>70.11</td>\n",
       "      <td>0.00</td>\n",
       "      <td>0.70</td>\n",
       "      <td>4.26</td>\n",
       "      <td>11.33</td>\n",
       "      <td>34.0</td>\n",
       "      <td>25.24</td>\n",
       "      <td>74.76</td>\n",
       "      <td>82.31</td>\n",
       "    </tr>\n",
       "    <tr>\n",
       "      <th>287</th>\n",
       "      <td>MITx</td>\n",
       "      <td>6.302.0x</td>\n",
       "      <td>08/01/2016</td>\n",
       "      <td>Introduction to Control System Design</td>\n",
       "      <td>Jacob White, Joe Steinmeyer</td>\n",
       "      <td>Science, Technology, Engineering, and Mathematics</td>\n",
       "      <td>4</td>\n",
       "      <td>0</td>\n",
       "      <td>3937</td>\n",
       "      <td>974</td>\n",
       "      <td>...</td>\n",
       "      <td>5.03</td>\n",
       "      <td>12.27</td>\n",
       "      <td>4.72</td>\n",
       "      <td>8.23</td>\n",
       "      <td>15.62</td>\n",
       "      <td>58.50</td>\n",
       "      <td>24.0</td>\n",
       "      <td>91.17</td>\n",
       "      <td>8.83</td>\n",
       "      <td>61.32</td>\n",
       "    </tr>\n",
       "    <tr>\n",
       "      <th>288</th>\n",
       "      <td>MITx</td>\n",
       "      <td>6.302.1x</td>\n",
       "      <td>08/01/2016</td>\n",
       "      <td>Introduction to State Space Control</td>\n",
       "      <td>Jacob White, Joe Steinmeyer</td>\n",
       "      <td>Science, Technology, Engineering, and Mathematics</td>\n",
       "      <td>4</td>\n",
       "      <td>0</td>\n",
       "      <td>1431</td>\n",
       "      <td>208</td>\n",
       "      <td>...</td>\n",
       "      <td>3.85</td>\n",
       "      <td>0</td>\n",
       "      <td>3.84</td>\n",
       "      <td>5.73</td>\n",
       "      <td>3.22</td>\n",
       "      <td>62.38</td>\n",
       "      <td>25.0</td>\n",
       "      <td>93.44</td>\n",
       "      <td>6.56</td>\n",
       "      <td>72.31</td>\n",
       "    </tr>\n",
       "    <tr>\n",
       "      <th>289</th>\n",
       "      <td>MITx</td>\n",
       "      <td>3.15.3x</td>\n",
       "      <td>08/03/2016</td>\n",
       "      <td>Magnetic Materials and Devices</td>\n",
       "      <td>Caroline Ross</td>\n",
       "      <td>Science, Technology, Engineering, and Mathematics</td>\n",
       "      <td>4</td>\n",
       "      <td>0</td>\n",
       "      <td>1294</td>\n",
       "      <td>364</td>\n",
       "      <td>...</td>\n",
       "      <td>10.44</td>\n",
       "      <td>49.92</td>\n",
       "      <td>4.40</td>\n",
       "      <td>14.30</td>\n",
       "      <td>6.87</td>\n",
       "      <td>40.59</td>\n",
       "      <td>25.0</td>\n",
       "      <td>85.95</td>\n",
       "      <td>14.05</td>\n",
       "      <td>65.78</td>\n",
       "    </tr>\n",
       "  </tbody>\n",
       "</table>\n",
       "<p>290 rows × 23 columns</p>\n",
       "</div>"
      ],
      "text/plain": [
       "    Institution Course Number Launch Date  \\\n",
       "0          MITx        6.002x  09/05/2012   \n",
       "1          MITx         6.00x  09/26/2012   \n",
       "2          MITx        3.091x  10/09/2012   \n",
       "3      HarvardX         CS50x  10/15/2012   \n",
       "4      HarvardX        PH207x  10/15/2012   \n",
       "..          ...           ...         ...   \n",
       "285    HarvardX      MUS24.4x  07/21/2016   \n",
       "286    HarvardX         GSE4x  07/25/2016   \n",
       "287        MITx      6.302.0x  08/01/2016   \n",
       "288        MITx      6.302.1x  08/01/2016   \n",
       "289        MITx       3.15.3x  08/03/2016   \n",
       "\n",
       "                                          Course Title  \\\n",
       "0                             Circuits and Electronics   \n",
       "1     Introduction to Computer Science and Programming   \n",
       "2                Introduction to Solid State Chemistry   \n",
       "3                     Introduction to Computer Science   \n",
       "4    Health in Numbers: Quantitative Methods in Cli...   \n",
       "..                                                 ...   \n",
       "285                First Nights: Symphonie Fantastique   \n",
       "286     Introduction to Family Engagement in Education   \n",
       "287              Introduction to Control System Design   \n",
       "288                Introduction to State Space Control   \n",
       "289                     Magnetic Materials and Devices   \n",
       "\n",
       "                                           Instructors  \\\n",
       "0                                       Khurram Afridi   \n",
       "1              Eric Grimson, John Guttag, Chris Terman   \n",
       "2                                         Michael Cima   \n",
       "3    David Malan, Nate Hardison, Rob Bowden, Tommy ...   \n",
       "4                   Earl Francis Cook, Marcello Pagano   \n",
       "..                                                 ...   \n",
       "285                                          Tom Kelly   \n",
       "286                                         Karen Mapp   \n",
       "287                        Jacob White, Joe Steinmeyer   \n",
       "288                        Jacob White, Joe Steinmeyer   \n",
       "289                                      Caroline Ross   \n",
       "\n",
       "                                        Course Subject  Year  \\\n",
       "0    Science, Technology, Engineering, and Mathematics     1   \n",
       "1                                     Computer Science     1   \n",
       "2    Science, Technology, Engineering, and Mathematics     1   \n",
       "3                                     Computer Science     1   \n",
       "4               Government, Health, and Social Science     1   \n",
       "..                                                 ...   ...   \n",
       "285  Humanities, History, Design, Religion, and Edu...     4   \n",
       "286  Humanities, History, Design, Religion, and Edu...     4   \n",
       "287  Science, Technology, Engineering, and Mathematics     4   \n",
       "288  Science, Technology, Engineering, and Mathematics     4   \n",
       "289  Science, Technology, Engineering, and Mathematics     4   \n",
       "\n",
       "     Honor Code Certificates  Participants (Course Content Accessed)  \\\n",
       "0                          1                                   36105   \n",
       "1                          1                                   62709   \n",
       "2                          1                                   16663   \n",
       "3                          1                                  129400   \n",
       "4                          1                                   52521   \n",
       "..                       ...                                     ...   \n",
       "285                        0                                     615   \n",
       "286                        0                                    2871   \n",
       "287                        0                                    3937   \n",
       "288                        0                                    1431   \n",
       "289                        0                                    1294   \n",
       "\n",
       "     Audited (> 50% Course Content Accessed)  ...  \\\n",
       "0                                       5431  ...   \n",
       "1                                       8949  ...   \n",
       "2                                       2855  ...   \n",
       "3                                      12888  ...   \n",
       "4                                      10729  ...   \n",
       "..                                       ...  ...   \n",
       "285                                      305  ...   \n",
       "286                                      267  ...   \n",
       "287                                      974  ...   \n",
       "288                                      208  ...   \n",
       "289                                      364  ...   \n",
       "\n",
       "     % Certified of > 50% Course Content Accessed  % Played Video  \\\n",
       "0                                           54.98            83.2   \n",
       "1                                           64.05           89.14   \n",
       "2                                           72.85           87.49   \n",
       "3                                           11.11               0   \n",
       "4                                           47.12           77.45   \n",
       "..                                            ...             ...   \n",
       "285                                          6.56           80.81   \n",
       "286                                          7.49           70.11   \n",
       "287                                          5.03           12.27   \n",
       "288                                          3.85               0   \n",
       "289                                         10.44           49.92   \n",
       "\n",
       "     % Posted in Forum  % Grade Higher Than Zero  \\\n",
       "0                 8.17                     28.97   \n",
       "1                14.38                     39.50   \n",
       "2                14.42                     34.89   \n",
       "3                 0.00                      1.11   \n",
       "4                15.98                     32.52   \n",
       "..                 ...                       ...   \n",
       "285               8.78                      3.25   \n",
       "286               0.00                      0.70   \n",
       "287               4.72                      8.23   \n",
       "288               3.84                      5.73   \n",
       "289               4.40                     14.30   \n",
       "\n",
       "    Total Course Hours (Thousands)  Median Hours for Certification  \\\n",
       "0                           418.94                           64.45   \n",
       "1                           884.04                           78.53   \n",
       "2                           227.55                           61.28   \n",
       "3                           220.90                            0.00   \n",
       "4                           804.41                           76.10   \n",
       "..                             ...                             ...   \n",
       "285                           1.71                            5.93   \n",
       "286                           4.26                           11.33   \n",
       "287                          15.62                           58.50   \n",
       "288                           3.22                           62.38   \n",
       "289                           6.87                           40.59   \n",
       "\n",
       "     Median Age  % Male  % Female  % Bachelor's Degree or Higher  \n",
       "0          26.0   88.28     11.72                          60.68  \n",
       "1          28.0   83.50     16.50                          63.04  \n",
       "2          27.0   70.32     29.68                          58.76  \n",
       "3          28.0   80.02     19.98                          58.78  \n",
       "4          32.0   56.78     43.22                          88.33  \n",
       "..          ...     ...       ...                            ...  \n",
       "285        38.0   56.82     43.18                          74.66  \n",
       "286        34.0   25.24     74.76                          82.31  \n",
       "287        24.0   91.17      8.83                          61.32  \n",
       "288        25.0   93.44      6.56                          72.31  \n",
       "289        25.0   85.95     14.05                          65.78  \n",
       "\n",
       "[290 rows x 23 columns]"
      ]
     },
     "execution_count": 3,
     "metadata": {},
     "output_type": "execute_result"
    }
   ],
   "source": [
    "online_courses = pd.read_csv(\"../data/online_courses.csv\")\n",
    "online_courses"
   ]
  },
  {
   "cell_type": "markdown",
   "metadata": {},
   "source": [
    "# Cleaning dataframe"
   ]
  },
  {
   "cell_type": "code",
   "execution_count": 4,
   "metadata": {},
   "outputs": [],
   "source": [
    "online_courses.drop([\"Year\", \"Instructors\", \"Course Number\"], axis = 1, inplace = True)"
   ]
  },
  {
   "cell_type": "code",
   "execution_count": 5,
   "metadata": {},
   "outputs": [
    {
     "data": {
      "text/html": [
       "<div>\n",
       "<style scoped>\n",
       "    .dataframe tbody tr th:only-of-type {\n",
       "        vertical-align: middle;\n",
       "    }\n",
       "\n",
       "    .dataframe tbody tr th {\n",
       "        vertical-align: top;\n",
       "    }\n",
       "\n",
       "    .dataframe thead th {\n",
       "        text-align: right;\n",
       "    }\n",
       "</style>\n",
       "<table border=\"1\" class=\"dataframe\">\n",
       "  <thead>\n",
       "    <tr style=\"text-align: right;\">\n",
       "      <th></th>\n",
       "      <th>Launch Date</th>\n",
       "      <th>Course Title</th>\n",
       "      <th>Course Subject</th>\n",
       "      <th>Honor Code Certificates</th>\n",
       "      <th>Participants (Course Content Accessed)</th>\n",
       "      <th>Audited (&gt; 50% Course Content Accessed)</th>\n",
       "      <th>Certified</th>\n",
       "      <th>% Audited</th>\n",
       "      <th>% Certified</th>\n",
       "      <th>% Certified of &gt; 50% Course Content Accessed</th>\n",
       "      <th>% Played Video</th>\n",
       "      <th>% Posted in Forum</th>\n",
       "      <th>% Grade Higher Than Zero</th>\n",
       "      <th>Total Course Hours (Thousands)</th>\n",
       "      <th>Median Hours for Certification</th>\n",
       "      <th>Median Age</th>\n",
       "      <th>% Male</th>\n",
       "      <th>% Female</th>\n",
       "      <th>% Bachelor's Degree or Higher</th>\n",
       "    </tr>\n",
       "    <tr>\n",
       "      <th>Institution</th>\n",
       "      <th></th>\n",
       "      <th></th>\n",
       "      <th></th>\n",
       "      <th></th>\n",
       "      <th></th>\n",
       "      <th></th>\n",
       "      <th></th>\n",
       "      <th></th>\n",
       "      <th></th>\n",
       "      <th></th>\n",
       "      <th></th>\n",
       "      <th></th>\n",
       "      <th></th>\n",
       "      <th></th>\n",
       "      <th></th>\n",
       "      <th></th>\n",
       "      <th></th>\n",
       "      <th></th>\n",
       "      <th></th>\n",
       "    </tr>\n",
       "  </thead>\n",
       "  <tbody>\n",
       "    <tr>\n",
       "      <th>MITx</th>\n",
       "      <td>09/05/2012</td>\n",
       "      <td>Circuits and Electronics</td>\n",
       "      <td>Science, Technology, Engineering, and Mathematics</td>\n",
       "      <td>1</td>\n",
       "      <td>36105</td>\n",
       "      <td>5431</td>\n",
       "      <td>3003</td>\n",
       "      <td>15.04</td>\n",
       "      <td>8.32</td>\n",
       "      <td>54.98</td>\n",
       "      <td>83.2</td>\n",
       "      <td>8.17</td>\n",
       "      <td>28.97</td>\n",
       "      <td>418.94</td>\n",
       "      <td>64.45</td>\n",
       "      <td>26.0</td>\n",
       "      <td>88.28</td>\n",
       "      <td>11.72</td>\n",
       "      <td>60.68</td>\n",
       "    </tr>\n",
       "    <tr>\n",
       "      <th>MITx</th>\n",
       "      <td>09/26/2012</td>\n",
       "      <td>Introduction to Computer Science and Programming</td>\n",
       "      <td>Computer Science</td>\n",
       "      <td>1</td>\n",
       "      <td>62709</td>\n",
       "      <td>8949</td>\n",
       "      <td>5783</td>\n",
       "      <td>14.27</td>\n",
       "      <td>9.22</td>\n",
       "      <td>64.05</td>\n",
       "      <td>89.14</td>\n",
       "      <td>14.38</td>\n",
       "      <td>39.50</td>\n",
       "      <td>884.04</td>\n",
       "      <td>78.53</td>\n",
       "      <td>28.0</td>\n",
       "      <td>83.50</td>\n",
       "      <td>16.50</td>\n",
       "      <td>63.04</td>\n",
       "    </tr>\n",
       "    <tr>\n",
       "      <th>MITx</th>\n",
       "      <td>10/09/2012</td>\n",
       "      <td>Introduction to Solid State Chemistry</td>\n",
       "      <td>Science, Technology, Engineering, and Mathematics</td>\n",
       "      <td>1</td>\n",
       "      <td>16663</td>\n",
       "      <td>2855</td>\n",
       "      <td>2082</td>\n",
       "      <td>17.13</td>\n",
       "      <td>12.49</td>\n",
       "      <td>72.85</td>\n",
       "      <td>87.49</td>\n",
       "      <td>14.42</td>\n",
       "      <td>34.89</td>\n",
       "      <td>227.55</td>\n",
       "      <td>61.28</td>\n",
       "      <td>27.0</td>\n",
       "      <td>70.32</td>\n",
       "      <td>29.68</td>\n",
       "      <td>58.76</td>\n",
       "    </tr>\n",
       "    <tr>\n",
       "      <th>HarvardX</th>\n",
       "      <td>10/15/2012</td>\n",
       "      <td>Introduction to Computer Science</td>\n",
       "      <td>Computer Science</td>\n",
       "      <td>1</td>\n",
       "      <td>129400</td>\n",
       "      <td>12888</td>\n",
       "      <td>1439</td>\n",
       "      <td>9.96</td>\n",
       "      <td>1.11</td>\n",
       "      <td>11.11</td>\n",
       "      <td>0</td>\n",
       "      <td>0.00</td>\n",
       "      <td>1.11</td>\n",
       "      <td>220.90</td>\n",
       "      <td>0.00</td>\n",
       "      <td>28.0</td>\n",
       "      <td>80.02</td>\n",
       "      <td>19.98</td>\n",
       "      <td>58.78</td>\n",
       "    </tr>\n",
       "    <tr>\n",
       "      <th>HarvardX</th>\n",
       "      <td>10/15/2012</td>\n",
       "      <td>Health in Numbers: Quantitative Methods in Cli...</td>\n",
       "      <td>Government, Health, and Social Science</td>\n",
       "      <td>1</td>\n",
       "      <td>52521</td>\n",
       "      <td>10729</td>\n",
       "      <td>5058</td>\n",
       "      <td>20.44</td>\n",
       "      <td>9.64</td>\n",
       "      <td>47.12</td>\n",
       "      <td>77.45</td>\n",
       "      <td>15.98</td>\n",
       "      <td>32.52</td>\n",
       "      <td>804.41</td>\n",
       "      <td>76.10</td>\n",
       "      <td>32.0</td>\n",
       "      <td>56.78</td>\n",
       "      <td>43.22</td>\n",
       "      <td>88.33</td>\n",
       "    </tr>\n",
       "    <tr>\n",
       "      <th>...</th>\n",
       "      <td>...</td>\n",
       "      <td>...</td>\n",
       "      <td>...</td>\n",
       "      <td>...</td>\n",
       "      <td>...</td>\n",
       "      <td>...</td>\n",
       "      <td>...</td>\n",
       "      <td>...</td>\n",
       "      <td>...</td>\n",
       "      <td>...</td>\n",
       "      <td>...</td>\n",
       "      <td>...</td>\n",
       "      <td>...</td>\n",
       "      <td>...</td>\n",
       "      <td>...</td>\n",
       "      <td>...</td>\n",
       "      <td>...</td>\n",
       "      <td>...</td>\n",
       "      <td>...</td>\n",
       "    </tr>\n",
       "    <tr>\n",
       "      <th>HarvardX</th>\n",
       "      <td>07/21/2016</td>\n",
       "      <td>First Nights: Symphonie Fantastique</td>\n",
       "      <td>Humanities, History, Design, Religion, and Edu...</td>\n",
       "      <td>0</td>\n",
       "      <td>615</td>\n",
       "      <td>305</td>\n",
       "      <td>20</td>\n",
       "      <td>49.59</td>\n",
       "      <td>3.25</td>\n",
       "      <td>6.56</td>\n",
       "      <td>80.81</td>\n",
       "      <td>8.78</td>\n",
       "      <td>3.25</td>\n",
       "      <td>1.71</td>\n",
       "      <td>5.93</td>\n",
       "      <td>38.0</td>\n",
       "      <td>56.82</td>\n",
       "      <td>43.18</td>\n",
       "      <td>74.66</td>\n",
       "    </tr>\n",
       "    <tr>\n",
       "      <th>HarvardX</th>\n",
       "      <td>07/25/2016</td>\n",
       "      <td>Introduction to Family Engagement in Education</td>\n",
       "      <td>Humanities, History, Design, Religion, and Edu...</td>\n",
       "      <td>0</td>\n",
       "      <td>2871</td>\n",
       "      <td>267</td>\n",
       "      <td>20</td>\n",
       "      <td>9.30</td>\n",
       "      <td>0.70</td>\n",
       "      <td>7.49</td>\n",
       "      <td>70.11</td>\n",
       "      <td>0.00</td>\n",
       "      <td>0.70</td>\n",
       "      <td>4.26</td>\n",
       "      <td>11.33</td>\n",
       "      <td>34.0</td>\n",
       "      <td>25.24</td>\n",
       "      <td>74.76</td>\n",
       "      <td>82.31</td>\n",
       "    </tr>\n",
       "    <tr>\n",
       "      <th>MITx</th>\n",
       "      <td>08/01/2016</td>\n",
       "      <td>Introduction to Control System Design</td>\n",
       "      <td>Science, Technology, Engineering, and Mathematics</td>\n",
       "      <td>0</td>\n",
       "      <td>3937</td>\n",
       "      <td>974</td>\n",
       "      <td>49</td>\n",
       "      <td>24.74</td>\n",
       "      <td>1.24</td>\n",
       "      <td>5.03</td>\n",
       "      <td>12.27</td>\n",
       "      <td>4.72</td>\n",
       "      <td>8.23</td>\n",
       "      <td>15.62</td>\n",
       "      <td>58.50</td>\n",
       "      <td>24.0</td>\n",
       "      <td>91.17</td>\n",
       "      <td>8.83</td>\n",
       "      <td>61.32</td>\n",
       "    </tr>\n",
       "    <tr>\n",
       "      <th>MITx</th>\n",
       "      <td>08/01/2016</td>\n",
       "      <td>Introduction to State Space Control</td>\n",
       "      <td>Science, Technology, Engineering, and Mathematics</td>\n",
       "      <td>0</td>\n",
       "      <td>1431</td>\n",
       "      <td>208</td>\n",
       "      <td>8</td>\n",
       "      <td>14.54</td>\n",
       "      <td>0.56</td>\n",
       "      <td>3.85</td>\n",
       "      <td>0</td>\n",
       "      <td>3.84</td>\n",
       "      <td>5.73</td>\n",
       "      <td>3.22</td>\n",
       "      <td>62.38</td>\n",
       "      <td>25.0</td>\n",
       "      <td>93.44</td>\n",
       "      <td>6.56</td>\n",
       "      <td>72.31</td>\n",
       "    </tr>\n",
       "    <tr>\n",
       "      <th>MITx</th>\n",
       "      <td>08/03/2016</td>\n",
       "      <td>Magnetic Materials and Devices</td>\n",
       "      <td>Science, Technology, Engineering, and Mathematics</td>\n",
       "      <td>0</td>\n",
       "      <td>1294</td>\n",
       "      <td>364</td>\n",
       "      <td>38</td>\n",
       "      <td>28.13</td>\n",
       "      <td>2.94</td>\n",
       "      <td>10.44</td>\n",
       "      <td>49.92</td>\n",
       "      <td>4.40</td>\n",
       "      <td>14.30</td>\n",
       "      <td>6.87</td>\n",
       "      <td>40.59</td>\n",
       "      <td>25.0</td>\n",
       "      <td>85.95</td>\n",
       "      <td>14.05</td>\n",
       "      <td>65.78</td>\n",
       "    </tr>\n",
       "  </tbody>\n",
       "</table>\n",
       "<p>290 rows × 19 columns</p>\n",
       "</div>"
      ],
      "text/plain": [
       "            Launch Date                                       Course Title  \\\n",
       "Institution                                                                  \n",
       "MITx         09/05/2012                           Circuits and Electronics   \n",
       "MITx         09/26/2012   Introduction to Computer Science and Programming   \n",
       "MITx         10/09/2012              Introduction to Solid State Chemistry   \n",
       "HarvardX     10/15/2012                   Introduction to Computer Science   \n",
       "HarvardX     10/15/2012  Health in Numbers: Quantitative Methods in Cli...   \n",
       "...                 ...                                                ...   \n",
       "HarvardX     07/21/2016                First Nights: Symphonie Fantastique   \n",
       "HarvardX     07/25/2016     Introduction to Family Engagement in Education   \n",
       "MITx         08/01/2016              Introduction to Control System Design   \n",
       "MITx         08/01/2016                Introduction to State Space Control   \n",
       "MITx         08/03/2016                     Magnetic Materials and Devices   \n",
       "\n",
       "                                                Course Subject  \\\n",
       "Institution                                                      \n",
       "MITx         Science, Technology, Engineering, and Mathematics   \n",
       "MITx                                          Computer Science   \n",
       "MITx         Science, Technology, Engineering, and Mathematics   \n",
       "HarvardX                                      Computer Science   \n",
       "HarvardX                Government, Health, and Social Science   \n",
       "...                                                        ...   \n",
       "HarvardX     Humanities, History, Design, Religion, and Edu...   \n",
       "HarvardX     Humanities, History, Design, Religion, and Edu...   \n",
       "MITx         Science, Technology, Engineering, and Mathematics   \n",
       "MITx         Science, Technology, Engineering, and Mathematics   \n",
       "MITx         Science, Technology, Engineering, and Mathematics   \n",
       "\n",
       "             Honor Code Certificates  Participants (Course Content Accessed)  \\\n",
       "Institution                                                                    \n",
       "MITx                               1                                   36105   \n",
       "MITx                               1                                   62709   \n",
       "MITx                               1                                   16663   \n",
       "HarvardX                           1                                  129400   \n",
       "HarvardX                           1                                   52521   \n",
       "...                              ...                                     ...   \n",
       "HarvardX                           0                                     615   \n",
       "HarvardX                           0                                    2871   \n",
       "MITx                               0                                    3937   \n",
       "MITx                               0                                    1431   \n",
       "MITx                               0                                    1294   \n",
       "\n",
       "             Audited (> 50% Course Content Accessed)  Certified  % Audited  \\\n",
       "Institution                                                                  \n",
       "MITx                                            5431       3003      15.04   \n",
       "MITx                                            8949       5783      14.27   \n",
       "MITx                                            2855       2082      17.13   \n",
       "HarvardX                                       12888       1439       9.96   \n",
       "HarvardX                                       10729       5058      20.44   \n",
       "...                                              ...        ...        ...   \n",
       "HarvardX                                         305         20      49.59   \n",
       "HarvardX                                         267         20       9.30   \n",
       "MITx                                             974         49      24.74   \n",
       "MITx                                             208          8      14.54   \n",
       "MITx                                             364         38      28.13   \n",
       "\n",
       "             % Certified  % Certified of > 50% Course Content Accessed  \\\n",
       "Institution                                                              \n",
       "MITx                8.32                                         54.98   \n",
       "MITx                9.22                                         64.05   \n",
       "MITx               12.49                                         72.85   \n",
       "HarvardX            1.11                                         11.11   \n",
       "HarvardX            9.64                                         47.12   \n",
       "...                  ...                                           ...   \n",
       "HarvardX            3.25                                          6.56   \n",
       "HarvardX            0.70                                          7.49   \n",
       "MITx                1.24                                          5.03   \n",
       "MITx                0.56                                          3.85   \n",
       "MITx                2.94                                         10.44   \n",
       "\n",
       "            % Played Video  % Posted in Forum  % Grade Higher Than Zero  \\\n",
       "Institution                                                               \n",
       "MITx                  83.2               8.17                     28.97   \n",
       "MITx                 89.14              14.38                     39.50   \n",
       "MITx                 87.49              14.42                     34.89   \n",
       "HarvardX                 0               0.00                      1.11   \n",
       "HarvardX             77.45              15.98                     32.52   \n",
       "...                    ...                ...                       ...   \n",
       "HarvardX             80.81               8.78                      3.25   \n",
       "HarvardX             70.11               0.00                      0.70   \n",
       "MITx                 12.27               4.72                      8.23   \n",
       "MITx                     0               3.84                      5.73   \n",
       "MITx                 49.92               4.40                     14.30   \n",
       "\n",
       "             Total Course Hours (Thousands)  Median Hours for Certification  \\\n",
       "Institution                                                                   \n",
       "MITx                                 418.94                           64.45   \n",
       "MITx                                 884.04                           78.53   \n",
       "MITx                                 227.55                           61.28   \n",
       "HarvardX                             220.90                            0.00   \n",
       "HarvardX                             804.41                           76.10   \n",
       "...                                     ...                             ...   \n",
       "HarvardX                               1.71                            5.93   \n",
       "HarvardX                               4.26                           11.33   \n",
       "MITx                                  15.62                           58.50   \n",
       "MITx                                   3.22                           62.38   \n",
       "MITx                                   6.87                           40.59   \n",
       "\n",
       "             Median Age  % Male  % Female  % Bachelor's Degree or Higher  \n",
       "Institution                                                               \n",
       "MITx               26.0   88.28     11.72                          60.68  \n",
       "MITx               28.0   83.50     16.50                          63.04  \n",
       "MITx               27.0   70.32     29.68                          58.76  \n",
       "HarvardX           28.0   80.02     19.98                          58.78  \n",
       "HarvardX           32.0   56.78     43.22                          88.33  \n",
       "...                 ...     ...       ...                            ...  \n",
       "HarvardX           38.0   56.82     43.18                          74.66  \n",
       "HarvardX           34.0   25.24     74.76                          82.31  \n",
       "MITx               24.0   91.17      8.83                          61.32  \n",
       "MITx               25.0   93.44      6.56                          72.31  \n",
       "MITx               25.0   85.95     14.05                          65.78  \n",
       "\n",
       "[290 rows x 19 columns]"
      ]
     },
     "execution_count": 5,
     "metadata": {},
     "output_type": "execute_result"
    }
   ],
   "source": [
    "online_courses.set_index(\"Institution\")"
   ]
  },
  {
   "cell_type": "code",
   "execution_count": 6,
   "metadata": {},
   "outputs": [],
   "source": [
    "online_courses.rename(columns = {\"Launch Date\": \"Year\"}, inplace = True)"
   ]
  },
  {
   "cell_type": "code",
   "execution_count": 7,
   "metadata": {},
   "outputs": [
    {
     "data": {
      "text/html": [
       "<div>\n",
       "<style scoped>\n",
       "    .dataframe tbody tr th:only-of-type {\n",
       "        vertical-align: middle;\n",
       "    }\n",
       "\n",
       "    .dataframe tbody tr th {\n",
       "        vertical-align: top;\n",
       "    }\n",
       "\n",
       "    .dataframe thead th {\n",
       "        text-align: right;\n",
       "    }\n",
       "</style>\n",
       "<table border=\"1\" class=\"dataframe\">\n",
       "  <thead>\n",
       "    <tr style=\"text-align: right;\">\n",
       "      <th></th>\n",
       "      <th>Institution</th>\n",
       "      <th>Year</th>\n",
       "      <th>Course Title</th>\n",
       "      <th>Course Subject</th>\n",
       "      <th>Honor Code Certificates</th>\n",
       "      <th>Participants (Course Content Accessed)</th>\n",
       "      <th>Audited (&gt; 50% Course Content Accessed)</th>\n",
       "      <th>Certified</th>\n",
       "      <th>% Audited</th>\n",
       "      <th>% Certified</th>\n",
       "      <th>% Certified of &gt; 50% Course Content Accessed</th>\n",
       "      <th>% Played Video</th>\n",
       "      <th>% Posted in Forum</th>\n",
       "      <th>% Grade Higher Than Zero</th>\n",
       "      <th>Total Course Hours (Thousands)</th>\n",
       "      <th>Median Hours for Certification</th>\n",
       "      <th>Median Age</th>\n",
       "      <th>% Male</th>\n",
       "      <th>% Female</th>\n",
       "      <th>% Bachelor's Degree or Higher</th>\n",
       "    </tr>\n",
       "  </thead>\n",
       "  <tbody>\n",
       "    <tr>\n",
       "      <th>0</th>\n",
       "      <td>MITx</td>\n",
       "      <td>09/05/2012</td>\n",
       "      <td>Circuits and Electronics</td>\n",
       "      <td>Science, Technology, Engineering, and Mathematics</td>\n",
       "      <td>1</td>\n",
       "      <td>36105</td>\n",
       "      <td>5431</td>\n",
       "      <td>3003</td>\n",
       "      <td>15.04</td>\n",
       "      <td>8.32</td>\n",
       "      <td>54.98</td>\n",
       "      <td>83.2</td>\n",
       "      <td>8.17</td>\n",
       "      <td>28.97</td>\n",
       "      <td>418.94</td>\n",
       "      <td>64.45</td>\n",
       "      <td>26.0</td>\n",
       "      <td>88.28</td>\n",
       "      <td>11.72</td>\n",
       "      <td>60.68</td>\n",
       "    </tr>\n",
       "    <tr>\n",
       "      <th>1</th>\n",
       "      <td>MITx</td>\n",
       "      <td>09/26/2012</td>\n",
       "      <td>Introduction to Computer Science and Programming</td>\n",
       "      <td>Computer Science</td>\n",
       "      <td>1</td>\n",
       "      <td>62709</td>\n",
       "      <td>8949</td>\n",
       "      <td>5783</td>\n",
       "      <td>14.27</td>\n",
       "      <td>9.22</td>\n",
       "      <td>64.05</td>\n",
       "      <td>89.14</td>\n",
       "      <td>14.38</td>\n",
       "      <td>39.50</td>\n",
       "      <td>884.04</td>\n",
       "      <td>78.53</td>\n",
       "      <td>28.0</td>\n",
       "      <td>83.50</td>\n",
       "      <td>16.50</td>\n",
       "      <td>63.04</td>\n",
       "    </tr>\n",
       "    <tr>\n",
       "      <th>2</th>\n",
       "      <td>MITx</td>\n",
       "      <td>10/09/2012</td>\n",
       "      <td>Introduction to Solid State Chemistry</td>\n",
       "      <td>Science, Technology, Engineering, and Mathematics</td>\n",
       "      <td>1</td>\n",
       "      <td>16663</td>\n",
       "      <td>2855</td>\n",
       "      <td>2082</td>\n",
       "      <td>17.13</td>\n",
       "      <td>12.49</td>\n",
       "      <td>72.85</td>\n",
       "      <td>87.49</td>\n",
       "      <td>14.42</td>\n",
       "      <td>34.89</td>\n",
       "      <td>227.55</td>\n",
       "      <td>61.28</td>\n",
       "      <td>27.0</td>\n",
       "      <td>70.32</td>\n",
       "      <td>29.68</td>\n",
       "      <td>58.76</td>\n",
       "    </tr>\n",
       "    <tr>\n",
       "      <th>3</th>\n",
       "      <td>HarvardX</td>\n",
       "      <td>10/15/2012</td>\n",
       "      <td>Introduction to Computer Science</td>\n",
       "      <td>Computer Science</td>\n",
       "      <td>1</td>\n",
       "      <td>129400</td>\n",
       "      <td>12888</td>\n",
       "      <td>1439</td>\n",
       "      <td>9.96</td>\n",
       "      <td>1.11</td>\n",
       "      <td>11.11</td>\n",
       "      <td>0</td>\n",
       "      <td>0.00</td>\n",
       "      <td>1.11</td>\n",
       "      <td>220.90</td>\n",
       "      <td>0.00</td>\n",
       "      <td>28.0</td>\n",
       "      <td>80.02</td>\n",
       "      <td>19.98</td>\n",
       "      <td>58.78</td>\n",
       "    </tr>\n",
       "    <tr>\n",
       "      <th>4</th>\n",
       "      <td>HarvardX</td>\n",
       "      <td>10/15/2012</td>\n",
       "      <td>Health in Numbers: Quantitative Methods in Cli...</td>\n",
       "      <td>Government, Health, and Social Science</td>\n",
       "      <td>1</td>\n",
       "      <td>52521</td>\n",
       "      <td>10729</td>\n",
       "      <td>5058</td>\n",
       "      <td>20.44</td>\n",
       "      <td>9.64</td>\n",
       "      <td>47.12</td>\n",
       "      <td>77.45</td>\n",
       "      <td>15.98</td>\n",
       "      <td>32.52</td>\n",
       "      <td>804.41</td>\n",
       "      <td>76.10</td>\n",
       "      <td>32.0</td>\n",
       "      <td>56.78</td>\n",
       "      <td>43.22</td>\n",
       "      <td>88.33</td>\n",
       "    </tr>\n",
       "    <tr>\n",
       "      <th>...</th>\n",
       "      <td>...</td>\n",
       "      <td>...</td>\n",
       "      <td>...</td>\n",
       "      <td>...</td>\n",
       "      <td>...</td>\n",
       "      <td>...</td>\n",
       "      <td>...</td>\n",
       "      <td>...</td>\n",
       "      <td>...</td>\n",
       "      <td>...</td>\n",
       "      <td>...</td>\n",
       "      <td>...</td>\n",
       "      <td>...</td>\n",
       "      <td>...</td>\n",
       "      <td>...</td>\n",
       "      <td>...</td>\n",
       "      <td>...</td>\n",
       "      <td>...</td>\n",
       "      <td>...</td>\n",
       "      <td>...</td>\n",
       "    </tr>\n",
       "    <tr>\n",
       "      <th>285</th>\n",
       "      <td>HarvardX</td>\n",
       "      <td>07/21/2016</td>\n",
       "      <td>First Nights: Symphonie Fantastique</td>\n",
       "      <td>Humanities, History, Design, Religion, and Edu...</td>\n",
       "      <td>0</td>\n",
       "      <td>615</td>\n",
       "      <td>305</td>\n",
       "      <td>20</td>\n",
       "      <td>49.59</td>\n",
       "      <td>3.25</td>\n",
       "      <td>6.56</td>\n",
       "      <td>80.81</td>\n",
       "      <td>8.78</td>\n",
       "      <td>3.25</td>\n",
       "      <td>1.71</td>\n",
       "      <td>5.93</td>\n",
       "      <td>38.0</td>\n",
       "      <td>56.82</td>\n",
       "      <td>43.18</td>\n",
       "      <td>74.66</td>\n",
       "    </tr>\n",
       "    <tr>\n",
       "      <th>286</th>\n",
       "      <td>HarvardX</td>\n",
       "      <td>07/25/2016</td>\n",
       "      <td>Introduction to Family Engagement in Education</td>\n",
       "      <td>Humanities, History, Design, Religion, and Edu...</td>\n",
       "      <td>0</td>\n",
       "      <td>2871</td>\n",
       "      <td>267</td>\n",
       "      <td>20</td>\n",
       "      <td>9.30</td>\n",
       "      <td>0.70</td>\n",
       "      <td>7.49</td>\n",
       "      <td>70.11</td>\n",
       "      <td>0.00</td>\n",
       "      <td>0.70</td>\n",
       "      <td>4.26</td>\n",
       "      <td>11.33</td>\n",
       "      <td>34.0</td>\n",
       "      <td>25.24</td>\n",
       "      <td>74.76</td>\n",
       "      <td>82.31</td>\n",
       "    </tr>\n",
       "    <tr>\n",
       "      <th>287</th>\n",
       "      <td>MITx</td>\n",
       "      <td>08/01/2016</td>\n",
       "      <td>Introduction to Control System Design</td>\n",
       "      <td>Science, Technology, Engineering, and Mathematics</td>\n",
       "      <td>0</td>\n",
       "      <td>3937</td>\n",
       "      <td>974</td>\n",
       "      <td>49</td>\n",
       "      <td>24.74</td>\n",
       "      <td>1.24</td>\n",
       "      <td>5.03</td>\n",
       "      <td>12.27</td>\n",
       "      <td>4.72</td>\n",
       "      <td>8.23</td>\n",
       "      <td>15.62</td>\n",
       "      <td>58.50</td>\n",
       "      <td>24.0</td>\n",
       "      <td>91.17</td>\n",
       "      <td>8.83</td>\n",
       "      <td>61.32</td>\n",
       "    </tr>\n",
       "    <tr>\n",
       "      <th>288</th>\n",
       "      <td>MITx</td>\n",
       "      <td>08/01/2016</td>\n",
       "      <td>Introduction to State Space Control</td>\n",
       "      <td>Science, Technology, Engineering, and Mathematics</td>\n",
       "      <td>0</td>\n",
       "      <td>1431</td>\n",
       "      <td>208</td>\n",
       "      <td>8</td>\n",
       "      <td>14.54</td>\n",
       "      <td>0.56</td>\n",
       "      <td>3.85</td>\n",
       "      <td>0</td>\n",
       "      <td>3.84</td>\n",
       "      <td>5.73</td>\n",
       "      <td>3.22</td>\n",
       "      <td>62.38</td>\n",
       "      <td>25.0</td>\n",
       "      <td>93.44</td>\n",
       "      <td>6.56</td>\n",
       "      <td>72.31</td>\n",
       "    </tr>\n",
       "    <tr>\n",
       "      <th>289</th>\n",
       "      <td>MITx</td>\n",
       "      <td>08/03/2016</td>\n",
       "      <td>Magnetic Materials and Devices</td>\n",
       "      <td>Science, Technology, Engineering, and Mathematics</td>\n",
       "      <td>0</td>\n",
       "      <td>1294</td>\n",
       "      <td>364</td>\n",
       "      <td>38</td>\n",
       "      <td>28.13</td>\n",
       "      <td>2.94</td>\n",
       "      <td>10.44</td>\n",
       "      <td>49.92</td>\n",
       "      <td>4.40</td>\n",
       "      <td>14.30</td>\n",
       "      <td>6.87</td>\n",
       "      <td>40.59</td>\n",
       "      <td>25.0</td>\n",
       "      <td>85.95</td>\n",
       "      <td>14.05</td>\n",
       "      <td>65.78</td>\n",
       "    </tr>\n",
       "  </tbody>\n",
       "</table>\n",
       "<p>290 rows × 20 columns</p>\n",
       "</div>"
      ],
      "text/plain": [
       "    Institution        Year  \\\n",
       "0          MITx  09/05/2012   \n",
       "1          MITx  09/26/2012   \n",
       "2          MITx  10/09/2012   \n",
       "3      HarvardX  10/15/2012   \n",
       "4      HarvardX  10/15/2012   \n",
       "..          ...         ...   \n",
       "285    HarvardX  07/21/2016   \n",
       "286    HarvardX  07/25/2016   \n",
       "287        MITx  08/01/2016   \n",
       "288        MITx  08/01/2016   \n",
       "289        MITx  08/03/2016   \n",
       "\n",
       "                                          Course Title  \\\n",
       "0                             Circuits and Electronics   \n",
       "1     Introduction to Computer Science and Programming   \n",
       "2                Introduction to Solid State Chemistry   \n",
       "3                     Introduction to Computer Science   \n",
       "4    Health in Numbers: Quantitative Methods in Cli...   \n",
       "..                                                 ...   \n",
       "285                First Nights: Symphonie Fantastique   \n",
       "286     Introduction to Family Engagement in Education   \n",
       "287              Introduction to Control System Design   \n",
       "288                Introduction to State Space Control   \n",
       "289                     Magnetic Materials and Devices   \n",
       "\n",
       "                                        Course Subject  \\\n",
       "0    Science, Technology, Engineering, and Mathematics   \n",
       "1                                     Computer Science   \n",
       "2    Science, Technology, Engineering, and Mathematics   \n",
       "3                                     Computer Science   \n",
       "4               Government, Health, and Social Science   \n",
       "..                                                 ...   \n",
       "285  Humanities, History, Design, Religion, and Edu...   \n",
       "286  Humanities, History, Design, Religion, and Edu...   \n",
       "287  Science, Technology, Engineering, and Mathematics   \n",
       "288  Science, Technology, Engineering, and Mathematics   \n",
       "289  Science, Technology, Engineering, and Mathematics   \n",
       "\n",
       "     Honor Code Certificates  Participants (Course Content Accessed)  \\\n",
       "0                          1                                   36105   \n",
       "1                          1                                   62709   \n",
       "2                          1                                   16663   \n",
       "3                          1                                  129400   \n",
       "4                          1                                   52521   \n",
       "..                       ...                                     ...   \n",
       "285                        0                                     615   \n",
       "286                        0                                    2871   \n",
       "287                        0                                    3937   \n",
       "288                        0                                    1431   \n",
       "289                        0                                    1294   \n",
       "\n",
       "     Audited (> 50% Course Content Accessed)  Certified  % Audited  \\\n",
       "0                                       5431       3003      15.04   \n",
       "1                                       8949       5783      14.27   \n",
       "2                                       2855       2082      17.13   \n",
       "3                                      12888       1439       9.96   \n",
       "4                                      10729       5058      20.44   \n",
       "..                                       ...        ...        ...   \n",
       "285                                      305         20      49.59   \n",
       "286                                      267         20       9.30   \n",
       "287                                      974         49      24.74   \n",
       "288                                      208          8      14.54   \n",
       "289                                      364         38      28.13   \n",
       "\n",
       "     % Certified  % Certified of > 50% Course Content Accessed % Played Video  \\\n",
       "0           8.32                                         54.98           83.2   \n",
       "1           9.22                                         64.05          89.14   \n",
       "2          12.49                                         72.85          87.49   \n",
       "3           1.11                                         11.11              0   \n",
       "4           9.64                                         47.12          77.45   \n",
       "..           ...                                           ...            ...   \n",
       "285         3.25                                          6.56          80.81   \n",
       "286         0.70                                          7.49          70.11   \n",
       "287         1.24                                          5.03          12.27   \n",
       "288         0.56                                          3.85              0   \n",
       "289         2.94                                         10.44          49.92   \n",
       "\n",
       "     % Posted in Forum  % Grade Higher Than Zero  \\\n",
       "0                 8.17                     28.97   \n",
       "1                14.38                     39.50   \n",
       "2                14.42                     34.89   \n",
       "3                 0.00                      1.11   \n",
       "4                15.98                     32.52   \n",
       "..                 ...                       ...   \n",
       "285               8.78                      3.25   \n",
       "286               0.00                      0.70   \n",
       "287               4.72                      8.23   \n",
       "288               3.84                      5.73   \n",
       "289               4.40                     14.30   \n",
       "\n",
       "     Total Course Hours (Thousands)  Median Hours for Certification  \\\n",
       "0                            418.94                           64.45   \n",
       "1                            884.04                           78.53   \n",
       "2                            227.55                           61.28   \n",
       "3                            220.90                            0.00   \n",
       "4                            804.41                           76.10   \n",
       "..                              ...                             ...   \n",
       "285                            1.71                            5.93   \n",
       "286                            4.26                           11.33   \n",
       "287                           15.62                           58.50   \n",
       "288                            3.22                           62.38   \n",
       "289                            6.87                           40.59   \n",
       "\n",
       "     Median Age  % Male  % Female  % Bachelor's Degree or Higher  \n",
       "0          26.0   88.28     11.72                          60.68  \n",
       "1          28.0   83.50     16.50                          63.04  \n",
       "2          27.0   70.32     29.68                          58.76  \n",
       "3          28.0   80.02     19.98                          58.78  \n",
       "4          32.0   56.78     43.22                          88.33  \n",
       "..          ...     ...       ...                            ...  \n",
       "285        38.0   56.82     43.18                          74.66  \n",
       "286        34.0   25.24     74.76                          82.31  \n",
       "287        24.0   91.17      8.83                          61.32  \n",
       "288        25.0   93.44      6.56                          72.31  \n",
       "289        25.0   85.95     14.05                          65.78  \n",
       "\n",
       "[290 rows x 20 columns]"
      ]
     },
     "execution_count": 7,
     "metadata": {},
     "output_type": "execute_result"
    }
   ],
   "source": [
    "online_courses"
   ]
  },
  {
   "cell_type": "code",
   "execution_count": 8,
   "metadata": {},
   "outputs": [],
   "source": [
    "#ex.scatter(online_courses, x = \"tot_hours\", y = \"participants\", trendline=\"ols\")"
   ]
  },
  {
   "cell_type": "code",
   "execution_count": 9,
   "metadata": {},
   "outputs": [
    {
     "data": {
      "text/plain": [
       "Institution                                     0\n",
       "Year                                            0\n",
       "Course Title                                    0\n",
       "Course Subject                                  0\n",
       "Honor Code Certificates                         0\n",
       "Participants (Course Content Accessed)          0\n",
       "Audited (> 50% Course Content Accessed)         0\n",
       "Certified                                       0\n",
       "% Audited                                       0\n",
       "% Certified                                     0\n",
       "% Certified of > 50% Course Content Accessed    0\n",
       "% Played Video                                  0\n",
       "% Posted in Forum                               0\n",
       "% Grade Higher Than Zero                        0\n",
       "Total Course Hours (Thousands)                  0\n",
       "Median Hours for Certification                  0\n",
       "Median Age                                      0\n",
       "% Male                                          0\n",
       "% Female                                        0\n",
       "% Bachelor's Degree or Higher                   0\n",
       "dtype: int64"
      ]
     },
     "execution_count": 9,
     "metadata": {},
     "output_type": "execute_result"
    }
   ],
   "source": [
    "online_courses.isna().sum()"
   ]
  },
  {
   "cell_type": "code",
   "execution_count": 10,
   "metadata": {},
   "outputs": [
    {
     "data": {
      "text/plain": [
       "Institution                                      object\n",
       "Year                                             object\n",
       "Course Title                                     object\n",
       "Course Subject                                   object\n",
       "Honor Code Certificates                           int64\n",
       "Participants (Course Content Accessed)            int64\n",
       "Audited (> 50% Course Content Accessed)           int64\n",
       "Certified                                         int64\n",
       "% Audited                                       float64\n",
       "% Certified                                     float64\n",
       "% Certified of > 50% Course Content Accessed    float64\n",
       "% Played Video                                   object\n",
       "% Posted in Forum                               float64\n",
       "% Grade Higher Than Zero                        float64\n",
       "Total Course Hours (Thousands)                  float64\n",
       "Median Hours for Certification                  float64\n",
       "Median Age                                      float64\n",
       "% Male                                          float64\n",
       "% Female                                        float64\n",
       "% Bachelor's Degree or Higher                   float64\n",
       "dtype: object"
      ]
     },
     "execution_count": 10,
     "metadata": {},
     "output_type": "execute_result"
    }
   ],
   "source": [
    "online_courses.dtypes"
   ]
  },
  {
   "cell_type": "code",
   "execution_count": 11,
   "metadata": {},
   "outputs": [],
   "source": [
    "online_courses[\"Years\"]=online_courses[\"Year\"].apply(lambda x: x.split(\"/\")[2]) #new dataframe with only year"
   ]
  },
  {
   "cell_type": "code",
   "execution_count": 12,
   "metadata": {},
   "outputs": [
    {
     "data": {
      "text/html": [
       "<div>\n",
       "<style scoped>\n",
       "    .dataframe tbody tr th:only-of-type {\n",
       "        vertical-align: middle;\n",
       "    }\n",
       "\n",
       "    .dataframe tbody tr th {\n",
       "        vertical-align: top;\n",
       "    }\n",
       "\n",
       "    .dataframe thead th {\n",
       "        text-align: right;\n",
       "    }\n",
       "</style>\n",
       "<table border=\"1\" class=\"dataframe\">\n",
       "  <thead>\n",
       "    <tr style=\"text-align: right;\">\n",
       "      <th></th>\n",
       "      <th>Institution</th>\n",
       "      <th>Year</th>\n",
       "      <th>Course Title</th>\n",
       "      <th>Course Subject</th>\n",
       "      <th>Honor Code Certificates</th>\n",
       "      <th>Participants (Course Content Accessed)</th>\n",
       "      <th>Audited (&gt; 50% Course Content Accessed)</th>\n",
       "      <th>Certified</th>\n",
       "      <th>% Audited</th>\n",
       "      <th>% Certified</th>\n",
       "      <th>...</th>\n",
       "      <th>% Played Video</th>\n",
       "      <th>% Posted in Forum</th>\n",
       "      <th>% Grade Higher Than Zero</th>\n",
       "      <th>Total Course Hours (Thousands)</th>\n",
       "      <th>Median Hours for Certification</th>\n",
       "      <th>Median Age</th>\n",
       "      <th>% Male</th>\n",
       "      <th>% Female</th>\n",
       "      <th>% Bachelor's Degree or Higher</th>\n",
       "      <th>Years</th>\n",
       "    </tr>\n",
       "  </thead>\n",
       "  <tbody>\n",
       "    <tr>\n",
       "      <th>0</th>\n",
       "      <td>MITx</td>\n",
       "      <td>09/05/2012</td>\n",
       "      <td>Circuits and Electronics</td>\n",
       "      <td>Science, Technology, Engineering, and Mathematics</td>\n",
       "      <td>1</td>\n",
       "      <td>36105</td>\n",
       "      <td>5431</td>\n",
       "      <td>3003</td>\n",
       "      <td>15.04</td>\n",
       "      <td>8.32</td>\n",
       "      <td>...</td>\n",
       "      <td>83.2</td>\n",
       "      <td>8.17</td>\n",
       "      <td>28.97</td>\n",
       "      <td>418.94</td>\n",
       "      <td>64.45</td>\n",
       "      <td>26.0</td>\n",
       "      <td>88.28</td>\n",
       "      <td>11.72</td>\n",
       "      <td>60.68</td>\n",
       "      <td>2012</td>\n",
       "    </tr>\n",
       "    <tr>\n",
       "      <th>1</th>\n",
       "      <td>MITx</td>\n",
       "      <td>09/26/2012</td>\n",
       "      <td>Introduction to Computer Science and Programming</td>\n",
       "      <td>Computer Science</td>\n",
       "      <td>1</td>\n",
       "      <td>62709</td>\n",
       "      <td>8949</td>\n",
       "      <td>5783</td>\n",
       "      <td>14.27</td>\n",
       "      <td>9.22</td>\n",
       "      <td>...</td>\n",
       "      <td>89.14</td>\n",
       "      <td>14.38</td>\n",
       "      <td>39.50</td>\n",
       "      <td>884.04</td>\n",
       "      <td>78.53</td>\n",
       "      <td>28.0</td>\n",
       "      <td>83.50</td>\n",
       "      <td>16.50</td>\n",
       "      <td>63.04</td>\n",
       "      <td>2012</td>\n",
       "    </tr>\n",
       "    <tr>\n",
       "      <th>2</th>\n",
       "      <td>MITx</td>\n",
       "      <td>10/09/2012</td>\n",
       "      <td>Introduction to Solid State Chemistry</td>\n",
       "      <td>Science, Technology, Engineering, and Mathematics</td>\n",
       "      <td>1</td>\n",
       "      <td>16663</td>\n",
       "      <td>2855</td>\n",
       "      <td>2082</td>\n",
       "      <td>17.13</td>\n",
       "      <td>12.49</td>\n",
       "      <td>...</td>\n",
       "      <td>87.49</td>\n",
       "      <td>14.42</td>\n",
       "      <td>34.89</td>\n",
       "      <td>227.55</td>\n",
       "      <td>61.28</td>\n",
       "      <td>27.0</td>\n",
       "      <td>70.32</td>\n",
       "      <td>29.68</td>\n",
       "      <td>58.76</td>\n",
       "      <td>2012</td>\n",
       "    </tr>\n",
       "    <tr>\n",
       "      <th>3</th>\n",
       "      <td>HarvardX</td>\n",
       "      <td>10/15/2012</td>\n",
       "      <td>Introduction to Computer Science</td>\n",
       "      <td>Computer Science</td>\n",
       "      <td>1</td>\n",
       "      <td>129400</td>\n",
       "      <td>12888</td>\n",
       "      <td>1439</td>\n",
       "      <td>9.96</td>\n",
       "      <td>1.11</td>\n",
       "      <td>...</td>\n",
       "      <td>0</td>\n",
       "      <td>0.00</td>\n",
       "      <td>1.11</td>\n",
       "      <td>220.90</td>\n",
       "      <td>0.00</td>\n",
       "      <td>28.0</td>\n",
       "      <td>80.02</td>\n",
       "      <td>19.98</td>\n",
       "      <td>58.78</td>\n",
       "      <td>2012</td>\n",
       "    </tr>\n",
       "    <tr>\n",
       "      <th>4</th>\n",
       "      <td>HarvardX</td>\n",
       "      <td>10/15/2012</td>\n",
       "      <td>Health in Numbers: Quantitative Methods in Cli...</td>\n",
       "      <td>Government, Health, and Social Science</td>\n",
       "      <td>1</td>\n",
       "      <td>52521</td>\n",
       "      <td>10729</td>\n",
       "      <td>5058</td>\n",
       "      <td>20.44</td>\n",
       "      <td>9.64</td>\n",
       "      <td>...</td>\n",
       "      <td>77.45</td>\n",
       "      <td>15.98</td>\n",
       "      <td>32.52</td>\n",
       "      <td>804.41</td>\n",
       "      <td>76.10</td>\n",
       "      <td>32.0</td>\n",
       "      <td>56.78</td>\n",
       "      <td>43.22</td>\n",
       "      <td>88.33</td>\n",
       "      <td>2012</td>\n",
       "    </tr>\n",
       "    <tr>\n",
       "      <th>...</th>\n",
       "      <td>...</td>\n",
       "      <td>...</td>\n",
       "      <td>...</td>\n",
       "      <td>...</td>\n",
       "      <td>...</td>\n",
       "      <td>...</td>\n",
       "      <td>...</td>\n",
       "      <td>...</td>\n",
       "      <td>...</td>\n",
       "      <td>...</td>\n",
       "      <td>...</td>\n",
       "      <td>...</td>\n",
       "      <td>...</td>\n",
       "      <td>...</td>\n",
       "      <td>...</td>\n",
       "      <td>...</td>\n",
       "      <td>...</td>\n",
       "      <td>...</td>\n",
       "      <td>...</td>\n",
       "      <td>...</td>\n",
       "      <td>...</td>\n",
       "    </tr>\n",
       "    <tr>\n",
       "      <th>285</th>\n",
       "      <td>HarvardX</td>\n",
       "      <td>07/21/2016</td>\n",
       "      <td>First Nights: Symphonie Fantastique</td>\n",
       "      <td>Humanities, History, Design, Religion, and Edu...</td>\n",
       "      <td>0</td>\n",
       "      <td>615</td>\n",
       "      <td>305</td>\n",
       "      <td>20</td>\n",
       "      <td>49.59</td>\n",
       "      <td>3.25</td>\n",
       "      <td>...</td>\n",
       "      <td>80.81</td>\n",
       "      <td>8.78</td>\n",
       "      <td>3.25</td>\n",
       "      <td>1.71</td>\n",
       "      <td>5.93</td>\n",
       "      <td>38.0</td>\n",
       "      <td>56.82</td>\n",
       "      <td>43.18</td>\n",
       "      <td>74.66</td>\n",
       "      <td>2016</td>\n",
       "    </tr>\n",
       "    <tr>\n",
       "      <th>286</th>\n",
       "      <td>HarvardX</td>\n",
       "      <td>07/25/2016</td>\n",
       "      <td>Introduction to Family Engagement in Education</td>\n",
       "      <td>Humanities, History, Design, Religion, and Edu...</td>\n",
       "      <td>0</td>\n",
       "      <td>2871</td>\n",
       "      <td>267</td>\n",
       "      <td>20</td>\n",
       "      <td>9.30</td>\n",
       "      <td>0.70</td>\n",
       "      <td>...</td>\n",
       "      <td>70.11</td>\n",
       "      <td>0.00</td>\n",
       "      <td>0.70</td>\n",
       "      <td>4.26</td>\n",
       "      <td>11.33</td>\n",
       "      <td>34.0</td>\n",
       "      <td>25.24</td>\n",
       "      <td>74.76</td>\n",
       "      <td>82.31</td>\n",
       "      <td>2016</td>\n",
       "    </tr>\n",
       "    <tr>\n",
       "      <th>287</th>\n",
       "      <td>MITx</td>\n",
       "      <td>08/01/2016</td>\n",
       "      <td>Introduction to Control System Design</td>\n",
       "      <td>Science, Technology, Engineering, and Mathematics</td>\n",
       "      <td>0</td>\n",
       "      <td>3937</td>\n",
       "      <td>974</td>\n",
       "      <td>49</td>\n",
       "      <td>24.74</td>\n",
       "      <td>1.24</td>\n",
       "      <td>...</td>\n",
       "      <td>12.27</td>\n",
       "      <td>4.72</td>\n",
       "      <td>8.23</td>\n",
       "      <td>15.62</td>\n",
       "      <td>58.50</td>\n",
       "      <td>24.0</td>\n",
       "      <td>91.17</td>\n",
       "      <td>8.83</td>\n",
       "      <td>61.32</td>\n",
       "      <td>2016</td>\n",
       "    </tr>\n",
       "    <tr>\n",
       "      <th>288</th>\n",
       "      <td>MITx</td>\n",
       "      <td>08/01/2016</td>\n",
       "      <td>Introduction to State Space Control</td>\n",
       "      <td>Science, Technology, Engineering, and Mathematics</td>\n",
       "      <td>0</td>\n",
       "      <td>1431</td>\n",
       "      <td>208</td>\n",
       "      <td>8</td>\n",
       "      <td>14.54</td>\n",
       "      <td>0.56</td>\n",
       "      <td>...</td>\n",
       "      <td>0</td>\n",
       "      <td>3.84</td>\n",
       "      <td>5.73</td>\n",
       "      <td>3.22</td>\n",
       "      <td>62.38</td>\n",
       "      <td>25.0</td>\n",
       "      <td>93.44</td>\n",
       "      <td>6.56</td>\n",
       "      <td>72.31</td>\n",
       "      <td>2016</td>\n",
       "    </tr>\n",
       "    <tr>\n",
       "      <th>289</th>\n",
       "      <td>MITx</td>\n",
       "      <td>08/03/2016</td>\n",
       "      <td>Magnetic Materials and Devices</td>\n",
       "      <td>Science, Technology, Engineering, and Mathematics</td>\n",
       "      <td>0</td>\n",
       "      <td>1294</td>\n",
       "      <td>364</td>\n",
       "      <td>38</td>\n",
       "      <td>28.13</td>\n",
       "      <td>2.94</td>\n",
       "      <td>...</td>\n",
       "      <td>49.92</td>\n",
       "      <td>4.40</td>\n",
       "      <td>14.30</td>\n",
       "      <td>6.87</td>\n",
       "      <td>40.59</td>\n",
       "      <td>25.0</td>\n",
       "      <td>85.95</td>\n",
       "      <td>14.05</td>\n",
       "      <td>65.78</td>\n",
       "      <td>2016</td>\n",
       "    </tr>\n",
       "  </tbody>\n",
       "</table>\n",
       "<p>290 rows × 21 columns</p>\n",
       "</div>"
      ],
      "text/plain": [
       "    Institution        Year  \\\n",
       "0          MITx  09/05/2012   \n",
       "1          MITx  09/26/2012   \n",
       "2          MITx  10/09/2012   \n",
       "3      HarvardX  10/15/2012   \n",
       "4      HarvardX  10/15/2012   \n",
       "..          ...         ...   \n",
       "285    HarvardX  07/21/2016   \n",
       "286    HarvardX  07/25/2016   \n",
       "287        MITx  08/01/2016   \n",
       "288        MITx  08/01/2016   \n",
       "289        MITx  08/03/2016   \n",
       "\n",
       "                                          Course Title  \\\n",
       "0                             Circuits and Electronics   \n",
       "1     Introduction to Computer Science and Programming   \n",
       "2                Introduction to Solid State Chemistry   \n",
       "3                     Introduction to Computer Science   \n",
       "4    Health in Numbers: Quantitative Methods in Cli...   \n",
       "..                                                 ...   \n",
       "285                First Nights: Symphonie Fantastique   \n",
       "286     Introduction to Family Engagement in Education   \n",
       "287              Introduction to Control System Design   \n",
       "288                Introduction to State Space Control   \n",
       "289                     Magnetic Materials and Devices   \n",
       "\n",
       "                                        Course Subject  \\\n",
       "0    Science, Technology, Engineering, and Mathematics   \n",
       "1                                     Computer Science   \n",
       "2    Science, Technology, Engineering, and Mathematics   \n",
       "3                                     Computer Science   \n",
       "4               Government, Health, and Social Science   \n",
       "..                                                 ...   \n",
       "285  Humanities, History, Design, Religion, and Edu...   \n",
       "286  Humanities, History, Design, Religion, and Edu...   \n",
       "287  Science, Technology, Engineering, and Mathematics   \n",
       "288  Science, Technology, Engineering, and Mathematics   \n",
       "289  Science, Technology, Engineering, and Mathematics   \n",
       "\n",
       "     Honor Code Certificates  Participants (Course Content Accessed)  \\\n",
       "0                          1                                   36105   \n",
       "1                          1                                   62709   \n",
       "2                          1                                   16663   \n",
       "3                          1                                  129400   \n",
       "4                          1                                   52521   \n",
       "..                       ...                                     ...   \n",
       "285                        0                                     615   \n",
       "286                        0                                    2871   \n",
       "287                        0                                    3937   \n",
       "288                        0                                    1431   \n",
       "289                        0                                    1294   \n",
       "\n",
       "     Audited (> 50% Course Content Accessed)  Certified  % Audited  \\\n",
       "0                                       5431       3003      15.04   \n",
       "1                                       8949       5783      14.27   \n",
       "2                                       2855       2082      17.13   \n",
       "3                                      12888       1439       9.96   \n",
       "4                                      10729       5058      20.44   \n",
       "..                                       ...        ...        ...   \n",
       "285                                      305         20      49.59   \n",
       "286                                      267         20       9.30   \n",
       "287                                      974         49      24.74   \n",
       "288                                      208          8      14.54   \n",
       "289                                      364         38      28.13   \n",
       "\n",
       "     % Certified  ...  % Played Video % Posted in Forum  \\\n",
       "0           8.32  ...            83.2              8.17   \n",
       "1           9.22  ...           89.14             14.38   \n",
       "2          12.49  ...           87.49             14.42   \n",
       "3           1.11  ...               0              0.00   \n",
       "4           9.64  ...           77.45             15.98   \n",
       "..           ...  ...             ...               ...   \n",
       "285         3.25  ...           80.81              8.78   \n",
       "286         0.70  ...           70.11              0.00   \n",
       "287         1.24  ...           12.27              4.72   \n",
       "288         0.56  ...               0              3.84   \n",
       "289         2.94  ...           49.92              4.40   \n",
       "\n",
       "     % Grade Higher Than Zero  Total Course Hours (Thousands)  \\\n",
       "0                       28.97                          418.94   \n",
       "1                       39.50                          884.04   \n",
       "2                       34.89                          227.55   \n",
       "3                        1.11                          220.90   \n",
       "4                       32.52                          804.41   \n",
       "..                        ...                             ...   \n",
       "285                      3.25                            1.71   \n",
       "286                      0.70                            4.26   \n",
       "287                      8.23                           15.62   \n",
       "288                      5.73                            3.22   \n",
       "289                     14.30                            6.87   \n",
       "\n",
       "     Median Hours for Certification  Median Age  % Male  % Female  \\\n",
       "0                             64.45        26.0   88.28     11.72   \n",
       "1                             78.53        28.0   83.50     16.50   \n",
       "2                             61.28        27.0   70.32     29.68   \n",
       "3                              0.00        28.0   80.02     19.98   \n",
       "4                             76.10        32.0   56.78     43.22   \n",
       "..                              ...         ...     ...       ...   \n",
       "285                            5.93        38.0   56.82     43.18   \n",
       "286                           11.33        34.0   25.24     74.76   \n",
       "287                           58.50        24.0   91.17      8.83   \n",
       "288                           62.38        25.0   93.44      6.56   \n",
       "289                           40.59        25.0   85.95     14.05   \n",
       "\n",
       "     % Bachelor's Degree or Higher  Years  \n",
       "0                            60.68   2012  \n",
       "1                            63.04   2012  \n",
       "2                            58.76   2012  \n",
       "3                            58.78   2012  \n",
       "4                            88.33   2012  \n",
       "..                             ...    ...  \n",
       "285                          74.66   2016  \n",
       "286                          82.31   2016  \n",
       "287                          61.32   2016  \n",
       "288                          72.31   2016  \n",
       "289                          65.78   2016  \n",
       "\n",
       "[290 rows x 21 columns]"
      ]
     },
     "execution_count": 12,
     "metadata": {},
     "output_type": "execute_result"
    }
   ],
   "source": [
    "online_courses"
   ]
  },
  {
   "cell_type": "code",
   "execution_count": 13,
   "metadata": {},
   "outputs": [],
   "source": [
    "online_courses.drop(\"Year\", axis = 1, inplace = True)"
   ]
  },
  {
   "cell_type": "code",
   "execution_count": 14,
   "metadata": {},
   "outputs": [
    {
     "data": {
      "text/html": [
       "<div>\n",
       "<style scoped>\n",
       "    .dataframe tbody tr th:only-of-type {\n",
       "        vertical-align: middle;\n",
       "    }\n",
       "\n",
       "    .dataframe tbody tr th {\n",
       "        vertical-align: top;\n",
       "    }\n",
       "\n",
       "    .dataframe thead th {\n",
       "        text-align: right;\n",
       "    }\n",
       "</style>\n",
       "<table border=\"1\" class=\"dataframe\">\n",
       "  <thead>\n",
       "    <tr style=\"text-align: right;\">\n",
       "      <th></th>\n",
       "      <th>Institution</th>\n",
       "      <th>Course Title</th>\n",
       "      <th>Course Subject</th>\n",
       "      <th>Honor Code Certificates</th>\n",
       "      <th>Participants (Course Content Accessed)</th>\n",
       "      <th>Audited (&gt; 50% Course Content Accessed)</th>\n",
       "      <th>Certified</th>\n",
       "      <th>% Audited</th>\n",
       "      <th>% Certified</th>\n",
       "      <th>% Certified of &gt; 50% Course Content Accessed</th>\n",
       "      <th>% Played Video</th>\n",
       "      <th>% Posted in Forum</th>\n",
       "      <th>% Grade Higher Than Zero</th>\n",
       "      <th>Total Course Hours (Thousands)</th>\n",
       "      <th>Median Hours for Certification</th>\n",
       "      <th>Median Age</th>\n",
       "      <th>% Male</th>\n",
       "      <th>% Female</th>\n",
       "      <th>% Bachelor's Degree or Higher</th>\n",
       "      <th>Years</th>\n",
       "    </tr>\n",
       "  </thead>\n",
       "  <tbody>\n",
       "    <tr>\n",
       "      <th>0</th>\n",
       "      <td>MITx</td>\n",
       "      <td>Circuits and Electronics</td>\n",
       "      <td>Science, Technology, Engineering, and Mathematics</td>\n",
       "      <td>1</td>\n",
       "      <td>36105</td>\n",
       "      <td>5431</td>\n",
       "      <td>3003</td>\n",
       "      <td>15.04</td>\n",
       "      <td>8.32</td>\n",
       "      <td>54.98</td>\n",
       "      <td>83.2</td>\n",
       "      <td>8.17</td>\n",
       "      <td>28.97</td>\n",
       "      <td>418.94</td>\n",
       "      <td>64.45</td>\n",
       "      <td>26.0</td>\n",
       "      <td>88.28</td>\n",
       "      <td>11.72</td>\n",
       "      <td>60.68</td>\n",
       "      <td>2012</td>\n",
       "    </tr>\n",
       "    <tr>\n",
       "      <th>1</th>\n",
       "      <td>MITx</td>\n",
       "      <td>Introduction to Computer Science and Programming</td>\n",
       "      <td>Computer Science</td>\n",
       "      <td>1</td>\n",
       "      <td>62709</td>\n",
       "      <td>8949</td>\n",
       "      <td>5783</td>\n",
       "      <td>14.27</td>\n",
       "      <td>9.22</td>\n",
       "      <td>64.05</td>\n",
       "      <td>89.14</td>\n",
       "      <td>14.38</td>\n",
       "      <td>39.50</td>\n",
       "      <td>884.04</td>\n",
       "      <td>78.53</td>\n",
       "      <td>28.0</td>\n",
       "      <td>83.50</td>\n",
       "      <td>16.50</td>\n",
       "      <td>63.04</td>\n",
       "      <td>2012</td>\n",
       "    </tr>\n",
       "    <tr>\n",
       "      <th>2</th>\n",
       "      <td>MITx</td>\n",
       "      <td>Introduction to Solid State Chemistry</td>\n",
       "      <td>Science, Technology, Engineering, and Mathematics</td>\n",
       "      <td>1</td>\n",
       "      <td>16663</td>\n",
       "      <td>2855</td>\n",
       "      <td>2082</td>\n",
       "      <td>17.13</td>\n",
       "      <td>12.49</td>\n",
       "      <td>72.85</td>\n",
       "      <td>87.49</td>\n",
       "      <td>14.42</td>\n",
       "      <td>34.89</td>\n",
       "      <td>227.55</td>\n",
       "      <td>61.28</td>\n",
       "      <td>27.0</td>\n",
       "      <td>70.32</td>\n",
       "      <td>29.68</td>\n",
       "      <td>58.76</td>\n",
       "      <td>2012</td>\n",
       "    </tr>\n",
       "    <tr>\n",
       "      <th>3</th>\n",
       "      <td>HarvardX</td>\n",
       "      <td>Introduction to Computer Science</td>\n",
       "      <td>Computer Science</td>\n",
       "      <td>1</td>\n",
       "      <td>129400</td>\n",
       "      <td>12888</td>\n",
       "      <td>1439</td>\n",
       "      <td>9.96</td>\n",
       "      <td>1.11</td>\n",
       "      <td>11.11</td>\n",
       "      <td>0</td>\n",
       "      <td>0.00</td>\n",
       "      <td>1.11</td>\n",
       "      <td>220.90</td>\n",
       "      <td>0.00</td>\n",
       "      <td>28.0</td>\n",
       "      <td>80.02</td>\n",
       "      <td>19.98</td>\n",
       "      <td>58.78</td>\n",
       "      <td>2012</td>\n",
       "    </tr>\n",
       "    <tr>\n",
       "      <th>4</th>\n",
       "      <td>HarvardX</td>\n",
       "      <td>Health in Numbers: Quantitative Methods in Cli...</td>\n",
       "      <td>Government, Health, and Social Science</td>\n",
       "      <td>1</td>\n",
       "      <td>52521</td>\n",
       "      <td>10729</td>\n",
       "      <td>5058</td>\n",
       "      <td>20.44</td>\n",
       "      <td>9.64</td>\n",
       "      <td>47.12</td>\n",
       "      <td>77.45</td>\n",
       "      <td>15.98</td>\n",
       "      <td>32.52</td>\n",
       "      <td>804.41</td>\n",
       "      <td>76.10</td>\n",
       "      <td>32.0</td>\n",
       "      <td>56.78</td>\n",
       "      <td>43.22</td>\n",
       "      <td>88.33</td>\n",
       "      <td>2012</td>\n",
       "    </tr>\n",
       "    <tr>\n",
       "      <th>...</th>\n",
       "      <td>...</td>\n",
       "      <td>...</td>\n",
       "      <td>...</td>\n",
       "      <td>...</td>\n",
       "      <td>...</td>\n",
       "      <td>...</td>\n",
       "      <td>...</td>\n",
       "      <td>...</td>\n",
       "      <td>...</td>\n",
       "      <td>...</td>\n",
       "      <td>...</td>\n",
       "      <td>...</td>\n",
       "      <td>...</td>\n",
       "      <td>...</td>\n",
       "      <td>...</td>\n",
       "      <td>...</td>\n",
       "      <td>...</td>\n",
       "      <td>...</td>\n",
       "      <td>...</td>\n",
       "      <td>...</td>\n",
       "    </tr>\n",
       "    <tr>\n",
       "      <th>285</th>\n",
       "      <td>HarvardX</td>\n",
       "      <td>First Nights: Symphonie Fantastique</td>\n",
       "      <td>Humanities, History, Design, Religion, and Edu...</td>\n",
       "      <td>0</td>\n",
       "      <td>615</td>\n",
       "      <td>305</td>\n",
       "      <td>20</td>\n",
       "      <td>49.59</td>\n",
       "      <td>3.25</td>\n",
       "      <td>6.56</td>\n",
       "      <td>80.81</td>\n",
       "      <td>8.78</td>\n",
       "      <td>3.25</td>\n",
       "      <td>1.71</td>\n",
       "      <td>5.93</td>\n",
       "      <td>38.0</td>\n",
       "      <td>56.82</td>\n",
       "      <td>43.18</td>\n",
       "      <td>74.66</td>\n",
       "      <td>2016</td>\n",
       "    </tr>\n",
       "    <tr>\n",
       "      <th>286</th>\n",
       "      <td>HarvardX</td>\n",
       "      <td>Introduction to Family Engagement in Education</td>\n",
       "      <td>Humanities, History, Design, Religion, and Edu...</td>\n",
       "      <td>0</td>\n",
       "      <td>2871</td>\n",
       "      <td>267</td>\n",
       "      <td>20</td>\n",
       "      <td>9.30</td>\n",
       "      <td>0.70</td>\n",
       "      <td>7.49</td>\n",
       "      <td>70.11</td>\n",
       "      <td>0.00</td>\n",
       "      <td>0.70</td>\n",
       "      <td>4.26</td>\n",
       "      <td>11.33</td>\n",
       "      <td>34.0</td>\n",
       "      <td>25.24</td>\n",
       "      <td>74.76</td>\n",
       "      <td>82.31</td>\n",
       "      <td>2016</td>\n",
       "    </tr>\n",
       "    <tr>\n",
       "      <th>287</th>\n",
       "      <td>MITx</td>\n",
       "      <td>Introduction to Control System Design</td>\n",
       "      <td>Science, Technology, Engineering, and Mathematics</td>\n",
       "      <td>0</td>\n",
       "      <td>3937</td>\n",
       "      <td>974</td>\n",
       "      <td>49</td>\n",
       "      <td>24.74</td>\n",
       "      <td>1.24</td>\n",
       "      <td>5.03</td>\n",
       "      <td>12.27</td>\n",
       "      <td>4.72</td>\n",
       "      <td>8.23</td>\n",
       "      <td>15.62</td>\n",
       "      <td>58.50</td>\n",
       "      <td>24.0</td>\n",
       "      <td>91.17</td>\n",
       "      <td>8.83</td>\n",
       "      <td>61.32</td>\n",
       "      <td>2016</td>\n",
       "    </tr>\n",
       "    <tr>\n",
       "      <th>288</th>\n",
       "      <td>MITx</td>\n",
       "      <td>Introduction to State Space Control</td>\n",
       "      <td>Science, Technology, Engineering, and Mathematics</td>\n",
       "      <td>0</td>\n",
       "      <td>1431</td>\n",
       "      <td>208</td>\n",
       "      <td>8</td>\n",
       "      <td>14.54</td>\n",
       "      <td>0.56</td>\n",
       "      <td>3.85</td>\n",
       "      <td>0</td>\n",
       "      <td>3.84</td>\n",
       "      <td>5.73</td>\n",
       "      <td>3.22</td>\n",
       "      <td>62.38</td>\n",
       "      <td>25.0</td>\n",
       "      <td>93.44</td>\n",
       "      <td>6.56</td>\n",
       "      <td>72.31</td>\n",
       "      <td>2016</td>\n",
       "    </tr>\n",
       "    <tr>\n",
       "      <th>289</th>\n",
       "      <td>MITx</td>\n",
       "      <td>Magnetic Materials and Devices</td>\n",
       "      <td>Science, Technology, Engineering, and Mathematics</td>\n",
       "      <td>0</td>\n",
       "      <td>1294</td>\n",
       "      <td>364</td>\n",
       "      <td>38</td>\n",
       "      <td>28.13</td>\n",
       "      <td>2.94</td>\n",
       "      <td>10.44</td>\n",
       "      <td>49.92</td>\n",
       "      <td>4.40</td>\n",
       "      <td>14.30</td>\n",
       "      <td>6.87</td>\n",
       "      <td>40.59</td>\n",
       "      <td>25.0</td>\n",
       "      <td>85.95</td>\n",
       "      <td>14.05</td>\n",
       "      <td>65.78</td>\n",
       "      <td>2016</td>\n",
       "    </tr>\n",
       "  </tbody>\n",
       "</table>\n",
       "<p>290 rows × 20 columns</p>\n",
       "</div>"
      ],
      "text/plain": [
       "    Institution                                       Course Title  \\\n",
       "0          MITx                           Circuits and Electronics   \n",
       "1          MITx   Introduction to Computer Science and Programming   \n",
       "2          MITx              Introduction to Solid State Chemistry   \n",
       "3      HarvardX                   Introduction to Computer Science   \n",
       "4      HarvardX  Health in Numbers: Quantitative Methods in Cli...   \n",
       "..          ...                                                ...   \n",
       "285    HarvardX                First Nights: Symphonie Fantastique   \n",
       "286    HarvardX     Introduction to Family Engagement in Education   \n",
       "287        MITx              Introduction to Control System Design   \n",
       "288        MITx                Introduction to State Space Control   \n",
       "289        MITx                     Magnetic Materials and Devices   \n",
       "\n",
       "                                        Course Subject  \\\n",
       "0    Science, Technology, Engineering, and Mathematics   \n",
       "1                                     Computer Science   \n",
       "2    Science, Technology, Engineering, and Mathematics   \n",
       "3                                     Computer Science   \n",
       "4               Government, Health, and Social Science   \n",
       "..                                                 ...   \n",
       "285  Humanities, History, Design, Religion, and Edu...   \n",
       "286  Humanities, History, Design, Religion, and Edu...   \n",
       "287  Science, Technology, Engineering, and Mathematics   \n",
       "288  Science, Technology, Engineering, and Mathematics   \n",
       "289  Science, Technology, Engineering, and Mathematics   \n",
       "\n",
       "     Honor Code Certificates  Participants (Course Content Accessed)  \\\n",
       "0                          1                                   36105   \n",
       "1                          1                                   62709   \n",
       "2                          1                                   16663   \n",
       "3                          1                                  129400   \n",
       "4                          1                                   52521   \n",
       "..                       ...                                     ...   \n",
       "285                        0                                     615   \n",
       "286                        0                                    2871   \n",
       "287                        0                                    3937   \n",
       "288                        0                                    1431   \n",
       "289                        0                                    1294   \n",
       "\n",
       "     Audited (> 50% Course Content Accessed)  Certified  % Audited  \\\n",
       "0                                       5431       3003      15.04   \n",
       "1                                       8949       5783      14.27   \n",
       "2                                       2855       2082      17.13   \n",
       "3                                      12888       1439       9.96   \n",
       "4                                      10729       5058      20.44   \n",
       "..                                       ...        ...        ...   \n",
       "285                                      305         20      49.59   \n",
       "286                                      267         20       9.30   \n",
       "287                                      974         49      24.74   \n",
       "288                                      208          8      14.54   \n",
       "289                                      364         38      28.13   \n",
       "\n",
       "     % Certified  % Certified of > 50% Course Content Accessed % Played Video  \\\n",
       "0           8.32                                         54.98           83.2   \n",
       "1           9.22                                         64.05          89.14   \n",
       "2          12.49                                         72.85          87.49   \n",
       "3           1.11                                         11.11              0   \n",
       "4           9.64                                         47.12          77.45   \n",
       "..           ...                                           ...            ...   \n",
       "285         3.25                                          6.56          80.81   \n",
       "286         0.70                                          7.49          70.11   \n",
       "287         1.24                                          5.03          12.27   \n",
       "288         0.56                                          3.85              0   \n",
       "289         2.94                                         10.44          49.92   \n",
       "\n",
       "     % Posted in Forum  % Grade Higher Than Zero  \\\n",
       "0                 8.17                     28.97   \n",
       "1                14.38                     39.50   \n",
       "2                14.42                     34.89   \n",
       "3                 0.00                      1.11   \n",
       "4                15.98                     32.52   \n",
       "..                 ...                       ...   \n",
       "285               8.78                      3.25   \n",
       "286               0.00                      0.70   \n",
       "287               4.72                      8.23   \n",
       "288               3.84                      5.73   \n",
       "289               4.40                     14.30   \n",
       "\n",
       "     Total Course Hours (Thousands)  Median Hours for Certification  \\\n",
       "0                            418.94                           64.45   \n",
       "1                            884.04                           78.53   \n",
       "2                            227.55                           61.28   \n",
       "3                            220.90                            0.00   \n",
       "4                            804.41                           76.10   \n",
       "..                              ...                             ...   \n",
       "285                            1.71                            5.93   \n",
       "286                            4.26                           11.33   \n",
       "287                           15.62                           58.50   \n",
       "288                            3.22                           62.38   \n",
       "289                            6.87                           40.59   \n",
       "\n",
       "     Median Age  % Male  % Female  % Bachelor's Degree or Higher Years  \n",
       "0          26.0   88.28     11.72                          60.68  2012  \n",
       "1          28.0   83.50     16.50                          63.04  2012  \n",
       "2          27.0   70.32     29.68                          58.76  2012  \n",
       "3          28.0   80.02     19.98                          58.78  2012  \n",
       "4          32.0   56.78     43.22                          88.33  2012  \n",
       "..          ...     ...       ...                            ...   ...  \n",
       "285        38.0   56.82     43.18                          74.66  2016  \n",
       "286        34.0   25.24     74.76                          82.31  2016  \n",
       "287        24.0   91.17      8.83                          61.32  2016  \n",
       "288        25.0   93.44      6.56                          72.31  2016  \n",
       "289        25.0   85.95     14.05                          65.78  2016  \n",
       "\n",
       "[290 rows x 20 columns]"
      ]
     },
     "execution_count": 14,
     "metadata": {},
     "output_type": "execute_result"
    }
   ],
   "source": [
    "online_courses"
   ]
  },
  {
   "cell_type": "code",
   "execution_count": 15,
   "metadata": {},
   "outputs": [
    {
     "data": {
      "text/html": [
       "<div>\n",
       "<style scoped>\n",
       "    .dataframe tbody tr th:only-of-type {\n",
       "        vertical-align: middle;\n",
       "    }\n",
       "\n",
       "    .dataframe tbody tr th {\n",
       "        vertical-align: top;\n",
       "    }\n",
       "\n",
       "    .dataframe thead th {\n",
       "        text-align: right;\n",
       "    }\n",
       "</style>\n",
       "<table border=\"1\" class=\"dataframe\">\n",
       "  <thead>\n",
       "    <tr style=\"text-align: right;\">\n",
       "      <th></th>\n",
       "      <th>Institution</th>\n",
       "      <th>course_title</th>\n",
       "      <th>subject</th>\n",
       "      <th>honor_code</th>\n",
       "      <th>participants</th>\n",
       "      <th>attended_&gt;50%</th>\n",
       "      <th>certified</th>\n",
       "      <th>%attended_&gt;50%</th>\n",
       "      <th>%finish</th>\n",
       "      <th>%certified_&lt;50%</th>\n",
       "      <th>%_video_played</th>\n",
       "      <th>%_forum_post</th>\n",
       "      <th>%_grade</th>\n",
       "      <th>tot_hours</th>\n",
       "      <th>median_hours</th>\n",
       "      <th>median_age</th>\n",
       "      <th>%_male</th>\n",
       "      <th>%_female</th>\n",
       "      <th>%_degree</th>\n",
       "      <th>Years</th>\n",
       "    </tr>\n",
       "  </thead>\n",
       "  <tbody>\n",
       "    <tr>\n",
       "      <th>0</th>\n",
       "      <td>MITx</td>\n",
       "      <td>Circuits and Electronics</td>\n",
       "      <td>Science, Technology, Engineering, and Mathematics</td>\n",
       "      <td>1</td>\n",
       "      <td>36105</td>\n",
       "      <td>5431</td>\n",
       "      <td>3003</td>\n",
       "      <td>15.04</td>\n",
       "      <td>8.32</td>\n",
       "      <td>54.98</td>\n",
       "      <td>83.2</td>\n",
       "      <td>8.17</td>\n",
       "      <td>28.97</td>\n",
       "      <td>418.94</td>\n",
       "      <td>64.45</td>\n",
       "      <td>26.0</td>\n",
       "      <td>88.28</td>\n",
       "      <td>11.72</td>\n",
       "      <td>60.68</td>\n",
       "      <td>2012</td>\n",
       "    </tr>\n",
       "    <tr>\n",
       "      <th>1</th>\n",
       "      <td>MITx</td>\n",
       "      <td>Introduction to Computer Science and Programming</td>\n",
       "      <td>Computer Science</td>\n",
       "      <td>1</td>\n",
       "      <td>62709</td>\n",
       "      <td>8949</td>\n",
       "      <td>5783</td>\n",
       "      <td>14.27</td>\n",
       "      <td>9.22</td>\n",
       "      <td>64.05</td>\n",
       "      <td>89.14</td>\n",
       "      <td>14.38</td>\n",
       "      <td>39.50</td>\n",
       "      <td>884.04</td>\n",
       "      <td>78.53</td>\n",
       "      <td>28.0</td>\n",
       "      <td>83.50</td>\n",
       "      <td>16.50</td>\n",
       "      <td>63.04</td>\n",
       "      <td>2012</td>\n",
       "    </tr>\n",
       "    <tr>\n",
       "      <th>2</th>\n",
       "      <td>MITx</td>\n",
       "      <td>Introduction to Solid State Chemistry</td>\n",
       "      <td>Science, Technology, Engineering, and Mathematics</td>\n",
       "      <td>1</td>\n",
       "      <td>16663</td>\n",
       "      <td>2855</td>\n",
       "      <td>2082</td>\n",
       "      <td>17.13</td>\n",
       "      <td>12.49</td>\n",
       "      <td>72.85</td>\n",
       "      <td>87.49</td>\n",
       "      <td>14.42</td>\n",
       "      <td>34.89</td>\n",
       "      <td>227.55</td>\n",
       "      <td>61.28</td>\n",
       "      <td>27.0</td>\n",
       "      <td>70.32</td>\n",
       "      <td>29.68</td>\n",
       "      <td>58.76</td>\n",
       "      <td>2012</td>\n",
       "    </tr>\n",
       "    <tr>\n",
       "      <th>3</th>\n",
       "      <td>HarvardX</td>\n",
       "      <td>Introduction to Computer Science</td>\n",
       "      <td>Computer Science</td>\n",
       "      <td>1</td>\n",
       "      <td>129400</td>\n",
       "      <td>12888</td>\n",
       "      <td>1439</td>\n",
       "      <td>9.96</td>\n",
       "      <td>1.11</td>\n",
       "      <td>11.11</td>\n",
       "      <td>0</td>\n",
       "      <td>0.00</td>\n",
       "      <td>1.11</td>\n",
       "      <td>220.90</td>\n",
       "      <td>0.00</td>\n",
       "      <td>28.0</td>\n",
       "      <td>80.02</td>\n",
       "      <td>19.98</td>\n",
       "      <td>58.78</td>\n",
       "      <td>2012</td>\n",
       "    </tr>\n",
       "    <tr>\n",
       "      <th>4</th>\n",
       "      <td>HarvardX</td>\n",
       "      <td>Health in Numbers: Quantitative Methods in Cli...</td>\n",
       "      <td>Government, Health, and Social Science</td>\n",
       "      <td>1</td>\n",
       "      <td>52521</td>\n",
       "      <td>10729</td>\n",
       "      <td>5058</td>\n",
       "      <td>20.44</td>\n",
       "      <td>9.64</td>\n",
       "      <td>47.12</td>\n",
       "      <td>77.45</td>\n",
       "      <td>15.98</td>\n",
       "      <td>32.52</td>\n",
       "      <td>804.41</td>\n",
       "      <td>76.10</td>\n",
       "      <td>32.0</td>\n",
       "      <td>56.78</td>\n",
       "      <td>43.22</td>\n",
       "      <td>88.33</td>\n",
       "      <td>2012</td>\n",
       "    </tr>\n",
       "    <tr>\n",
       "      <th>...</th>\n",
       "      <td>...</td>\n",
       "      <td>...</td>\n",
       "      <td>...</td>\n",
       "      <td>...</td>\n",
       "      <td>...</td>\n",
       "      <td>...</td>\n",
       "      <td>...</td>\n",
       "      <td>...</td>\n",
       "      <td>...</td>\n",
       "      <td>...</td>\n",
       "      <td>...</td>\n",
       "      <td>...</td>\n",
       "      <td>...</td>\n",
       "      <td>...</td>\n",
       "      <td>...</td>\n",
       "      <td>...</td>\n",
       "      <td>...</td>\n",
       "      <td>...</td>\n",
       "      <td>...</td>\n",
       "      <td>...</td>\n",
       "    </tr>\n",
       "    <tr>\n",
       "      <th>285</th>\n",
       "      <td>HarvardX</td>\n",
       "      <td>First Nights: Symphonie Fantastique</td>\n",
       "      <td>Humanities, History, Design, Religion, and Edu...</td>\n",
       "      <td>0</td>\n",
       "      <td>615</td>\n",
       "      <td>305</td>\n",
       "      <td>20</td>\n",
       "      <td>49.59</td>\n",
       "      <td>3.25</td>\n",
       "      <td>6.56</td>\n",
       "      <td>80.81</td>\n",
       "      <td>8.78</td>\n",
       "      <td>3.25</td>\n",
       "      <td>1.71</td>\n",
       "      <td>5.93</td>\n",
       "      <td>38.0</td>\n",
       "      <td>56.82</td>\n",
       "      <td>43.18</td>\n",
       "      <td>74.66</td>\n",
       "      <td>2016</td>\n",
       "    </tr>\n",
       "    <tr>\n",
       "      <th>286</th>\n",
       "      <td>HarvardX</td>\n",
       "      <td>Introduction to Family Engagement in Education</td>\n",
       "      <td>Humanities, History, Design, Religion, and Edu...</td>\n",
       "      <td>0</td>\n",
       "      <td>2871</td>\n",
       "      <td>267</td>\n",
       "      <td>20</td>\n",
       "      <td>9.30</td>\n",
       "      <td>0.70</td>\n",
       "      <td>7.49</td>\n",
       "      <td>70.11</td>\n",
       "      <td>0.00</td>\n",
       "      <td>0.70</td>\n",
       "      <td>4.26</td>\n",
       "      <td>11.33</td>\n",
       "      <td>34.0</td>\n",
       "      <td>25.24</td>\n",
       "      <td>74.76</td>\n",
       "      <td>82.31</td>\n",
       "      <td>2016</td>\n",
       "    </tr>\n",
       "    <tr>\n",
       "      <th>287</th>\n",
       "      <td>MITx</td>\n",
       "      <td>Introduction to Control System Design</td>\n",
       "      <td>Science, Technology, Engineering, and Mathematics</td>\n",
       "      <td>0</td>\n",
       "      <td>3937</td>\n",
       "      <td>974</td>\n",
       "      <td>49</td>\n",
       "      <td>24.74</td>\n",
       "      <td>1.24</td>\n",
       "      <td>5.03</td>\n",
       "      <td>12.27</td>\n",
       "      <td>4.72</td>\n",
       "      <td>8.23</td>\n",
       "      <td>15.62</td>\n",
       "      <td>58.50</td>\n",
       "      <td>24.0</td>\n",
       "      <td>91.17</td>\n",
       "      <td>8.83</td>\n",
       "      <td>61.32</td>\n",
       "      <td>2016</td>\n",
       "    </tr>\n",
       "    <tr>\n",
       "      <th>288</th>\n",
       "      <td>MITx</td>\n",
       "      <td>Introduction to State Space Control</td>\n",
       "      <td>Science, Technology, Engineering, and Mathematics</td>\n",
       "      <td>0</td>\n",
       "      <td>1431</td>\n",
       "      <td>208</td>\n",
       "      <td>8</td>\n",
       "      <td>14.54</td>\n",
       "      <td>0.56</td>\n",
       "      <td>3.85</td>\n",
       "      <td>0</td>\n",
       "      <td>3.84</td>\n",
       "      <td>5.73</td>\n",
       "      <td>3.22</td>\n",
       "      <td>62.38</td>\n",
       "      <td>25.0</td>\n",
       "      <td>93.44</td>\n",
       "      <td>6.56</td>\n",
       "      <td>72.31</td>\n",
       "      <td>2016</td>\n",
       "    </tr>\n",
       "    <tr>\n",
       "      <th>289</th>\n",
       "      <td>MITx</td>\n",
       "      <td>Magnetic Materials and Devices</td>\n",
       "      <td>Science, Technology, Engineering, and Mathematics</td>\n",
       "      <td>0</td>\n",
       "      <td>1294</td>\n",
       "      <td>364</td>\n",
       "      <td>38</td>\n",
       "      <td>28.13</td>\n",
       "      <td>2.94</td>\n",
       "      <td>10.44</td>\n",
       "      <td>49.92</td>\n",
       "      <td>4.40</td>\n",
       "      <td>14.30</td>\n",
       "      <td>6.87</td>\n",
       "      <td>40.59</td>\n",
       "      <td>25.0</td>\n",
       "      <td>85.95</td>\n",
       "      <td>14.05</td>\n",
       "      <td>65.78</td>\n",
       "      <td>2016</td>\n",
       "    </tr>\n",
       "  </tbody>\n",
       "</table>\n",
       "<p>290 rows × 20 columns</p>\n",
       "</div>"
      ],
      "text/plain": [
       "    Institution                                       course_title  \\\n",
       "0          MITx                           Circuits and Electronics   \n",
       "1          MITx   Introduction to Computer Science and Programming   \n",
       "2          MITx              Introduction to Solid State Chemistry   \n",
       "3      HarvardX                   Introduction to Computer Science   \n",
       "4      HarvardX  Health in Numbers: Quantitative Methods in Cli...   \n",
       "..          ...                                                ...   \n",
       "285    HarvardX                First Nights: Symphonie Fantastique   \n",
       "286    HarvardX     Introduction to Family Engagement in Education   \n",
       "287        MITx              Introduction to Control System Design   \n",
       "288        MITx                Introduction to State Space Control   \n",
       "289        MITx                     Magnetic Materials and Devices   \n",
       "\n",
       "                                               subject  honor_code  \\\n",
       "0    Science, Technology, Engineering, and Mathematics           1   \n",
       "1                                     Computer Science           1   \n",
       "2    Science, Technology, Engineering, and Mathematics           1   \n",
       "3                                     Computer Science           1   \n",
       "4               Government, Health, and Social Science           1   \n",
       "..                                                 ...         ...   \n",
       "285  Humanities, History, Design, Religion, and Edu...           0   \n",
       "286  Humanities, History, Design, Religion, and Edu...           0   \n",
       "287  Science, Technology, Engineering, and Mathematics           0   \n",
       "288  Science, Technology, Engineering, and Mathematics           0   \n",
       "289  Science, Technology, Engineering, and Mathematics           0   \n",
       "\n",
       "     participants  attended_>50%  certified  %attended_>50%  %finish  \\\n",
       "0           36105           5431       3003           15.04     8.32   \n",
       "1           62709           8949       5783           14.27     9.22   \n",
       "2           16663           2855       2082           17.13    12.49   \n",
       "3          129400          12888       1439            9.96     1.11   \n",
       "4           52521          10729       5058           20.44     9.64   \n",
       "..            ...            ...        ...             ...      ...   \n",
       "285           615            305         20           49.59     3.25   \n",
       "286          2871            267         20            9.30     0.70   \n",
       "287          3937            974         49           24.74     1.24   \n",
       "288          1431            208          8           14.54     0.56   \n",
       "289          1294            364         38           28.13     2.94   \n",
       "\n",
       "     %certified_<50% %_video_played  %_forum_post  %_grade  tot_hours  \\\n",
       "0              54.98           83.2          8.17    28.97     418.94   \n",
       "1              64.05          89.14         14.38    39.50     884.04   \n",
       "2              72.85          87.49         14.42    34.89     227.55   \n",
       "3              11.11              0          0.00     1.11     220.90   \n",
       "4              47.12          77.45         15.98    32.52     804.41   \n",
       "..               ...            ...           ...      ...        ...   \n",
       "285             6.56          80.81          8.78     3.25       1.71   \n",
       "286             7.49          70.11          0.00     0.70       4.26   \n",
       "287             5.03          12.27          4.72     8.23      15.62   \n",
       "288             3.85              0          3.84     5.73       3.22   \n",
       "289            10.44          49.92          4.40    14.30       6.87   \n",
       "\n",
       "     median_hours  median_age  %_male  %_female  %_degree Years  \n",
       "0           64.45        26.0   88.28     11.72     60.68  2012  \n",
       "1           78.53        28.0   83.50     16.50     63.04  2012  \n",
       "2           61.28        27.0   70.32     29.68     58.76  2012  \n",
       "3            0.00        28.0   80.02     19.98     58.78  2012  \n",
       "4           76.10        32.0   56.78     43.22     88.33  2012  \n",
       "..            ...         ...     ...       ...       ...   ...  \n",
       "285          5.93        38.0   56.82     43.18     74.66  2016  \n",
       "286         11.33        34.0   25.24     74.76     82.31  2016  \n",
       "287         58.50        24.0   91.17      8.83     61.32  2016  \n",
       "288         62.38        25.0   93.44      6.56     72.31  2016  \n",
       "289         40.59        25.0   85.95     14.05     65.78  2016  \n",
       "\n",
       "[290 rows x 20 columns]"
      ]
     },
     "execution_count": 15,
     "metadata": {},
     "output_type": "execute_result"
    }
   ],
   "source": [
    "online_courses.rename(columns= {\"Course Title\": \"course_title\", \"Course Subject\" : \"subject\", \"Honor Code Certificates\" : \"honor_code\", \"Participants (Course Content Accessed)\": \"participants\", \"Audited (> 50% Course Content Accessed)\": \"attended_>50%\", \"Certified\": \"certified\", \"% Certified of > 50% Course Content Accessed\": \"%certified_<50%\", \"%_Certified_>_50%\": \"%_Certified_attended\", \"% Posted in Forum\": \"%_forum_post\", \"Median Age\": \"median_age\", \"% Played Video\": \"%_video_played\", \"% Audited\": \"%attended_>50%\", \"%certified_<50%\": \"%finish_50%\", \"% Certified\": \"%finish\", \"% Male\": \"%_male\", \"% Female\": \"%_female\", \"% Grade Higher Than Zero\":\"%_grade\", \"Total Course Hours (Thousands)\": \"tot_hours\", \"Median Hours for Certification\": \"median_hours\", \"% Bachelor's Degree or Higher\": \"%_degree\"}, inplace = True)\n",
    "online_courses"
   ]
  },
  {
   "cell_type": "code",
   "execution_count": 16,
   "metadata": {},
   "outputs": [],
   "source": [
    "#online_courses.to_csv(\"clean_data.csv\") #clean data"
   ]
  },
  {
   "cell_type": "code",
   "execution_count": 17,
   "metadata": {},
   "outputs": [
    {
     "data": {
      "text/html": [
       "<div>\n",
       "<style scoped>\n",
       "    .dataframe tbody tr th:only-of-type {\n",
       "        vertical-align: middle;\n",
       "    }\n",
       "\n",
       "    .dataframe tbody tr th {\n",
       "        vertical-align: top;\n",
       "    }\n",
       "\n",
       "    .dataframe thead th {\n",
       "        text-align: right;\n",
       "    }\n",
       "</style>\n",
       "<table border=\"1\" class=\"dataframe\">\n",
       "  <thead>\n",
       "    <tr style=\"text-align: right;\">\n",
       "      <th></th>\n",
       "      <th></th>\n",
       "      <th>certified</th>\n",
       "      <th>participants</th>\n",
       "    </tr>\n",
       "    <tr>\n",
       "      <th>Institution</th>\n",
       "      <th>course_title</th>\n",
       "      <th></th>\n",
       "      <th></th>\n",
       "    </tr>\n",
       "  </thead>\n",
       "  <tbody>\n",
       "    <tr>\n",
       "      <th rowspan=\"5\" valign=\"top\">HarvardX</th>\n",
       "      <th>A New National Culture</th>\n",
       "      <td>1788</td>\n",
       "      <td>6753</td>\n",
       "    </tr>\n",
       "    <tr>\n",
       "      <th>Advanced Statistics for the Life Sciences</th>\n",
       "      <td>638</td>\n",
       "      <td>9266</td>\n",
       "    </tr>\n",
       "    <tr>\n",
       "      <th>AnatomyX: Musculoskeletal Cases</th>\n",
       "      <td>1583</td>\n",
       "      <td>26086</td>\n",
       "    </tr>\n",
       "    <tr>\n",
       "      <th>Cell Biology: Mitochondria</th>\n",
       "      <td>268</td>\n",
       "      <td>8297</td>\n",
       "    </tr>\n",
       "    <tr>\n",
       "      <th>Central Challenges in American National Security, Strategy and the Press</th>\n",
       "      <td>813</td>\n",
       "      <td>6454</td>\n",
       "    </tr>\n",
       "    <tr>\n",
       "      <th>...</th>\n",
       "      <th>...</th>\n",
       "      <td>...</td>\n",
       "      <td>...</td>\n",
       "    </tr>\n",
       "    <tr>\n",
       "      <th rowspan=\"5\" valign=\"top\">MITx</th>\n",
       "      <th>The Analytics Edge</th>\n",
       "      <td>8258</td>\n",
       "      <td>122762</td>\n",
       "    </tr>\n",
       "    <tr>\n",
       "      <th>The Challenges of Global Poverty</th>\n",
       "      <td>5497</td>\n",
       "      <td>40958</td>\n",
       "    </tr>\n",
       "    <tr>\n",
       "      <th>Transforming Business, Society, and Self</th>\n",
       "      <td>4022</td>\n",
       "      <td>44507</td>\n",
       "    </tr>\n",
       "    <tr>\n",
       "      <th>Underactuated Robotics</th>\n",
       "      <td>284</td>\n",
       "      <td>21265</td>\n",
       "    </tr>\n",
       "    <tr>\n",
       "      <th>User Innovation: A Path to Entrepreneurship</th>\n",
       "      <td>1232</td>\n",
       "      <td>41361</td>\n",
       "    </tr>\n",
       "  </tbody>\n",
       "</table>\n",
       "<p>202 rows × 2 columns</p>\n",
       "</div>"
      ],
      "text/plain": [
       "                                                                certified  \\\n",
       "Institution course_title                                                    \n",
       "HarvardX    A New National Culture                                   1788   \n",
       "            Advanced Statistics for the Life Sciences                 638   \n",
       "            AnatomyX: Musculoskeletal Cases                          1583   \n",
       "            Cell Biology: Mitochondria                                268   \n",
       "            Central Challenges in American National Securit...        813   \n",
       "...                                                                   ...   \n",
       "MITx        The Analytics Edge                                       8258   \n",
       "            The Challenges of Global Poverty                         5497   \n",
       "            Transforming Business, Society, and Self                 4022   \n",
       "            Underactuated Robotics                                    284   \n",
       "            User Innovation: A Path to Entrepreneurship              1232   \n",
       "\n",
       "                                                                participants  \n",
       "Institution course_title                                                      \n",
       "HarvardX    A New National Culture                                      6753  \n",
       "            Advanced Statistics for the Life Sciences                   9266  \n",
       "            AnatomyX: Musculoskeletal Cases                            26086  \n",
       "            Cell Biology: Mitochondria                                  8297  \n",
       "            Central Challenges in American National Securit...          6454  \n",
       "...                                                                      ...  \n",
       "MITx        The Analytics Edge                                        122762  \n",
       "            The Challenges of Global Poverty                           40958  \n",
       "            Transforming Business, Society, and Self                   44507  \n",
       "            Underactuated Robotics                                     21265  \n",
       "            User Innovation: A Path to Entrepreneurship                41361  \n",
       "\n",
       "[202 rows x 2 columns]"
      ]
     },
     "execution_count": 17,
     "metadata": {},
     "output_type": "execute_result"
    }
   ],
   "source": [
    "modules = pd.pivot_table(online_courses, index=[\"Institution\", \"course_title\"], values = (\"participants\", \"certified\"), aggfunc= \"sum\")\n",
    "modules"
   ]
  },
  {
   "cell_type": "code",
   "execution_count": 18,
   "metadata": {},
   "outputs": [
    {
     "data": {
      "text/html": [
       "<div>\n",
       "<style scoped>\n",
       "    .dataframe tbody tr th:only-of-type {\n",
       "        vertical-align: middle;\n",
       "    }\n",
       "\n",
       "    .dataframe tbody tr th {\n",
       "        vertical-align: top;\n",
       "    }\n",
       "\n",
       "    .dataframe thead th {\n",
       "        text-align: right;\n",
       "    }\n",
       "</style>\n",
       "<table border=\"1\" class=\"dataframe\">\n",
       "  <thead>\n",
       "    <tr style=\"text-align: right;\">\n",
       "      <th></th>\n",
       "      <th></th>\n",
       "      <th>certified</th>\n",
       "      <th>participants</th>\n",
       "    </tr>\n",
       "    <tr>\n",
       "      <th>Institution</th>\n",
       "      <th>course_title</th>\n",
       "      <th></th>\n",
       "      <th></th>\n",
       "    </tr>\n",
       "  </thead>\n",
       "  <tbody>\n",
       "    <tr>\n",
       "      <th>HarvardX</th>\n",
       "      <th>Introduction to Computer Science</th>\n",
       "      <td>4170</td>\n",
       "      <td>690059</td>\n",
       "    </tr>\n",
       "    <tr>\n",
       "      <th>MITx</th>\n",
       "      <th>Introduction to Computer Science and Programming</th>\n",
       "      <td>26615</td>\n",
       "      <td>324640</td>\n",
       "    </tr>\n",
       "    <tr>\n",
       "      <th>HarvardX</th>\n",
       "      <th>Introduction to Computer Science (2016)</th>\n",
       "      <td>417</td>\n",
       "      <td>168335</td>\n",
       "    </tr>\n",
       "    <tr>\n",
       "      <th>MITx</th>\n",
       "      <th>Introduction to Computer Science and Programming Using Python</th>\n",
       "      <td>11893</td>\n",
       "      <td>167548</td>\n",
       "    </tr>\n",
       "    <tr>\n",
       "      <th rowspan=\"5\" valign=\"top\">HarvardX</th>\n",
       "      <th>Justice</th>\n",
       "      <td>9649</td>\n",
       "      <td>124887</td>\n",
       "    </tr>\n",
       "    <tr>\n",
       "      <th>...</th>\n",
       "      <td>...</td>\n",
       "      <td>...</td>\n",
       "    </tr>\n",
       "    <tr>\n",
       "      <th>Literati China: Examinations and Neo-Confucianism</th>\n",
       "      <td>58</td>\n",
       "      <td>427</td>\n",
       "    </tr>\n",
       "    <tr>\n",
       "      <th>Creating Modern China: The Birth of a Nation</th>\n",
       "      <td>56</td>\n",
       "      <td>422</td>\n",
       "    </tr>\n",
       "    <tr>\n",
       "      <th>Invasions, Rebellions and the Fall of Imperial China</th>\n",
       "      <td>67</td>\n",
       "      <td>385</td>\n",
       "    </tr>\n",
       "    <tr>\n",
       "      <th rowspan=\"2\" valign=\"top\">MITx</th>\n",
       "      <th>Cellular Solids: Applications in Nature</th>\n",
       "      <td>24</td>\n",
       "      <td>362</td>\n",
       "    </tr>\n",
       "    <tr>\n",
       "      <th>Mobile Application Experiences: Reporting Research Findings</th>\n",
       "      <td>4</td>\n",
       "      <td>322</td>\n",
       "    </tr>\n",
       "  </tbody>\n",
       "</table>\n",
       "<p>202 rows × 2 columns</p>\n",
       "</div>"
      ],
      "text/plain": [
       "                                                                certified  \\\n",
       "Institution course_title                                                    \n",
       "HarvardX    Introduction to Computer Science                         4170   \n",
       "MITx        Introduction to Computer Science and Programming        26615   \n",
       "HarvardX    Introduction to Computer Science (2016)                   417   \n",
       "MITx        Introduction to Computer Science and Programmin...      11893   \n",
       "HarvardX    Justice                                                  9649   \n",
       "...                                                                   ...   \n",
       "            Literati China: Examinations and Neo-Confucianism          58   \n",
       "            Creating Modern China: The Birth of a Nation               56   \n",
       "            Invasions, Rebellions and the Fall of Imperial ...         67   \n",
       "MITx        Cellular Solids: Applications in Nature                    24   \n",
       "            Mobile Application Experiences: Reporting Resea...          4   \n",
       "\n",
       "                                                                participants  \n",
       "Institution course_title                                                      \n",
       "HarvardX    Introduction to Computer Science                          690059  \n",
       "MITx        Introduction to Computer Science and Programming          324640  \n",
       "HarvardX    Introduction to Computer Science (2016)                   168335  \n",
       "MITx        Introduction to Computer Science and Programmin...        167548  \n",
       "HarvardX    Justice                                                   124887  \n",
       "...                                                                      ...  \n",
       "            Literati China: Examinations and Neo-Confucianism            427  \n",
       "            Creating Modern China: The Birth of a Nation                 422  \n",
       "            Invasions, Rebellions and the Fall of Imperial ...           385  \n",
       "MITx        Cellular Solids: Applications in Nature                      362  \n",
       "            Mobile Application Experiences: Reporting Resea...           322  \n",
       "\n",
       "[202 rows x 2 columns]"
      ]
     },
     "execution_count": 18,
     "metadata": {},
     "output_type": "execute_result"
    }
   ],
   "source": [
    "modules.sort_values(\"participants\", ascending = False)"
   ]
  },
  {
   "cell_type": "code",
   "execution_count": 19,
   "metadata": {},
   "outputs": [],
   "source": [
    "modules1 = modules.reset_index()"
   ]
  },
  {
   "cell_type": "code",
   "execution_count": 20,
   "metadata": {},
   "outputs": [],
   "source": [
    "#modules1[\"course_title\"].unique().sum()"
   ]
  },
  {
   "cell_type": "code",
   "execution_count": 21,
   "metadata": {},
   "outputs": [],
   "source": [
    "online_courses[\"%_certified\"]= online_courses[\"certified\"]/online_courses[\"participants\"]"
   ]
  },
  {
   "cell_type": "code",
   "execution_count": 22,
   "metadata": {},
   "outputs": [
    {
     "data": {
      "text/html": [
       "<div>\n",
       "<style scoped>\n",
       "    .dataframe tbody tr th:only-of-type {\n",
       "        vertical-align: middle;\n",
       "    }\n",
       "\n",
       "    .dataframe tbody tr th {\n",
       "        vertical-align: top;\n",
       "    }\n",
       "\n",
       "    .dataframe thead th {\n",
       "        text-align: right;\n",
       "    }\n",
       "</style>\n",
       "<table border=\"1\" class=\"dataframe\">\n",
       "  <thead>\n",
       "    <tr style=\"text-align: right;\">\n",
       "      <th></th>\n",
       "      <th>Institution</th>\n",
       "      <th>course_title</th>\n",
       "      <th>subject</th>\n",
       "      <th>honor_code</th>\n",
       "      <th>participants</th>\n",
       "      <th>attended_&gt;50%</th>\n",
       "      <th>certified</th>\n",
       "      <th>%attended_&gt;50%</th>\n",
       "      <th>%finish</th>\n",
       "      <th>%certified_&lt;50%</th>\n",
       "      <th>...</th>\n",
       "      <th>%_forum_post</th>\n",
       "      <th>%_grade</th>\n",
       "      <th>tot_hours</th>\n",
       "      <th>median_hours</th>\n",
       "      <th>median_age</th>\n",
       "      <th>%_male</th>\n",
       "      <th>%_female</th>\n",
       "      <th>%_degree</th>\n",
       "      <th>Years</th>\n",
       "      <th>%_certified</th>\n",
       "    </tr>\n",
       "  </thead>\n",
       "  <tbody>\n",
       "    <tr>\n",
       "      <th>0</th>\n",
       "      <td>MITx</td>\n",
       "      <td>Circuits and Electronics</td>\n",
       "      <td>Science, Technology, Engineering, and Mathematics</td>\n",
       "      <td>1</td>\n",
       "      <td>36105</td>\n",
       "      <td>5431</td>\n",
       "      <td>3003</td>\n",
       "      <td>15.04</td>\n",
       "      <td>8.32</td>\n",
       "      <td>54.98</td>\n",
       "      <td>...</td>\n",
       "      <td>8.17</td>\n",
       "      <td>28.97</td>\n",
       "      <td>418.94</td>\n",
       "      <td>64.45</td>\n",
       "      <td>26.0</td>\n",
       "      <td>88.28</td>\n",
       "      <td>11.72</td>\n",
       "      <td>60.68</td>\n",
       "      <td>2012</td>\n",
       "      <td>0.083174</td>\n",
       "    </tr>\n",
       "    <tr>\n",
       "      <th>1</th>\n",
       "      <td>MITx</td>\n",
       "      <td>Introduction to Computer Science and Programming</td>\n",
       "      <td>Computer Science</td>\n",
       "      <td>1</td>\n",
       "      <td>62709</td>\n",
       "      <td>8949</td>\n",
       "      <td>5783</td>\n",
       "      <td>14.27</td>\n",
       "      <td>9.22</td>\n",
       "      <td>64.05</td>\n",
       "      <td>...</td>\n",
       "      <td>14.38</td>\n",
       "      <td>39.50</td>\n",
       "      <td>884.04</td>\n",
       "      <td>78.53</td>\n",
       "      <td>28.0</td>\n",
       "      <td>83.50</td>\n",
       "      <td>16.50</td>\n",
       "      <td>63.04</td>\n",
       "      <td>2012</td>\n",
       "      <td>0.092220</td>\n",
       "    </tr>\n",
       "    <tr>\n",
       "      <th>2</th>\n",
       "      <td>MITx</td>\n",
       "      <td>Introduction to Solid State Chemistry</td>\n",
       "      <td>Science, Technology, Engineering, and Mathematics</td>\n",
       "      <td>1</td>\n",
       "      <td>16663</td>\n",
       "      <td>2855</td>\n",
       "      <td>2082</td>\n",
       "      <td>17.13</td>\n",
       "      <td>12.49</td>\n",
       "      <td>72.85</td>\n",
       "      <td>...</td>\n",
       "      <td>14.42</td>\n",
       "      <td>34.89</td>\n",
       "      <td>227.55</td>\n",
       "      <td>61.28</td>\n",
       "      <td>27.0</td>\n",
       "      <td>70.32</td>\n",
       "      <td>29.68</td>\n",
       "      <td>58.76</td>\n",
       "      <td>2012</td>\n",
       "      <td>0.124947</td>\n",
       "    </tr>\n",
       "    <tr>\n",
       "      <th>3</th>\n",
       "      <td>HarvardX</td>\n",
       "      <td>Introduction to Computer Science</td>\n",
       "      <td>Computer Science</td>\n",
       "      <td>1</td>\n",
       "      <td>129400</td>\n",
       "      <td>12888</td>\n",
       "      <td>1439</td>\n",
       "      <td>9.96</td>\n",
       "      <td>1.11</td>\n",
       "      <td>11.11</td>\n",
       "      <td>...</td>\n",
       "      <td>0.00</td>\n",
       "      <td>1.11</td>\n",
       "      <td>220.90</td>\n",
       "      <td>0.00</td>\n",
       "      <td>28.0</td>\n",
       "      <td>80.02</td>\n",
       "      <td>19.98</td>\n",
       "      <td>58.78</td>\n",
       "      <td>2012</td>\n",
       "      <td>0.011121</td>\n",
       "    </tr>\n",
       "    <tr>\n",
       "      <th>4</th>\n",
       "      <td>HarvardX</td>\n",
       "      <td>Health in Numbers: Quantitative Methods in Cli...</td>\n",
       "      <td>Government, Health, and Social Science</td>\n",
       "      <td>1</td>\n",
       "      <td>52521</td>\n",
       "      <td>10729</td>\n",
       "      <td>5058</td>\n",
       "      <td>20.44</td>\n",
       "      <td>9.64</td>\n",
       "      <td>47.12</td>\n",
       "      <td>...</td>\n",
       "      <td>15.98</td>\n",
       "      <td>32.52</td>\n",
       "      <td>804.41</td>\n",
       "      <td>76.10</td>\n",
       "      <td>32.0</td>\n",
       "      <td>56.78</td>\n",
       "      <td>43.22</td>\n",
       "      <td>88.33</td>\n",
       "      <td>2012</td>\n",
       "      <td>0.096304</td>\n",
       "    </tr>\n",
       "    <tr>\n",
       "      <th>...</th>\n",
       "      <td>...</td>\n",
       "      <td>...</td>\n",
       "      <td>...</td>\n",
       "      <td>...</td>\n",
       "      <td>...</td>\n",
       "      <td>...</td>\n",
       "      <td>...</td>\n",
       "      <td>...</td>\n",
       "      <td>...</td>\n",
       "      <td>...</td>\n",
       "      <td>...</td>\n",
       "      <td>...</td>\n",
       "      <td>...</td>\n",
       "      <td>...</td>\n",
       "      <td>...</td>\n",
       "      <td>...</td>\n",
       "      <td>...</td>\n",
       "      <td>...</td>\n",
       "      <td>...</td>\n",
       "      <td>...</td>\n",
       "      <td>...</td>\n",
       "    </tr>\n",
       "    <tr>\n",
       "      <th>285</th>\n",
       "      <td>HarvardX</td>\n",
       "      <td>First Nights: Symphonie Fantastique</td>\n",
       "      <td>Humanities, History, Design, Religion, and Edu...</td>\n",
       "      <td>0</td>\n",
       "      <td>615</td>\n",
       "      <td>305</td>\n",
       "      <td>20</td>\n",
       "      <td>49.59</td>\n",
       "      <td>3.25</td>\n",
       "      <td>6.56</td>\n",
       "      <td>...</td>\n",
       "      <td>8.78</td>\n",
       "      <td>3.25</td>\n",
       "      <td>1.71</td>\n",
       "      <td>5.93</td>\n",
       "      <td>38.0</td>\n",
       "      <td>56.82</td>\n",
       "      <td>43.18</td>\n",
       "      <td>74.66</td>\n",
       "      <td>2016</td>\n",
       "      <td>0.032520</td>\n",
       "    </tr>\n",
       "    <tr>\n",
       "      <th>286</th>\n",
       "      <td>HarvardX</td>\n",
       "      <td>Introduction to Family Engagement in Education</td>\n",
       "      <td>Humanities, History, Design, Religion, and Edu...</td>\n",
       "      <td>0</td>\n",
       "      <td>2871</td>\n",
       "      <td>267</td>\n",
       "      <td>20</td>\n",
       "      <td>9.30</td>\n",
       "      <td>0.70</td>\n",
       "      <td>7.49</td>\n",
       "      <td>...</td>\n",
       "      <td>0.00</td>\n",
       "      <td>0.70</td>\n",
       "      <td>4.26</td>\n",
       "      <td>11.33</td>\n",
       "      <td>34.0</td>\n",
       "      <td>25.24</td>\n",
       "      <td>74.76</td>\n",
       "      <td>82.31</td>\n",
       "      <td>2016</td>\n",
       "      <td>0.006966</td>\n",
       "    </tr>\n",
       "    <tr>\n",
       "      <th>287</th>\n",
       "      <td>MITx</td>\n",
       "      <td>Introduction to Control System Design</td>\n",
       "      <td>Science, Technology, Engineering, and Mathematics</td>\n",
       "      <td>0</td>\n",
       "      <td>3937</td>\n",
       "      <td>974</td>\n",
       "      <td>49</td>\n",
       "      <td>24.74</td>\n",
       "      <td>1.24</td>\n",
       "      <td>5.03</td>\n",
       "      <td>...</td>\n",
       "      <td>4.72</td>\n",
       "      <td>8.23</td>\n",
       "      <td>15.62</td>\n",
       "      <td>58.50</td>\n",
       "      <td>24.0</td>\n",
       "      <td>91.17</td>\n",
       "      <td>8.83</td>\n",
       "      <td>61.32</td>\n",
       "      <td>2016</td>\n",
       "      <td>0.012446</td>\n",
       "    </tr>\n",
       "    <tr>\n",
       "      <th>288</th>\n",
       "      <td>MITx</td>\n",
       "      <td>Introduction to State Space Control</td>\n",
       "      <td>Science, Technology, Engineering, and Mathematics</td>\n",
       "      <td>0</td>\n",
       "      <td>1431</td>\n",
       "      <td>208</td>\n",
       "      <td>8</td>\n",
       "      <td>14.54</td>\n",
       "      <td>0.56</td>\n",
       "      <td>3.85</td>\n",
       "      <td>...</td>\n",
       "      <td>3.84</td>\n",
       "      <td>5.73</td>\n",
       "      <td>3.22</td>\n",
       "      <td>62.38</td>\n",
       "      <td>25.0</td>\n",
       "      <td>93.44</td>\n",
       "      <td>6.56</td>\n",
       "      <td>72.31</td>\n",
       "      <td>2016</td>\n",
       "      <td>0.005590</td>\n",
       "    </tr>\n",
       "    <tr>\n",
       "      <th>289</th>\n",
       "      <td>MITx</td>\n",
       "      <td>Magnetic Materials and Devices</td>\n",
       "      <td>Science, Technology, Engineering, and Mathematics</td>\n",
       "      <td>0</td>\n",
       "      <td>1294</td>\n",
       "      <td>364</td>\n",
       "      <td>38</td>\n",
       "      <td>28.13</td>\n",
       "      <td>2.94</td>\n",
       "      <td>10.44</td>\n",
       "      <td>...</td>\n",
       "      <td>4.40</td>\n",
       "      <td>14.30</td>\n",
       "      <td>6.87</td>\n",
       "      <td>40.59</td>\n",
       "      <td>25.0</td>\n",
       "      <td>85.95</td>\n",
       "      <td>14.05</td>\n",
       "      <td>65.78</td>\n",
       "      <td>2016</td>\n",
       "      <td>0.029366</td>\n",
       "    </tr>\n",
       "  </tbody>\n",
       "</table>\n",
       "<p>290 rows × 21 columns</p>\n",
       "</div>"
      ],
      "text/plain": [
       "    Institution                                       course_title  \\\n",
       "0          MITx                           Circuits and Electronics   \n",
       "1          MITx   Introduction to Computer Science and Programming   \n",
       "2          MITx              Introduction to Solid State Chemistry   \n",
       "3      HarvardX                   Introduction to Computer Science   \n",
       "4      HarvardX  Health in Numbers: Quantitative Methods in Cli...   \n",
       "..          ...                                                ...   \n",
       "285    HarvardX                First Nights: Symphonie Fantastique   \n",
       "286    HarvardX     Introduction to Family Engagement in Education   \n",
       "287        MITx              Introduction to Control System Design   \n",
       "288        MITx                Introduction to State Space Control   \n",
       "289        MITx                     Magnetic Materials and Devices   \n",
       "\n",
       "                                               subject  honor_code  \\\n",
       "0    Science, Technology, Engineering, and Mathematics           1   \n",
       "1                                     Computer Science           1   \n",
       "2    Science, Technology, Engineering, and Mathematics           1   \n",
       "3                                     Computer Science           1   \n",
       "4               Government, Health, and Social Science           1   \n",
       "..                                                 ...         ...   \n",
       "285  Humanities, History, Design, Religion, and Edu...           0   \n",
       "286  Humanities, History, Design, Religion, and Edu...           0   \n",
       "287  Science, Technology, Engineering, and Mathematics           0   \n",
       "288  Science, Technology, Engineering, and Mathematics           0   \n",
       "289  Science, Technology, Engineering, and Mathematics           0   \n",
       "\n",
       "     participants  attended_>50%  certified  %attended_>50%  %finish  \\\n",
       "0           36105           5431       3003           15.04     8.32   \n",
       "1           62709           8949       5783           14.27     9.22   \n",
       "2           16663           2855       2082           17.13    12.49   \n",
       "3          129400          12888       1439            9.96     1.11   \n",
       "4           52521          10729       5058           20.44     9.64   \n",
       "..            ...            ...        ...             ...      ...   \n",
       "285           615            305         20           49.59     3.25   \n",
       "286          2871            267         20            9.30     0.70   \n",
       "287          3937            974         49           24.74     1.24   \n",
       "288          1431            208          8           14.54     0.56   \n",
       "289          1294            364         38           28.13     2.94   \n",
       "\n",
       "     %certified_<50%  ... %_forum_post  %_grade  tot_hours  median_hours  \\\n",
       "0              54.98  ...         8.17    28.97     418.94         64.45   \n",
       "1              64.05  ...        14.38    39.50     884.04         78.53   \n",
       "2              72.85  ...        14.42    34.89     227.55         61.28   \n",
       "3              11.11  ...         0.00     1.11     220.90          0.00   \n",
       "4              47.12  ...        15.98    32.52     804.41         76.10   \n",
       "..               ...  ...          ...      ...        ...           ...   \n",
       "285             6.56  ...         8.78     3.25       1.71          5.93   \n",
       "286             7.49  ...         0.00     0.70       4.26         11.33   \n",
       "287             5.03  ...         4.72     8.23      15.62         58.50   \n",
       "288             3.85  ...         3.84     5.73       3.22         62.38   \n",
       "289            10.44  ...         4.40    14.30       6.87         40.59   \n",
       "\n",
       "     median_age  %_male  %_female  %_degree  Years %_certified  \n",
       "0          26.0   88.28     11.72     60.68   2012    0.083174  \n",
       "1          28.0   83.50     16.50     63.04   2012    0.092220  \n",
       "2          27.0   70.32     29.68     58.76   2012    0.124947  \n",
       "3          28.0   80.02     19.98     58.78   2012    0.011121  \n",
       "4          32.0   56.78     43.22     88.33   2012    0.096304  \n",
       "..          ...     ...       ...       ...    ...         ...  \n",
       "285        38.0   56.82     43.18     74.66   2016    0.032520  \n",
       "286        34.0   25.24     74.76     82.31   2016    0.006966  \n",
       "287        24.0   91.17      8.83     61.32   2016    0.012446  \n",
       "288        25.0   93.44      6.56     72.31   2016    0.005590  \n",
       "289        25.0   85.95     14.05     65.78   2016    0.029366  \n",
       "\n",
       "[290 rows x 21 columns]"
      ]
     },
     "execution_count": 22,
     "metadata": {},
     "output_type": "execute_result"
    }
   ],
   "source": [
    "online_courses #adding % of certified out of total participants"
   ]
  },
  {
   "cell_type": "code",
   "execution_count": 23,
   "metadata": {},
   "outputs": [
    {
     "data": {
      "text/plain": [
       "array(['2012', '2013', '2014', '2015', '2016'], dtype=object)"
      ]
     },
     "execution_count": 23,
     "metadata": {},
     "output_type": "execute_result"
    }
   ],
   "source": [
    "online_courses.Years.unique()"
   ]
  },
  {
   "cell_type": "code",
   "execution_count": 24,
   "metadata": {},
   "outputs": [
    {
     "data": {
      "text/html": [
       "<div>\n",
       "<style scoped>\n",
       "    .dataframe tbody tr th:only-of-type {\n",
       "        vertical-align: middle;\n",
       "    }\n",
       "\n",
       "    .dataframe tbody tr th {\n",
       "        vertical-align: top;\n",
       "    }\n",
       "\n",
       "    .dataframe thead th {\n",
       "        text-align: right;\n",
       "    }\n",
       "</style>\n",
       "<table border=\"1\" class=\"dataframe\">\n",
       "  <thead>\n",
       "    <tr style=\"text-align: right;\">\n",
       "      <th></th>\n",
       "      <th>Institution</th>\n",
       "      <th>course_title</th>\n",
       "      <th>subject</th>\n",
       "      <th>honor_code</th>\n",
       "      <th>participants</th>\n",
       "      <th>attended_&gt;50%</th>\n",
       "      <th>certified</th>\n",
       "      <th>%attended_&gt;50%</th>\n",
       "      <th>%finish</th>\n",
       "      <th>%certified_&lt;50%</th>\n",
       "      <th>...</th>\n",
       "      <th>%_forum_post</th>\n",
       "      <th>%_grade</th>\n",
       "      <th>tot_hours</th>\n",
       "      <th>median_hours</th>\n",
       "      <th>median_age</th>\n",
       "      <th>%_male</th>\n",
       "      <th>%_female</th>\n",
       "      <th>%_degree</th>\n",
       "      <th>Years</th>\n",
       "      <th>%_certified</th>\n",
       "    </tr>\n",
       "  </thead>\n",
       "  <tbody>\n",
       "    <tr>\n",
       "      <th>0</th>\n",
       "      <td>MITx</td>\n",
       "      <td>Circuits and Electronics</td>\n",
       "      <td>Science, Technology, Engineering, and Mathematics</td>\n",
       "      <td>1</td>\n",
       "      <td>36105</td>\n",
       "      <td>5431</td>\n",
       "      <td>3003</td>\n",
       "      <td>15.04</td>\n",
       "      <td>8.32</td>\n",
       "      <td>54.98</td>\n",
       "      <td>...</td>\n",
       "      <td>8.17</td>\n",
       "      <td>28.97</td>\n",
       "      <td>418.94</td>\n",
       "      <td>64.45</td>\n",
       "      <td>26.0</td>\n",
       "      <td>88.28</td>\n",
       "      <td>11.72</td>\n",
       "      <td>60.68</td>\n",
       "      <td>2012</td>\n",
       "      <td>0.083174</td>\n",
       "    </tr>\n",
       "    <tr>\n",
       "      <th>1</th>\n",
       "      <td>MITx</td>\n",
       "      <td>Introduction to Computer Science and Programming</td>\n",
       "      <td>Computer Science</td>\n",
       "      <td>1</td>\n",
       "      <td>62709</td>\n",
       "      <td>8949</td>\n",
       "      <td>5783</td>\n",
       "      <td>14.27</td>\n",
       "      <td>9.22</td>\n",
       "      <td>64.05</td>\n",
       "      <td>...</td>\n",
       "      <td>14.38</td>\n",
       "      <td>39.50</td>\n",
       "      <td>884.04</td>\n",
       "      <td>78.53</td>\n",
       "      <td>28.0</td>\n",
       "      <td>83.50</td>\n",
       "      <td>16.50</td>\n",
       "      <td>63.04</td>\n",
       "      <td>2012</td>\n",
       "      <td>0.092220</td>\n",
       "    </tr>\n",
       "    <tr>\n",
       "      <th>2</th>\n",
       "      <td>MITx</td>\n",
       "      <td>Introduction to Solid State Chemistry</td>\n",
       "      <td>Science, Technology, Engineering, and Mathematics</td>\n",
       "      <td>1</td>\n",
       "      <td>16663</td>\n",
       "      <td>2855</td>\n",
       "      <td>2082</td>\n",
       "      <td>17.13</td>\n",
       "      <td>12.49</td>\n",
       "      <td>72.85</td>\n",
       "      <td>...</td>\n",
       "      <td>14.42</td>\n",
       "      <td>34.89</td>\n",
       "      <td>227.55</td>\n",
       "      <td>61.28</td>\n",
       "      <td>27.0</td>\n",
       "      <td>70.32</td>\n",
       "      <td>29.68</td>\n",
       "      <td>58.76</td>\n",
       "      <td>2012</td>\n",
       "      <td>0.124947</td>\n",
       "    </tr>\n",
       "    <tr>\n",
       "      <th>3</th>\n",
       "      <td>HarvardX</td>\n",
       "      <td>Introduction to Computer Science</td>\n",
       "      <td>Computer Science</td>\n",
       "      <td>1</td>\n",
       "      <td>129400</td>\n",
       "      <td>12888</td>\n",
       "      <td>1439</td>\n",
       "      <td>9.96</td>\n",
       "      <td>1.11</td>\n",
       "      <td>11.11</td>\n",
       "      <td>...</td>\n",
       "      <td>0.00</td>\n",
       "      <td>1.11</td>\n",
       "      <td>220.90</td>\n",
       "      <td>0.00</td>\n",
       "      <td>28.0</td>\n",
       "      <td>80.02</td>\n",
       "      <td>19.98</td>\n",
       "      <td>58.78</td>\n",
       "      <td>2012</td>\n",
       "      <td>0.011121</td>\n",
       "    </tr>\n",
       "    <tr>\n",
       "      <th>4</th>\n",
       "      <td>HarvardX</td>\n",
       "      <td>Health in Numbers: Quantitative Methods in Cli...</td>\n",
       "      <td>Government, Health, and Social Science</td>\n",
       "      <td>1</td>\n",
       "      <td>52521</td>\n",
       "      <td>10729</td>\n",
       "      <td>5058</td>\n",
       "      <td>20.44</td>\n",
       "      <td>9.64</td>\n",
       "      <td>47.12</td>\n",
       "      <td>...</td>\n",
       "      <td>15.98</td>\n",
       "      <td>32.52</td>\n",
       "      <td>804.41</td>\n",
       "      <td>76.10</td>\n",
       "      <td>32.0</td>\n",
       "      <td>56.78</td>\n",
       "      <td>43.22</td>\n",
       "      <td>88.33</td>\n",
       "      <td>2012</td>\n",
       "      <td>0.096304</td>\n",
       "    </tr>\n",
       "  </tbody>\n",
       "</table>\n",
       "<p>5 rows × 21 columns</p>\n",
       "</div>"
      ],
      "text/plain": [
       "  Institution                                       course_title  \\\n",
       "0        MITx                           Circuits and Electronics   \n",
       "1        MITx   Introduction to Computer Science and Programming   \n",
       "2        MITx              Introduction to Solid State Chemistry   \n",
       "3    HarvardX                   Introduction to Computer Science   \n",
       "4    HarvardX  Health in Numbers: Quantitative Methods in Cli...   \n",
       "\n",
       "                                             subject  honor_code  \\\n",
       "0  Science, Technology, Engineering, and Mathematics           1   \n",
       "1                                   Computer Science           1   \n",
       "2  Science, Technology, Engineering, and Mathematics           1   \n",
       "3                                   Computer Science           1   \n",
       "4             Government, Health, and Social Science           1   \n",
       "\n",
       "   participants  attended_>50%  certified  %attended_>50%  %finish  \\\n",
       "0         36105           5431       3003           15.04     8.32   \n",
       "1         62709           8949       5783           14.27     9.22   \n",
       "2         16663           2855       2082           17.13    12.49   \n",
       "3        129400          12888       1439            9.96     1.11   \n",
       "4         52521          10729       5058           20.44     9.64   \n",
       "\n",
       "   %certified_<50%  ... %_forum_post  %_grade  tot_hours  median_hours  \\\n",
       "0            54.98  ...         8.17    28.97     418.94         64.45   \n",
       "1            64.05  ...        14.38    39.50     884.04         78.53   \n",
       "2            72.85  ...        14.42    34.89     227.55         61.28   \n",
       "3            11.11  ...         0.00     1.11     220.90          0.00   \n",
       "4            47.12  ...        15.98    32.52     804.41         76.10   \n",
       "\n",
       "   median_age  %_male  %_female  %_degree  Years %_certified  \n",
       "0        26.0   88.28     11.72     60.68   2012    0.083174  \n",
       "1        28.0   83.50     16.50     63.04   2012    0.092220  \n",
       "2        27.0   70.32     29.68     58.76   2012    0.124947  \n",
       "3        28.0   80.02     19.98     58.78   2012    0.011121  \n",
       "4        32.0   56.78     43.22     88.33   2012    0.096304  \n",
       "\n",
       "[5 rows x 21 columns]"
      ]
     },
     "execution_count": 24,
     "metadata": {},
     "output_type": "execute_result"
    }
   ],
   "source": [
    "online_courses[online_courses.Years == '2012']"
   ]
  },
  {
   "cell_type": "code",
   "execution_count": 25,
   "metadata": {},
   "outputs": [
    {
     "data": {
      "text/html": [
       "<div>\n",
       "<style scoped>\n",
       "    .dataframe tbody tr th:only-of-type {\n",
       "        vertical-align: middle;\n",
       "    }\n",
       "\n",
       "    .dataframe tbody tr th {\n",
       "        vertical-align: top;\n",
       "    }\n",
       "\n",
       "    .dataframe thead th {\n",
       "        text-align: right;\n",
       "    }\n",
       "</style>\n",
       "<table border=\"1\" class=\"dataframe\">\n",
       "  <thead>\n",
       "    <tr style=\"text-align: right;\">\n",
       "      <th></th>\n",
       "      <th>Institution</th>\n",
       "      <th>course_title</th>\n",
       "      <th>subject</th>\n",
       "      <th>honor_code</th>\n",
       "      <th>participants</th>\n",
       "      <th>attended_&gt;50%</th>\n",
       "      <th>certified</th>\n",
       "      <th>%attended_&gt;50%</th>\n",
       "      <th>%finish</th>\n",
       "      <th>%certified_&lt;50%</th>\n",
       "      <th>...</th>\n",
       "      <th>%_forum_post</th>\n",
       "      <th>%_grade</th>\n",
       "      <th>tot_hours</th>\n",
       "      <th>median_hours</th>\n",
       "      <th>median_age</th>\n",
       "      <th>%_male</th>\n",
       "      <th>%_female</th>\n",
       "      <th>%_degree</th>\n",
       "      <th>Years</th>\n",
       "      <th>%_certified</th>\n",
       "    </tr>\n",
       "  </thead>\n",
       "  <tbody>\n",
       "    <tr>\n",
       "      <th>1</th>\n",
       "      <td>MITx</td>\n",
       "      <td>Introduction to Computer Science and Programming</td>\n",
       "      <td>Computer Science</td>\n",
       "      <td>1</td>\n",
       "      <td>62709</td>\n",
       "      <td>8949</td>\n",
       "      <td>5783</td>\n",
       "      <td>14.27</td>\n",
       "      <td>9.22</td>\n",
       "      <td>64.05</td>\n",
       "      <td>...</td>\n",
       "      <td>14.38</td>\n",
       "      <td>39.50</td>\n",
       "      <td>884.04</td>\n",
       "      <td>78.53</td>\n",
       "      <td>28.0</td>\n",
       "      <td>83.50</td>\n",
       "      <td>16.50</td>\n",
       "      <td>63.04</td>\n",
       "      <td>2012</td>\n",
       "      <td>0.092220</td>\n",
       "    </tr>\n",
       "    <tr>\n",
       "      <th>5</th>\n",
       "      <td>MITx</td>\n",
       "      <td>Introduction to Computer Science and Programming</td>\n",
       "      <td>Computer Science</td>\n",
       "      <td>1</td>\n",
       "      <td>65380</td>\n",
       "      <td>6473</td>\n",
       "      <td>3313</td>\n",
       "      <td>9.90</td>\n",
       "      <td>5.07</td>\n",
       "      <td>51.17</td>\n",
       "      <td>...</td>\n",
       "      <td>10.30</td>\n",
       "      <td>28.90</td>\n",
       "      <td>639.40</td>\n",
       "      <td>84.14</td>\n",
       "      <td>27.0</td>\n",
       "      <td>83.99</td>\n",
       "      <td>16.01</td>\n",
       "      <td>60.90</td>\n",
       "      <td>2013</td>\n",
       "      <td>0.050673</td>\n",
       "    </tr>\n",
       "    <tr>\n",
       "      <th>27</th>\n",
       "      <td>MITx</td>\n",
       "      <td>Introduction to Computer Science and Programming</td>\n",
       "      <td>Computer Science</td>\n",
       "      <td>1</td>\n",
       "      <td>57147</td>\n",
       "      <td>8248</td>\n",
       "      <td>4975</td>\n",
       "      <td>14.43</td>\n",
       "      <td>8.71</td>\n",
       "      <td>60.23</td>\n",
       "      <td>...</td>\n",
       "      <td>9.47</td>\n",
       "      <td>43.16</td>\n",
       "      <td>523.56</td>\n",
       "      <td>53.05</td>\n",
       "      <td>28.0</td>\n",
       "      <td>82.95</td>\n",
       "      <td>17.05</td>\n",
       "      <td>62.73</td>\n",
       "      <td>2013</td>\n",
       "      <td>0.087056</td>\n",
       "    </tr>\n",
       "    <tr>\n",
       "      <th>41</th>\n",
       "      <td>MITx</td>\n",
       "      <td>Introduction to Computer Science and Programming</td>\n",
       "      <td>Computer Science</td>\n",
       "      <td>1</td>\n",
       "      <td>21063</td>\n",
       "      <td>3965</td>\n",
       "      <td>1920</td>\n",
       "      <td>18.82</td>\n",
       "      <td>9.12</td>\n",
       "      <td>48.40</td>\n",
       "      <td>...</td>\n",
       "      <td>9.28</td>\n",
       "      <td>43.66</td>\n",
       "      <td>188.51</td>\n",
       "      <td>48.42</td>\n",
       "      <td>27.0</td>\n",
       "      <td>83.51</td>\n",
       "      <td>16.49</td>\n",
       "      <td>63.46</td>\n",
       "      <td>2014</td>\n",
       "      <td>0.091155</td>\n",
       "    </tr>\n",
       "    <tr>\n",
       "      <th>63</th>\n",
       "      <td>MITx</td>\n",
       "      <td>Introduction to Computer Science and Programming</td>\n",
       "      <td>Computer Science</td>\n",
       "      <td>1</td>\n",
       "      <td>22148</td>\n",
       "      <td>4460</td>\n",
       "      <td>2307</td>\n",
       "      <td>20.14</td>\n",
       "      <td>10.42</td>\n",
       "      <td>51.70</td>\n",
       "      <td>...</td>\n",
       "      <td>10.81</td>\n",
       "      <td>48.86</td>\n",
       "      <td>232.93</td>\n",
       "      <td>49.69</td>\n",
       "      <td>27.0</td>\n",
       "      <td>81.69</td>\n",
       "      <td>18.31</td>\n",
       "      <td>61.96</td>\n",
       "      <td>2014</td>\n",
       "      <td>0.104163</td>\n",
       "    </tr>\n",
       "    <tr>\n",
       "      <th>69</th>\n",
       "      <td>MITx</td>\n",
       "      <td>Introduction to Computer Science and Programming</td>\n",
       "      <td>Computer Science</td>\n",
       "      <td>1</td>\n",
       "      <td>21017</td>\n",
       "      <td>4143</td>\n",
       "      <td>2127</td>\n",
       "      <td>19.71</td>\n",
       "      <td>10.12</td>\n",
       "      <td>51.34</td>\n",
       "      <td>...</td>\n",
       "      <td>9.70</td>\n",
       "      <td>50.09</td>\n",
       "      <td>206.46</td>\n",
       "      <td>48.26</td>\n",
       "      <td>27.0</td>\n",
       "      <td>83.23</td>\n",
       "      <td>16.77</td>\n",
       "      <td>65.39</td>\n",
       "      <td>2014</td>\n",
       "      <td>0.101204</td>\n",
       "    </tr>\n",
       "    <tr>\n",
       "      <th>153</th>\n",
       "      <td>MITx</td>\n",
       "      <td>Introduction to Computer Science and Programming</td>\n",
       "      <td>Computer Science</td>\n",
       "      <td>1</td>\n",
       "      <td>53964</td>\n",
       "      <td>9583</td>\n",
       "      <td>5243</td>\n",
       "      <td>17.76</td>\n",
       "      <td>9.72</td>\n",
       "      <td>54.68</td>\n",
       "      <td>...</td>\n",
       "      <td>7.60</td>\n",
       "      <td>49.00</td>\n",
       "      <td>895.01</td>\n",
       "      <td>86.65</td>\n",
       "      <td>25.0</td>\n",
       "      <td>78.53</td>\n",
       "      <td>21.47</td>\n",
       "      <td>64.59</td>\n",
       "      <td>2015</td>\n",
       "      <td>0.097157</td>\n",
       "    </tr>\n",
       "    <tr>\n",
       "      <th>275</th>\n",
       "      <td>MITx</td>\n",
       "      <td>Introduction to Computer Science and Programming</td>\n",
       "      <td>Computer Science</td>\n",
       "      <td>0</td>\n",
       "      <td>21212</td>\n",
       "      <td>3473</td>\n",
       "      <td>947</td>\n",
       "      <td>16.37</td>\n",
       "      <td>4.46</td>\n",
       "      <td>27.24</td>\n",
       "      <td>...</td>\n",
       "      <td>8.73</td>\n",
       "      <td>44.23</td>\n",
       "      <td>485.85</td>\n",
       "      <td>119.57</td>\n",
       "      <td>24.0</td>\n",
       "      <td>80.63</td>\n",
       "      <td>19.37</td>\n",
       "      <td>58.76</td>\n",
       "      <td>2016</td>\n",
       "      <td>0.044645</td>\n",
       "    </tr>\n",
       "  </tbody>\n",
       "</table>\n",
       "<p>8 rows × 21 columns</p>\n",
       "</div>"
      ],
      "text/plain": [
       "    Institution                                      course_title  \\\n",
       "1          MITx  Introduction to Computer Science and Programming   \n",
       "5          MITx  Introduction to Computer Science and Programming   \n",
       "27         MITx  Introduction to Computer Science and Programming   \n",
       "41         MITx  Introduction to Computer Science and Programming   \n",
       "63         MITx  Introduction to Computer Science and Programming   \n",
       "69         MITx  Introduction to Computer Science and Programming   \n",
       "153        MITx  Introduction to Computer Science and Programming   \n",
       "275        MITx  Introduction to Computer Science and Programming   \n",
       "\n",
       "              subject  honor_code  participants  attended_>50%  certified  \\\n",
       "1    Computer Science           1         62709           8949       5783   \n",
       "5    Computer Science           1         65380           6473       3313   \n",
       "27   Computer Science           1         57147           8248       4975   \n",
       "41   Computer Science           1         21063           3965       1920   \n",
       "63   Computer Science           1         22148           4460       2307   \n",
       "69   Computer Science           1         21017           4143       2127   \n",
       "153  Computer Science           1         53964           9583       5243   \n",
       "275  Computer Science           0         21212           3473        947   \n",
       "\n",
       "     %attended_>50%  %finish  %certified_<50%  ... %_forum_post  %_grade  \\\n",
       "1             14.27     9.22            64.05  ...        14.38    39.50   \n",
       "5              9.90     5.07            51.17  ...        10.30    28.90   \n",
       "27            14.43     8.71            60.23  ...         9.47    43.16   \n",
       "41            18.82     9.12            48.40  ...         9.28    43.66   \n",
       "63            20.14    10.42            51.70  ...        10.81    48.86   \n",
       "69            19.71    10.12            51.34  ...         9.70    50.09   \n",
       "153           17.76     9.72            54.68  ...         7.60    49.00   \n",
       "275           16.37     4.46            27.24  ...         8.73    44.23   \n",
       "\n",
       "     tot_hours  median_hours  median_age  %_male  %_female  %_degree  Years  \\\n",
       "1       884.04         78.53        28.0   83.50     16.50     63.04   2012   \n",
       "5       639.40         84.14        27.0   83.99     16.01     60.90   2013   \n",
       "27      523.56         53.05        28.0   82.95     17.05     62.73   2013   \n",
       "41      188.51         48.42        27.0   83.51     16.49     63.46   2014   \n",
       "63      232.93         49.69        27.0   81.69     18.31     61.96   2014   \n",
       "69      206.46         48.26        27.0   83.23     16.77     65.39   2014   \n",
       "153     895.01         86.65        25.0   78.53     21.47     64.59   2015   \n",
       "275     485.85        119.57        24.0   80.63     19.37     58.76   2016   \n",
       "\n",
       "    %_certified  \n",
       "1      0.092220  \n",
       "5      0.050673  \n",
       "27     0.087056  \n",
       "41     0.091155  \n",
       "63     0.104163  \n",
       "69     0.101204  \n",
       "153    0.097157  \n",
       "275    0.044645  \n",
       "\n",
       "[8 rows x 21 columns]"
      ]
     },
     "execution_count": 25,
     "metadata": {},
     "output_type": "execute_result"
    }
   ],
   "source": [
    "online_courses[online_courses.course_title == 'Introduction to Computer Science and Programming'] #MIT"
   ]
  },
  {
   "cell_type": "code",
   "execution_count": 26,
   "metadata": {},
   "outputs": [
    {
     "data": {
      "text/html": [
       "<div>\n",
       "<style scoped>\n",
       "    .dataframe tbody tr th:only-of-type {\n",
       "        vertical-align: middle;\n",
       "    }\n",
       "\n",
       "    .dataframe tbody tr th {\n",
       "        vertical-align: top;\n",
       "    }\n",
       "\n",
       "    .dataframe thead th {\n",
       "        text-align: right;\n",
       "    }\n",
       "</style>\n",
       "<table border=\"1\" class=\"dataframe\">\n",
       "  <thead>\n",
       "    <tr style=\"text-align: right;\">\n",
       "      <th></th>\n",
       "      <th>Institution</th>\n",
       "      <th>course_title</th>\n",
       "      <th>subject</th>\n",
       "      <th>honor_code</th>\n",
       "      <th>participants</th>\n",
       "      <th>attended_&gt;50%</th>\n",
       "      <th>certified</th>\n",
       "      <th>%attended_&gt;50%</th>\n",
       "      <th>%finish</th>\n",
       "      <th>%certified_&lt;50%</th>\n",
       "      <th>...</th>\n",
       "      <th>%_forum_post</th>\n",
       "      <th>%_grade</th>\n",
       "      <th>tot_hours</th>\n",
       "      <th>median_hours</th>\n",
       "      <th>median_age</th>\n",
       "      <th>%_male</th>\n",
       "      <th>%_female</th>\n",
       "      <th>%_degree</th>\n",
       "      <th>Years</th>\n",
       "      <th>%_certified</th>\n",
       "    </tr>\n",
       "  </thead>\n",
       "  <tbody>\n",
       "    <tr>\n",
       "      <th>43</th>\n",
       "      <td>MITx</td>\n",
       "      <td>The Analytics Edge</td>\n",
       "      <td>Government, Health, and Social Science</td>\n",
       "      <td>1</td>\n",
       "      <td>31391</td>\n",
       "      <td>4782</td>\n",
       "      <td>1790</td>\n",
       "      <td>15.23</td>\n",
       "      <td>5.70</td>\n",
       "      <td>37.43</td>\n",
       "      <td>...</td>\n",
       "      <td>6.68</td>\n",
       "      <td>21.51</td>\n",
       "      <td>313.27</td>\n",
       "      <td>81.94</td>\n",
       "      <td>31.0</td>\n",
       "      <td>81.00</td>\n",
       "      <td>19.00</td>\n",
       "      <td>87.62</td>\n",
       "      <td>2014</td>\n",
       "      <td>0.057023</td>\n",
       "    </tr>\n",
       "    <tr>\n",
       "      <th>127</th>\n",
       "      <td>MITx</td>\n",
       "      <td>The Analytics Edge</td>\n",
       "      <td>Government, Health, and Social Science</td>\n",
       "      <td>1</td>\n",
       "      <td>26776</td>\n",
       "      <td>5638</td>\n",
       "      <td>3101</td>\n",
       "      <td>21.06</td>\n",
       "      <td>11.58</td>\n",
       "      <td>55.00</td>\n",
       "      <td>...</td>\n",
       "      <td>10.66</td>\n",
       "      <td>50.42</td>\n",
       "      <td>648.95</td>\n",
       "      <td>119.51</td>\n",
       "      <td>31.0</td>\n",
       "      <td>80.71</td>\n",
       "      <td>19.29</td>\n",
       "      <td>86.68</td>\n",
       "      <td>2015</td>\n",
       "      <td>0.115813</td>\n",
       "    </tr>\n",
       "    <tr>\n",
       "      <th>151</th>\n",
       "      <td>MITx</td>\n",
       "      <td>The Analytics Edge</td>\n",
       "      <td>Government, Health, and Social Science</td>\n",
       "      <td>1</td>\n",
       "      <td>31551</td>\n",
       "      <td>5015</td>\n",
       "      <td>1950</td>\n",
       "      <td>15.89</td>\n",
       "      <td>6.18</td>\n",
       "      <td>38.88</td>\n",
       "      <td>...</td>\n",
       "      <td>5.98</td>\n",
       "      <td>30.91</td>\n",
       "      <td>547.35</td>\n",
       "      <td>120.10</td>\n",
       "      <td>28.0</td>\n",
       "      <td>81.25</td>\n",
       "      <td>18.75</td>\n",
       "      <td>84.94</td>\n",
       "      <td>2015</td>\n",
       "      <td>0.061805</td>\n",
       "    </tr>\n",
       "    <tr>\n",
       "      <th>257</th>\n",
       "      <td>MITx</td>\n",
       "      <td>The Analytics Edge</td>\n",
       "      <td>Government, Health, and Social Science</td>\n",
       "      <td>0</td>\n",
       "      <td>33044</td>\n",
       "      <td>5346</td>\n",
       "      <td>1417</td>\n",
       "      <td>16.18</td>\n",
       "      <td>4.29</td>\n",
       "      <td>26.51</td>\n",
       "      <td>...</td>\n",
       "      <td>8.73</td>\n",
       "      <td>35.78</td>\n",
       "      <td>710.96</td>\n",
       "      <td>135.79</td>\n",
       "      <td>29.0</td>\n",
       "      <td>80.37</td>\n",
       "      <td>19.63</td>\n",
       "      <td>85.90</td>\n",
       "      <td>2016</td>\n",
       "      <td>0.042882</td>\n",
       "    </tr>\n",
       "  </tbody>\n",
       "</table>\n",
       "<p>4 rows × 21 columns</p>\n",
       "</div>"
      ],
      "text/plain": [
       "    Institution        course_title                                 subject  \\\n",
       "43         MITx  The Analytics Edge  Government, Health, and Social Science   \n",
       "127        MITx  The Analytics Edge  Government, Health, and Social Science   \n",
       "151        MITx  The Analytics Edge  Government, Health, and Social Science   \n",
       "257        MITx  The Analytics Edge  Government, Health, and Social Science   \n",
       "\n",
       "     honor_code  participants  attended_>50%  certified  %attended_>50%  \\\n",
       "43            1         31391           4782       1790           15.23   \n",
       "127           1         26776           5638       3101           21.06   \n",
       "151           1         31551           5015       1950           15.89   \n",
       "257           0         33044           5346       1417           16.18   \n",
       "\n",
       "     %finish  %certified_<50%  ... %_forum_post  %_grade  tot_hours  \\\n",
       "43      5.70            37.43  ...         6.68    21.51     313.27   \n",
       "127    11.58            55.00  ...        10.66    50.42     648.95   \n",
       "151     6.18            38.88  ...         5.98    30.91     547.35   \n",
       "257     4.29            26.51  ...         8.73    35.78     710.96   \n",
       "\n",
       "     median_hours  median_age  %_male  %_female  %_degree  Years %_certified  \n",
       "43          81.94        31.0   81.00     19.00     87.62   2014    0.057023  \n",
       "127        119.51        31.0   80.71     19.29     86.68   2015    0.115813  \n",
       "151        120.10        28.0   81.25     18.75     84.94   2015    0.061805  \n",
       "257        135.79        29.0   80.37     19.63     85.90   2016    0.042882  \n",
       "\n",
       "[4 rows x 21 columns]"
      ]
     },
     "execution_count": 26,
     "metadata": {},
     "output_type": "execute_result"
    }
   ],
   "source": [
    "online_courses[online_courses.course_title == 'The Analytics Edge'] #MIT\n"
   ]
  },
  {
   "cell_type": "code",
   "execution_count": 27,
   "metadata": {},
   "outputs": [
    {
     "data": {
      "text/plain": [
       "array(['Circuits and Electronics',\n",
       "       'Introduction to Computer Science and Programming',\n",
       "       'Introduction to Solid State Chemistry',\n",
       "       'Introduction to Computer Science',\n",
       "       'Health in Numbers: Quantitative Methods in Clinical and Public Health Research',\n",
       "       'The Challenges of Global Poverty', 'Electricity and Magnetism',\n",
       "       'Justice', 'Introduction to Biology: Secret of Life',\n",
       "       'The Ancient Greek Hero', 'Elements of Structures',\n",
       "       'Human Health and Global Environmental Change', 'Mechanics ReView',\n",
       "       'Classical Mechanics', 'Innovation and Commercialization',\n",
       "       'Global Architecture',\n",
       "       'Central Challenges in American National Security, Strategy and the Press: An Introduction',\n",
       "       'Introduction to Philosophy: God, Knowledge and Consciousness',\n",
       "       'Science and Cooking: From Haute Cuisine to Soft Matter Science',\n",
       "       'Fundamentals of Clinical Trials', 'Dynamics and Control I',\n",
       "       'The Political and Intellectual Foundations of China',\n",
       "       'Poetry in America: The Poetry of Early New England',\n",
       "       'Health and Society',\n",
       "       'The Creation and End of a Centralized Empire',\n",
       "       'Early Christianity: The Letters of Paul',\n",
       "       'Poetry in America: Whitman', 'Building Mobile Experiences',\n",
       "       'Challenges of World Poverty',\n",
       "       'Introduction to Probability: The Science of Uncertainty',\n",
       "       'Cosmopolitan Tang: Aristocratic Culture',\n",
       "       'Global Warming Science',\n",
       "       'Global Health: Case Studies from a Biosocial Perspective',\n",
       "       'The Analytics Edge', 'Flight Vehicle Aerodynamics',\n",
       "       'Introduction to Computational Thinking and Data Science',\n",
       "       'Unlocking the Immunity to Change',\n",
       "       'Entrepreneurship 101: Who Is Your Customer?',\n",
       "       'A New National Culture',\n",
       "       'HarvardX for Alumni: Explorations in Learning',\n",
       "       'Innovating in Health Care', 'Evaluating Social Programs',\n",
       "       'Data Analysis for Genomics', 'United States Health Policy',\n",
       "       'Street Fighting Math', 'From Global Empire to Global Economy',\n",
       "       'Big Data and Social Physics', 'The Last Empire',\n",
       "       'Mechanics Review', 'Tangible Things',\n",
       "       'Quantitative Biology Workshop', 'Leaders of Learning',\n",
       "       'The Ancient Greek Hero in 24 Hours (Hours 1-5): Epic and Lyric',\n",
       "       'Visualizing Japan (1850s-1930s): Westernization, Protest, Modernity',\n",
       "       'Mechanical Behavior of Materials',\n",
       "       'Invasions, Rebellions, and the end of Imperial China',\n",
       "       'Saving Schools: History, Politics, and Policy of U.S. Education – History and Politics in U.S. Education',\n",
       "       'The Ancient Greek Hero in 24 Hours (Hours 6-11): Signs of the Hero in Epic and Iconography',\n",
       "       'Unlocking the Immunity to Change: A New Approach to Personal Improvement',\n",
       "       'Improving Global Health: Focusing on Quality and Safety',\n",
       "       'Effective Field Theory', 'A Global History of Architecture',\n",
       "       'AnatomyX: Musculoskeletal Cases',\n",
       "       'Supply Chain and Logistics Fundamentals',\n",
       "       'Underactuated Robotics',\n",
       "       'The Ancient Greek Hero in 24 Hours (Hours 12-15): Cult of Heroes',\n",
       "       'Design and Development of Educational Technology',\n",
       "       'Creating China: The Birth of a Nation',\n",
       "       'The Ancient Greek Hero in 24 Hours (Hours 16-21): The Hero in Tragedy',\n",
       "       'Poetry in America: Nature and Nation, American Poetry, 1700-1850',\n",
       "       'Introduction to Game Design',\n",
       "       'Saving Schools: History, Politics, and Policy in U.S. Education – Teacher Policies',\n",
       "       'Entrepreneurship and Healthcare in Emerging Economies',\n",
       "       'The Ancient Greek Hero: Plato and Beyond',\n",
       "       'Light, Spike, and Sight: The Neuroscience of Vision',\n",
       "       'Communist Liberations',\n",
       "       \"Greater China Today: The People's Republic, Taiwan, and Hong Kong\",\n",
       "       'Saving Schools: History, Politics, and Policy of U.S. Education – Accountability and National Standards',\n",
       "       'Poetry in America: Walt Whitman',\n",
       "       'Introduction to Computer Science and Programming Using Python',\n",
       "       'Transforming Business, Society, and Self',\n",
       "       'ContractsX: From Trust to Promise to Contract',\n",
       "       'Advanced Introductory Classical Mechanics',\n",
       "       'Entrepreneurship 102: What Can You Do For Your Customer?',\n",
       "       'Data Analysis for Genomics: Statistics and R for the Life Sciences',\n",
       "       'Discrete-Time Signal Processing',\n",
       "       'Saving Schools: History, Politics, and Policy in U.S. Education',\n",
       "       'Super-Earths and Life',\n",
       "       'Symmetry, Structure and Tensor Properties of Materials',\n",
       "       'Mastering Quantum Mechanics', 'The Einstein Revolution',\n",
       "       'Central Challenges in American National Security, Strategy and the Press',\n",
       "       'Introduction to Linear Models and Matrix Algebra',\n",
       "       'Advanced Statistics for the Life Sciences',\n",
       "       'Computation Structures: Digital Circuits',\n",
       "       'Introduction to Aerospace Engineering: Astronautics and Human Spaceflight',\n",
       "       'JuryX: Deliberations for Social Change',\n",
       "       'Molecular Biology: DNA Replication and Repair',\n",
       "       'Poetry in America: Emily Dickinson',\n",
       "       'The American Dream for the Next Generation',\n",
       "       'Introduction to Bioconductor',\n",
       "       'Design and Development of Games for Learning',\n",
       "       'Electrical, Optical and Magnetic Materials and Devices',\n",
       "       'Data Analysis for Genomics: Case Study, RNA Sequence Data Analysis',\n",
       "       'Data Analysis for Genomics: Case study, Variant Discovery and Genotyping',\n",
       "       'Data Analysis for Genomics: Case study, ChIP Sequence Data Analysis',\n",
       "       'Data Analysis for Genomics: Case study, DNA Methylation Data Analysis',\n",
       "       'Poetry in America: The Civil War and Its Aftermath',\n",
       "       'Introduction to Data Wise: A Collaborative Process to Improve Learning and Teaching',\n",
       "       'User Innovation: A Path to Entrepreneurship',\n",
       "       'Calculus: Differentiation', 'Paradox and Infinity',\n",
       "       'Making Science and Engineering Pictures: A Practical Guide to Presenting Your Work',\n",
       "       'Principles of Biochemistry',\n",
       "       'Making Biologic Medicines for Patients: The Principles of Biopharmaceutical Manufacturing',\n",
       "       'Implementation and Evaluation of Educational Technology',\n",
       "       'Introduction to American Government',\n",
       "       'Mechanical Behavior of Materials: Linear Elastic Behavior',\n",
       "       'History of the Book: Making and Meaning in the Medieval Manuscript',\n",
       "       'History of the Book: Scrolls in the Age of the Book',\n",
       "       'History of the Book: Print and Manuscript in Western Europe, Asia and the Middle East (1450-1650)',\n",
       "       'History of the Book: The History of the Book in the 17th and 18th Century Europe',\n",
       "       'History of the Book: Book Sleuthing: What 19th-Century Books Can Tell Us About the Rise of the Reading Public',\n",
       "       'History of the Book: Monasteries, Schools, and Notaries, Part 1: Reading the Late Medieval Marseille Archive',\n",
       "       'History of the Book: Monasteries, Schools, and Notaries, Part 2: Introduction to the Transitional Gothic Script',\n",
       "       'History of the Book: The Medieval Book of Hours: Art and Devotion in the Later Middle Ages',\n",
       "       'History of the Book: Books in the Medieval Liturgy',\n",
       "       'Foundations of Development Policy: Advanced Development Economics',\n",
       "       'Atomic and Optical Physics: Resonance',\n",
       "       'Introduction to Aerodynamics',\n",
       "       'Circuits and Electronics: Basic Circuit Analysis',\n",
       "       'Circuits and Electronics: Amplification, Speed, and Delay',\n",
       "       'Circuits and Electronics: Applications', 'Supply Chain Design',\n",
       "       'Saving Schools: History, Politics, and Policy of U.S. Education – Teacher Policies',\n",
       "       'Saving Schools: History, Politics, and Policy of U.S. Education – School Choice',\n",
       "       'Principles of Synthetic Biology',\n",
       "       'Mechanical Behavior of Materials: Stress Transformations, Beams, Columns, and Cellular Solids',\n",
       "       'Data Analysis for Genomics: Statistics and R',\n",
       "       'Atomic and Optical Physics: Atomic structure and atoms in external field',\n",
       "       'Political and Intellectual Foundations: From the Sage Kings to Confucius and the Legalists',\n",
       "       'The Creation and End of Centralized Empire',\n",
       "       'Literati China: Examinations and Neo-Confucianism',\n",
       "       'From a Global Empire under the Mongols to a Global Economy under the Ming Dynasty',\n",
       "       'Molecular Biology: Transcription and Transposition',\n",
       "       'The Manchus and the Qing Dynasty',\n",
       "       'Invasions, Rebellions and the Fall of Imperial China',\n",
       "       'Creating Modern China: The Birth of a Nation',\n",
       "       'China and Communism',\n",
       "       'Mechanical Behavior of Materials: Time Dependent Behavior and Failure',\n",
       "       'Data Analysis for Genomics: Matrix Algebra and Linear Models',\n",
       "       'First Nights: Handel’s Messiah and Baroque Oratorio',\n",
       "       'Atomic and Optical Physics: Atom-Light Interactions 1 -- Matrix elements and quantized field',\n",
       "       'Computation Structures: Computer Architecture',\n",
       "       'Philosophy: Minds and Machines', 'Calculus: Integration',\n",
       "       'Lessons from Ebola: Preventing the Next Pandemic',\n",
       "       'Atomic and Optical Physics: Atom-Light Interactions 2: Line Broadening and Two-Photon Transitions',\n",
       "       'Data Analysis for Genomics: Statistical Inference and Modeling for High-throughput Experiments',\n",
       "       'Introduction to Computer Science (2016)',\n",
       "       'Introduction to Feedback Control Theory',\n",
       "       'Contracts Law: From Trust to Promise to Contract',\n",
       "       'Data Analysis for Genomics: Introduction to High-Dimensional Data Analysis',\n",
       "       'Atomic and Optical Physics: Coherence',\n",
       "       'Practical Improvement Science in Health Care: A Roadmap for Getting Results',\n",
       "       \"First Nights: Beethoven's 9th Symphony\",\n",
       "       'Readings in Global Health', 'Becoming an Entrepreneur',\n",
       "       'Cellular Solids: Structures, Properties and Engineering Applications',\n",
       "       'Mobile Application Experiences: From a Domain to an App Idea',\n",
       "       'Data Analysis for Genomics: Introduction to Bioconductor: Annotation and Analysis of Genomes and Genomic Assays',\n",
       "       'Mastering Quantum Mechanics: Wave Mechanics',\n",
       "       'Global Health Case Studies from a Biosocial Perspective',\n",
       "       'Mobile Application Experiences: Mobile App Design',\n",
       "       'World Religions Through their Scriptures: Religious Literacy, Traditions and Scriptures',\n",
       "       'Data Analysis for Genomics: High-performance Computing for Reproducible Genomics',\n",
       "       'Mastering Quantum Mechanics: Quantum Dynamics',\n",
       "       'Mobile Application Experiences: Building Mobile Apps',\n",
       "       'Shaping the Future of Work',\n",
       "       'Calculus: Coordinate Systems and Infinite Series',\n",
       "       'World Religions Through their Scriptures: Christianity',\n",
       "       'Poetry in America: Modernism',\n",
       "       'Cellular Solids: Applications in Medicine',\n",
       "       'Data Analysis for Genomics: Case Studies in Functional Genomics',\n",
       "       'Just Money: Banking as if Society Mattered',\n",
       "       'Mobile Application Experiences: Understanding Use',\n",
       "       'Mastering Quantum Mechanics: Entanglement and Angular Momentum',\n",
       "       \"First Nights: L'Orfeo\",\n",
       "       'World Religions Through their Scriptures: Buddhism',\n",
       "       'Cellular Solids: Applications in Nature',\n",
       "       'Mobile Application Experiences: Reporting Research Findings',\n",
       "       'Cell Biology: Mitochondria', 'Electronic Materials and Devices',\n",
       "       'World Religions Through Their Scriptures: Islam',\n",
       "       'Energy Within Environmental Constraints',\n",
       "       'Optical Materials and Devices',\n",
       "       'World Religions Through their Scriptures: Hinduism',\n",
       "       'First Nights: Symphonie Fantastique',\n",
       "       'Introduction to Family Engagement in Education',\n",
       "       'Introduction to Control System Design',\n",
       "       'Introduction to State Space Control',\n",
       "       'Magnetic Materials and Devices'], dtype=object)"
      ]
     },
     "execution_count": 27,
     "metadata": {},
     "output_type": "execute_result"
    }
   ],
   "source": [
    "online_courses.course_title.unique()"
   ]
  },
  {
   "cell_type": "code",
   "execution_count": 28,
   "metadata": {},
   "outputs": [
    {
     "data": {
      "text/html": [
       "<div>\n",
       "<style scoped>\n",
       "    .dataframe tbody tr th:only-of-type {\n",
       "        vertical-align: middle;\n",
       "    }\n",
       "\n",
       "    .dataframe tbody tr th {\n",
       "        vertical-align: top;\n",
       "    }\n",
       "\n",
       "    .dataframe thead th {\n",
       "        text-align: right;\n",
       "    }\n",
       "</style>\n",
       "<table border=\"1\" class=\"dataframe\">\n",
       "  <thead>\n",
       "    <tr style=\"text-align: right;\">\n",
       "      <th></th>\n",
       "      <th>Institution</th>\n",
       "      <th>course_title</th>\n",
       "      <th>subject</th>\n",
       "      <th>honor_code</th>\n",
       "      <th>participants</th>\n",
       "      <th>attended_&gt;50%</th>\n",
       "      <th>certified</th>\n",
       "      <th>%attended_&gt;50%</th>\n",
       "      <th>%finish</th>\n",
       "      <th>%certified_&lt;50%</th>\n",
       "      <th>...</th>\n",
       "      <th>%_forum_post</th>\n",
       "      <th>%_grade</th>\n",
       "      <th>tot_hours</th>\n",
       "      <th>median_hours</th>\n",
       "      <th>median_age</th>\n",
       "      <th>%_male</th>\n",
       "      <th>%_female</th>\n",
       "      <th>%_degree</th>\n",
       "      <th>Years</th>\n",
       "      <th>%_certified</th>\n",
       "    </tr>\n",
       "  </thead>\n",
       "  <tbody>\n",
       "    <tr>\n",
       "      <th>3</th>\n",
       "      <td>HarvardX</td>\n",
       "      <td>Introduction to Computer Science</td>\n",
       "      <td>Computer Science</td>\n",
       "      <td>1</td>\n",
       "      <td>129400</td>\n",
       "      <td>12888</td>\n",
       "      <td>1439</td>\n",
       "      <td>9.96</td>\n",
       "      <td>1.11</td>\n",
       "      <td>11.11</td>\n",
       "      <td>...</td>\n",
       "      <td>0.0</td>\n",
       "      <td>1.11</td>\n",
       "      <td>220.90</td>\n",
       "      <td>0.0</td>\n",
       "      <td>28.0</td>\n",
       "      <td>80.02</td>\n",
       "      <td>19.98</td>\n",
       "      <td>58.78</td>\n",
       "      <td>2012</td>\n",
       "      <td>0.011121</td>\n",
       "    </tr>\n",
       "    <tr>\n",
       "      <th>32</th>\n",
       "      <td>HarvardX</td>\n",
       "      <td>Introduction to Computer Science</td>\n",
       "      <td>Computer Science</td>\n",
       "      <td>1</td>\n",
       "      <td>259577</td>\n",
       "      <td>22894</td>\n",
       "      <td>1208</td>\n",
       "      <td>8.82</td>\n",
       "      <td>0.47</td>\n",
       "      <td>5.24</td>\n",
       "      <td>...</td>\n",
       "      <td>0.0</td>\n",
       "      <td>0.00</td>\n",
       "      <td>853.36</td>\n",
       "      <td>0.0</td>\n",
       "      <td>27.0</td>\n",
       "      <td>77.89</td>\n",
       "      <td>22.11</td>\n",
       "      <td>54.82</td>\n",
       "      <td>2014</td>\n",
       "      <td>0.004654</td>\n",
       "    </tr>\n",
       "    <tr>\n",
       "      <th>99</th>\n",
       "      <td>HarvardX</td>\n",
       "      <td>Introduction to Computer Science</td>\n",
       "      <td>Computer Science</td>\n",
       "      <td>1</td>\n",
       "      <td>301082</td>\n",
       "      <td>25637</td>\n",
       "      <td>1523</td>\n",
       "      <td>8.51</td>\n",
       "      <td>0.51</td>\n",
       "      <td>5.45</td>\n",
       "      <td>...</td>\n",
       "      <td>0.0</td>\n",
       "      <td>0.00</td>\n",
       "      <td>275.96</td>\n",
       "      <td>0.0</td>\n",
       "      <td>25.0</td>\n",
       "      <td>77.68</td>\n",
       "      <td>22.32</td>\n",
       "      <td>51.95</td>\n",
       "      <td>2015</td>\n",
       "      <td>0.005058</td>\n",
       "    </tr>\n",
       "  </tbody>\n",
       "</table>\n",
       "<p>3 rows × 21 columns</p>\n",
       "</div>"
      ],
      "text/plain": [
       "   Institution                      course_title           subject  \\\n",
       "3     HarvardX  Introduction to Computer Science  Computer Science   \n",
       "32    HarvardX  Introduction to Computer Science  Computer Science   \n",
       "99    HarvardX  Introduction to Computer Science  Computer Science   \n",
       "\n",
       "    honor_code  participants  attended_>50%  certified  %attended_>50%  \\\n",
       "3            1        129400          12888       1439            9.96   \n",
       "32           1        259577          22894       1208            8.82   \n",
       "99           1        301082          25637       1523            8.51   \n",
       "\n",
       "    %finish  %certified_<50%  ... %_forum_post  %_grade  tot_hours  \\\n",
       "3      1.11            11.11  ...          0.0     1.11     220.90   \n",
       "32     0.47             5.24  ...          0.0     0.00     853.36   \n",
       "99     0.51             5.45  ...          0.0     0.00     275.96   \n",
       "\n",
       "    median_hours  median_age  %_male  %_female  %_degree  Years %_certified  \n",
       "3            0.0        28.0   80.02     19.98     58.78   2012    0.011121  \n",
       "32           0.0        27.0   77.89     22.11     54.82   2014    0.004654  \n",
       "99           0.0        25.0   77.68     22.32     51.95   2015    0.005058  \n",
       "\n",
       "[3 rows x 21 columns]"
      ]
     },
     "execution_count": 28,
     "metadata": {},
     "output_type": "execute_result"
    }
   ],
   "source": [
    "online_courses[online_courses.course_title == 'Introduction to Computer Science'] #Harvard"
   ]
  },
  {
   "cell_type": "code",
   "execution_count": 29,
   "metadata": {},
   "outputs": [
    {
     "data": {
      "text/html": [
       "<div>\n",
       "<style scoped>\n",
       "    .dataframe tbody tr th:only-of-type {\n",
       "        vertical-align: middle;\n",
       "    }\n",
       "\n",
       "    .dataframe tbody tr th {\n",
       "        vertical-align: top;\n",
       "    }\n",
       "\n",
       "    .dataframe thead th {\n",
       "        text-align: right;\n",
       "    }\n",
       "</style>\n",
       "<table border=\"1\" class=\"dataframe\">\n",
       "  <thead>\n",
       "    <tr style=\"text-align: right;\">\n",
       "      <th></th>\n",
       "      <th>Institution</th>\n",
       "      <th>course_title</th>\n",
       "      <th>subject</th>\n",
       "      <th>honor_code</th>\n",
       "      <th>participants</th>\n",
       "      <th>attended_&gt;50%</th>\n",
       "      <th>certified</th>\n",
       "      <th>%attended_&gt;50%</th>\n",
       "      <th>%finish</th>\n",
       "      <th>%certified_&lt;50%</th>\n",
       "      <th>...</th>\n",
       "      <th>%_forum_post</th>\n",
       "      <th>%_grade</th>\n",
       "      <th>tot_hours</th>\n",
       "      <th>median_hours</th>\n",
       "      <th>median_age</th>\n",
       "      <th>%_male</th>\n",
       "      <th>%_female</th>\n",
       "      <th>%_degree</th>\n",
       "      <th>Years</th>\n",
       "      <th>%_certified</th>\n",
       "    </tr>\n",
       "  </thead>\n",
       "  <tbody>\n",
       "    <tr>\n",
       "      <th>0</th>\n",
       "      <td>MITx</td>\n",
       "      <td>Circuits and Electronics</td>\n",
       "      <td>Science, Technology, Engineering, and Mathematics</td>\n",
       "      <td>1</td>\n",
       "      <td>36105</td>\n",
       "      <td>5431</td>\n",
       "      <td>3003</td>\n",
       "      <td>15.04</td>\n",
       "      <td>8.32</td>\n",
       "      <td>54.98</td>\n",
       "      <td>...</td>\n",
       "      <td>8.17</td>\n",
       "      <td>28.97</td>\n",
       "      <td>418.94</td>\n",
       "      <td>64.45</td>\n",
       "      <td>26.0</td>\n",
       "      <td>88.28</td>\n",
       "      <td>11.72</td>\n",
       "      <td>60.68</td>\n",
       "      <td>2012</td>\n",
       "      <td>0.083174</td>\n",
       "    </tr>\n",
       "    <tr>\n",
       "      <th>10</th>\n",
       "      <td>MITx</td>\n",
       "      <td>Circuits and Electronics</td>\n",
       "      <td>Science, Technology, Engineering, and Mathematics</td>\n",
       "      <td>1</td>\n",
       "      <td>16752</td>\n",
       "      <td>1769</td>\n",
       "      <td>1103</td>\n",
       "      <td>10.56</td>\n",
       "      <td>6.58</td>\n",
       "      <td>61.16</td>\n",
       "      <td>...</td>\n",
       "      <td>5.68</td>\n",
       "      <td>22.47</td>\n",
       "      <td>148.54</td>\n",
       "      <td>59.39</td>\n",
       "      <td>25.0</td>\n",
       "      <td>88.88</td>\n",
       "      <td>11.12</td>\n",
       "      <td>59.51</td>\n",
       "      <td>2013</td>\n",
       "      <td>0.065843</td>\n",
       "    </tr>\n",
       "    <tr>\n",
       "      <th>26</th>\n",
       "      <td>MITx</td>\n",
       "      <td>Circuits and Electronics</td>\n",
       "      <td>Science, Technology, Engineering, and Mathematics</td>\n",
       "      <td>1</td>\n",
       "      <td>21387</td>\n",
       "      <td>1269</td>\n",
       "      <td>379</td>\n",
       "      <td>5.93</td>\n",
       "      <td>1.77</td>\n",
       "      <td>29.47</td>\n",
       "      <td>...</td>\n",
       "      <td>3.18</td>\n",
       "      <td>10.04</td>\n",
       "      <td>117.84</td>\n",
       "      <td>81.11</td>\n",
       "      <td>25.0</td>\n",
       "      <td>89.29</td>\n",
       "      <td>10.71</td>\n",
       "      <td>57.18</td>\n",
       "      <td>2013</td>\n",
       "      <td>0.017721</td>\n",
       "    </tr>\n",
       "    <tr>\n",
       "      <th>68</th>\n",
       "      <td>MITx</td>\n",
       "      <td>Circuits and Electronics</td>\n",
       "      <td>Science, Technology, Engineering, and Mathematics</td>\n",
       "      <td>1</td>\n",
       "      <td>19263</td>\n",
       "      <td>1300</td>\n",
       "      <td>482</td>\n",
       "      <td>6.75</td>\n",
       "      <td>2.50</td>\n",
       "      <td>36.38</td>\n",
       "      <td>...</td>\n",
       "      <td>4.96</td>\n",
       "      <td>15.98</td>\n",
       "      <td>129.34</td>\n",
       "      <td>95.58</td>\n",
       "      <td>25.0</td>\n",
       "      <td>88.07</td>\n",
       "      <td>11.93</td>\n",
       "      <td>56.39</td>\n",
       "      <td>2014</td>\n",
       "      <td>0.025022</td>\n",
       "    </tr>\n",
       "    <tr>\n",
       "      <th>112</th>\n",
       "      <td>MITx</td>\n",
       "      <td>Circuits and Electronics</td>\n",
       "      <td>Science, Technology, Engineering, and Mathematics</td>\n",
       "      <td>1</td>\n",
       "      <td>22828</td>\n",
       "      <td>886</td>\n",
       "      <td>202</td>\n",
       "      <td>3.88</td>\n",
       "      <td>0.88</td>\n",
       "      <td>22.35</td>\n",
       "      <td>...</td>\n",
       "      <td>2.43</td>\n",
       "      <td>7.20</td>\n",
       "      <td>99.42</td>\n",
       "      <td>114.37</td>\n",
       "      <td>25.0</td>\n",
       "      <td>88.09</td>\n",
       "      <td>11.91</td>\n",
       "      <td>54.57</td>\n",
       "      <td>2015</td>\n",
       "      <td>0.008849</td>\n",
       "    </tr>\n",
       "  </tbody>\n",
       "</table>\n",
       "<p>5 rows × 21 columns</p>\n",
       "</div>"
      ],
      "text/plain": [
       "    Institution              course_title  \\\n",
       "0          MITx  Circuits and Electronics   \n",
       "10         MITx  Circuits and Electronics   \n",
       "26         MITx  Circuits and Electronics   \n",
       "68         MITx  Circuits and Electronics   \n",
       "112        MITx  Circuits and Electronics   \n",
       "\n",
       "                                               subject  honor_code  \\\n",
       "0    Science, Technology, Engineering, and Mathematics           1   \n",
       "10   Science, Technology, Engineering, and Mathematics           1   \n",
       "26   Science, Technology, Engineering, and Mathematics           1   \n",
       "68   Science, Technology, Engineering, and Mathematics           1   \n",
       "112  Science, Technology, Engineering, and Mathematics           1   \n",
       "\n",
       "     participants  attended_>50%  certified  %attended_>50%  %finish  \\\n",
       "0           36105           5431       3003           15.04     8.32   \n",
       "10          16752           1769       1103           10.56     6.58   \n",
       "26          21387           1269        379            5.93     1.77   \n",
       "68          19263           1300        482            6.75     2.50   \n",
       "112         22828            886        202            3.88     0.88   \n",
       "\n",
       "     %certified_<50%  ... %_forum_post  %_grade  tot_hours  median_hours  \\\n",
       "0              54.98  ...         8.17    28.97     418.94         64.45   \n",
       "10             61.16  ...         5.68    22.47     148.54         59.39   \n",
       "26             29.47  ...         3.18    10.04     117.84         81.11   \n",
       "68             36.38  ...         4.96    15.98     129.34         95.58   \n",
       "112            22.35  ...         2.43     7.20      99.42        114.37   \n",
       "\n",
       "     median_age  %_male  %_female  %_degree  Years %_certified  \n",
       "0          26.0   88.28     11.72     60.68   2012    0.083174  \n",
       "10         25.0   88.88     11.12     59.51   2013    0.065843  \n",
       "26         25.0   89.29     10.71     57.18   2013    0.017721  \n",
       "68         25.0   88.07     11.93     56.39   2014    0.025022  \n",
       "112        25.0   88.09     11.91     54.57   2015    0.008849  \n",
       "\n",
       "[5 rows x 21 columns]"
      ]
     },
     "execution_count": 29,
     "metadata": {},
     "output_type": "execute_result"
    }
   ],
   "source": [
    "online_courses[online_courses.course_title == 'Circuits and Electronics'] #MIT"
   ]
  },
  {
   "cell_type": "code",
   "execution_count": 30,
   "metadata": {},
   "outputs": [
    {
     "data": {
      "text/html": [
       "<div>\n",
       "<style scoped>\n",
       "    .dataframe tbody tr th:only-of-type {\n",
       "        vertical-align: middle;\n",
       "    }\n",
       "\n",
       "    .dataframe tbody tr th {\n",
       "        vertical-align: top;\n",
       "    }\n",
       "\n",
       "    .dataframe thead th {\n",
       "        text-align: right;\n",
       "    }\n",
       "</style>\n",
       "<table border=\"1\" class=\"dataframe\">\n",
       "  <thead>\n",
       "    <tr style=\"text-align: right;\">\n",
       "      <th></th>\n",
       "      <th>Institution</th>\n",
       "      <th>course_title</th>\n",
       "      <th>subject</th>\n",
       "      <th>honor_code</th>\n",
       "      <th>participants</th>\n",
       "      <th>attended_&gt;50%</th>\n",
       "      <th>certified</th>\n",
       "      <th>%attended_&gt;50%</th>\n",
       "      <th>%finish</th>\n",
       "      <th>%certified_&lt;50%</th>\n",
       "      <th>...</th>\n",
       "      <th>%_forum_post</th>\n",
       "      <th>%_grade</th>\n",
       "      <th>tot_hours</th>\n",
       "      <th>median_hours</th>\n",
       "      <th>median_age</th>\n",
       "      <th>%_male</th>\n",
       "      <th>%_female</th>\n",
       "      <th>%_degree</th>\n",
       "      <th>Years</th>\n",
       "      <th>%_certified</th>\n",
       "    </tr>\n",
       "  </thead>\n",
       "  <tbody>\n",
       "    <tr>\n",
       "      <th>9</th>\n",
       "      <td>HarvardX</td>\n",
       "      <td>Justice</td>\n",
       "      <td>Humanities, History, Design, Religion, and Edu...</td>\n",
       "      <td>1</td>\n",
       "      <td>58779</td>\n",
       "      <td>9425</td>\n",
       "      <td>5438</td>\n",
       "      <td>16.05</td>\n",
       "      <td>9.26</td>\n",
       "      <td>51.07</td>\n",
       "      <td>...</td>\n",
       "      <td>21.86</td>\n",
       "      <td>20.98</td>\n",
       "      <td>186.61</td>\n",
       "      <td>13.67</td>\n",
       "      <td>30.0</td>\n",
       "      <td>60.42</td>\n",
       "      <td>39.58</td>\n",
       "      <td>69.78</td>\n",
       "      <td>2013</td>\n",
       "      <td>0.092516</td>\n",
       "    </tr>\n",
       "    <tr>\n",
       "      <th>54</th>\n",
       "      <td>HarvardX</td>\n",
       "      <td>Justice</td>\n",
       "      <td>Humanities, History, Design, Religion, and Edu...</td>\n",
       "      <td>1</td>\n",
       "      <td>35409</td>\n",
       "      <td>4767</td>\n",
       "      <td>2485</td>\n",
       "      <td>13.47</td>\n",
       "      <td>7.02</td>\n",
       "      <td>45.69</td>\n",
       "      <td>...</td>\n",
       "      <td>19.05</td>\n",
       "      <td>17.85</td>\n",
       "      <td>145.01</td>\n",
       "      <td>20.13</td>\n",
       "      <td>29.0</td>\n",
       "      <td>58.00</td>\n",
       "      <td>42.00</td>\n",
       "      <td>67.17</td>\n",
       "      <td>2014</td>\n",
       "      <td>0.070180</td>\n",
       "    </tr>\n",
       "    <tr>\n",
       "      <th>189</th>\n",
       "      <td>HarvardX</td>\n",
       "      <td>Justice</td>\n",
       "      <td>Humanities, History, Design, Religion, and Edu...</td>\n",
       "      <td>1</td>\n",
       "      <td>30699</td>\n",
       "      <td>3607</td>\n",
       "      <td>1726</td>\n",
       "      <td>11.75</td>\n",
       "      <td>5.62</td>\n",
       "      <td>45.77</td>\n",
       "      <td>...</td>\n",
       "      <td>10.50</td>\n",
       "      <td>20.25</td>\n",
       "      <td>109.74</td>\n",
       "      <td>16.72</td>\n",
       "      <td>26.0</td>\n",
       "      <td>57.56</td>\n",
       "      <td>42.44</td>\n",
       "      <td>66.50</td>\n",
       "      <td>2015</td>\n",
       "      <td>0.056223</td>\n",
       "    </tr>\n",
       "  </tbody>\n",
       "</table>\n",
       "<p>3 rows × 21 columns</p>\n",
       "</div>"
      ],
      "text/plain": [
       "    Institution course_title  \\\n",
       "9      HarvardX      Justice   \n",
       "54     HarvardX      Justice   \n",
       "189    HarvardX      Justice   \n",
       "\n",
       "                                               subject  honor_code  \\\n",
       "9    Humanities, History, Design, Religion, and Edu...           1   \n",
       "54   Humanities, History, Design, Religion, and Edu...           1   \n",
       "189  Humanities, History, Design, Religion, and Edu...           1   \n",
       "\n",
       "     participants  attended_>50%  certified  %attended_>50%  %finish  \\\n",
       "9           58779           9425       5438           16.05     9.26   \n",
       "54          35409           4767       2485           13.47     7.02   \n",
       "189         30699           3607       1726           11.75     5.62   \n",
       "\n",
       "     %certified_<50%  ... %_forum_post  %_grade  tot_hours  median_hours  \\\n",
       "9              51.07  ...        21.86    20.98     186.61         13.67   \n",
       "54             45.69  ...        19.05    17.85     145.01         20.13   \n",
       "189            45.77  ...        10.50    20.25     109.74         16.72   \n",
       "\n",
       "     median_age  %_male  %_female  %_degree  Years %_certified  \n",
       "9          30.0   60.42     39.58     69.78   2013    0.092516  \n",
       "54         29.0   58.00     42.00     67.17   2014    0.070180  \n",
       "189        26.0   57.56     42.44     66.50   2015    0.056223  \n",
       "\n",
       "[3 rows x 21 columns]"
      ]
     },
     "execution_count": 30,
     "metadata": {},
     "output_type": "execute_result"
    }
   ],
   "source": [
    "online_courses[online_courses.course_title == \"Justice\"]"
   ]
  },
  {
   "cell_type": "code",
   "execution_count": 32,
   "metadata": {},
   "outputs": [
    {
     "data": {
      "text/html": [
       "<div>\n",
       "<style scoped>\n",
       "    .dataframe tbody tr th:only-of-type {\n",
       "        vertical-align: middle;\n",
       "    }\n",
       "\n",
       "    .dataframe tbody tr th {\n",
       "        vertical-align: top;\n",
       "    }\n",
       "\n",
       "    .dataframe thead th {\n",
       "        text-align: right;\n",
       "    }\n",
       "</style>\n",
       "<table border=\"1\" class=\"dataframe\">\n",
       "  <thead>\n",
       "    <tr style=\"text-align: right;\">\n",
       "      <th></th>\n",
       "      <th>Institution</th>\n",
       "      <th>course_title</th>\n",
       "      <th>subject</th>\n",
       "      <th>honor_code</th>\n",
       "      <th>participants</th>\n",
       "      <th>attended_&gt;50%</th>\n",
       "      <th>certified</th>\n",
       "      <th>%attended_&gt;50%</th>\n",
       "      <th>%finish</th>\n",
       "      <th>%certified_&lt;50%</th>\n",
       "      <th>...</th>\n",
       "      <th>%_forum_post</th>\n",
       "      <th>%_grade</th>\n",
       "      <th>tot_hours</th>\n",
       "      <th>median_hours</th>\n",
       "      <th>median_age</th>\n",
       "      <th>%_male</th>\n",
       "      <th>%_female</th>\n",
       "      <th>%_degree</th>\n",
       "      <th>Years</th>\n",
       "      <th>%_certified</th>\n",
       "    </tr>\n",
       "  </thead>\n",
       "  <tbody>\n",
       "  </tbody>\n",
       "</table>\n",
       "<p>0 rows × 21 columns</p>\n",
       "</div>"
      ],
      "text/plain": [
       "Empty DataFrame\n",
       "Columns: [Institution, course_title, subject, honor_code, participants, attended_>50%, certified, %attended_>50%, %finish, %certified_<50%, %_video_played, %_forum_post, %_grade, tot_hours, median_hours, median_age, %_male, %_female, %_degree, Years, %_certified]\n",
       "Index: []\n",
       "\n",
       "[0 rows x 21 columns]"
      ]
     },
     "execution_count": 32,
     "metadata": {},
     "output_type": "execute_result"
    }
   ],
   "source": [
    "online_courses[online_courses.course_title == \"Entrepreneurship 101: Who Is Your Cutomer?\"]"
   ]
  },
  {
   "cell_type": "markdown",
   "metadata": {},
   "source": [
    "# Analysis"
   ]
  },
  {
   "cell_type": "markdown",
   "metadata": {},
   "source": [
    "# More people quit before reaching 50% of the course than after"
   ]
  },
  {
   "cell_type": "code",
   "execution_count": 33,
   "metadata": {},
   "outputs": [],
   "source": [
    "certified_inst = pd.pivot_table(online_courses, index=[\"Institution\"], values = (\"participants\", \"certified\", \"attended_>50%\", \"%_certified\"), aggfunc= \"sum\")\n"
   ]
  },
  {
   "cell_type": "code",
   "execution_count": 34,
   "metadata": {},
   "outputs": [
    {
     "data": {
      "text/html": [
       "<div>\n",
       "<style scoped>\n",
       "    .dataframe tbody tr th:only-of-type {\n",
       "        vertical-align: middle;\n",
       "    }\n",
       "\n",
       "    .dataframe tbody tr th {\n",
       "        vertical-align: top;\n",
       "    }\n",
       "\n",
       "    .dataframe thead th {\n",
       "        text-align: right;\n",
       "    }\n",
       "</style>\n",
       "<table border=\"1\" class=\"dataframe\">\n",
       "  <thead>\n",
       "    <tr style=\"text-align: right;\">\n",
       "      <th></th>\n",
       "      <th>%_certified</th>\n",
       "      <th>attended_&gt;50%</th>\n",
       "      <th>certified</th>\n",
       "      <th>participants</th>\n",
       "    </tr>\n",
       "    <tr>\n",
       "      <th>Institution</th>\n",
       "      <th></th>\n",
       "      <th></th>\n",
       "      <th></th>\n",
       "      <th></th>\n",
       "    </tr>\n",
       "  </thead>\n",
       "  <tbody>\n",
       "    <tr>\n",
       "      <th>HarvardX</th>\n",
       "      <td>14.106414</td>\n",
       "      <td>366161</td>\n",
       "      <td>107995</td>\n",
       "      <td>2101121</td>\n",
       "    </tr>\n",
       "    <tr>\n",
       "      <th>MITx</th>\n",
       "      <td>8.454408</td>\n",
       "      <td>373099</td>\n",
       "      <td>136710</td>\n",
       "      <td>2348736</td>\n",
       "    </tr>\n",
       "  </tbody>\n",
       "</table>\n",
       "</div>"
      ],
      "text/plain": [
       "             %_certified  attended_>50%  certified  participants\n",
       "Institution                                                     \n",
       "HarvardX       14.106414         366161     107995       2101121\n",
       "MITx            8.454408         373099     136710       2348736"
      ]
     },
     "execution_count": 34,
     "metadata": {},
     "output_type": "execute_result"
    }
   ],
   "source": [
    "certified_inst"
   ]
  },
  {
   "cell_type": "code",
   "execution_count": 35,
   "metadata": {},
   "outputs": [],
   "source": [
    "#certified_inst[\"%_certified\"] = (certified_inst[\"certified\"]/certified_inst[\"participants\"])*100"
   ]
  },
  {
   "cell_type": "code",
   "execution_count": 36,
   "metadata": {},
   "outputs": [],
   "source": [
    "#certified_inst[\"%_attended_>50%\"] = (certified_inst[\"attended_>50%\"]/certified_inst[\"participants\"])*100"
   ]
  },
  {
   "cell_type": "code",
   "execution_count": 37,
   "metadata": {},
   "outputs": [
    {
     "data": {
      "text/html": [
       "<div>\n",
       "<style scoped>\n",
       "    .dataframe tbody tr th:only-of-type {\n",
       "        vertical-align: middle;\n",
       "    }\n",
       "\n",
       "    .dataframe tbody tr th {\n",
       "        vertical-align: top;\n",
       "    }\n",
       "\n",
       "    .dataframe thead th {\n",
       "        text-align: right;\n",
       "    }\n",
       "</style>\n",
       "<table border=\"1\" class=\"dataframe\">\n",
       "  <thead>\n",
       "    <tr style=\"text-align: right;\">\n",
       "      <th></th>\n",
       "      <th>Institution</th>\n",
       "      <th>%_certified</th>\n",
       "      <th>attended_&gt;50%</th>\n",
       "      <th>certified</th>\n",
       "      <th>participants</th>\n",
       "    </tr>\n",
       "  </thead>\n",
       "  <tbody>\n",
       "    <tr>\n",
       "      <th>0</th>\n",
       "      <td>HarvardX</td>\n",
       "      <td>14.106414</td>\n",
       "      <td>366161</td>\n",
       "      <td>107995</td>\n",
       "      <td>2101121</td>\n",
       "    </tr>\n",
       "    <tr>\n",
       "      <th>1</th>\n",
       "      <td>MITx</td>\n",
       "      <td>8.454408</td>\n",
       "      <td>373099</td>\n",
       "      <td>136710</td>\n",
       "      <td>2348736</td>\n",
       "    </tr>\n",
       "  </tbody>\n",
       "</table>\n",
       "</div>"
      ],
      "text/plain": [
       "  Institution  %_certified  attended_>50%  certified  participants\n",
       "0    HarvardX    14.106414         366161     107995       2101121\n",
       "1        MITx     8.454408         373099     136710       2348736"
      ]
     },
     "execution_count": 37,
     "metadata": {},
     "output_type": "execute_result"
    }
   ],
   "source": [
    "certified_inst2 = certified_inst.reset_index()\n",
    "certified_inst2"
   ]
  },
  {
   "cell_type": "code",
   "execution_count": 38,
   "metadata": {},
   "outputs": [
    {
     "data": {
      "text/html": [
       "<div>\n",
       "<style scoped>\n",
       "    .dataframe tbody tr th:only-of-type {\n",
       "        vertical-align: middle;\n",
       "    }\n",
       "\n",
       "    .dataframe tbody tr th {\n",
       "        vertical-align: top;\n",
       "    }\n",
       "\n",
       "    .dataframe thead th {\n",
       "        text-align: right;\n",
       "    }\n",
       "</style>\n",
       "<table border=\"1\" class=\"dataframe\">\n",
       "  <thead>\n",
       "    <tr style=\"text-align: right;\">\n",
       "      <th></th>\n",
       "      <th>Institution</th>\n",
       "      <th>%_certified</th>\n",
       "      <th>attended_&gt;50%</th>\n",
       "      <th>certified</th>\n",
       "      <th>participants</th>\n",
       "      <th>quit</th>\n",
       "    </tr>\n",
       "  </thead>\n",
       "  <tbody>\n",
       "    <tr>\n",
       "      <th>0</th>\n",
       "      <td>HarvardX</td>\n",
       "      <td>14.106414</td>\n",
       "      <td>366161</td>\n",
       "      <td>107995</td>\n",
       "      <td>2101121</td>\n",
       "      <td>1993126</td>\n",
       "    </tr>\n",
       "    <tr>\n",
       "      <th>1</th>\n",
       "      <td>MITx</td>\n",
       "      <td>8.454408</td>\n",
       "      <td>373099</td>\n",
       "      <td>136710</td>\n",
       "      <td>2348736</td>\n",
       "      <td>2212026</td>\n",
       "    </tr>\n",
       "  </tbody>\n",
       "</table>\n",
       "</div>"
      ],
      "text/plain": [
       "  Institution  %_certified  attended_>50%  certified  participants     quit\n",
       "0    HarvardX    14.106414         366161     107995       2101121  1993126\n",
       "1        MITx     8.454408         373099     136710       2348736  2212026"
      ]
     },
     "execution_count": 38,
     "metadata": {},
     "output_type": "execute_result"
    }
   ],
   "source": [
    "certified_inst2[\"quit\"] = certified_inst2[\"participants\"] - certified_inst2[\"certified\"]\n",
    "certified_inst2"
   ]
  },
  {
   "cell_type": "code",
   "execution_count": 39,
   "metadata": {},
   "outputs": [
    {
     "data": {
      "text/html": [
       "<div>\n",
       "<style scoped>\n",
       "    .dataframe tbody tr th:only-of-type {\n",
       "        vertical-align: middle;\n",
       "    }\n",
       "\n",
       "    .dataframe tbody tr th {\n",
       "        vertical-align: top;\n",
       "    }\n",
       "\n",
       "    .dataframe thead th {\n",
       "        text-align: right;\n",
       "    }\n",
       "</style>\n",
       "<table border=\"1\" class=\"dataframe\">\n",
       "  <thead>\n",
       "    <tr style=\"text-align: right;\">\n",
       "      <th></th>\n",
       "      <th>Institution</th>\n",
       "      <th>%_certified</th>\n",
       "      <th>attended_&gt;50%</th>\n",
       "      <th>certified</th>\n",
       "      <th>participants</th>\n",
       "      <th>quit</th>\n",
       "      <th>certified_&gt;50%</th>\n",
       "    </tr>\n",
       "  </thead>\n",
       "  <tbody>\n",
       "    <tr>\n",
       "      <th>0</th>\n",
       "      <td>HarvardX</td>\n",
       "      <td>14.106414</td>\n",
       "      <td>366161</td>\n",
       "      <td>107995</td>\n",
       "      <td>2101121</td>\n",
       "      <td>1993126</td>\n",
       "      <td>258166</td>\n",
       "    </tr>\n",
       "    <tr>\n",
       "      <th>1</th>\n",
       "      <td>MITx</td>\n",
       "      <td>8.454408</td>\n",
       "      <td>373099</td>\n",
       "      <td>136710</td>\n",
       "      <td>2348736</td>\n",
       "      <td>2212026</td>\n",
       "      <td>236389</td>\n",
       "    </tr>\n",
       "  </tbody>\n",
       "</table>\n",
       "</div>"
      ],
      "text/plain": [
       "  Institution  %_certified  attended_>50%  certified  participants     quit  \\\n",
       "0    HarvardX    14.106414         366161     107995       2101121  1993126   \n",
       "1        MITx     8.454408         373099     136710       2348736  2212026   \n",
       "\n",
       "   certified_>50%  \n",
       "0          258166  \n",
       "1          236389  "
      ]
     },
     "execution_count": 39,
     "metadata": {},
     "output_type": "execute_result"
    }
   ],
   "source": [
    "certified_inst2[\"certified_>50%\"] = certified_inst2[\"attended_>50%\"] - certified_inst2[\"certified\"]\n",
    "certified_inst2"
   ]
  },
  {
   "cell_type": "code",
   "execution_count": 40,
   "metadata": {},
   "outputs": [
    {
     "data": {
      "text/html": [
       "<div>\n",
       "<style scoped>\n",
       "    .dataframe tbody tr th:only-of-type {\n",
       "        vertical-align: middle;\n",
       "    }\n",
       "\n",
       "    .dataframe tbody tr th {\n",
       "        vertical-align: top;\n",
       "    }\n",
       "\n",
       "    .dataframe thead th {\n",
       "        text-align: right;\n",
       "    }\n",
       "</style>\n",
       "<table border=\"1\" class=\"dataframe\">\n",
       "  <thead>\n",
       "    <tr style=\"text-align: right;\">\n",
       "      <th></th>\n",
       "      <th>Institution</th>\n",
       "      <th>participants</th>\n",
       "      <th>certified</th>\n",
       "    </tr>\n",
       "  </thead>\n",
       "  <tbody>\n",
       "    <tr>\n",
       "      <th>0</th>\n",
       "      <td>HarvardX</td>\n",
       "      <td>2101121</td>\n",
       "      <td>107995</td>\n",
       "    </tr>\n",
       "    <tr>\n",
       "      <th>1</th>\n",
       "      <td>MITx</td>\n",
       "      <td>2348736</td>\n",
       "      <td>136710</td>\n",
       "    </tr>\n",
       "  </tbody>\n",
       "</table>\n",
       "</div>"
      ],
      "text/plain": [
       "  Institution  participants  certified\n",
       "0    HarvardX       2101121     107995\n",
       "1        MITx       2348736     136710"
      ]
     },
     "execution_count": 40,
     "metadata": {},
     "output_type": "execute_result"
    }
   ],
   "source": [
    "certified_inst2[[\"Institution\", \"participants\", \"certified\"]]"
   ]
  },
  {
   "cell_type": "code",
   "execution_count": 52,
   "metadata": {},
   "outputs": [],
   "source": [
    "#Harvard piechart\n",
    "\n",
    "labelsh = [\"Certified\", \"Quit before half\", \"Quit afer half\"]\n",
    "valuesh = [certified_inst2.loc[0, \"certified\"], certified_inst2.loc[0, \"quit\"], certified_inst2.loc[0, \"certified_>50%\"]]"
   ]
  },
  {
   "cell_type": "code",
   "execution_count": 53,
   "metadata": {},
   "outputs": [],
   "source": [
    "#MIT piechart\n",
    "\n",
    "labelsm = [\"Certified\", \"Quit before half\", \"Quit afer half\"]\n",
    "valuesm = [certified_inst2.loc[1, \"certified\"], certified_inst2.loc[1, \"quit\"], certified_inst2.loc[1, \"certified_>50%\"]]"
   ]
  },
  {
   "cell_type": "code",
   "execution_count": 58,
   "metadata": {},
   "outputs": [
    {
     "data": {
      "application/vnd.plotly.v1+json": {
       "config": {
        "plotlyServerURL": "https://plot.ly"
       },
       "data": [
        {
         "domain": {
          "x": [
           0,
           0.45
          ],
          "y": [
           0,
           1
          ]
         },
         "labels": [
          "Certified",
          "Quit before half",
          "Quit afer half"
         ],
         "type": "pie",
         "values": [
          107995,
          1993126,
          258166
         ]
        },
        {
         "domain": {
          "x": [
           0.55,
           1
          ],
          "y": [
           0,
           1
          ]
         },
         "labels": [
          "Certified",
          "Quit before half",
          "Quit afer half"
         ],
         "type": "pie",
         "values": [
          136710,
          2212026,
          236389
         ]
        }
       ],
       "layout": {
        "annotations": [
         {
          "font": {
           "size": 16
          },
          "showarrow": false,
          "text": "Harvard",
          "x": 0.225,
          "xanchor": "center",
          "xref": "paper",
          "y": 1,
          "yanchor": "bottom",
          "yref": "paper"
         },
         {
          "font": {
           "size": 16
          },
          "showarrow": false,
          "text": "MIT",
          "x": 0.775,
          "xanchor": "center",
          "xref": "paper",
          "y": 1,
          "yanchor": "bottom",
          "yref": "paper"
         }
        ],
        "height": 700,
        "showlegend": true,
        "template": {
         "data": {
          "bar": [
           {
            "error_x": {
             "color": "#2a3f5f"
            },
            "error_y": {
             "color": "#2a3f5f"
            },
            "marker": {
             "line": {
              "color": "#E5ECF6",
              "width": 0.5
             }
            },
            "type": "bar"
           }
          ],
          "barpolar": [
           {
            "marker": {
             "line": {
              "color": "#E5ECF6",
              "width": 0.5
             }
            },
            "type": "barpolar"
           }
          ],
          "carpet": [
           {
            "aaxis": {
             "endlinecolor": "#2a3f5f",
             "gridcolor": "white",
             "linecolor": "white",
             "minorgridcolor": "white",
             "startlinecolor": "#2a3f5f"
            },
            "baxis": {
             "endlinecolor": "#2a3f5f",
             "gridcolor": "white",
             "linecolor": "white",
             "minorgridcolor": "white",
             "startlinecolor": "#2a3f5f"
            },
            "type": "carpet"
           }
          ],
          "choropleth": [
           {
            "colorbar": {
             "outlinewidth": 0,
             "ticks": ""
            },
            "type": "choropleth"
           }
          ],
          "contour": [
           {
            "colorbar": {
             "outlinewidth": 0,
             "ticks": ""
            },
            "colorscale": [
             [
              0,
              "#0d0887"
             ],
             [
              0.1111111111111111,
              "#46039f"
             ],
             [
              0.2222222222222222,
              "#7201a8"
             ],
             [
              0.3333333333333333,
              "#9c179e"
             ],
             [
              0.4444444444444444,
              "#bd3786"
             ],
             [
              0.5555555555555556,
              "#d8576b"
             ],
             [
              0.6666666666666666,
              "#ed7953"
             ],
             [
              0.7777777777777778,
              "#fb9f3a"
             ],
             [
              0.8888888888888888,
              "#fdca26"
             ],
             [
              1,
              "#f0f921"
             ]
            ],
            "type": "contour"
           }
          ],
          "contourcarpet": [
           {
            "colorbar": {
             "outlinewidth": 0,
             "ticks": ""
            },
            "type": "contourcarpet"
           }
          ],
          "heatmap": [
           {
            "colorbar": {
             "outlinewidth": 0,
             "ticks": ""
            },
            "colorscale": [
             [
              0,
              "#0d0887"
             ],
             [
              0.1111111111111111,
              "#46039f"
             ],
             [
              0.2222222222222222,
              "#7201a8"
             ],
             [
              0.3333333333333333,
              "#9c179e"
             ],
             [
              0.4444444444444444,
              "#bd3786"
             ],
             [
              0.5555555555555556,
              "#d8576b"
             ],
             [
              0.6666666666666666,
              "#ed7953"
             ],
             [
              0.7777777777777778,
              "#fb9f3a"
             ],
             [
              0.8888888888888888,
              "#fdca26"
             ],
             [
              1,
              "#f0f921"
             ]
            ],
            "type": "heatmap"
           }
          ],
          "heatmapgl": [
           {
            "colorbar": {
             "outlinewidth": 0,
             "ticks": ""
            },
            "colorscale": [
             [
              0,
              "#0d0887"
             ],
             [
              0.1111111111111111,
              "#46039f"
             ],
             [
              0.2222222222222222,
              "#7201a8"
             ],
             [
              0.3333333333333333,
              "#9c179e"
             ],
             [
              0.4444444444444444,
              "#bd3786"
             ],
             [
              0.5555555555555556,
              "#d8576b"
             ],
             [
              0.6666666666666666,
              "#ed7953"
             ],
             [
              0.7777777777777778,
              "#fb9f3a"
             ],
             [
              0.8888888888888888,
              "#fdca26"
             ],
             [
              1,
              "#f0f921"
             ]
            ],
            "type": "heatmapgl"
           }
          ],
          "histogram": [
           {
            "marker": {
             "colorbar": {
              "outlinewidth": 0,
              "ticks": ""
             }
            },
            "type": "histogram"
           }
          ],
          "histogram2d": [
           {
            "colorbar": {
             "outlinewidth": 0,
             "ticks": ""
            },
            "colorscale": [
             [
              0,
              "#0d0887"
             ],
             [
              0.1111111111111111,
              "#46039f"
             ],
             [
              0.2222222222222222,
              "#7201a8"
             ],
             [
              0.3333333333333333,
              "#9c179e"
             ],
             [
              0.4444444444444444,
              "#bd3786"
             ],
             [
              0.5555555555555556,
              "#d8576b"
             ],
             [
              0.6666666666666666,
              "#ed7953"
             ],
             [
              0.7777777777777778,
              "#fb9f3a"
             ],
             [
              0.8888888888888888,
              "#fdca26"
             ],
             [
              1,
              "#f0f921"
             ]
            ],
            "type": "histogram2d"
           }
          ],
          "histogram2dcontour": [
           {
            "colorbar": {
             "outlinewidth": 0,
             "ticks": ""
            },
            "colorscale": [
             [
              0,
              "#0d0887"
             ],
             [
              0.1111111111111111,
              "#46039f"
             ],
             [
              0.2222222222222222,
              "#7201a8"
             ],
             [
              0.3333333333333333,
              "#9c179e"
             ],
             [
              0.4444444444444444,
              "#bd3786"
             ],
             [
              0.5555555555555556,
              "#d8576b"
             ],
             [
              0.6666666666666666,
              "#ed7953"
             ],
             [
              0.7777777777777778,
              "#fb9f3a"
             ],
             [
              0.8888888888888888,
              "#fdca26"
             ],
             [
              1,
              "#f0f921"
             ]
            ],
            "type": "histogram2dcontour"
           }
          ],
          "mesh3d": [
           {
            "colorbar": {
             "outlinewidth": 0,
             "ticks": ""
            },
            "type": "mesh3d"
           }
          ],
          "parcoords": [
           {
            "line": {
             "colorbar": {
              "outlinewidth": 0,
              "ticks": ""
             }
            },
            "type": "parcoords"
           }
          ],
          "pie": [
           {
            "automargin": true,
            "type": "pie"
           }
          ],
          "scatter": [
           {
            "marker": {
             "colorbar": {
              "outlinewidth": 0,
              "ticks": ""
             }
            },
            "type": "scatter"
           }
          ],
          "scatter3d": [
           {
            "line": {
             "colorbar": {
              "outlinewidth": 0,
              "ticks": ""
             }
            },
            "marker": {
             "colorbar": {
              "outlinewidth": 0,
              "ticks": ""
             }
            },
            "type": "scatter3d"
           }
          ],
          "scattercarpet": [
           {
            "marker": {
             "colorbar": {
              "outlinewidth": 0,
              "ticks": ""
             }
            },
            "type": "scattercarpet"
           }
          ],
          "scattergeo": [
           {
            "marker": {
             "colorbar": {
              "outlinewidth": 0,
              "ticks": ""
             }
            },
            "type": "scattergeo"
           }
          ],
          "scattergl": [
           {
            "marker": {
             "colorbar": {
              "outlinewidth": 0,
              "ticks": ""
             }
            },
            "type": "scattergl"
           }
          ],
          "scattermapbox": [
           {
            "marker": {
             "colorbar": {
              "outlinewidth": 0,
              "ticks": ""
             }
            },
            "type": "scattermapbox"
           }
          ],
          "scatterpolar": [
           {
            "marker": {
             "colorbar": {
              "outlinewidth": 0,
              "ticks": ""
             }
            },
            "type": "scatterpolar"
           }
          ],
          "scatterpolargl": [
           {
            "marker": {
             "colorbar": {
              "outlinewidth": 0,
              "ticks": ""
             }
            },
            "type": "scatterpolargl"
           }
          ],
          "scatterternary": [
           {
            "marker": {
             "colorbar": {
              "outlinewidth": 0,
              "ticks": ""
             }
            },
            "type": "scatterternary"
           }
          ],
          "surface": [
           {
            "colorbar": {
             "outlinewidth": 0,
             "ticks": ""
            },
            "colorscale": [
             [
              0,
              "#0d0887"
             ],
             [
              0.1111111111111111,
              "#46039f"
             ],
             [
              0.2222222222222222,
              "#7201a8"
             ],
             [
              0.3333333333333333,
              "#9c179e"
             ],
             [
              0.4444444444444444,
              "#bd3786"
             ],
             [
              0.5555555555555556,
              "#d8576b"
             ],
             [
              0.6666666666666666,
              "#ed7953"
             ],
             [
              0.7777777777777778,
              "#fb9f3a"
             ],
             [
              0.8888888888888888,
              "#fdca26"
             ],
             [
              1,
              "#f0f921"
             ]
            ],
            "type": "surface"
           }
          ],
          "table": [
           {
            "cells": {
             "fill": {
              "color": "#EBF0F8"
             },
             "line": {
              "color": "white"
             }
            },
            "header": {
             "fill": {
              "color": "#C8D4E3"
             },
             "line": {
              "color": "white"
             }
            },
            "type": "table"
           }
          ]
         },
         "layout": {
          "annotationdefaults": {
           "arrowcolor": "#2a3f5f",
           "arrowhead": 0,
           "arrowwidth": 1
          },
          "coloraxis": {
           "colorbar": {
            "outlinewidth": 0,
            "ticks": ""
           }
          },
          "colorscale": {
           "diverging": [
            [
             0,
             "#8e0152"
            ],
            [
             0.1,
             "#c51b7d"
            ],
            [
             0.2,
             "#de77ae"
            ],
            [
             0.3,
             "#f1b6da"
            ],
            [
             0.4,
             "#fde0ef"
            ],
            [
             0.5,
             "#f7f7f7"
            ],
            [
             0.6,
             "#e6f5d0"
            ],
            [
             0.7,
             "#b8e186"
            ],
            [
             0.8,
             "#7fbc41"
            ],
            [
             0.9,
             "#4d9221"
            ],
            [
             1,
             "#276419"
            ]
           ],
           "sequential": [
            [
             0,
             "#0d0887"
            ],
            [
             0.1111111111111111,
             "#46039f"
            ],
            [
             0.2222222222222222,
             "#7201a8"
            ],
            [
             0.3333333333333333,
             "#9c179e"
            ],
            [
             0.4444444444444444,
             "#bd3786"
            ],
            [
             0.5555555555555556,
             "#d8576b"
            ],
            [
             0.6666666666666666,
             "#ed7953"
            ],
            [
             0.7777777777777778,
             "#fb9f3a"
            ],
            [
             0.8888888888888888,
             "#fdca26"
            ],
            [
             1,
             "#f0f921"
            ]
           ],
           "sequentialminus": [
            [
             0,
             "#0d0887"
            ],
            [
             0.1111111111111111,
             "#46039f"
            ],
            [
             0.2222222222222222,
             "#7201a8"
            ],
            [
             0.3333333333333333,
             "#9c179e"
            ],
            [
             0.4444444444444444,
             "#bd3786"
            ],
            [
             0.5555555555555556,
             "#d8576b"
            ],
            [
             0.6666666666666666,
             "#ed7953"
            ],
            [
             0.7777777777777778,
             "#fb9f3a"
            ],
            [
             0.8888888888888888,
             "#fdca26"
            ],
            [
             1,
             "#f0f921"
            ]
           ]
          },
          "colorway": [
           "#636efa",
           "#EF553B",
           "#00cc96",
           "#ab63fa",
           "#FFA15A",
           "#19d3f3",
           "#FF6692",
           "#B6E880",
           "#FF97FF",
           "#FECB52"
          ],
          "font": {
           "color": "#2a3f5f"
          },
          "geo": {
           "bgcolor": "white",
           "lakecolor": "white",
           "landcolor": "#E5ECF6",
           "showlakes": true,
           "showland": true,
           "subunitcolor": "white"
          },
          "hoverlabel": {
           "align": "left"
          },
          "hovermode": "closest",
          "mapbox": {
           "style": "light"
          },
          "paper_bgcolor": "white",
          "plot_bgcolor": "#E5ECF6",
          "polar": {
           "angularaxis": {
            "gridcolor": "white",
            "linecolor": "white",
            "ticks": ""
           },
           "bgcolor": "#E5ECF6",
           "radialaxis": {
            "gridcolor": "white",
            "linecolor": "white",
            "ticks": ""
           }
          },
          "scene": {
           "xaxis": {
            "backgroundcolor": "#E5ECF6",
            "gridcolor": "white",
            "gridwidth": 2,
            "linecolor": "white",
            "showbackground": true,
            "ticks": "",
            "zerolinecolor": "white"
           },
           "yaxis": {
            "backgroundcolor": "#E5ECF6",
            "gridcolor": "white",
            "gridwidth": 2,
            "linecolor": "white",
            "showbackground": true,
            "ticks": "",
            "zerolinecolor": "white"
           },
           "zaxis": {
            "backgroundcolor": "#E5ECF6",
            "gridcolor": "white",
            "gridwidth": 2,
            "linecolor": "white",
            "showbackground": true,
            "ticks": "",
            "zerolinecolor": "white"
           }
          },
          "shapedefaults": {
           "line": {
            "color": "#2a3f5f"
           }
          },
          "ternary": {
           "aaxis": {
            "gridcolor": "white",
            "linecolor": "white",
            "ticks": ""
           },
           "baxis": {
            "gridcolor": "white",
            "linecolor": "white",
            "ticks": ""
           },
           "bgcolor": "#E5ECF6",
           "caxis": {
            "gridcolor": "white",
            "linecolor": "white",
            "ticks": ""
           }
          },
          "title": {
           "x": 0.05
          },
          "xaxis": {
           "automargin": true,
           "gridcolor": "white",
           "linecolor": "white",
           "ticks": "",
           "title": {
            "standoff": 15
           },
           "zerolinecolor": "white",
           "zerolinewidth": 2
          },
          "yaxis": {
           "automargin": true,
           "gridcolor": "white",
           "linecolor": "white",
           "ticks": "",
           "title": {
            "standoff": 15
           },
           "zerolinecolor": "white",
           "zerolinewidth": 2
          }
         }
        },
        "title": {
         "text": "Do people finish the courses they start?"
        }
       }
      },
      "text/html": [
       "<div>\n",
       "        \n",
       "        \n",
       "            <div id=\"37a4fef4-2e78-41f1-90a0-aa205b434785\" class=\"plotly-graph-div\" style=\"height:700px; width:100%;\"></div>\n",
       "            <script type=\"text/javascript\">\n",
       "                require([\"plotly\"], function(Plotly) {\n",
       "                    window.PLOTLYENV=window.PLOTLYENV || {};\n",
       "                    \n",
       "                if (document.getElementById(\"37a4fef4-2e78-41f1-90a0-aa205b434785\")) {\n",
       "                    Plotly.newPlot(\n",
       "                        '37a4fef4-2e78-41f1-90a0-aa205b434785',\n",
       "                        [{\"domain\": {\"x\": [0.0, 0.45], \"y\": [0.0, 1.0]}, \"labels\": [\"Certified\", \"Quit before half\", \"Quit afer half\"], \"type\": \"pie\", \"values\": [107995, 1993126, 258166]}, {\"domain\": {\"x\": [0.55, 1.0], \"y\": [0.0, 1.0]}, \"labels\": [\"Certified\", \"Quit before half\", \"Quit afer half\"], \"type\": \"pie\", \"values\": [136710, 2212026, 236389]}],\n",
       "                        {\"annotations\": [{\"font\": {\"size\": 16}, \"showarrow\": false, \"text\": \"Harvard\", \"x\": 0.225, \"xanchor\": \"center\", \"xref\": \"paper\", \"y\": 1.0, \"yanchor\": \"bottom\", \"yref\": \"paper\"}, {\"font\": {\"size\": 16}, \"showarrow\": false, \"text\": \"MIT\", \"x\": 0.775, \"xanchor\": \"center\", \"xref\": \"paper\", \"y\": 1.0, \"yanchor\": \"bottom\", \"yref\": \"paper\"}], \"height\": 700, \"showlegend\": true, \"template\": {\"data\": {\"bar\": [{\"error_x\": {\"color\": \"#2a3f5f\"}, \"error_y\": {\"color\": \"#2a3f5f\"}, \"marker\": {\"line\": {\"color\": \"#E5ECF6\", \"width\": 0.5}}, \"type\": \"bar\"}], \"barpolar\": [{\"marker\": {\"line\": {\"color\": \"#E5ECF6\", \"width\": 0.5}}, \"type\": \"barpolar\"}], \"carpet\": [{\"aaxis\": {\"endlinecolor\": \"#2a3f5f\", \"gridcolor\": \"white\", \"linecolor\": \"white\", \"minorgridcolor\": \"white\", \"startlinecolor\": \"#2a3f5f\"}, \"baxis\": {\"endlinecolor\": \"#2a3f5f\", \"gridcolor\": \"white\", \"linecolor\": \"white\", \"minorgridcolor\": \"white\", \"startlinecolor\": \"#2a3f5f\"}, \"type\": \"carpet\"}], \"choropleth\": [{\"colorbar\": {\"outlinewidth\": 0, \"ticks\": \"\"}, \"type\": \"choropleth\"}], \"contour\": [{\"colorbar\": {\"outlinewidth\": 0, \"ticks\": \"\"}, \"colorscale\": [[0.0, \"#0d0887\"], [0.1111111111111111, \"#46039f\"], [0.2222222222222222, \"#7201a8\"], [0.3333333333333333, \"#9c179e\"], [0.4444444444444444, \"#bd3786\"], [0.5555555555555556, \"#d8576b\"], [0.6666666666666666, \"#ed7953\"], [0.7777777777777778, \"#fb9f3a\"], [0.8888888888888888, \"#fdca26\"], [1.0, \"#f0f921\"]], \"type\": \"contour\"}], \"contourcarpet\": [{\"colorbar\": {\"outlinewidth\": 0, \"ticks\": \"\"}, \"type\": \"contourcarpet\"}], \"heatmap\": [{\"colorbar\": {\"outlinewidth\": 0, \"ticks\": \"\"}, \"colorscale\": [[0.0, \"#0d0887\"], [0.1111111111111111, \"#46039f\"], [0.2222222222222222, \"#7201a8\"], [0.3333333333333333, \"#9c179e\"], [0.4444444444444444, \"#bd3786\"], [0.5555555555555556, \"#d8576b\"], [0.6666666666666666, \"#ed7953\"], [0.7777777777777778, \"#fb9f3a\"], [0.8888888888888888, \"#fdca26\"], [1.0, \"#f0f921\"]], \"type\": \"heatmap\"}], \"heatmapgl\": [{\"colorbar\": {\"outlinewidth\": 0, \"ticks\": \"\"}, \"colorscale\": [[0.0, \"#0d0887\"], [0.1111111111111111, \"#46039f\"], [0.2222222222222222, \"#7201a8\"], [0.3333333333333333, \"#9c179e\"], [0.4444444444444444, \"#bd3786\"], [0.5555555555555556, \"#d8576b\"], [0.6666666666666666, \"#ed7953\"], [0.7777777777777778, \"#fb9f3a\"], [0.8888888888888888, \"#fdca26\"], [1.0, \"#f0f921\"]], \"type\": \"heatmapgl\"}], \"histogram\": [{\"marker\": {\"colorbar\": {\"outlinewidth\": 0, \"ticks\": \"\"}}, \"type\": \"histogram\"}], \"histogram2d\": [{\"colorbar\": {\"outlinewidth\": 0, \"ticks\": \"\"}, \"colorscale\": [[0.0, \"#0d0887\"], [0.1111111111111111, \"#46039f\"], [0.2222222222222222, \"#7201a8\"], [0.3333333333333333, \"#9c179e\"], [0.4444444444444444, \"#bd3786\"], [0.5555555555555556, \"#d8576b\"], [0.6666666666666666, \"#ed7953\"], [0.7777777777777778, \"#fb9f3a\"], [0.8888888888888888, \"#fdca26\"], [1.0, \"#f0f921\"]], \"type\": \"histogram2d\"}], \"histogram2dcontour\": [{\"colorbar\": {\"outlinewidth\": 0, \"ticks\": \"\"}, \"colorscale\": [[0.0, \"#0d0887\"], [0.1111111111111111, \"#46039f\"], [0.2222222222222222, \"#7201a8\"], [0.3333333333333333, \"#9c179e\"], [0.4444444444444444, \"#bd3786\"], [0.5555555555555556, \"#d8576b\"], [0.6666666666666666, \"#ed7953\"], [0.7777777777777778, \"#fb9f3a\"], [0.8888888888888888, \"#fdca26\"], [1.0, \"#f0f921\"]], \"type\": \"histogram2dcontour\"}], \"mesh3d\": [{\"colorbar\": {\"outlinewidth\": 0, \"ticks\": \"\"}, \"type\": \"mesh3d\"}], \"parcoords\": [{\"line\": {\"colorbar\": {\"outlinewidth\": 0, \"ticks\": \"\"}}, \"type\": \"parcoords\"}], \"pie\": [{\"automargin\": true, \"type\": \"pie\"}], \"scatter\": [{\"marker\": {\"colorbar\": {\"outlinewidth\": 0, \"ticks\": \"\"}}, \"type\": \"scatter\"}], \"scatter3d\": [{\"line\": {\"colorbar\": {\"outlinewidth\": 0, \"ticks\": \"\"}}, \"marker\": {\"colorbar\": {\"outlinewidth\": 0, \"ticks\": \"\"}}, \"type\": \"scatter3d\"}], \"scattercarpet\": [{\"marker\": {\"colorbar\": {\"outlinewidth\": 0, \"ticks\": \"\"}}, \"type\": \"scattercarpet\"}], \"scattergeo\": [{\"marker\": {\"colorbar\": {\"outlinewidth\": 0, \"ticks\": \"\"}}, \"type\": \"scattergeo\"}], \"scattergl\": [{\"marker\": {\"colorbar\": {\"outlinewidth\": 0, \"ticks\": \"\"}}, \"type\": \"scattergl\"}], \"scattermapbox\": [{\"marker\": {\"colorbar\": {\"outlinewidth\": 0, \"ticks\": \"\"}}, \"type\": \"scattermapbox\"}], \"scatterpolar\": [{\"marker\": {\"colorbar\": {\"outlinewidth\": 0, \"ticks\": \"\"}}, \"type\": \"scatterpolar\"}], \"scatterpolargl\": [{\"marker\": {\"colorbar\": {\"outlinewidth\": 0, \"ticks\": \"\"}}, \"type\": \"scatterpolargl\"}], \"scatterternary\": [{\"marker\": {\"colorbar\": {\"outlinewidth\": 0, \"ticks\": \"\"}}, \"type\": \"scatterternary\"}], \"surface\": [{\"colorbar\": {\"outlinewidth\": 0, \"ticks\": \"\"}, \"colorscale\": [[0.0, \"#0d0887\"], [0.1111111111111111, \"#46039f\"], [0.2222222222222222, \"#7201a8\"], [0.3333333333333333, \"#9c179e\"], [0.4444444444444444, \"#bd3786\"], [0.5555555555555556, \"#d8576b\"], [0.6666666666666666, \"#ed7953\"], [0.7777777777777778, \"#fb9f3a\"], [0.8888888888888888, \"#fdca26\"], [1.0, \"#f0f921\"]], \"type\": \"surface\"}], \"table\": [{\"cells\": {\"fill\": {\"color\": \"#EBF0F8\"}, \"line\": {\"color\": \"white\"}}, \"header\": {\"fill\": {\"color\": \"#C8D4E3\"}, \"line\": {\"color\": \"white\"}}, \"type\": \"table\"}]}, \"layout\": {\"annotationdefaults\": {\"arrowcolor\": \"#2a3f5f\", \"arrowhead\": 0, \"arrowwidth\": 1}, \"coloraxis\": {\"colorbar\": {\"outlinewidth\": 0, \"ticks\": \"\"}}, \"colorscale\": {\"diverging\": [[0, \"#8e0152\"], [0.1, \"#c51b7d\"], [0.2, \"#de77ae\"], [0.3, \"#f1b6da\"], [0.4, \"#fde0ef\"], [0.5, \"#f7f7f7\"], [0.6, \"#e6f5d0\"], [0.7, \"#b8e186\"], [0.8, \"#7fbc41\"], [0.9, \"#4d9221\"], [1, \"#276419\"]], \"sequential\": [[0.0, \"#0d0887\"], [0.1111111111111111, \"#46039f\"], [0.2222222222222222, \"#7201a8\"], [0.3333333333333333, \"#9c179e\"], [0.4444444444444444, \"#bd3786\"], [0.5555555555555556, \"#d8576b\"], [0.6666666666666666, \"#ed7953\"], [0.7777777777777778, \"#fb9f3a\"], [0.8888888888888888, \"#fdca26\"], [1.0, \"#f0f921\"]], \"sequentialminus\": [[0.0, \"#0d0887\"], [0.1111111111111111, \"#46039f\"], [0.2222222222222222, \"#7201a8\"], [0.3333333333333333, \"#9c179e\"], [0.4444444444444444, \"#bd3786\"], [0.5555555555555556, \"#d8576b\"], [0.6666666666666666, \"#ed7953\"], [0.7777777777777778, \"#fb9f3a\"], [0.8888888888888888, \"#fdca26\"], [1.0, \"#f0f921\"]]}, \"colorway\": [\"#636efa\", \"#EF553B\", \"#00cc96\", \"#ab63fa\", \"#FFA15A\", \"#19d3f3\", \"#FF6692\", \"#B6E880\", \"#FF97FF\", \"#FECB52\"], \"font\": {\"color\": \"#2a3f5f\"}, \"geo\": {\"bgcolor\": \"white\", \"lakecolor\": \"white\", \"landcolor\": \"#E5ECF6\", \"showlakes\": true, \"showland\": true, \"subunitcolor\": \"white\"}, \"hoverlabel\": {\"align\": \"left\"}, \"hovermode\": \"closest\", \"mapbox\": {\"style\": \"light\"}, \"paper_bgcolor\": \"white\", \"plot_bgcolor\": \"#E5ECF6\", \"polar\": {\"angularaxis\": {\"gridcolor\": \"white\", \"linecolor\": \"white\", \"ticks\": \"\"}, \"bgcolor\": \"#E5ECF6\", \"radialaxis\": {\"gridcolor\": \"white\", \"linecolor\": \"white\", \"ticks\": \"\"}}, \"scene\": {\"xaxis\": {\"backgroundcolor\": \"#E5ECF6\", \"gridcolor\": \"white\", \"gridwidth\": 2, \"linecolor\": \"white\", \"showbackground\": true, \"ticks\": \"\", \"zerolinecolor\": \"white\"}, \"yaxis\": {\"backgroundcolor\": \"#E5ECF6\", \"gridcolor\": \"white\", \"gridwidth\": 2, \"linecolor\": \"white\", \"showbackground\": true, \"ticks\": \"\", \"zerolinecolor\": \"white\"}, \"zaxis\": {\"backgroundcolor\": \"#E5ECF6\", \"gridcolor\": \"white\", \"gridwidth\": 2, \"linecolor\": \"white\", \"showbackground\": true, \"ticks\": \"\", \"zerolinecolor\": \"white\"}}, \"shapedefaults\": {\"line\": {\"color\": \"#2a3f5f\"}}, \"ternary\": {\"aaxis\": {\"gridcolor\": \"white\", \"linecolor\": \"white\", \"ticks\": \"\"}, \"baxis\": {\"gridcolor\": \"white\", \"linecolor\": \"white\", \"ticks\": \"\"}, \"bgcolor\": \"#E5ECF6\", \"caxis\": {\"gridcolor\": \"white\", \"linecolor\": \"white\", \"ticks\": \"\"}}, \"title\": {\"x\": 0.05}, \"xaxis\": {\"automargin\": true, \"gridcolor\": \"white\", \"linecolor\": \"white\", \"ticks\": \"\", \"title\": {\"standoff\": 15}, \"zerolinecolor\": \"white\", \"zerolinewidth\": 2}, \"yaxis\": {\"automargin\": true, \"gridcolor\": \"white\", \"linecolor\": \"white\", \"ticks\": \"\", \"title\": {\"standoff\": 15}, \"zerolinecolor\": \"white\", \"zerolinewidth\": 2}}}, \"title\": {\"text\": \"Do people finish the courses they start?\"}},\n",
       "                        {\"responsive\": true}\n",
       "                    ).then(function(){\n",
       "                            \n",
       "var gd = document.getElementById('37a4fef4-2e78-41f1-90a0-aa205b434785');\n",
       "var x = new MutationObserver(function (mutations, observer) {{\n",
       "        var display = window.getComputedStyle(gd).display;\n",
       "        if (!display || display === 'none') {{\n",
       "            console.log([gd, 'removed!']);\n",
       "            Plotly.purge(gd);\n",
       "            observer.disconnect();\n",
       "        }}\n",
       "}});\n",
       "\n",
       "// Listen for the removal of the full notebook cells\n",
       "var notebookContainer = gd.closest('#notebook-container');\n",
       "if (notebookContainer) {{\n",
       "    x.observe(notebookContainer, {childList: true});\n",
       "}}\n",
       "\n",
       "// Listen for the clearing of the current output cell\n",
       "var outputEl = gd.closest('.output');\n",
       "if (outputEl) {{\n",
       "    x.observe(outputEl, {childList: true});\n",
       "}}\n",
       "\n",
       "                        })\n",
       "                };\n",
       "                });\n",
       "            </script>\n",
       "        </div>"
      ]
     },
     "metadata": {},
     "output_type": "display_data"
    }
   ],
   "source": [
    "fig = make_subplots(\n",
    "    rows=1, cols=2,\n",
    "    specs=[[{\"type\": \"pie\"}, {\"type\": \"pie\"}]],\n",
    "    subplot_titles=(\"Harvard\",\"MIT\")\n",
    ")\n",
    "\n",
    "fig.add_trace(go.Pie(labels=labelsh, values=valuesh),\n",
    "              row=1, col=1)\n",
    "\n",
    "fig.add_trace(go.Pie(labels=labelsm, values=valuesm),\n",
    "              row=1, col=2)\n",
    "\n",
    "\n",
    "fig.update_layout(height=700, showlegend=True, title_text = \"Do people finish the courses they start?\")\n",
    "\n",
    "fig.show()"
   ]
  },
  {
   "cell_type": "markdown",
   "metadata": {},
   "source": [
    "# Participants and certifications over years "
   ]
  },
  {
   "cell_type": "code",
   "execution_count": 59,
   "metadata": {},
   "outputs": [],
   "source": [
    "online_courses[\"%_attended_>50%\"] = online_courses[\"attended_>50%\"]/online_courses[\"participants\"]"
   ]
  },
  {
   "cell_type": "code",
   "execution_count": 60,
   "metadata": {},
   "outputs": [
    {
     "data": {
      "text/html": [
       "<div>\n",
       "<style scoped>\n",
       "    .dataframe tbody tr th:only-of-type {\n",
       "        vertical-align: middle;\n",
       "    }\n",
       "\n",
       "    .dataframe tbody tr th {\n",
       "        vertical-align: top;\n",
       "    }\n",
       "\n",
       "    .dataframe thead th {\n",
       "        text-align: right;\n",
       "    }\n",
       "</style>\n",
       "<table border=\"1\" class=\"dataframe\">\n",
       "  <thead>\n",
       "    <tr style=\"text-align: right;\">\n",
       "      <th></th>\n",
       "      <th>attended_&gt;50%</th>\n",
       "      <th>certified</th>\n",
       "      <th>course_title</th>\n",
       "      <th>participants</th>\n",
       "      <th>tot_hours</th>\n",
       "    </tr>\n",
       "    <tr>\n",
       "      <th>Years</th>\n",
       "      <th></th>\n",
       "      <th></th>\n",
       "      <th></th>\n",
       "      <th></th>\n",
       "      <th></th>\n",
       "    </tr>\n",
       "  </thead>\n",
       "  <tbody>\n",
       "    <tr>\n",
       "      <th>2012</th>\n",
       "      <td>40852</td>\n",
       "      <td>17365</td>\n",
       "      <td>5</td>\n",
       "      <td>297398</td>\n",
       "      <td>2555.84</td>\n",
       "    </tr>\n",
       "    <tr>\n",
       "      <th>2013</th>\n",
       "      <td>105260</td>\n",
       "      <td>51991</td>\n",
       "      <td>27</td>\n",
       "      <td>752816</td>\n",
       "      <td>5477.30</td>\n",
       "    </tr>\n",
       "    <tr>\n",
       "      <th>2014</th>\n",
       "      <td>186706</td>\n",
       "      <td>71342</td>\n",
       "      <td>67</td>\n",
       "      <td>1142677</td>\n",
       "      <td>5241.22</td>\n",
       "    </tr>\n",
       "    <tr>\n",
       "      <th>2015</th>\n",
       "      <td>292361</td>\n",
       "      <td>82195</td>\n",
       "      <td>122</td>\n",
       "      <td>1560589</td>\n",
       "      <td>9118.66</td>\n",
       "    </tr>\n",
       "    <tr>\n",
       "      <th>2016</th>\n",
       "      <td>114081</td>\n",
       "      <td>21812</td>\n",
       "      <td>69</td>\n",
       "      <td>696377</td>\n",
       "      <td>5151.71</td>\n",
       "    </tr>\n",
       "  </tbody>\n",
       "</table>\n",
       "</div>"
      ],
      "text/plain": [
       "       attended_>50%  certified  course_title  participants  tot_hours\n",
       "Years                                                                 \n",
       "2012           40852      17365             5        297398    2555.84\n",
       "2013          105260      51991            27        752816    5477.30\n",
       "2014          186706      71342            67       1142677    5241.22\n",
       "2015          292361      82195           122       1560589    9118.66\n",
       "2016          114081      21812            69        696377    5151.71"
      ]
     },
     "execution_count": 60,
     "metadata": {},
     "output_type": "execute_result"
    }
   ],
   "source": [
    "evolution = pd.pivot_table(online_courses, index= [\"Years\"], values = [\"participants\", \"certified\", \"tot_hours\", \"attended_>50%\", \"course_title\"], aggfunc= {\"participants\":\"sum\", \"certified\":\"sum\", \"tot_hours\":\"sum\", \"attended_>50%\":\"sum\", \"course_title\":\"count\"})\n",
    "evolution"
   ]
  },
  {
   "cell_type": "code",
   "execution_count": 61,
   "metadata": {},
   "outputs": [],
   "source": [
    "evolution[\"%_certified\"] = evolution[\"certified\"]/evolution[\"participants\"]\n",
    "evolution[\"%_attended_>50%\"] = evolution[\"attended_>50%\"]/evolution[\"participants\"]\n",
    "evolution[\"%_tot_hours\"] = evolution[\"tot_hours\"]/evolution[\"course_title\"]\n",
    "evolution2 = evolution.reset_index()\n",
    "evolution3 = evolution2.iloc[0:4]"
   ]
  },
  {
   "cell_type": "code",
   "execution_count": 62,
   "metadata": {},
   "outputs": [
    {
     "data": {
      "application/vnd.plotly.v1+json": {
       "config": {
        "plotlyServerURL": "https://plot.ly"
       },
       "data": [
        {
         "name": "Participants",
         "type": "scatter",
         "x": [
          "2012",
          "2013",
          "2014",
          "2015"
         ],
         "y": [
          297398,
          752816,
          1142677,
          1560589
         ]
        },
        {
         "name": "Certifications",
         "type": "scatter",
         "x": [
          "2012",
          "2013",
          "2014",
          "2015"
         ],
         "y": [
          17365,
          51991,
          71342,
          82195
         ]
        }
       ],
       "layout": {
        "barmode": "group",
        "template": {
         "data": {
          "bar": [
           {
            "error_x": {
             "color": "#2a3f5f"
            },
            "error_y": {
             "color": "#2a3f5f"
            },
            "marker": {
             "line": {
              "color": "#E5ECF6",
              "width": 0.5
             }
            },
            "type": "bar"
           }
          ],
          "barpolar": [
           {
            "marker": {
             "line": {
              "color": "#E5ECF6",
              "width": 0.5
             }
            },
            "type": "barpolar"
           }
          ],
          "carpet": [
           {
            "aaxis": {
             "endlinecolor": "#2a3f5f",
             "gridcolor": "white",
             "linecolor": "white",
             "minorgridcolor": "white",
             "startlinecolor": "#2a3f5f"
            },
            "baxis": {
             "endlinecolor": "#2a3f5f",
             "gridcolor": "white",
             "linecolor": "white",
             "minorgridcolor": "white",
             "startlinecolor": "#2a3f5f"
            },
            "type": "carpet"
           }
          ],
          "choropleth": [
           {
            "colorbar": {
             "outlinewidth": 0,
             "ticks": ""
            },
            "type": "choropleth"
           }
          ],
          "contour": [
           {
            "colorbar": {
             "outlinewidth": 0,
             "ticks": ""
            },
            "colorscale": [
             [
              0,
              "#0d0887"
             ],
             [
              0.1111111111111111,
              "#46039f"
             ],
             [
              0.2222222222222222,
              "#7201a8"
             ],
             [
              0.3333333333333333,
              "#9c179e"
             ],
             [
              0.4444444444444444,
              "#bd3786"
             ],
             [
              0.5555555555555556,
              "#d8576b"
             ],
             [
              0.6666666666666666,
              "#ed7953"
             ],
             [
              0.7777777777777778,
              "#fb9f3a"
             ],
             [
              0.8888888888888888,
              "#fdca26"
             ],
             [
              1,
              "#f0f921"
             ]
            ],
            "type": "contour"
           }
          ],
          "contourcarpet": [
           {
            "colorbar": {
             "outlinewidth": 0,
             "ticks": ""
            },
            "type": "contourcarpet"
           }
          ],
          "heatmap": [
           {
            "colorbar": {
             "outlinewidth": 0,
             "ticks": ""
            },
            "colorscale": [
             [
              0,
              "#0d0887"
             ],
             [
              0.1111111111111111,
              "#46039f"
             ],
             [
              0.2222222222222222,
              "#7201a8"
             ],
             [
              0.3333333333333333,
              "#9c179e"
             ],
             [
              0.4444444444444444,
              "#bd3786"
             ],
             [
              0.5555555555555556,
              "#d8576b"
             ],
             [
              0.6666666666666666,
              "#ed7953"
             ],
             [
              0.7777777777777778,
              "#fb9f3a"
             ],
             [
              0.8888888888888888,
              "#fdca26"
             ],
             [
              1,
              "#f0f921"
             ]
            ],
            "type": "heatmap"
           }
          ],
          "heatmapgl": [
           {
            "colorbar": {
             "outlinewidth": 0,
             "ticks": ""
            },
            "colorscale": [
             [
              0,
              "#0d0887"
             ],
             [
              0.1111111111111111,
              "#46039f"
             ],
             [
              0.2222222222222222,
              "#7201a8"
             ],
             [
              0.3333333333333333,
              "#9c179e"
             ],
             [
              0.4444444444444444,
              "#bd3786"
             ],
             [
              0.5555555555555556,
              "#d8576b"
             ],
             [
              0.6666666666666666,
              "#ed7953"
             ],
             [
              0.7777777777777778,
              "#fb9f3a"
             ],
             [
              0.8888888888888888,
              "#fdca26"
             ],
             [
              1,
              "#f0f921"
             ]
            ],
            "type": "heatmapgl"
           }
          ],
          "histogram": [
           {
            "marker": {
             "colorbar": {
              "outlinewidth": 0,
              "ticks": ""
             }
            },
            "type": "histogram"
           }
          ],
          "histogram2d": [
           {
            "colorbar": {
             "outlinewidth": 0,
             "ticks": ""
            },
            "colorscale": [
             [
              0,
              "#0d0887"
             ],
             [
              0.1111111111111111,
              "#46039f"
             ],
             [
              0.2222222222222222,
              "#7201a8"
             ],
             [
              0.3333333333333333,
              "#9c179e"
             ],
             [
              0.4444444444444444,
              "#bd3786"
             ],
             [
              0.5555555555555556,
              "#d8576b"
             ],
             [
              0.6666666666666666,
              "#ed7953"
             ],
             [
              0.7777777777777778,
              "#fb9f3a"
             ],
             [
              0.8888888888888888,
              "#fdca26"
             ],
             [
              1,
              "#f0f921"
             ]
            ],
            "type": "histogram2d"
           }
          ],
          "histogram2dcontour": [
           {
            "colorbar": {
             "outlinewidth": 0,
             "ticks": ""
            },
            "colorscale": [
             [
              0,
              "#0d0887"
             ],
             [
              0.1111111111111111,
              "#46039f"
             ],
             [
              0.2222222222222222,
              "#7201a8"
             ],
             [
              0.3333333333333333,
              "#9c179e"
             ],
             [
              0.4444444444444444,
              "#bd3786"
             ],
             [
              0.5555555555555556,
              "#d8576b"
             ],
             [
              0.6666666666666666,
              "#ed7953"
             ],
             [
              0.7777777777777778,
              "#fb9f3a"
             ],
             [
              0.8888888888888888,
              "#fdca26"
             ],
             [
              1,
              "#f0f921"
             ]
            ],
            "type": "histogram2dcontour"
           }
          ],
          "mesh3d": [
           {
            "colorbar": {
             "outlinewidth": 0,
             "ticks": ""
            },
            "type": "mesh3d"
           }
          ],
          "parcoords": [
           {
            "line": {
             "colorbar": {
              "outlinewidth": 0,
              "ticks": ""
             }
            },
            "type": "parcoords"
           }
          ],
          "pie": [
           {
            "automargin": true,
            "type": "pie"
           }
          ],
          "scatter": [
           {
            "marker": {
             "colorbar": {
              "outlinewidth": 0,
              "ticks": ""
             }
            },
            "type": "scatter"
           }
          ],
          "scatter3d": [
           {
            "line": {
             "colorbar": {
              "outlinewidth": 0,
              "ticks": ""
             }
            },
            "marker": {
             "colorbar": {
              "outlinewidth": 0,
              "ticks": ""
             }
            },
            "type": "scatter3d"
           }
          ],
          "scattercarpet": [
           {
            "marker": {
             "colorbar": {
              "outlinewidth": 0,
              "ticks": ""
             }
            },
            "type": "scattercarpet"
           }
          ],
          "scattergeo": [
           {
            "marker": {
             "colorbar": {
              "outlinewidth": 0,
              "ticks": ""
             }
            },
            "type": "scattergeo"
           }
          ],
          "scattergl": [
           {
            "marker": {
             "colorbar": {
              "outlinewidth": 0,
              "ticks": ""
             }
            },
            "type": "scattergl"
           }
          ],
          "scattermapbox": [
           {
            "marker": {
             "colorbar": {
              "outlinewidth": 0,
              "ticks": ""
             }
            },
            "type": "scattermapbox"
           }
          ],
          "scatterpolar": [
           {
            "marker": {
             "colorbar": {
              "outlinewidth": 0,
              "ticks": ""
             }
            },
            "type": "scatterpolar"
           }
          ],
          "scatterpolargl": [
           {
            "marker": {
             "colorbar": {
              "outlinewidth": 0,
              "ticks": ""
             }
            },
            "type": "scatterpolargl"
           }
          ],
          "scatterternary": [
           {
            "marker": {
             "colorbar": {
              "outlinewidth": 0,
              "ticks": ""
             }
            },
            "type": "scatterternary"
           }
          ],
          "surface": [
           {
            "colorbar": {
             "outlinewidth": 0,
             "ticks": ""
            },
            "colorscale": [
             [
              0,
              "#0d0887"
             ],
             [
              0.1111111111111111,
              "#46039f"
             ],
             [
              0.2222222222222222,
              "#7201a8"
             ],
             [
              0.3333333333333333,
              "#9c179e"
             ],
             [
              0.4444444444444444,
              "#bd3786"
             ],
             [
              0.5555555555555556,
              "#d8576b"
             ],
             [
              0.6666666666666666,
              "#ed7953"
             ],
             [
              0.7777777777777778,
              "#fb9f3a"
             ],
             [
              0.8888888888888888,
              "#fdca26"
             ],
             [
              1,
              "#f0f921"
             ]
            ],
            "type": "surface"
           }
          ],
          "table": [
           {
            "cells": {
             "fill": {
              "color": "#EBF0F8"
             },
             "line": {
              "color": "white"
             }
            },
            "header": {
             "fill": {
              "color": "#C8D4E3"
             },
             "line": {
              "color": "white"
             }
            },
            "type": "table"
           }
          ]
         },
         "layout": {
          "annotationdefaults": {
           "arrowcolor": "#2a3f5f",
           "arrowhead": 0,
           "arrowwidth": 1
          },
          "coloraxis": {
           "colorbar": {
            "outlinewidth": 0,
            "ticks": ""
           }
          },
          "colorscale": {
           "diverging": [
            [
             0,
             "#8e0152"
            ],
            [
             0.1,
             "#c51b7d"
            ],
            [
             0.2,
             "#de77ae"
            ],
            [
             0.3,
             "#f1b6da"
            ],
            [
             0.4,
             "#fde0ef"
            ],
            [
             0.5,
             "#f7f7f7"
            ],
            [
             0.6,
             "#e6f5d0"
            ],
            [
             0.7,
             "#b8e186"
            ],
            [
             0.8,
             "#7fbc41"
            ],
            [
             0.9,
             "#4d9221"
            ],
            [
             1,
             "#276419"
            ]
           ],
           "sequential": [
            [
             0,
             "#0d0887"
            ],
            [
             0.1111111111111111,
             "#46039f"
            ],
            [
             0.2222222222222222,
             "#7201a8"
            ],
            [
             0.3333333333333333,
             "#9c179e"
            ],
            [
             0.4444444444444444,
             "#bd3786"
            ],
            [
             0.5555555555555556,
             "#d8576b"
            ],
            [
             0.6666666666666666,
             "#ed7953"
            ],
            [
             0.7777777777777778,
             "#fb9f3a"
            ],
            [
             0.8888888888888888,
             "#fdca26"
            ],
            [
             1,
             "#f0f921"
            ]
           ],
           "sequentialminus": [
            [
             0,
             "#0d0887"
            ],
            [
             0.1111111111111111,
             "#46039f"
            ],
            [
             0.2222222222222222,
             "#7201a8"
            ],
            [
             0.3333333333333333,
             "#9c179e"
            ],
            [
             0.4444444444444444,
             "#bd3786"
            ],
            [
             0.5555555555555556,
             "#d8576b"
            ],
            [
             0.6666666666666666,
             "#ed7953"
            ],
            [
             0.7777777777777778,
             "#fb9f3a"
            ],
            [
             0.8888888888888888,
             "#fdca26"
            ],
            [
             1,
             "#f0f921"
            ]
           ]
          },
          "colorway": [
           "#636efa",
           "#EF553B",
           "#00cc96",
           "#ab63fa",
           "#FFA15A",
           "#19d3f3",
           "#FF6692",
           "#B6E880",
           "#FF97FF",
           "#FECB52"
          ],
          "font": {
           "color": "#2a3f5f"
          },
          "geo": {
           "bgcolor": "white",
           "lakecolor": "white",
           "landcolor": "#E5ECF6",
           "showlakes": true,
           "showland": true,
           "subunitcolor": "white"
          },
          "hoverlabel": {
           "align": "left"
          },
          "hovermode": "closest",
          "mapbox": {
           "style": "light"
          },
          "paper_bgcolor": "white",
          "plot_bgcolor": "#E5ECF6",
          "polar": {
           "angularaxis": {
            "gridcolor": "white",
            "linecolor": "white",
            "ticks": ""
           },
           "bgcolor": "#E5ECF6",
           "radialaxis": {
            "gridcolor": "white",
            "linecolor": "white",
            "ticks": ""
           }
          },
          "scene": {
           "xaxis": {
            "backgroundcolor": "#E5ECF6",
            "gridcolor": "white",
            "gridwidth": 2,
            "linecolor": "white",
            "showbackground": true,
            "ticks": "",
            "zerolinecolor": "white"
           },
           "yaxis": {
            "backgroundcolor": "#E5ECF6",
            "gridcolor": "white",
            "gridwidth": 2,
            "linecolor": "white",
            "showbackground": true,
            "ticks": "",
            "zerolinecolor": "white"
           },
           "zaxis": {
            "backgroundcolor": "#E5ECF6",
            "gridcolor": "white",
            "gridwidth": 2,
            "linecolor": "white",
            "showbackground": true,
            "ticks": "",
            "zerolinecolor": "white"
           }
          },
          "shapedefaults": {
           "line": {
            "color": "#2a3f5f"
           }
          },
          "ternary": {
           "aaxis": {
            "gridcolor": "white",
            "linecolor": "white",
            "ticks": ""
           },
           "baxis": {
            "gridcolor": "white",
            "linecolor": "white",
            "ticks": ""
           },
           "bgcolor": "#E5ECF6",
           "caxis": {
            "gridcolor": "white",
            "linecolor": "white",
            "ticks": ""
           }
          },
          "title": {
           "x": 0.05
          },
          "xaxis": {
           "automargin": true,
           "gridcolor": "white",
           "linecolor": "white",
           "ticks": "",
           "title": {
            "standoff": 15
           },
           "zerolinecolor": "white",
           "zerolinewidth": 2
          },
          "yaxis": {
           "automargin": true,
           "gridcolor": "white",
           "linecolor": "white",
           "ticks": "",
           "title": {
            "standoff": 15
           },
           "zerolinecolor": "white",
           "zerolinewidth": 2
          }
         }
        },
        "title": {
         "text": "Evolution of total participants and certifications"
        }
       }
      },
      "text/html": [
       "<div>\n",
       "        \n",
       "        \n",
       "            <div id=\"e23c8d75-e163-4f4f-8975-e52ca996fa62\" class=\"plotly-graph-div\" style=\"height:525px; width:100%;\"></div>\n",
       "            <script type=\"text/javascript\">\n",
       "                require([\"plotly\"], function(Plotly) {\n",
       "                    window.PLOTLYENV=window.PLOTLYENV || {};\n",
       "                    \n",
       "                if (document.getElementById(\"e23c8d75-e163-4f4f-8975-e52ca996fa62\")) {\n",
       "                    Plotly.newPlot(\n",
       "                        'e23c8d75-e163-4f4f-8975-e52ca996fa62',\n",
       "                        [{\"name\": \"Participants\", \"type\": \"scatter\", \"x\": [\"2012\", \"2013\", \"2014\", \"2015\"], \"y\": [297398, 752816, 1142677, 1560589]}, {\"name\": \"Certifications\", \"type\": \"scatter\", \"x\": [\"2012\", \"2013\", \"2014\", \"2015\"], \"y\": [17365, 51991, 71342, 82195]}],\n",
       "                        {\"barmode\": \"group\", \"template\": {\"data\": {\"bar\": [{\"error_x\": {\"color\": \"#2a3f5f\"}, \"error_y\": {\"color\": \"#2a3f5f\"}, \"marker\": {\"line\": {\"color\": \"#E5ECF6\", \"width\": 0.5}}, \"type\": \"bar\"}], \"barpolar\": [{\"marker\": {\"line\": {\"color\": \"#E5ECF6\", \"width\": 0.5}}, \"type\": \"barpolar\"}], \"carpet\": [{\"aaxis\": {\"endlinecolor\": \"#2a3f5f\", \"gridcolor\": \"white\", \"linecolor\": \"white\", \"minorgridcolor\": \"white\", \"startlinecolor\": \"#2a3f5f\"}, \"baxis\": {\"endlinecolor\": \"#2a3f5f\", \"gridcolor\": \"white\", \"linecolor\": \"white\", \"minorgridcolor\": \"white\", \"startlinecolor\": \"#2a3f5f\"}, \"type\": \"carpet\"}], \"choropleth\": [{\"colorbar\": {\"outlinewidth\": 0, \"ticks\": \"\"}, \"type\": \"choropleth\"}], \"contour\": [{\"colorbar\": {\"outlinewidth\": 0, \"ticks\": \"\"}, \"colorscale\": [[0.0, \"#0d0887\"], [0.1111111111111111, \"#46039f\"], [0.2222222222222222, \"#7201a8\"], [0.3333333333333333, \"#9c179e\"], [0.4444444444444444, \"#bd3786\"], [0.5555555555555556, \"#d8576b\"], [0.6666666666666666, \"#ed7953\"], [0.7777777777777778, \"#fb9f3a\"], [0.8888888888888888, \"#fdca26\"], [1.0, \"#f0f921\"]], \"type\": \"contour\"}], \"contourcarpet\": [{\"colorbar\": {\"outlinewidth\": 0, \"ticks\": \"\"}, \"type\": \"contourcarpet\"}], \"heatmap\": [{\"colorbar\": {\"outlinewidth\": 0, \"ticks\": \"\"}, \"colorscale\": [[0.0, \"#0d0887\"], [0.1111111111111111, \"#46039f\"], [0.2222222222222222, \"#7201a8\"], [0.3333333333333333, \"#9c179e\"], [0.4444444444444444, \"#bd3786\"], [0.5555555555555556, \"#d8576b\"], [0.6666666666666666, \"#ed7953\"], [0.7777777777777778, \"#fb9f3a\"], [0.8888888888888888, \"#fdca26\"], [1.0, \"#f0f921\"]], \"type\": \"heatmap\"}], \"heatmapgl\": [{\"colorbar\": {\"outlinewidth\": 0, \"ticks\": \"\"}, \"colorscale\": [[0.0, \"#0d0887\"], [0.1111111111111111, \"#46039f\"], [0.2222222222222222, \"#7201a8\"], [0.3333333333333333, \"#9c179e\"], [0.4444444444444444, \"#bd3786\"], [0.5555555555555556, \"#d8576b\"], [0.6666666666666666, \"#ed7953\"], [0.7777777777777778, \"#fb9f3a\"], [0.8888888888888888, \"#fdca26\"], [1.0, \"#f0f921\"]], \"type\": \"heatmapgl\"}], \"histogram\": [{\"marker\": {\"colorbar\": {\"outlinewidth\": 0, \"ticks\": \"\"}}, \"type\": \"histogram\"}], \"histogram2d\": [{\"colorbar\": {\"outlinewidth\": 0, \"ticks\": \"\"}, \"colorscale\": [[0.0, \"#0d0887\"], [0.1111111111111111, \"#46039f\"], [0.2222222222222222, \"#7201a8\"], [0.3333333333333333, \"#9c179e\"], [0.4444444444444444, \"#bd3786\"], [0.5555555555555556, \"#d8576b\"], [0.6666666666666666, \"#ed7953\"], [0.7777777777777778, \"#fb9f3a\"], [0.8888888888888888, \"#fdca26\"], [1.0, \"#f0f921\"]], \"type\": \"histogram2d\"}], \"histogram2dcontour\": [{\"colorbar\": {\"outlinewidth\": 0, \"ticks\": \"\"}, \"colorscale\": [[0.0, \"#0d0887\"], [0.1111111111111111, \"#46039f\"], [0.2222222222222222, \"#7201a8\"], [0.3333333333333333, \"#9c179e\"], [0.4444444444444444, \"#bd3786\"], [0.5555555555555556, \"#d8576b\"], [0.6666666666666666, \"#ed7953\"], [0.7777777777777778, \"#fb9f3a\"], [0.8888888888888888, \"#fdca26\"], [1.0, \"#f0f921\"]], \"type\": \"histogram2dcontour\"}], \"mesh3d\": [{\"colorbar\": {\"outlinewidth\": 0, \"ticks\": \"\"}, \"type\": \"mesh3d\"}], \"parcoords\": [{\"line\": {\"colorbar\": {\"outlinewidth\": 0, \"ticks\": \"\"}}, \"type\": \"parcoords\"}], \"pie\": [{\"automargin\": true, \"type\": \"pie\"}], \"scatter\": [{\"marker\": {\"colorbar\": {\"outlinewidth\": 0, \"ticks\": \"\"}}, \"type\": \"scatter\"}], \"scatter3d\": [{\"line\": {\"colorbar\": {\"outlinewidth\": 0, \"ticks\": \"\"}}, \"marker\": {\"colorbar\": {\"outlinewidth\": 0, \"ticks\": \"\"}}, \"type\": \"scatter3d\"}], \"scattercarpet\": [{\"marker\": {\"colorbar\": {\"outlinewidth\": 0, \"ticks\": \"\"}}, \"type\": \"scattercarpet\"}], \"scattergeo\": [{\"marker\": {\"colorbar\": {\"outlinewidth\": 0, \"ticks\": \"\"}}, \"type\": \"scattergeo\"}], \"scattergl\": [{\"marker\": {\"colorbar\": {\"outlinewidth\": 0, \"ticks\": \"\"}}, \"type\": \"scattergl\"}], \"scattermapbox\": [{\"marker\": {\"colorbar\": {\"outlinewidth\": 0, \"ticks\": \"\"}}, \"type\": \"scattermapbox\"}], \"scatterpolar\": [{\"marker\": {\"colorbar\": {\"outlinewidth\": 0, \"ticks\": \"\"}}, \"type\": \"scatterpolar\"}], \"scatterpolargl\": [{\"marker\": {\"colorbar\": {\"outlinewidth\": 0, \"ticks\": \"\"}}, \"type\": \"scatterpolargl\"}], \"scatterternary\": [{\"marker\": {\"colorbar\": {\"outlinewidth\": 0, \"ticks\": \"\"}}, \"type\": \"scatterternary\"}], \"surface\": [{\"colorbar\": {\"outlinewidth\": 0, \"ticks\": \"\"}, \"colorscale\": [[0.0, \"#0d0887\"], [0.1111111111111111, \"#46039f\"], [0.2222222222222222, \"#7201a8\"], [0.3333333333333333, \"#9c179e\"], [0.4444444444444444, \"#bd3786\"], [0.5555555555555556, \"#d8576b\"], [0.6666666666666666, \"#ed7953\"], [0.7777777777777778, \"#fb9f3a\"], [0.8888888888888888, \"#fdca26\"], [1.0, \"#f0f921\"]], \"type\": \"surface\"}], \"table\": [{\"cells\": {\"fill\": {\"color\": \"#EBF0F8\"}, \"line\": {\"color\": \"white\"}}, \"header\": {\"fill\": {\"color\": \"#C8D4E3\"}, \"line\": {\"color\": \"white\"}}, \"type\": \"table\"}]}, \"layout\": {\"annotationdefaults\": {\"arrowcolor\": \"#2a3f5f\", \"arrowhead\": 0, \"arrowwidth\": 1}, \"coloraxis\": {\"colorbar\": {\"outlinewidth\": 0, \"ticks\": \"\"}}, \"colorscale\": {\"diverging\": [[0, \"#8e0152\"], [0.1, \"#c51b7d\"], [0.2, \"#de77ae\"], [0.3, \"#f1b6da\"], [0.4, \"#fde0ef\"], [0.5, \"#f7f7f7\"], [0.6, \"#e6f5d0\"], [0.7, \"#b8e186\"], [0.8, \"#7fbc41\"], [0.9, \"#4d9221\"], [1, \"#276419\"]], \"sequential\": [[0.0, \"#0d0887\"], [0.1111111111111111, \"#46039f\"], [0.2222222222222222, \"#7201a8\"], [0.3333333333333333, \"#9c179e\"], [0.4444444444444444, \"#bd3786\"], [0.5555555555555556, \"#d8576b\"], [0.6666666666666666, \"#ed7953\"], [0.7777777777777778, \"#fb9f3a\"], [0.8888888888888888, \"#fdca26\"], [1.0, \"#f0f921\"]], \"sequentialminus\": [[0.0, \"#0d0887\"], [0.1111111111111111, \"#46039f\"], [0.2222222222222222, \"#7201a8\"], [0.3333333333333333, \"#9c179e\"], [0.4444444444444444, \"#bd3786\"], [0.5555555555555556, \"#d8576b\"], [0.6666666666666666, \"#ed7953\"], [0.7777777777777778, \"#fb9f3a\"], [0.8888888888888888, \"#fdca26\"], [1.0, \"#f0f921\"]]}, \"colorway\": [\"#636efa\", \"#EF553B\", \"#00cc96\", \"#ab63fa\", \"#FFA15A\", \"#19d3f3\", \"#FF6692\", \"#B6E880\", \"#FF97FF\", \"#FECB52\"], \"font\": {\"color\": \"#2a3f5f\"}, \"geo\": {\"bgcolor\": \"white\", \"lakecolor\": \"white\", \"landcolor\": \"#E5ECF6\", \"showlakes\": true, \"showland\": true, \"subunitcolor\": \"white\"}, \"hoverlabel\": {\"align\": \"left\"}, \"hovermode\": \"closest\", \"mapbox\": {\"style\": \"light\"}, \"paper_bgcolor\": \"white\", \"plot_bgcolor\": \"#E5ECF6\", \"polar\": {\"angularaxis\": {\"gridcolor\": \"white\", \"linecolor\": \"white\", \"ticks\": \"\"}, \"bgcolor\": \"#E5ECF6\", \"radialaxis\": {\"gridcolor\": \"white\", \"linecolor\": \"white\", \"ticks\": \"\"}}, \"scene\": {\"xaxis\": {\"backgroundcolor\": \"#E5ECF6\", \"gridcolor\": \"white\", \"gridwidth\": 2, \"linecolor\": \"white\", \"showbackground\": true, \"ticks\": \"\", \"zerolinecolor\": \"white\"}, \"yaxis\": {\"backgroundcolor\": \"#E5ECF6\", \"gridcolor\": \"white\", \"gridwidth\": 2, \"linecolor\": \"white\", \"showbackground\": true, \"ticks\": \"\", \"zerolinecolor\": \"white\"}, \"zaxis\": {\"backgroundcolor\": \"#E5ECF6\", \"gridcolor\": \"white\", \"gridwidth\": 2, \"linecolor\": \"white\", \"showbackground\": true, \"ticks\": \"\", \"zerolinecolor\": \"white\"}}, \"shapedefaults\": {\"line\": {\"color\": \"#2a3f5f\"}}, \"ternary\": {\"aaxis\": {\"gridcolor\": \"white\", \"linecolor\": \"white\", \"ticks\": \"\"}, \"baxis\": {\"gridcolor\": \"white\", \"linecolor\": \"white\", \"ticks\": \"\"}, \"bgcolor\": \"#E5ECF6\", \"caxis\": {\"gridcolor\": \"white\", \"linecolor\": \"white\", \"ticks\": \"\"}}, \"title\": {\"x\": 0.05}, \"xaxis\": {\"automargin\": true, \"gridcolor\": \"white\", \"linecolor\": \"white\", \"ticks\": \"\", \"title\": {\"standoff\": 15}, \"zerolinecolor\": \"white\", \"zerolinewidth\": 2}, \"yaxis\": {\"automargin\": true, \"gridcolor\": \"white\", \"linecolor\": \"white\", \"ticks\": \"\", \"title\": {\"standoff\": 15}, \"zerolinecolor\": \"white\", \"zerolinewidth\": 2}}}, \"title\": {\"text\": \"Evolution of total participants and certifications\"}},\n",
       "                        {\"responsive\": true}\n",
       "                    ).then(function(){\n",
       "                            \n",
       "var gd = document.getElementById('e23c8d75-e163-4f4f-8975-e52ca996fa62');\n",
       "var x = new MutationObserver(function (mutations, observer) {{\n",
       "        var display = window.getComputedStyle(gd).display;\n",
       "        if (!display || display === 'none') {{\n",
       "            console.log([gd, 'removed!']);\n",
       "            Plotly.purge(gd);\n",
       "            observer.disconnect();\n",
       "        }}\n",
       "}});\n",
       "\n",
       "// Listen for the removal of the full notebook cells\n",
       "var notebookContainer = gd.closest('#notebook-container');\n",
       "if (notebookContainer) {{\n",
       "    x.observe(notebookContainer, {childList: true});\n",
       "}}\n",
       "\n",
       "// Listen for the clearing of the current output cell\n",
       "var outputEl = gd.closest('.output');\n",
       "if (outputEl) {{\n",
       "    x.observe(outputEl, {childList: true});\n",
       "}}\n",
       "\n",
       "                        })\n",
       "                };\n",
       "                });\n",
       "            </script>\n",
       "        </div>"
      ]
     },
     "metadata": {},
     "output_type": "display_data"
    }
   ],
   "source": [
    "fig = go.Figure(data=[\n",
    "    go.Scatter(name='Participants', x=evolution3[\"Years\"], y=evolution3[\"participants\"]),\n",
    "    go.Scatter(name='Certifications', x=evolution3[\"Years\"], y=evolution3[\"certified\"])\n",
    "])\n",
    "# Change the bar mode\n",
    "fig.update_layout(barmode='group', title_text = \"Evolution of total participants and certifications\")\n",
    "fig.show()\n"
   ]
  },
  {
   "cell_type": "markdown",
   "metadata": {},
   "source": [
    "# Attendance and course duration over years"
   ]
  },
  {
   "cell_type": "code",
   "execution_count": 63,
   "metadata": {},
   "outputs": [
    {
     "data": {
      "application/vnd.plotly.v1+json": {
       "config": {
        "plotlyServerURL": "https://plot.ly"
       },
       "data": [
        {
         "name": "Attended > 50%",
         "type": "scatter",
         "x": [
          "2012",
          "2013",
          "2014",
          "2015"
         ],
         "xaxis": "x",
         "y": [
          0.13736474354232375,
          0.13982168285477461,
          0.16339350490121005,
          0.1873401645148082
         ],
         "yaxis": "y"
        },
        {
         "name": "Duration",
         "type": "scatter",
         "x": [
          "2012",
          "2013",
          "2014",
          "2015"
         ],
         "xaxis": "x",
         "y": [
          511.168,
          202.862962962963,
          78.22716417910449,
          74.74311475409837
         ],
         "yaxis": "y2"
        }
       ],
       "layout": {
        "template": {
         "data": {
          "bar": [
           {
            "error_x": {
             "color": "#2a3f5f"
            },
            "error_y": {
             "color": "#2a3f5f"
            },
            "marker": {
             "line": {
              "color": "#E5ECF6",
              "width": 0.5
             }
            },
            "type": "bar"
           }
          ],
          "barpolar": [
           {
            "marker": {
             "line": {
              "color": "#E5ECF6",
              "width": 0.5
             }
            },
            "type": "barpolar"
           }
          ],
          "carpet": [
           {
            "aaxis": {
             "endlinecolor": "#2a3f5f",
             "gridcolor": "white",
             "linecolor": "white",
             "minorgridcolor": "white",
             "startlinecolor": "#2a3f5f"
            },
            "baxis": {
             "endlinecolor": "#2a3f5f",
             "gridcolor": "white",
             "linecolor": "white",
             "minorgridcolor": "white",
             "startlinecolor": "#2a3f5f"
            },
            "type": "carpet"
           }
          ],
          "choropleth": [
           {
            "colorbar": {
             "outlinewidth": 0,
             "ticks": ""
            },
            "type": "choropleth"
           }
          ],
          "contour": [
           {
            "colorbar": {
             "outlinewidth": 0,
             "ticks": ""
            },
            "colorscale": [
             [
              0,
              "#0d0887"
             ],
             [
              0.1111111111111111,
              "#46039f"
             ],
             [
              0.2222222222222222,
              "#7201a8"
             ],
             [
              0.3333333333333333,
              "#9c179e"
             ],
             [
              0.4444444444444444,
              "#bd3786"
             ],
             [
              0.5555555555555556,
              "#d8576b"
             ],
             [
              0.6666666666666666,
              "#ed7953"
             ],
             [
              0.7777777777777778,
              "#fb9f3a"
             ],
             [
              0.8888888888888888,
              "#fdca26"
             ],
             [
              1,
              "#f0f921"
             ]
            ],
            "type": "contour"
           }
          ],
          "contourcarpet": [
           {
            "colorbar": {
             "outlinewidth": 0,
             "ticks": ""
            },
            "type": "contourcarpet"
           }
          ],
          "heatmap": [
           {
            "colorbar": {
             "outlinewidth": 0,
             "ticks": ""
            },
            "colorscale": [
             [
              0,
              "#0d0887"
             ],
             [
              0.1111111111111111,
              "#46039f"
             ],
             [
              0.2222222222222222,
              "#7201a8"
             ],
             [
              0.3333333333333333,
              "#9c179e"
             ],
             [
              0.4444444444444444,
              "#bd3786"
             ],
             [
              0.5555555555555556,
              "#d8576b"
             ],
             [
              0.6666666666666666,
              "#ed7953"
             ],
             [
              0.7777777777777778,
              "#fb9f3a"
             ],
             [
              0.8888888888888888,
              "#fdca26"
             ],
             [
              1,
              "#f0f921"
             ]
            ],
            "type": "heatmap"
           }
          ],
          "heatmapgl": [
           {
            "colorbar": {
             "outlinewidth": 0,
             "ticks": ""
            },
            "colorscale": [
             [
              0,
              "#0d0887"
             ],
             [
              0.1111111111111111,
              "#46039f"
             ],
             [
              0.2222222222222222,
              "#7201a8"
             ],
             [
              0.3333333333333333,
              "#9c179e"
             ],
             [
              0.4444444444444444,
              "#bd3786"
             ],
             [
              0.5555555555555556,
              "#d8576b"
             ],
             [
              0.6666666666666666,
              "#ed7953"
             ],
             [
              0.7777777777777778,
              "#fb9f3a"
             ],
             [
              0.8888888888888888,
              "#fdca26"
             ],
             [
              1,
              "#f0f921"
             ]
            ],
            "type": "heatmapgl"
           }
          ],
          "histogram": [
           {
            "marker": {
             "colorbar": {
              "outlinewidth": 0,
              "ticks": ""
             }
            },
            "type": "histogram"
           }
          ],
          "histogram2d": [
           {
            "colorbar": {
             "outlinewidth": 0,
             "ticks": ""
            },
            "colorscale": [
             [
              0,
              "#0d0887"
             ],
             [
              0.1111111111111111,
              "#46039f"
             ],
             [
              0.2222222222222222,
              "#7201a8"
             ],
             [
              0.3333333333333333,
              "#9c179e"
             ],
             [
              0.4444444444444444,
              "#bd3786"
             ],
             [
              0.5555555555555556,
              "#d8576b"
             ],
             [
              0.6666666666666666,
              "#ed7953"
             ],
             [
              0.7777777777777778,
              "#fb9f3a"
             ],
             [
              0.8888888888888888,
              "#fdca26"
             ],
             [
              1,
              "#f0f921"
             ]
            ],
            "type": "histogram2d"
           }
          ],
          "histogram2dcontour": [
           {
            "colorbar": {
             "outlinewidth": 0,
             "ticks": ""
            },
            "colorscale": [
             [
              0,
              "#0d0887"
             ],
             [
              0.1111111111111111,
              "#46039f"
             ],
             [
              0.2222222222222222,
              "#7201a8"
             ],
             [
              0.3333333333333333,
              "#9c179e"
             ],
             [
              0.4444444444444444,
              "#bd3786"
             ],
             [
              0.5555555555555556,
              "#d8576b"
             ],
             [
              0.6666666666666666,
              "#ed7953"
             ],
             [
              0.7777777777777778,
              "#fb9f3a"
             ],
             [
              0.8888888888888888,
              "#fdca26"
             ],
             [
              1,
              "#f0f921"
             ]
            ],
            "type": "histogram2dcontour"
           }
          ],
          "mesh3d": [
           {
            "colorbar": {
             "outlinewidth": 0,
             "ticks": ""
            },
            "type": "mesh3d"
           }
          ],
          "parcoords": [
           {
            "line": {
             "colorbar": {
              "outlinewidth": 0,
              "ticks": ""
             }
            },
            "type": "parcoords"
           }
          ],
          "pie": [
           {
            "automargin": true,
            "type": "pie"
           }
          ],
          "scatter": [
           {
            "marker": {
             "colorbar": {
              "outlinewidth": 0,
              "ticks": ""
             }
            },
            "type": "scatter"
           }
          ],
          "scatter3d": [
           {
            "line": {
             "colorbar": {
              "outlinewidth": 0,
              "ticks": ""
             }
            },
            "marker": {
             "colorbar": {
              "outlinewidth": 0,
              "ticks": ""
             }
            },
            "type": "scatter3d"
           }
          ],
          "scattercarpet": [
           {
            "marker": {
             "colorbar": {
              "outlinewidth": 0,
              "ticks": ""
             }
            },
            "type": "scattercarpet"
           }
          ],
          "scattergeo": [
           {
            "marker": {
             "colorbar": {
              "outlinewidth": 0,
              "ticks": ""
             }
            },
            "type": "scattergeo"
           }
          ],
          "scattergl": [
           {
            "marker": {
             "colorbar": {
              "outlinewidth": 0,
              "ticks": ""
             }
            },
            "type": "scattergl"
           }
          ],
          "scattermapbox": [
           {
            "marker": {
             "colorbar": {
              "outlinewidth": 0,
              "ticks": ""
             }
            },
            "type": "scattermapbox"
           }
          ],
          "scatterpolar": [
           {
            "marker": {
             "colorbar": {
              "outlinewidth": 0,
              "ticks": ""
             }
            },
            "type": "scatterpolar"
           }
          ],
          "scatterpolargl": [
           {
            "marker": {
             "colorbar": {
              "outlinewidth": 0,
              "ticks": ""
             }
            },
            "type": "scatterpolargl"
           }
          ],
          "scatterternary": [
           {
            "marker": {
             "colorbar": {
              "outlinewidth": 0,
              "ticks": ""
             }
            },
            "type": "scatterternary"
           }
          ],
          "surface": [
           {
            "colorbar": {
             "outlinewidth": 0,
             "ticks": ""
            },
            "colorscale": [
             [
              0,
              "#0d0887"
             ],
             [
              0.1111111111111111,
              "#46039f"
             ],
             [
              0.2222222222222222,
              "#7201a8"
             ],
             [
              0.3333333333333333,
              "#9c179e"
             ],
             [
              0.4444444444444444,
              "#bd3786"
             ],
             [
              0.5555555555555556,
              "#d8576b"
             ],
             [
              0.6666666666666666,
              "#ed7953"
             ],
             [
              0.7777777777777778,
              "#fb9f3a"
             ],
             [
              0.8888888888888888,
              "#fdca26"
             ],
             [
              1,
              "#f0f921"
             ]
            ],
            "type": "surface"
           }
          ],
          "table": [
           {
            "cells": {
             "fill": {
              "color": "#EBF0F8"
             },
             "line": {
              "color": "white"
             }
            },
            "header": {
             "fill": {
              "color": "#C8D4E3"
             },
             "line": {
              "color": "white"
             }
            },
            "type": "table"
           }
          ]
         },
         "layout": {
          "annotationdefaults": {
           "arrowcolor": "#2a3f5f",
           "arrowhead": 0,
           "arrowwidth": 1
          },
          "coloraxis": {
           "colorbar": {
            "outlinewidth": 0,
            "ticks": ""
           }
          },
          "colorscale": {
           "diverging": [
            [
             0,
             "#8e0152"
            ],
            [
             0.1,
             "#c51b7d"
            ],
            [
             0.2,
             "#de77ae"
            ],
            [
             0.3,
             "#f1b6da"
            ],
            [
             0.4,
             "#fde0ef"
            ],
            [
             0.5,
             "#f7f7f7"
            ],
            [
             0.6,
             "#e6f5d0"
            ],
            [
             0.7,
             "#b8e186"
            ],
            [
             0.8,
             "#7fbc41"
            ],
            [
             0.9,
             "#4d9221"
            ],
            [
             1,
             "#276419"
            ]
           ],
           "sequential": [
            [
             0,
             "#0d0887"
            ],
            [
             0.1111111111111111,
             "#46039f"
            ],
            [
             0.2222222222222222,
             "#7201a8"
            ],
            [
             0.3333333333333333,
             "#9c179e"
            ],
            [
             0.4444444444444444,
             "#bd3786"
            ],
            [
             0.5555555555555556,
             "#d8576b"
            ],
            [
             0.6666666666666666,
             "#ed7953"
            ],
            [
             0.7777777777777778,
             "#fb9f3a"
            ],
            [
             0.8888888888888888,
             "#fdca26"
            ],
            [
             1,
             "#f0f921"
            ]
           ],
           "sequentialminus": [
            [
             0,
             "#0d0887"
            ],
            [
             0.1111111111111111,
             "#46039f"
            ],
            [
             0.2222222222222222,
             "#7201a8"
            ],
            [
             0.3333333333333333,
             "#9c179e"
            ],
            [
             0.4444444444444444,
             "#bd3786"
            ],
            [
             0.5555555555555556,
             "#d8576b"
            ],
            [
             0.6666666666666666,
             "#ed7953"
            ],
            [
             0.7777777777777778,
             "#fb9f3a"
            ],
            [
             0.8888888888888888,
             "#fdca26"
            ],
            [
             1,
             "#f0f921"
            ]
           ]
          },
          "colorway": [
           "#636efa",
           "#EF553B",
           "#00cc96",
           "#ab63fa",
           "#FFA15A",
           "#19d3f3",
           "#FF6692",
           "#B6E880",
           "#FF97FF",
           "#FECB52"
          ],
          "font": {
           "color": "#2a3f5f"
          },
          "geo": {
           "bgcolor": "white",
           "lakecolor": "white",
           "landcolor": "#E5ECF6",
           "showlakes": true,
           "showland": true,
           "subunitcolor": "white"
          },
          "hoverlabel": {
           "align": "left"
          },
          "hovermode": "closest",
          "mapbox": {
           "style": "light"
          },
          "paper_bgcolor": "white",
          "plot_bgcolor": "#E5ECF6",
          "polar": {
           "angularaxis": {
            "gridcolor": "white",
            "linecolor": "white",
            "ticks": ""
           },
           "bgcolor": "#E5ECF6",
           "radialaxis": {
            "gridcolor": "white",
            "linecolor": "white",
            "ticks": ""
           }
          },
          "scene": {
           "xaxis": {
            "backgroundcolor": "#E5ECF6",
            "gridcolor": "white",
            "gridwidth": 2,
            "linecolor": "white",
            "showbackground": true,
            "ticks": "",
            "zerolinecolor": "white"
           },
           "yaxis": {
            "backgroundcolor": "#E5ECF6",
            "gridcolor": "white",
            "gridwidth": 2,
            "linecolor": "white",
            "showbackground": true,
            "ticks": "",
            "zerolinecolor": "white"
           },
           "zaxis": {
            "backgroundcolor": "#E5ECF6",
            "gridcolor": "white",
            "gridwidth": 2,
            "linecolor": "white",
            "showbackground": true,
            "ticks": "",
            "zerolinecolor": "white"
           }
          },
          "shapedefaults": {
           "line": {
            "color": "#2a3f5f"
           }
          },
          "ternary": {
           "aaxis": {
            "gridcolor": "white",
            "linecolor": "white",
            "ticks": ""
           },
           "baxis": {
            "gridcolor": "white",
            "linecolor": "white",
            "ticks": ""
           },
           "bgcolor": "#E5ECF6",
           "caxis": {
            "gridcolor": "white",
            "linecolor": "white",
            "ticks": ""
           }
          },
          "title": {
           "x": 0.05
          },
          "xaxis": {
           "automargin": true,
           "gridcolor": "white",
           "linecolor": "white",
           "ticks": "",
           "title": {
            "standoff": 15
           },
           "zerolinecolor": "white",
           "zerolinewidth": 2
          },
          "yaxis": {
           "automargin": true,
           "gridcolor": "white",
           "linecolor": "white",
           "ticks": "",
           "title": {
            "standoff": 15
           },
           "zerolinecolor": "white",
           "zerolinewidth": 2
          }
         }
        },
        "title": {
         "text": "Attendance vs. Course duration"
        },
        "xaxis": {
         "anchor": "y",
         "domain": [
          0,
          0.94
         ],
         "title": {
          "text": "Years"
         }
        },
        "yaxis": {
         "anchor": "x",
         "domain": [
          0,
          1
         ],
         "title": {
          "text": " % Attended > 50%"
         }
        },
        "yaxis2": {
         "anchor": "x",
         "overlaying": "y",
         "side": "right",
         "title": {
          "text": "Average duration"
         }
        }
       }
      },
      "text/html": [
       "<div>\n",
       "        \n",
       "        \n",
       "            <div id=\"60b6b75f-d32b-4919-b593-869d81a09237\" class=\"plotly-graph-div\" style=\"height:525px; width:100%;\"></div>\n",
       "            <script type=\"text/javascript\">\n",
       "                require([\"plotly\"], function(Plotly) {\n",
       "                    window.PLOTLYENV=window.PLOTLYENV || {};\n",
       "                    \n",
       "                if (document.getElementById(\"60b6b75f-d32b-4919-b593-869d81a09237\")) {\n",
       "                    Plotly.newPlot(\n",
       "                        '60b6b75f-d32b-4919-b593-869d81a09237',\n",
       "                        [{\"name\": \"Attended > 50%\", \"type\": \"scatter\", \"x\": [\"2012\", \"2013\", \"2014\", \"2015\"], \"xaxis\": \"x\", \"y\": [0.13736474354232375, 0.13982168285477461, 0.16339350490121005, 0.1873401645148082], \"yaxis\": \"y\"}, {\"name\": \"Duration\", \"type\": \"scatter\", \"x\": [\"2012\", \"2013\", \"2014\", \"2015\"], \"xaxis\": \"x\", \"y\": [511.168, 202.862962962963, 78.22716417910449, 74.74311475409837], \"yaxis\": \"y2\"}],\n",
       "                        {\"template\": {\"data\": {\"bar\": [{\"error_x\": {\"color\": \"#2a3f5f\"}, \"error_y\": {\"color\": \"#2a3f5f\"}, \"marker\": {\"line\": {\"color\": \"#E5ECF6\", \"width\": 0.5}}, \"type\": \"bar\"}], \"barpolar\": [{\"marker\": {\"line\": {\"color\": \"#E5ECF6\", \"width\": 0.5}}, \"type\": \"barpolar\"}], \"carpet\": [{\"aaxis\": {\"endlinecolor\": \"#2a3f5f\", \"gridcolor\": \"white\", \"linecolor\": \"white\", \"minorgridcolor\": \"white\", \"startlinecolor\": \"#2a3f5f\"}, \"baxis\": {\"endlinecolor\": \"#2a3f5f\", \"gridcolor\": \"white\", \"linecolor\": \"white\", \"minorgridcolor\": \"white\", \"startlinecolor\": \"#2a3f5f\"}, \"type\": \"carpet\"}], \"choropleth\": [{\"colorbar\": {\"outlinewidth\": 0, \"ticks\": \"\"}, \"type\": \"choropleth\"}], \"contour\": [{\"colorbar\": {\"outlinewidth\": 0, \"ticks\": \"\"}, \"colorscale\": [[0.0, \"#0d0887\"], [0.1111111111111111, \"#46039f\"], [0.2222222222222222, \"#7201a8\"], [0.3333333333333333, \"#9c179e\"], [0.4444444444444444, \"#bd3786\"], [0.5555555555555556, \"#d8576b\"], [0.6666666666666666, \"#ed7953\"], [0.7777777777777778, \"#fb9f3a\"], [0.8888888888888888, \"#fdca26\"], [1.0, \"#f0f921\"]], \"type\": \"contour\"}], \"contourcarpet\": [{\"colorbar\": {\"outlinewidth\": 0, \"ticks\": \"\"}, \"type\": \"contourcarpet\"}], \"heatmap\": [{\"colorbar\": {\"outlinewidth\": 0, \"ticks\": \"\"}, \"colorscale\": [[0.0, \"#0d0887\"], [0.1111111111111111, \"#46039f\"], [0.2222222222222222, \"#7201a8\"], [0.3333333333333333, \"#9c179e\"], [0.4444444444444444, \"#bd3786\"], [0.5555555555555556, \"#d8576b\"], [0.6666666666666666, \"#ed7953\"], [0.7777777777777778, \"#fb9f3a\"], [0.8888888888888888, \"#fdca26\"], [1.0, \"#f0f921\"]], \"type\": \"heatmap\"}], \"heatmapgl\": [{\"colorbar\": {\"outlinewidth\": 0, \"ticks\": \"\"}, \"colorscale\": [[0.0, \"#0d0887\"], [0.1111111111111111, \"#46039f\"], [0.2222222222222222, \"#7201a8\"], [0.3333333333333333, \"#9c179e\"], [0.4444444444444444, \"#bd3786\"], [0.5555555555555556, \"#d8576b\"], [0.6666666666666666, \"#ed7953\"], [0.7777777777777778, \"#fb9f3a\"], [0.8888888888888888, \"#fdca26\"], [1.0, \"#f0f921\"]], \"type\": \"heatmapgl\"}], \"histogram\": [{\"marker\": {\"colorbar\": {\"outlinewidth\": 0, \"ticks\": \"\"}}, \"type\": \"histogram\"}], \"histogram2d\": [{\"colorbar\": {\"outlinewidth\": 0, \"ticks\": \"\"}, \"colorscale\": [[0.0, \"#0d0887\"], [0.1111111111111111, \"#46039f\"], [0.2222222222222222, \"#7201a8\"], [0.3333333333333333, \"#9c179e\"], [0.4444444444444444, \"#bd3786\"], [0.5555555555555556, \"#d8576b\"], [0.6666666666666666, \"#ed7953\"], [0.7777777777777778, \"#fb9f3a\"], [0.8888888888888888, \"#fdca26\"], [1.0, \"#f0f921\"]], \"type\": \"histogram2d\"}], \"histogram2dcontour\": [{\"colorbar\": {\"outlinewidth\": 0, \"ticks\": \"\"}, \"colorscale\": [[0.0, \"#0d0887\"], [0.1111111111111111, \"#46039f\"], [0.2222222222222222, \"#7201a8\"], [0.3333333333333333, \"#9c179e\"], [0.4444444444444444, \"#bd3786\"], [0.5555555555555556, \"#d8576b\"], [0.6666666666666666, \"#ed7953\"], [0.7777777777777778, \"#fb9f3a\"], [0.8888888888888888, \"#fdca26\"], [1.0, \"#f0f921\"]], \"type\": \"histogram2dcontour\"}], \"mesh3d\": [{\"colorbar\": {\"outlinewidth\": 0, \"ticks\": \"\"}, \"type\": \"mesh3d\"}], \"parcoords\": [{\"line\": {\"colorbar\": {\"outlinewidth\": 0, \"ticks\": \"\"}}, \"type\": \"parcoords\"}], \"pie\": [{\"automargin\": true, \"type\": \"pie\"}], \"scatter\": [{\"marker\": {\"colorbar\": {\"outlinewidth\": 0, \"ticks\": \"\"}}, \"type\": \"scatter\"}], \"scatter3d\": [{\"line\": {\"colorbar\": {\"outlinewidth\": 0, \"ticks\": \"\"}}, \"marker\": {\"colorbar\": {\"outlinewidth\": 0, \"ticks\": \"\"}}, \"type\": \"scatter3d\"}], \"scattercarpet\": [{\"marker\": {\"colorbar\": {\"outlinewidth\": 0, \"ticks\": \"\"}}, \"type\": \"scattercarpet\"}], \"scattergeo\": [{\"marker\": {\"colorbar\": {\"outlinewidth\": 0, \"ticks\": \"\"}}, \"type\": \"scattergeo\"}], \"scattergl\": [{\"marker\": {\"colorbar\": {\"outlinewidth\": 0, \"ticks\": \"\"}}, \"type\": \"scattergl\"}], \"scattermapbox\": [{\"marker\": {\"colorbar\": {\"outlinewidth\": 0, \"ticks\": \"\"}}, \"type\": \"scattermapbox\"}], \"scatterpolar\": [{\"marker\": {\"colorbar\": {\"outlinewidth\": 0, \"ticks\": \"\"}}, \"type\": \"scatterpolar\"}], \"scatterpolargl\": [{\"marker\": {\"colorbar\": {\"outlinewidth\": 0, \"ticks\": \"\"}}, \"type\": \"scatterpolargl\"}], \"scatterternary\": [{\"marker\": {\"colorbar\": {\"outlinewidth\": 0, \"ticks\": \"\"}}, \"type\": \"scatterternary\"}], \"surface\": [{\"colorbar\": {\"outlinewidth\": 0, \"ticks\": \"\"}, \"colorscale\": [[0.0, \"#0d0887\"], [0.1111111111111111, \"#46039f\"], [0.2222222222222222, \"#7201a8\"], [0.3333333333333333, \"#9c179e\"], [0.4444444444444444, \"#bd3786\"], [0.5555555555555556, \"#d8576b\"], [0.6666666666666666, \"#ed7953\"], [0.7777777777777778, \"#fb9f3a\"], [0.8888888888888888, \"#fdca26\"], [1.0, \"#f0f921\"]], \"type\": \"surface\"}], \"table\": [{\"cells\": {\"fill\": {\"color\": \"#EBF0F8\"}, \"line\": {\"color\": \"white\"}}, \"header\": {\"fill\": {\"color\": \"#C8D4E3\"}, \"line\": {\"color\": \"white\"}}, \"type\": \"table\"}]}, \"layout\": {\"annotationdefaults\": {\"arrowcolor\": \"#2a3f5f\", \"arrowhead\": 0, \"arrowwidth\": 1}, \"coloraxis\": {\"colorbar\": {\"outlinewidth\": 0, \"ticks\": \"\"}}, \"colorscale\": {\"diverging\": [[0, \"#8e0152\"], [0.1, \"#c51b7d\"], [0.2, \"#de77ae\"], [0.3, \"#f1b6da\"], [0.4, \"#fde0ef\"], [0.5, \"#f7f7f7\"], [0.6, \"#e6f5d0\"], [0.7, \"#b8e186\"], [0.8, \"#7fbc41\"], [0.9, \"#4d9221\"], [1, \"#276419\"]], \"sequential\": [[0.0, \"#0d0887\"], [0.1111111111111111, \"#46039f\"], [0.2222222222222222, \"#7201a8\"], [0.3333333333333333, \"#9c179e\"], [0.4444444444444444, \"#bd3786\"], [0.5555555555555556, \"#d8576b\"], [0.6666666666666666, \"#ed7953\"], [0.7777777777777778, \"#fb9f3a\"], [0.8888888888888888, \"#fdca26\"], [1.0, \"#f0f921\"]], \"sequentialminus\": [[0.0, \"#0d0887\"], [0.1111111111111111, \"#46039f\"], [0.2222222222222222, \"#7201a8\"], [0.3333333333333333, \"#9c179e\"], [0.4444444444444444, \"#bd3786\"], [0.5555555555555556, \"#d8576b\"], [0.6666666666666666, \"#ed7953\"], [0.7777777777777778, \"#fb9f3a\"], [0.8888888888888888, \"#fdca26\"], [1.0, \"#f0f921\"]]}, \"colorway\": [\"#636efa\", \"#EF553B\", \"#00cc96\", \"#ab63fa\", \"#FFA15A\", \"#19d3f3\", \"#FF6692\", \"#B6E880\", \"#FF97FF\", \"#FECB52\"], \"font\": {\"color\": \"#2a3f5f\"}, \"geo\": {\"bgcolor\": \"white\", \"lakecolor\": \"white\", \"landcolor\": \"#E5ECF6\", \"showlakes\": true, \"showland\": true, \"subunitcolor\": \"white\"}, \"hoverlabel\": {\"align\": \"left\"}, \"hovermode\": \"closest\", \"mapbox\": {\"style\": \"light\"}, \"paper_bgcolor\": \"white\", \"plot_bgcolor\": \"#E5ECF6\", \"polar\": {\"angularaxis\": {\"gridcolor\": \"white\", \"linecolor\": \"white\", \"ticks\": \"\"}, \"bgcolor\": \"#E5ECF6\", \"radialaxis\": {\"gridcolor\": \"white\", \"linecolor\": \"white\", \"ticks\": \"\"}}, \"scene\": {\"xaxis\": {\"backgroundcolor\": \"#E5ECF6\", \"gridcolor\": \"white\", \"gridwidth\": 2, \"linecolor\": \"white\", \"showbackground\": true, \"ticks\": \"\", \"zerolinecolor\": \"white\"}, \"yaxis\": {\"backgroundcolor\": \"#E5ECF6\", \"gridcolor\": \"white\", \"gridwidth\": 2, \"linecolor\": \"white\", \"showbackground\": true, \"ticks\": \"\", \"zerolinecolor\": \"white\"}, \"zaxis\": {\"backgroundcolor\": \"#E5ECF6\", \"gridcolor\": \"white\", \"gridwidth\": 2, \"linecolor\": \"white\", \"showbackground\": true, \"ticks\": \"\", \"zerolinecolor\": \"white\"}}, \"shapedefaults\": {\"line\": {\"color\": \"#2a3f5f\"}}, \"ternary\": {\"aaxis\": {\"gridcolor\": \"white\", \"linecolor\": \"white\", \"ticks\": \"\"}, \"baxis\": {\"gridcolor\": \"white\", \"linecolor\": \"white\", \"ticks\": \"\"}, \"bgcolor\": \"#E5ECF6\", \"caxis\": {\"gridcolor\": \"white\", \"linecolor\": \"white\", \"ticks\": \"\"}}, \"title\": {\"x\": 0.05}, \"xaxis\": {\"automargin\": true, \"gridcolor\": \"white\", \"linecolor\": \"white\", \"ticks\": \"\", \"title\": {\"standoff\": 15}, \"zerolinecolor\": \"white\", \"zerolinewidth\": 2}, \"yaxis\": {\"automargin\": true, \"gridcolor\": \"white\", \"linecolor\": \"white\", \"ticks\": \"\", \"title\": {\"standoff\": 15}, \"zerolinecolor\": \"white\", \"zerolinewidth\": 2}}}, \"title\": {\"text\": \"Attendance vs. Course duration\"}, \"xaxis\": {\"anchor\": \"y\", \"domain\": [0.0, 0.94], \"title\": {\"text\": \"Years\"}}, \"yaxis\": {\"anchor\": \"x\", \"domain\": [0.0, 1.0], \"title\": {\"text\": \" % Attended > 50%\"}}, \"yaxis2\": {\"anchor\": \"x\", \"overlaying\": \"y\", \"side\": \"right\", \"title\": {\"text\": \"Average duration\"}}},\n",
       "                        {\"responsive\": true}\n",
       "                    ).then(function(){\n",
       "                            \n",
       "var gd = document.getElementById('60b6b75f-d32b-4919-b593-869d81a09237');\n",
       "var x = new MutationObserver(function (mutations, observer) {{\n",
       "        var display = window.getComputedStyle(gd).display;\n",
       "        if (!display || display === 'none') {{\n",
       "            console.log([gd, 'removed!']);\n",
       "            Plotly.purge(gd);\n",
       "            observer.disconnect();\n",
       "        }}\n",
       "}});\n",
       "\n",
       "// Listen for the removal of the full notebook cells\n",
       "var notebookContainer = gd.closest('#notebook-container');\n",
       "if (notebookContainer) {{\n",
       "    x.observe(notebookContainer, {childList: true});\n",
       "}}\n",
       "\n",
       "// Listen for the clearing of the current output cell\n",
       "var outputEl = gd.closest('.output');\n",
       "if (outputEl) {{\n",
       "    x.observe(outputEl, {childList: true});\n",
       "}}\n",
       "\n",
       "                        })\n",
       "                };\n",
       "                });\n",
       "            </script>\n",
       "        </div>"
      ]
     },
     "metadata": {},
     "output_type": "display_data"
    }
   ],
   "source": [
    "# Create figure with secondary y-axis\n",
    "fig = make_subplots(specs=[[{\"secondary_y\": True}]])\n",
    "\n",
    "# Add traces\n",
    "fig.add_trace(\n",
    "    go.Scatter(name='Attended > 50%', x=evolution3[\"Years\"], y=evolution3[\"%_attended_>50%\"]),\n",
    "    secondary_y=False,\n",
    ")\n",
    "\n",
    "fig.add_trace(\n",
    "    go.Scatter(name='Duration', x=evolution3[\"Years\"], y=evolution3[\"%_tot_hours\"]),\n",
    "    secondary_y=True,\n",
    ")\n",
    "\n",
    "# Add figure title\n",
    "fig.update_layout(\n",
    "    title_text=\"Attendance vs. Course duration\"\n",
    ")\n",
    "\n",
    "# Set x-axis title\n",
    "fig.update_xaxes(title_text=\"Years\")\n",
    "\n",
    "# Set y-axes titles\n",
    "fig.update_yaxes(title_text=\" % Attended > 50%\", secondary_y=False)\n",
    "fig.update_yaxes(title_text=\"Average duration\", secondary_y=True)\n",
    "\n",
    "fig.show()"
   ]
  },
  {
   "cell_type": "markdown",
   "metadata": {},
   "source": [
    "# Participants and certifications over years per institution"
   ]
  },
  {
   "cell_type": "code",
   "execution_count": 64,
   "metadata": {},
   "outputs": [
    {
     "data": {
      "text/html": [
       "<div>\n",
       "<style scoped>\n",
       "    .dataframe tbody tr th:only-of-type {\n",
       "        vertical-align: middle;\n",
       "    }\n",
       "\n",
       "    .dataframe tbody tr th {\n",
       "        vertical-align: top;\n",
       "    }\n",
       "\n",
       "    .dataframe thead th {\n",
       "        text-align: right;\n",
       "    }\n",
       "</style>\n",
       "<table border=\"1\" class=\"dataframe\">\n",
       "  <thead>\n",
       "    <tr style=\"text-align: right;\">\n",
       "      <th></th>\n",
       "      <th></th>\n",
       "      <th>certified</th>\n",
       "      <th>participants</th>\n",
       "    </tr>\n",
       "    <tr>\n",
       "      <th>Institution</th>\n",
       "      <th>Years</th>\n",
       "      <th></th>\n",
       "      <th></th>\n",
       "    </tr>\n",
       "  </thead>\n",
       "  <tbody>\n",
       "    <tr>\n",
       "      <th rowspan=\"5\" valign=\"top\">HarvardX</th>\n",
       "      <th>2012</th>\n",
       "      <td>6497</td>\n",
       "      <td>181921</td>\n",
       "    </tr>\n",
       "    <tr>\n",
       "      <th>2013</th>\n",
       "      <td>21570</td>\n",
       "      <td>294975</td>\n",
       "    </tr>\n",
       "    <tr>\n",
       "      <th>2014</th>\n",
       "      <td>39246</td>\n",
       "      <td>619514</td>\n",
       "    </tr>\n",
       "    <tr>\n",
       "      <th>2015</th>\n",
       "      <td>33002</td>\n",
       "      <td>685736</td>\n",
       "    </tr>\n",
       "    <tr>\n",
       "      <th>2016</th>\n",
       "      <td>7680</td>\n",
       "      <td>318975</td>\n",
       "    </tr>\n",
       "    <tr>\n",
       "      <th rowspan=\"5\" valign=\"top\">MITx</th>\n",
       "      <th>2012</th>\n",
       "      <td>10868</td>\n",
       "      <td>115477</td>\n",
       "    </tr>\n",
       "    <tr>\n",
       "      <th>2013</th>\n",
       "      <td>30421</td>\n",
       "      <td>457841</td>\n",
       "    </tr>\n",
       "    <tr>\n",
       "      <th>2014</th>\n",
       "      <td>32096</td>\n",
       "      <td>523163</td>\n",
       "    </tr>\n",
       "    <tr>\n",
       "      <th>2015</th>\n",
       "      <td>49193</td>\n",
       "      <td>874853</td>\n",
       "    </tr>\n",
       "    <tr>\n",
       "      <th>2016</th>\n",
       "      <td>14132</td>\n",
       "      <td>377402</td>\n",
       "    </tr>\n",
       "  </tbody>\n",
       "</table>\n",
       "</div>"
      ],
      "text/plain": [
       "                   certified  participants\n",
       "Institution Years                         \n",
       "HarvardX    2012        6497        181921\n",
       "            2013       21570        294975\n",
       "            2014       39246        619514\n",
       "            2015       33002        685736\n",
       "            2016        7680        318975\n",
       "MITx        2012       10868        115477\n",
       "            2013       30421        457841\n",
       "            2014       32096        523163\n",
       "            2015       49193        874853\n",
       "            2016       14132        377402"
      ]
     },
     "execution_count": 64,
     "metadata": {},
     "output_type": "execute_result"
    }
   ],
   "source": [
    "evolution = pd.pivot_table(online_courses, index=[\"Institution\", \"Years\"], values = (\"participants\", \"certified\"), aggfunc= \"sum\")\n",
    "evolution"
   ]
  },
  {
   "cell_type": "code",
   "execution_count": 65,
   "metadata": {},
   "outputs": [],
   "source": [
    "evolution[\"%_certified\"] = (evolution[\"certified\"]/evolution[\"participants\"])*100"
   ]
  },
  {
   "cell_type": "code",
   "execution_count": 66,
   "metadata": {},
   "outputs": [
    {
     "data": {
      "text/html": [
       "<div>\n",
       "<style scoped>\n",
       "    .dataframe tbody tr th:only-of-type {\n",
       "        vertical-align: middle;\n",
       "    }\n",
       "\n",
       "    .dataframe tbody tr th {\n",
       "        vertical-align: top;\n",
       "    }\n",
       "\n",
       "    .dataframe thead th {\n",
       "        text-align: right;\n",
       "    }\n",
       "</style>\n",
       "<table border=\"1\" class=\"dataframe\">\n",
       "  <thead>\n",
       "    <tr style=\"text-align: right;\">\n",
       "      <th></th>\n",
       "      <th>Institution</th>\n",
       "      <th>Years</th>\n",
       "      <th>certified</th>\n",
       "      <th>participants</th>\n",
       "      <th>%_certified</th>\n",
       "    </tr>\n",
       "  </thead>\n",
       "  <tbody>\n",
       "    <tr>\n",
       "      <th>0</th>\n",
       "      <td>HarvardX</td>\n",
       "      <td>2012</td>\n",
       "      <td>6497</td>\n",
       "      <td>181921</td>\n",
       "      <td>3.571330</td>\n",
       "    </tr>\n",
       "    <tr>\n",
       "      <th>1</th>\n",
       "      <td>HarvardX</td>\n",
       "      <td>2013</td>\n",
       "      <td>21570</td>\n",
       "      <td>294975</td>\n",
       "      <td>7.312484</td>\n",
       "    </tr>\n",
       "    <tr>\n",
       "      <th>2</th>\n",
       "      <td>HarvardX</td>\n",
       "      <td>2014</td>\n",
       "      <td>39246</td>\n",
       "      <td>619514</td>\n",
       "      <td>6.334966</td>\n",
       "    </tr>\n",
       "    <tr>\n",
       "      <th>3</th>\n",
       "      <td>HarvardX</td>\n",
       "      <td>2015</td>\n",
       "      <td>33002</td>\n",
       "      <td>685736</td>\n",
       "      <td>4.812639</td>\n",
       "    </tr>\n",
       "    <tr>\n",
       "      <th>5</th>\n",
       "      <td>MITx</td>\n",
       "      <td>2012</td>\n",
       "      <td>10868</td>\n",
       "      <td>115477</td>\n",
       "      <td>9.411398</td>\n",
       "    </tr>\n",
       "    <tr>\n",
       "      <th>6</th>\n",
       "      <td>MITx</td>\n",
       "      <td>2013</td>\n",
       "      <td>30421</td>\n",
       "      <td>457841</td>\n",
       "      <td>6.644446</td>\n",
       "    </tr>\n",
       "    <tr>\n",
       "      <th>7</th>\n",
       "      <td>MITx</td>\n",
       "      <td>2014</td>\n",
       "      <td>32096</td>\n",
       "      <td>523163</td>\n",
       "      <td>6.134990</td>\n",
       "    </tr>\n",
       "    <tr>\n",
       "      <th>8</th>\n",
       "      <td>MITx</td>\n",
       "      <td>2015</td>\n",
       "      <td>49193</td>\n",
       "      <td>874853</td>\n",
       "      <td>5.623002</td>\n",
       "    </tr>\n",
       "  </tbody>\n",
       "</table>\n",
       "</div>"
      ],
      "text/plain": [
       "  Institution Years  certified  participants  %_certified\n",
       "0    HarvardX  2012       6497        181921     3.571330\n",
       "1    HarvardX  2013      21570        294975     7.312484\n",
       "2    HarvardX  2014      39246        619514     6.334966\n",
       "3    HarvardX  2015      33002        685736     4.812639\n",
       "5        MITx  2012      10868        115477     9.411398\n",
       "6        MITx  2013      30421        457841     6.644446\n",
       "7        MITx  2014      32096        523163     6.134990\n",
       "8        MITx  2015      49193        874853     5.623002"
      ]
     },
     "execution_count": 66,
     "metadata": {},
     "output_type": "execute_result"
    }
   ],
   "source": [
    "evolution2 = evolution.reset_index()\n",
    "evolution2.drop(index = 4, inplace = True)\n",
    "evolution2.drop(index = 9, inplace = True)\n",
    "evolution2"
   ]
  },
  {
   "cell_type": "code",
   "execution_count": 67,
   "metadata": {},
   "outputs": [
    {
     "data": {
      "text/html": [
       "<div>\n",
       "<style scoped>\n",
       "    .dataframe tbody tr th:only-of-type {\n",
       "        vertical-align: middle;\n",
       "    }\n",
       "\n",
       "    .dataframe tbody tr th {\n",
       "        vertical-align: top;\n",
       "    }\n",
       "\n",
       "    .dataframe thead th {\n",
       "        text-align: right;\n",
       "    }\n",
       "</style>\n",
       "<table border=\"1\" class=\"dataframe\">\n",
       "  <thead>\n",
       "    <tr style=\"text-align: right;\">\n",
       "      <th></th>\n",
       "      <th>Institution</th>\n",
       "      <th>Years</th>\n",
       "      <th>certified</th>\n",
       "      <th>participants</th>\n",
       "      <th>%_certified</th>\n",
       "    </tr>\n",
       "  </thead>\n",
       "  <tbody>\n",
       "    <tr>\n",
       "      <th>0</th>\n",
       "      <td>HarvardX</td>\n",
       "      <td>2012</td>\n",
       "      <td>6497</td>\n",
       "      <td>181921</td>\n",
       "      <td>3.571330</td>\n",
       "    </tr>\n",
       "    <tr>\n",
       "      <th>1</th>\n",
       "      <td>HarvardX</td>\n",
       "      <td>2013</td>\n",
       "      <td>21570</td>\n",
       "      <td>294975</td>\n",
       "      <td>7.312484</td>\n",
       "    </tr>\n",
       "    <tr>\n",
       "      <th>2</th>\n",
       "      <td>HarvardX</td>\n",
       "      <td>2014</td>\n",
       "      <td>39246</td>\n",
       "      <td>619514</td>\n",
       "      <td>6.334966</td>\n",
       "    </tr>\n",
       "    <tr>\n",
       "      <th>3</th>\n",
       "      <td>HarvardX</td>\n",
       "      <td>2015</td>\n",
       "      <td>33002</td>\n",
       "      <td>685736</td>\n",
       "      <td>4.812639</td>\n",
       "    </tr>\n",
       "  </tbody>\n",
       "</table>\n",
       "</div>"
      ],
      "text/plain": [
       "  Institution Years  certified  participants  %_certified\n",
       "0    HarvardX  2012       6497        181921     3.571330\n",
       "1    HarvardX  2013      21570        294975     7.312484\n",
       "2    HarvardX  2014      39246        619514     6.334966\n",
       "3    HarvardX  2015      33002        685736     4.812639"
      ]
     },
     "execution_count": 67,
     "metadata": {},
     "output_type": "execute_result"
    }
   ],
   "source": [
    "harvard_years = evolution2.iloc[0:4]\n",
    "harvard_years"
   ]
  },
  {
   "cell_type": "code",
   "execution_count": 68,
   "metadata": {},
   "outputs": [
    {
     "data": {
      "text/html": [
       "<div>\n",
       "<style scoped>\n",
       "    .dataframe tbody tr th:only-of-type {\n",
       "        vertical-align: middle;\n",
       "    }\n",
       "\n",
       "    .dataframe tbody tr th {\n",
       "        vertical-align: top;\n",
       "    }\n",
       "\n",
       "    .dataframe thead th {\n",
       "        text-align: right;\n",
       "    }\n",
       "</style>\n",
       "<table border=\"1\" class=\"dataframe\">\n",
       "  <thead>\n",
       "    <tr style=\"text-align: right;\">\n",
       "      <th></th>\n",
       "      <th>Institution</th>\n",
       "      <th>Years</th>\n",
       "      <th>certified</th>\n",
       "      <th>participants</th>\n",
       "      <th>%_certified</th>\n",
       "    </tr>\n",
       "  </thead>\n",
       "  <tbody>\n",
       "    <tr>\n",
       "      <th>5</th>\n",
       "      <td>MITx</td>\n",
       "      <td>2012</td>\n",
       "      <td>10868</td>\n",
       "      <td>115477</td>\n",
       "      <td>9.411398</td>\n",
       "    </tr>\n",
       "    <tr>\n",
       "      <th>6</th>\n",
       "      <td>MITx</td>\n",
       "      <td>2013</td>\n",
       "      <td>30421</td>\n",
       "      <td>457841</td>\n",
       "      <td>6.644446</td>\n",
       "    </tr>\n",
       "    <tr>\n",
       "      <th>7</th>\n",
       "      <td>MITx</td>\n",
       "      <td>2014</td>\n",
       "      <td>32096</td>\n",
       "      <td>523163</td>\n",
       "      <td>6.134990</td>\n",
       "    </tr>\n",
       "    <tr>\n",
       "      <th>8</th>\n",
       "      <td>MITx</td>\n",
       "      <td>2015</td>\n",
       "      <td>49193</td>\n",
       "      <td>874853</td>\n",
       "      <td>5.623002</td>\n",
       "    </tr>\n",
       "  </tbody>\n",
       "</table>\n",
       "</div>"
      ],
      "text/plain": [
       "  Institution Years  certified  participants  %_certified\n",
       "5        MITx  2012      10868        115477     9.411398\n",
       "6        MITx  2013      30421        457841     6.644446\n",
       "7        MITx  2014      32096        523163     6.134990\n",
       "8        MITx  2015      49193        874853     5.623002"
      ]
     },
     "execution_count": 68,
     "metadata": {},
     "output_type": "execute_result"
    }
   ],
   "source": [
    "mit_years = evolution2.iloc[4:9]\n",
    "mit_years"
   ]
  },
  {
   "cell_type": "code",
   "execution_count": 69,
   "metadata": {},
   "outputs": [
    {
     "data": {
      "application/vnd.plotly.v1+json": {
       "config": {
        "plotlyServerURL": "https://plot.ly"
       },
       "data": [
        {
         "name": "Participants Harvard",
         "type": "scatter",
         "x": [
          "2012",
          "2013",
          "2014",
          "2015"
         ],
         "xaxis": "x",
         "y": [
          115477,
          457841,
          523163,
          874853
         ],
         "yaxis": "y"
        },
        {
         "name": "Certified Harvard",
         "type": "scatter",
         "x": [
          "2012",
          "2013",
          "2014",
          "2015"
         ],
         "xaxis": "x",
         "y": [
          10868,
          30421,
          32096,
          49193
         ],
         "yaxis": "y"
        },
        {
         "name": "Participants MIT",
         "type": "scatter",
         "x": [
          "2012",
          "2013",
          "2014",
          "2015"
         ],
         "xaxis": "x2",
         "y": [
          181921,
          294975,
          619514,
          685736
         ],
         "yaxis": "y2"
        },
        {
         "name": "Certified MIT",
         "type": "scatter",
         "x": [
          "2012",
          "2013",
          "2014",
          "2015"
         ],
         "xaxis": "x2",
         "y": [
          10868,
          30421,
          32096,
          49193
         ],
         "yaxis": "y2"
        }
       ],
       "layout": {
        "annotations": [
         {
          "font": {
           "size": 16
          },
          "showarrow": false,
          "text": "Harvard",
          "x": 0.225,
          "xanchor": "center",
          "xref": "paper",
          "y": 1,
          "yanchor": "bottom",
          "yref": "paper"
         },
         {
          "font": {
           "size": 16
          },
          "showarrow": false,
          "text": "MIT",
          "x": 0.775,
          "xanchor": "center",
          "xref": "paper",
          "y": 1,
          "yanchor": "bottom",
          "yref": "paper"
         }
        ],
        "height": 600,
        "template": {
         "data": {
          "bar": [
           {
            "error_x": {
             "color": "#2a3f5f"
            },
            "error_y": {
             "color": "#2a3f5f"
            },
            "marker": {
             "line": {
              "color": "#E5ECF6",
              "width": 0.5
             }
            },
            "type": "bar"
           }
          ],
          "barpolar": [
           {
            "marker": {
             "line": {
              "color": "#E5ECF6",
              "width": 0.5
             }
            },
            "type": "barpolar"
           }
          ],
          "carpet": [
           {
            "aaxis": {
             "endlinecolor": "#2a3f5f",
             "gridcolor": "white",
             "linecolor": "white",
             "minorgridcolor": "white",
             "startlinecolor": "#2a3f5f"
            },
            "baxis": {
             "endlinecolor": "#2a3f5f",
             "gridcolor": "white",
             "linecolor": "white",
             "minorgridcolor": "white",
             "startlinecolor": "#2a3f5f"
            },
            "type": "carpet"
           }
          ],
          "choropleth": [
           {
            "colorbar": {
             "outlinewidth": 0,
             "ticks": ""
            },
            "type": "choropleth"
           }
          ],
          "contour": [
           {
            "colorbar": {
             "outlinewidth": 0,
             "ticks": ""
            },
            "colorscale": [
             [
              0,
              "#0d0887"
             ],
             [
              0.1111111111111111,
              "#46039f"
             ],
             [
              0.2222222222222222,
              "#7201a8"
             ],
             [
              0.3333333333333333,
              "#9c179e"
             ],
             [
              0.4444444444444444,
              "#bd3786"
             ],
             [
              0.5555555555555556,
              "#d8576b"
             ],
             [
              0.6666666666666666,
              "#ed7953"
             ],
             [
              0.7777777777777778,
              "#fb9f3a"
             ],
             [
              0.8888888888888888,
              "#fdca26"
             ],
             [
              1,
              "#f0f921"
             ]
            ],
            "type": "contour"
           }
          ],
          "contourcarpet": [
           {
            "colorbar": {
             "outlinewidth": 0,
             "ticks": ""
            },
            "type": "contourcarpet"
           }
          ],
          "heatmap": [
           {
            "colorbar": {
             "outlinewidth": 0,
             "ticks": ""
            },
            "colorscale": [
             [
              0,
              "#0d0887"
             ],
             [
              0.1111111111111111,
              "#46039f"
             ],
             [
              0.2222222222222222,
              "#7201a8"
             ],
             [
              0.3333333333333333,
              "#9c179e"
             ],
             [
              0.4444444444444444,
              "#bd3786"
             ],
             [
              0.5555555555555556,
              "#d8576b"
             ],
             [
              0.6666666666666666,
              "#ed7953"
             ],
             [
              0.7777777777777778,
              "#fb9f3a"
             ],
             [
              0.8888888888888888,
              "#fdca26"
             ],
             [
              1,
              "#f0f921"
             ]
            ],
            "type": "heatmap"
           }
          ],
          "heatmapgl": [
           {
            "colorbar": {
             "outlinewidth": 0,
             "ticks": ""
            },
            "colorscale": [
             [
              0,
              "#0d0887"
             ],
             [
              0.1111111111111111,
              "#46039f"
             ],
             [
              0.2222222222222222,
              "#7201a8"
             ],
             [
              0.3333333333333333,
              "#9c179e"
             ],
             [
              0.4444444444444444,
              "#bd3786"
             ],
             [
              0.5555555555555556,
              "#d8576b"
             ],
             [
              0.6666666666666666,
              "#ed7953"
             ],
             [
              0.7777777777777778,
              "#fb9f3a"
             ],
             [
              0.8888888888888888,
              "#fdca26"
             ],
             [
              1,
              "#f0f921"
             ]
            ],
            "type": "heatmapgl"
           }
          ],
          "histogram": [
           {
            "marker": {
             "colorbar": {
              "outlinewidth": 0,
              "ticks": ""
             }
            },
            "type": "histogram"
           }
          ],
          "histogram2d": [
           {
            "colorbar": {
             "outlinewidth": 0,
             "ticks": ""
            },
            "colorscale": [
             [
              0,
              "#0d0887"
             ],
             [
              0.1111111111111111,
              "#46039f"
             ],
             [
              0.2222222222222222,
              "#7201a8"
             ],
             [
              0.3333333333333333,
              "#9c179e"
             ],
             [
              0.4444444444444444,
              "#bd3786"
             ],
             [
              0.5555555555555556,
              "#d8576b"
             ],
             [
              0.6666666666666666,
              "#ed7953"
             ],
             [
              0.7777777777777778,
              "#fb9f3a"
             ],
             [
              0.8888888888888888,
              "#fdca26"
             ],
             [
              1,
              "#f0f921"
             ]
            ],
            "type": "histogram2d"
           }
          ],
          "histogram2dcontour": [
           {
            "colorbar": {
             "outlinewidth": 0,
             "ticks": ""
            },
            "colorscale": [
             [
              0,
              "#0d0887"
             ],
             [
              0.1111111111111111,
              "#46039f"
             ],
             [
              0.2222222222222222,
              "#7201a8"
             ],
             [
              0.3333333333333333,
              "#9c179e"
             ],
             [
              0.4444444444444444,
              "#bd3786"
             ],
             [
              0.5555555555555556,
              "#d8576b"
             ],
             [
              0.6666666666666666,
              "#ed7953"
             ],
             [
              0.7777777777777778,
              "#fb9f3a"
             ],
             [
              0.8888888888888888,
              "#fdca26"
             ],
             [
              1,
              "#f0f921"
             ]
            ],
            "type": "histogram2dcontour"
           }
          ],
          "mesh3d": [
           {
            "colorbar": {
             "outlinewidth": 0,
             "ticks": ""
            },
            "type": "mesh3d"
           }
          ],
          "parcoords": [
           {
            "line": {
             "colorbar": {
              "outlinewidth": 0,
              "ticks": ""
             }
            },
            "type": "parcoords"
           }
          ],
          "pie": [
           {
            "automargin": true,
            "type": "pie"
           }
          ],
          "scatter": [
           {
            "marker": {
             "colorbar": {
              "outlinewidth": 0,
              "ticks": ""
             }
            },
            "type": "scatter"
           }
          ],
          "scatter3d": [
           {
            "line": {
             "colorbar": {
              "outlinewidth": 0,
              "ticks": ""
             }
            },
            "marker": {
             "colorbar": {
              "outlinewidth": 0,
              "ticks": ""
             }
            },
            "type": "scatter3d"
           }
          ],
          "scattercarpet": [
           {
            "marker": {
             "colorbar": {
              "outlinewidth": 0,
              "ticks": ""
             }
            },
            "type": "scattercarpet"
           }
          ],
          "scattergeo": [
           {
            "marker": {
             "colorbar": {
              "outlinewidth": 0,
              "ticks": ""
             }
            },
            "type": "scattergeo"
           }
          ],
          "scattergl": [
           {
            "marker": {
             "colorbar": {
              "outlinewidth": 0,
              "ticks": ""
             }
            },
            "type": "scattergl"
           }
          ],
          "scattermapbox": [
           {
            "marker": {
             "colorbar": {
              "outlinewidth": 0,
              "ticks": ""
             }
            },
            "type": "scattermapbox"
           }
          ],
          "scatterpolar": [
           {
            "marker": {
             "colorbar": {
              "outlinewidth": 0,
              "ticks": ""
             }
            },
            "type": "scatterpolar"
           }
          ],
          "scatterpolargl": [
           {
            "marker": {
             "colorbar": {
              "outlinewidth": 0,
              "ticks": ""
             }
            },
            "type": "scatterpolargl"
           }
          ],
          "scatterternary": [
           {
            "marker": {
             "colorbar": {
              "outlinewidth": 0,
              "ticks": ""
             }
            },
            "type": "scatterternary"
           }
          ],
          "surface": [
           {
            "colorbar": {
             "outlinewidth": 0,
             "ticks": ""
            },
            "colorscale": [
             [
              0,
              "#0d0887"
             ],
             [
              0.1111111111111111,
              "#46039f"
             ],
             [
              0.2222222222222222,
              "#7201a8"
             ],
             [
              0.3333333333333333,
              "#9c179e"
             ],
             [
              0.4444444444444444,
              "#bd3786"
             ],
             [
              0.5555555555555556,
              "#d8576b"
             ],
             [
              0.6666666666666666,
              "#ed7953"
             ],
             [
              0.7777777777777778,
              "#fb9f3a"
             ],
             [
              0.8888888888888888,
              "#fdca26"
             ],
             [
              1,
              "#f0f921"
             ]
            ],
            "type": "surface"
           }
          ],
          "table": [
           {
            "cells": {
             "fill": {
              "color": "#EBF0F8"
             },
             "line": {
              "color": "white"
             }
            },
            "header": {
             "fill": {
              "color": "#C8D4E3"
             },
             "line": {
              "color": "white"
             }
            },
            "type": "table"
           }
          ]
         },
         "layout": {
          "annotationdefaults": {
           "arrowcolor": "#2a3f5f",
           "arrowhead": 0,
           "arrowwidth": 1
          },
          "coloraxis": {
           "colorbar": {
            "outlinewidth": 0,
            "ticks": ""
           }
          },
          "colorscale": {
           "diverging": [
            [
             0,
             "#8e0152"
            ],
            [
             0.1,
             "#c51b7d"
            ],
            [
             0.2,
             "#de77ae"
            ],
            [
             0.3,
             "#f1b6da"
            ],
            [
             0.4,
             "#fde0ef"
            ],
            [
             0.5,
             "#f7f7f7"
            ],
            [
             0.6,
             "#e6f5d0"
            ],
            [
             0.7,
             "#b8e186"
            ],
            [
             0.8,
             "#7fbc41"
            ],
            [
             0.9,
             "#4d9221"
            ],
            [
             1,
             "#276419"
            ]
           ],
           "sequential": [
            [
             0,
             "#0d0887"
            ],
            [
             0.1111111111111111,
             "#46039f"
            ],
            [
             0.2222222222222222,
             "#7201a8"
            ],
            [
             0.3333333333333333,
             "#9c179e"
            ],
            [
             0.4444444444444444,
             "#bd3786"
            ],
            [
             0.5555555555555556,
             "#d8576b"
            ],
            [
             0.6666666666666666,
             "#ed7953"
            ],
            [
             0.7777777777777778,
             "#fb9f3a"
            ],
            [
             0.8888888888888888,
             "#fdca26"
            ],
            [
             1,
             "#f0f921"
            ]
           ],
           "sequentialminus": [
            [
             0,
             "#0d0887"
            ],
            [
             0.1111111111111111,
             "#46039f"
            ],
            [
             0.2222222222222222,
             "#7201a8"
            ],
            [
             0.3333333333333333,
             "#9c179e"
            ],
            [
             0.4444444444444444,
             "#bd3786"
            ],
            [
             0.5555555555555556,
             "#d8576b"
            ],
            [
             0.6666666666666666,
             "#ed7953"
            ],
            [
             0.7777777777777778,
             "#fb9f3a"
            ],
            [
             0.8888888888888888,
             "#fdca26"
            ],
            [
             1,
             "#f0f921"
            ]
           ]
          },
          "colorway": [
           "#636efa",
           "#EF553B",
           "#00cc96",
           "#ab63fa",
           "#FFA15A",
           "#19d3f3",
           "#FF6692",
           "#B6E880",
           "#FF97FF",
           "#FECB52"
          ],
          "font": {
           "color": "#2a3f5f"
          },
          "geo": {
           "bgcolor": "white",
           "lakecolor": "white",
           "landcolor": "#E5ECF6",
           "showlakes": true,
           "showland": true,
           "subunitcolor": "white"
          },
          "hoverlabel": {
           "align": "left"
          },
          "hovermode": "closest",
          "mapbox": {
           "style": "light"
          },
          "paper_bgcolor": "white",
          "plot_bgcolor": "#E5ECF6",
          "polar": {
           "angularaxis": {
            "gridcolor": "white",
            "linecolor": "white",
            "ticks": ""
           },
           "bgcolor": "#E5ECF6",
           "radialaxis": {
            "gridcolor": "white",
            "linecolor": "white",
            "ticks": ""
           }
          },
          "scene": {
           "xaxis": {
            "backgroundcolor": "#E5ECF6",
            "gridcolor": "white",
            "gridwidth": 2,
            "linecolor": "white",
            "showbackground": true,
            "ticks": "",
            "zerolinecolor": "white"
           },
           "yaxis": {
            "backgroundcolor": "#E5ECF6",
            "gridcolor": "white",
            "gridwidth": 2,
            "linecolor": "white",
            "showbackground": true,
            "ticks": "",
            "zerolinecolor": "white"
           },
           "zaxis": {
            "backgroundcolor": "#E5ECF6",
            "gridcolor": "white",
            "gridwidth": 2,
            "linecolor": "white",
            "showbackground": true,
            "ticks": "",
            "zerolinecolor": "white"
           }
          },
          "shapedefaults": {
           "line": {
            "color": "#2a3f5f"
           }
          },
          "ternary": {
           "aaxis": {
            "gridcolor": "white",
            "linecolor": "white",
            "ticks": ""
           },
           "baxis": {
            "gridcolor": "white",
            "linecolor": "white",
            "ticks": ""
           },
           "bgcolor": "#E5ECF6",
           "caxis": {
            "gridcolor": "white",
            "linecolor": "white",
            "ticks": ""
           }
          },
          "title": {
           "x": 0.05
          },
          "xaxis": {
           "automargin": true,
           "gridcolor": "white",
           "linecolor": "white",
           "ticks": "",
           "title": {
            "standoff": 15
           },
           "zerolinecolor": "white",
           "zerolinewidth": 2
          },
          "yaxis": {
           "automargin": true,
           "gridcolor": "white",
           "linecolor": "white",
           "ticks": "",
           "title": {
            "standoff": 15
           },
           "zerolinecolor": "white",
           "zerolinewidth": 2
          }
         }
        },
        "title": {
         "text": "Participants over years per institution"
        },
        "width": 800,
        "xaxis": {
         "anchor": "y",
         "domain": [
          0,
          0.45
         ]
        },
        "xaxis2": {
         "anchor": "y2",
         "domain": [
          0.55,
          1
         ]
        },
        "yaxis": {
         "anchor": "x",
         "domain": [
          0,
          1
         ]
        },
        "yaxis2": {
         "anchor": "x2",
         "domain": [
          0,
          1
         ]
        }
       }
      },
      "text/html": [
       "<div>\n",
       "        \n",
       "        \n",
       "            <div id=\"ad6de3ee-7799-475a-af9d-d96dd1fcd73c\" class=\"plotly-graph-div\" style=\"height:600px; width:800px;\"></div>\n",
       "            <script type=\"text/javascript\">\n",
       "                require([\"plotly\"], function(Plotly) {\n",
       "                    window.PLOTLYENV=window.PLOTLYENV || {};\n",
       "                    \n",
       "                if (document.getElementById(\"ad6de3ee-7799-475a-af9d-d96dd1fcd73c\")) {\n",
       "                    Plotly.newPlot(\n",
       "                        'ad6de3ee-7799-475a-af9d-d96dd1fcd73c',\n",
       "                        [{\"name\": \"Participants Harvard\", \"type\": \"scatter\", \"x\": [\"2012\", \"2013\", \"2014\", \"2015\"], \"xaxis\": \"x\", \"y\": [115477, 457841, 523163, 874853], \"yaxis\": \"y\"}, {\"name\": \"Certified Harvard\", \"type\": \"scatter\", \"x\": [\"2012\", \"2013\", \"2014\", \"2015\"], \"xaxis\": \"x\", \"y\": [10868, 30421, 32096, 49193], \"yaxis\": \"y\"}, {\"name\": \"Participants MIT\", \"type\": \"scatter\", \"x\": [\"2012\", \"2013\", \"2014\", \"2015\"], \"xaxis\": \"x2\", \"y\": [181921, 294975, 619514, 685736], \"yaxis\": \"y2\"}, {\"name\": \"Certified MIT\", \"type\": \"scatter\", \"x\": [\"2012\", \"2013\", \"2014\", \"2015\"], \"xaxis\": \"x2\", \"y\": [10868, 30421, 32096, 49193], \"yaxis\": \"y2\"}],\n",
       "                        {\"annotations\": [{\"font\": {\"size\": 16}, \"showarrow\": false, \"text\": \"Harvard\", \"x\": 0.225, \"xanchor\": \"center\", \"xref\": \"paper\", \"y\": 1.0, \"yanchor\": \"bottom\", \"yref\": \"paper\"}, {\"font\": {\"size\": 16}, \"showarrow\": false, \"text\": \"MIT\", \"x\": 0.775, \"xanchor\": \"center\", \"xref\": \"paper\", \"y\": 1.0, \"yanchor\": \"bottom\", \"yref\": \"paper\"}], \"height\": 600, \"template\": {\"data\": {\"bar\": [{\"error_x\": {\"color\": \"#2a3f5f\"}, \"error_y\": {\"color\": \"#2a3f5f\"}, \"marker\": {\"line\": {\"color\": \"#E5ECF6\", \"width\": 0.5}}, \"type\": \"bar\"}], \"barpolar\": [{\"marker\": {\"line\": {\"color\": \"#E5ECF6\", \"width\": 0.5}}, \"type\": \"barpolar\"}], \"carpet\": [{\"aaxis\": {\"endlinecolor\": \"#2a3f5f\", \"gridcolor\": \"white\", \"linecolor\": \"white\", \"minorgridcolor\": \"white\", \"startlinecolor\": \"#2a3f5f\"}, \"baxis\": {\"endlinecolor\": \"#2a3f5f\", \"gridcolor\": \"white\", \"linecolor\": \"white\", \"minorgridcolor\": \"white\", \"startlinecolor\": \"#2a3f5f\"}, \"type\": \"carpet\"}], \"choropleth\": [{\"colorbar\": {\"outlinewidth\": 0, \"ticks\": \"\"}, \"type\": \"choropleth\"}], \"contour\": [{\"colorbar\": {\"outlinewidth\": 0, \"ticks\": \"\"}, \"colorscale\": [[0.0, \"#0d0887\"], [0.1111111111111111, \"#46039f\"], [0.2222222222222222, \"#7201a8\"], [0.3333333333333333, \"#9c179e\"], [0.4444444444444444, \"#bd3786\"], [0.5555555555555556, \"#d8576b\"], [0.6666666666666666, \"#ed7953\"], [0.7777777777777778, \"#fb9f3a\"], [0.8888888888888888, \"#fdca26\"], [1.0, \"#f0f921\"]], \"type\": \"contour\"}], \"contourcarpet\": [{\"colorbar\": {\"outlinewidth\": 0, \"ticks\": \"\"}, \"type\": \"contourcarpet\"}], \"heatmap\": [{\"colorbar\": {\"outlinewidth\": 0, \"ticks\": \"\"}, \"colorscale\": [[0.0, \"#0d0887\"], [0.1111111111111111, \"#46039f\"], [0.2222222222222222, \"#7201a8\"], [0.3333333333333333, \"#9c179e\"], [0.4444444444444444, \"#bd3786\"], [0.5555555555555556, \"#d8576b\"], [0.6666666666666666, \"#ed7953\"], [0.7777777777777778, \"#fb9f3a\"], [0.8888888888888888, \"#fdca26\"], [1.0, \"#f0f921\"]], \"type\": \"heatmap\"}], \"heatmapgl\": [{\"colorbar\": {\"outlinewidth\": 0, \"ticks\": \"\"}, \"colorscale\": [[0.0, \"#0d0887\"], [0.1111111111111111, \"#46039f\"], [0.2222222222222222, \"#7201a8\"], [0.3333333333333333, \"#9c179e\"], [0.4444444444444444, \"#bd3786\"], [0.5555555555555556, \"#d8576b\"], [0.6666666666666666, \"#ed7953\"], [0.7777777777777778, \"#fb9f3a\"], [0.8888888888888888, \"#fdca26\"], [1.0, \"#f0f921\"]], \"type\": \"heatmapgl\"}], \"histogram\": [{\"marker\": {\"colorbar\": {\"outlinewidth\": 0, \"ticks\": \"\"}}, \"type\": \"histogram\"}], \"histogram2d\": [{\"colorbar\": {\"outlinewidth\": 0, \"ticks\": \"\"}, \"colorscale\": [[0.0, \"#0d0887\"], [0.1111111111111111, \"#46039f\"], [0.2222222222222222, \"#7201a8\"], [0.3333333333333333, \"#9c179e\"], [0.4444444444444444, \"#bd3786\"], [0.5555555555555556, \"#d8576b\"], [0.6666666666666666, \"#ed7953\"], [0.7777777777777778, \"#fb9f3a\"], [0.8888888888888888, \"#fdca26\"], [1.0, \"#f0f921\"]], \"type\": \"histogram2d\"}], \"histogram2dcontour\": [{\"colorbar\": {\"outlinewidth\": 0, \"ticks\": \"\"}, \"colorscale\": [[0.0, \"#0d0887\"], [0.1111111111111111, \"#46039f\"], [0.2222222222222222, \"#7201a8\"], [0.3333333333333333, \"#9c179e\"], [0.4444444444444444, \"#bd3786\"], [0.5555555555555556, \"#d8576b\"], [0.6666666666666666, \"#ed7953\"], [0.7777777777777778, \"#fb9f3a\"], [0.8888888888888888, \"#fdca26\"], [1.0, \"#f0f921\"]], \"type\": \"histogram2dcontour\"}], \"mesh3d\": [{\"colorbar\": {\"outlinewidth\": 0, \"ticks\": \"\"}, \"type\": \"mesh3d\"}], \"parcoords\": [{\"line\": {\"colorbar\": {\"outlinewidth\": 0, \"ticks\": \"\"}}, \"type\": \"parcoords\"}], \"pie\": [{\"automargin\": true, \"type\": \"pie\"}], \"scatter\": [{\"marker\": {\"colorbar\": {\"outlinewidth\": 0, \"ticks\": \"\"}}, \"type\": \"scatter\"}], \"scatter3d\": [{\"line\": {\"colorbar\": {\"outlinewidth\": 0, \"ticks\": \"\"}}, \"marker\": {\"colorbar\": {\"outlinewidth\": 0, \"ticks\": \"\"}}, \"type\": \"scatter3d\"}], \"scattercarpet\": [{\"marker\": {\"colorbar\": {\"outlinewidth\": 0, \"ticks\": \"\"}}, \"type\": \"scattercarpet\"}], \"scattergeo\": [{\"marker\": {\"colorbar\": {\"outlinewidth\": 0, \"ticks\": \"\"}}, \"type\": \"scattergeo\"}], \"scattergl\": [{\"marker\": {\"colorbar\": {\"outlinewidth\": 0, \"ticks\": \"\"}}, \"type\": \"scattergl\"}], \"scattermapbox\": [{\"marker\": {\"colorbar\": {\"outlinewidth\": 0, \"ticks\": \"\"}}, \"type\": \"scattermapbox\"}], \"scatterpolar\": [{\"marker\": {\"colorbar\": {\"outlinewidth\": 0, \"ticks\": \"\"}}, \"type\": \"scatterpolar\"}], \"scatterpolargl\": [{\"marker\": {\"colorbar\": {\"outlinewidth\": 0, \"ticks\": \"\"}}, \"type\": \"scatterpolargl\"}], \"scatterternary\": [{\"marker\": {\"colorbar\": {\"outlinewidth\": 0, \"ticks\": \"\"}}, \"type\": \"scatterternary\"}], \"surface\": [{\"colorbar\": {\"outlinewidth\": 0, \"ticks\": \"\"}, \"colorscale\": [[0.0, \"#0d0887\"], [0.1111111111111111, \"#46039f\"], [0.2222222222222222, \"#7201a8\"], [0.3333333333333333, \"#9c179e\"], [0.4444444444444444, \"#bd3786\"], [0.5555555555555556, \"#d8576b\"], [0.6666666666666666, \"#ed7953\"], [0.7777777777777778, \"#fb9f3a\"], [0.8888888888888888, \"#fdca26\"], [1.0, \"#f0f921\"]], \"type\": \"surface\"}], \"table\": [{\"cells\": {\"fill\": {\"color\": \"#EBF0F8\"}, \"line\": {\"color\": \"white\"}}, \"header\": {\"fill\": {\"color\": \"#C8D4E3\"}, \"line\": {\"color\": \"white\"}}, \"type\": \"table\"}]}, \"layout\": {\"annotationdefaults\": {\"arrowcolor\": \"#2a3f5f\", \"arrowhead\": 0, \"arrowwidth\": 1}, \"coloraxis\": {\"colorbar\": {\"outlinewidth\": 0, \"ticks\": \"\"}}, \"colorscale\": {\"diverging\": [[0, \"#8e0152\"], [0.1, \"#c51b7d\"], [0.2, \"#de77ae\"], [0.3, \"#f1b6da\"], [0.4, \"#fde0ef\"], [0.5, \"#f7f7f7\"], [0.6, \"#e6f5d0\"], [0.7, \"#b8e186\"], [0.8, \"#7fbc41\"], [0.9, \"#4d9221\"], [1, \"#276419\"]], \"sequential\": [[0.0, \"#0d0887\"], [0.1111111111111111, \"#46039f\"], [0.2222222222222222, \"#7201a8\"], [0.3333333333333333, \"#9c179e\"], [0.4444444444444444, \"#bd3786\"], [0.5555555555555556, \"#d8576b\"], [0.6666666666666666, \"#ed7953\"], [0.7777777777777778, \"#fb9f3a\"], [0.8888888888888888, \"#fdca26\"], [1.0, \"#f0f921\"]], \"sequentialminus\": [[0.0, \"#0d0887\"], [0.1111111111111111, \"#46039f\"], [0.2222222222222222, \"#7201a8\"], [0.3333333333333333, \"#9c179e\"], [0.4444444444444444, \"#bd3786\"], [0.5555555555555556, \"#d8576b\"], [0.6666666666666666, \"#ed7953\"], [0.7777777777777778, \"#fb9f3a\"], [0.8888888888888888, \"#fdca26\"], [1.0, \"#f0f921\"]]}, \"colorway\": [\"#636efa\", \"#EF553B\", \"#00cc96\", \"#ab63fa\", \"#FFA15A\", \"#19d3f3\", \"#FF6692\", \"#B6E880\", \"#FF97FF\", \"#FECB52\"], \"font\": {\"color\": \"#2a3f5f\"}, \"geo\": {\"bgcolor\": \"white\", \"lakecolor\": \"white\", \"landcolor\": \"#E5ECF6\", \"showlakes\": true, \"showland\": true, \"subunitcolor\": \"white\"}, \"hoverlabel\": {\"align\": \"left\"}, \"hovermode\": \"closest\", \"mapbox\": {\"style\": \"light\"}, \"paper_bgcolor\": \"white\", \"plot_bgcolor\": \"#E5ECF6\", \"polar\": {\"angularaxis\": {\"gridcolor\": \"white\", \"linecolor\": \"white\", \"ticks\": \"\"}, \"bgcolor\": \"#E5ECF6\", \"radialaxis\": {\"gridcolor\": \"white\", \"linecolor\": \"white\", \"ticks\": \"\"}}, \"scene\": {\"xaxis\": {\"backgroundcolor\": \"#E5ECF6\", \"gridcolor\": \"white\", \"gridwidth\": 2, \"linecolor\": \"white\", \"showbackground\": true, \"ticks\": \"\", \"zerolinecolor\": \"white\"}, \"yaxis\": {\"backgroundcolor\": \"#E5ECF6\", \"gridcolor\": \"white\", \"gridwidth\": 2, \"linecolor\": \"white\", \"showbackground\": true, \"ticks\": \"\", \"zerolinecolor\": \"white\"}, \"zaxis\": {\"backgroundcolor\": \"#E5ECF6\", \"gridcolor\": \"white\", \"gridwidth\": 2, \"linecolor\": \"white\", \"showbackground\": true, \"ticks\": \"\", \"zerolinecolor\": \"white\"}}, \"shapedefaults\": {\"line\": {\"color\": \"#2a3f5f\"}}, \"ternary\": {\"aaxis\": {\"gridcolor\": \"white\", \"linecolor\": \"white\", \"ticks\": \"\"}, \"baxis\": {\"gridcolor\": \"white\", \"linecolor\": \"white\", \"ticks\": \"\"}, \"bgcolor\": \"#E5ECF6\", \"caxis\": {\"gridcolor\": \"white\", \"linecolor\": \"white\", \"ticks\": \"\"}}, \"title\": {\"x\": 0.05}, \"xaxis\": {\"automargin\": true, \"gridcolor\": \"white\", \"linecolor\": \"white\", \"ticks\": \"\", \"title\": {\"standoff\": 15}, \"zerolinecolor\": \"white\", \"zerolinewidth\": 2}, \"yaxis\": {\"automargin\": true, \"gridcolor\": \"white\", \"linecolor\": \"white\", \"ticks\": \"\", \"title\": {\"standoff\": 15}, \"zerolinecolor\": \"white\", \"zerolinewidth\": 2}}}, \"title\": {\"text\": \"Participants over years per institution\"}, \"width\": 800, \"xaxis\": {\"anchor\": \"y\", \"domain\": [0.0, 0.45]}, \"xaxis2\": {\"anchor\": \"y2\", \"domain\": [0.55, 1.0]}, \"yaxis\": {\"anchor\": \"x\", \"domain\": [0.0, 1.0]}, \"yaxis2\": {\"anchor\": \"x2\", \"domain\": [0.0, 1.0]}},\n",
       "                        {\"responsive\": true}\n",
       "                    ).then(function(){\n",
       "                            \n",
       "var gd = document.getElementById('ad6de3ee-7799-475a-af9d-d96dd1fcd73c');\n",
       "var x = new MutationObserver(function (mutations, observer) {{\n",
       "        var display = window.getComputedStyle(gd).display;\n",
       "        if (!display || display === 'none') {{\n",
       "            console.log([gd, 'removed!']);\n",
       "            Plotly.purge(gd);\n",
       "            observer.disconnect();\n",
       "        }}\n",
       "}});\n",
       "\n",
       "// Listen for the removal of the full notebook cells\n",
       "var notebookContainer = gd.closest('#notebook-container');\n",
       "if (notebookContainer) {{\n",
       "    x.observe(notebookContainer, {childList: true});\n",
       "}}\n",
       "\n",
       "// Listen for the clearing of the current output cell\n",
       "var outputEl = gd.closest('.output');\n",
       "if (outputEl) {{\n",
       "    x.observe(outputEl, {childList: true});\n",
       "}}\n",
       "\n",
       "                        })\n",
       "                };\n",
       "                });\n",
       "            </script>\n",
       "        </div>"
      ]
     },
     "metadata": {},
     "output_type": "display_data"
    }
   ],
   "source": [
    "fig = make_subplots(\n",
    "    rows=1, cols=2, \n",
    "    subplot_titles=(\"Harvard\",\"MIT\")\n",
    "                   )\n",
    "\n",
    "fig.add_trace(\n",
    "    go.Scatter(name='Participants Harvard', x=mit_years[\"Years\"], y=mit_years[\"participants\"]),\n",
    "    row=1, col=1\n",
    ")\n",
    "\n",
    "fig.add_trace(\n",
    "    go.Scatter(name= \"Certified Harvard\", x=mit_years[\"Years\"], y=mit_years[\"certified\"]),\n",
    "    row=1, col=1\n",
    ")\n",
    "\n",
    "fig.add_trace(\n",
    "    go.Scatter(name='Participants MIT', x=harvard_years[\"Years\"], y=harvard_years[\"participants\"]),\n",
    "    row=1, col=2\n",
    ")\n",
    "\n",
    "fig.add_trace(\n",
    "    go.Scatter(name= \"Certified MIT\", x=mit_years[\"Years\"], y=mit_years[\"certified\"]),\n",
    "    row=1, col=2\n",
    ")\n",
    "\n",
    "fig.update_layout(height=600, width=800, title_text=\"Participants over years per institution\")\n",
    "fig.show()"
   ]
  },
  {
   "cell_type": "code",
   "execution_count": 70,
   "metadata": {},
   "outputs": [
    {
     "data": {
      "application/vnd.plotly.v1+json": {
       "config": {
        "plotlyServerURL": "https://plot.ly"
       },
       "data": [
        {
         "name": "Participants",
         "type": "scatter",
         "x": [
          "2012",
          "2013",
          "2014",
          "2015"
         ],
         "xaxis": "x",
         "y": [
          297398,
          752816,
          1142677,
          1560589
         ],
         "yaxis": "y"
        },
        {
         "name": "Certifications",
         "type": "scatter",
         "x": [
          "2012",
          "2013",
          "2014",
          "2015"
         ],
         "xaxis": "x",
         "y": [
          17365,
          51991,
          71342,
          82195
         ],
         "yaxis": "y2"
        }
       ],
       "layout": {
        "template": {
         "data": {
          "bar": [
           {
            "error_x": {
             "color": "#2a3f5f"
            },
            "error_y": {
             "color": "#2a3f5f"
            },
            "marker": {
             "line": {
              "color": "#E5ECF6",
              "width": 0.5
             }
            },
            "type": "bar"
           }
          ],
          "barpolar": [
           {
            "marker": {
             "line": {
              "color": "#E5ECF6",
              "width": 0.5
             }
            },
            "type": "barpolar"
           }
          ],
          "carpet": [
           {
            "aaxis": {
             "endlinecolor": "#2a3f5f",
             "gridcolor": "white",
             "linecolor": "white",
             "minorgridcolor": "white",
             "startlinecolor": "#2a3f5f"
            },
            "baxis": {
             "endlinecolor": "#2a3f5f",
             "gridcolor": "white",
             "linecolor": "white",
             "minorgridcolor": "white",
             "startlinecolor": "#2a3f5f"
            },
            "type": "carpet"
           }
          ],
          "choropleth": [
           {
            "colorbar": {
             "outlinewidth": 0,
             "ticks": ""
            },
            "type": "choropleth"
           }
          ],
          "contour": [
           {
            "colorbar": {
             "outlinewidth": 0,
             "ticks": ""
            },
            "colorscale": [
             [
              0,
              "#0d0887"
             ],
             [
              0.1111111111111111,
              "#46039f"
             ],
             [
              0.2222222222222222,
              "#7201a8"
             ],
             [
              0.3333333333333333,
              "#9c179e"
             ],
             [
              0.4444444444444444,
              "#bd3786"
             ],
             [
              0.5555555555555556,
              "#d8576b"
             ],
             [
              0.6666666666666666,
              "#ed7953"
             ],
             [
              0.7777777777777778,
              "#fb9f3a"
             ],
             [
              0.8888888888888888,
              "#fdca26"
             ],
             [
              1,
              "#f0f921"
             ]
            ],
            "type": "contour"
           }
          ],
          "contourcarpet": [
           {
            "colorbar": {
             "outlinewidth": 0,
             "ticks": ""
            },
            "type": "contourcarpet"
           }
          ],
          "heatmap": [
           {
            "colorbar": {
             "outlinewidth": 0,
             "ticks": ""
            },
            "colorscale": [
             [
              0,
              "#0d0887"
             ],
             [
              0.1111111111111111,
              "#46039f"
             ],
             [
              0.2222222222222222,
              "#7201a8"
             ],
             [
              0.3333333333333333,
              "#9c179e"
             ],
             [
              0.4444444444444444,
              "#bd3786"
             ],
             [
              0.5555555555555556,
              "#d8576b"
             ],
             [
              0.6666666666666666,
              "#ed7953"
             ],
             [
              0.7777777777777778,
              "#fb9f3a"
             ],
             [
              0.8888888888888888,
              "#fdca26"
             ],
             [
              1,
              "#f0f921"
             ]
            ],
            "type": "heatmap"
           }
          ],
          "heatmapgl": [
           {
            "colorbar": {
             "outlinewidth": 0,
             "ticks": ""
            },
            "colorscale": [
             [
              0,
              "#0d0887"
             ],
             [
              0.1111111111111111,
              "#46039f"
             ],
             [
              0.2222222222222222,
              "#7201a8"
             ],
             [
              0.3333333333333333,
              "#9c179e"
             ],
             [
              0.4444444444444444,
              "#bd3786"
             ],
             [
              0.5555555555555556,
              "#d8576b"
             ],
             [
              0.6666666666666666,
              "#ed7953"
             ],
             [
              0.7777777777777778,
              "#fb9f3a"
             ],
             [
              0.8888888888888888,
              "#fdca26"
             ],
             [
              1,
              "#f0f921"
             ]
            ],
            "type": "heatmapgl"
           }
          ],
          "histogram": [
           {
            "marker": {
             "colorbar": {
              "outlinewidth": 0,
              "ticks": ""
             }
            },
            "type": "histogram"
           }
          ],
          "histogram2d": [
           {
            "colorbar": {
             "outlinewidth": 0,
             "ticks": ""
            },
            "colorscale": [
             [
              0,
              "#0d0887"
             ],
             [
              0.1111111111111111,
              "#46039f"
             ],
             [
              0.2222222222222222,
              "#7201a8"
             ],
             [
              0.3333333333333333,
              "#9c179e"
             ],
             [
              0.4444444444444444,
              "#bd3786"
             ],
             [
              0.5555555555555556,
              "#d8576b"
             ],
             [
              0.6666666666666666,
              "#ed7953"
             ],
             [
              0.7777777777777778,
              "#fb9f3a"
             ],
             [
              0.8888888888888888,
              "#fdca26"
             ],
             [
              1,
              "#f0f921"
             ]
            ],
            "type": "histogram2d"
           }
          ],
          "histogram2dcontour": [
           {
            "colorbar": {
             "outlinewidth": 0,
             "ticks": ""
            },
            "colorscale": [
             [
              0,
              "#0d0887"
             ],
             [
              0.1111111111111111,
              "#46039f"
             ],
             [
              0.2222222222222222,
              "#7201a8"
             ],
             [
              0.3333333333333333,
              "#9c179e"
             ],
             [
              0.4444444444444444,
              "#bd3786"
             ],
             [
              0.5555555555555556,
              "#d8576b"
             ],
             [
              0.6666666666666666,
              "#ed7953"
             ],
             [
              0.7777777777777778,
              "#fb9f3a"
             ],
             [
              0.8888888888888888,
              "#fdca26"
             ],
             [
              1,
              "#f0f921"
             ]
            ],
            "type": "histogram2dcontour"
           }
          ],
          "mesh3d": [
           {
            "colorbar": {
             "outlinewidth": 0,
             "ticks": ""
            },
            "type": "mesh3d"
           }
          ],
          "parcoords": [
           {
            "line": {
             "colorbar": {
              "outlinewidth": 0,
              "ticks": ""
             }
            },
            "type": "parcoords"
           }
          ],
          "pie": [
           {
            "automargin": true,
            "type": "pie"
           }
          ],
          "scatter": [
           {
            "marker": {
             "colorbar": {
              "outlinewidth": 0,
              "ticks": ""
             }
            },
            "type": "scatter"
           }
          ],
          "scatter3d": [
           {
            "line": {
             "colorbar": {
              "outlinewidth": 0,
              "ticks": ""
             }
            },
            "marker": {
             "colorbar": {
              "outlinewidth": 0,
              "ticks": ""
             }
            },
            "type": "scatter3d"
           }
          ],
          "scattercarpet": [
           {
            "marker": {
             "colorbar": {
              "outlinewidth": 0,
              "ticks": ""
             }
            },
            "type": "scattercarpet"
           }
          ],
          "scattergeo": [
           {
            "marker": {
             "colorbar": {
              "outlinewidth": 0,
              "ticks": ""
             }
            },
            "type": "scattergeo"
           }
          ],
          "scattergl": [
           {
            "marker": {
             "colorbar": {
              "outlinewidth": 0,
              "ticks": ""
             }
            },
            "type": "scattergl"
           }
          ],
          "scattermapbox": [
           {
            "marker": {
             "colorbar": {
              "outlinewidth": 0,
              "ticks": ""
             }
            },
            "type": "scattermapbox"
           }
          ],
          "scatterpolar": [
           {
            "marker": {
             "colorbar": {
              "outlinewidth": 0,
              "ticks": ""
             }
            },
            "type": "scatterpolar"
           }
          ],
          "scatterpolargl": [
           {
            "marker": {
             "colorbar": {
              "outlinewidth": 0,
              "ticks": ""
             }
            },
            "type": "scatterpolargl"
           }
          ],
          "scatterternary": [
           {
            "marker": {
             "colorbar": {
              "outlinewidth": 0,
              "ticks": ""
             }
            },
            "type": "scatterternary"
           }
          ],
          "surface": [
           {
            "colorbar": {
             "outlinewidth": 0,
             "ticks": ""
            },
            "colorscale": [
             [
              0,
              "#0d0887"
             ],
             [
              0.1111111111111111,
              "#46039f"
             ],
             [
              0.2222222222222222,
              "#7201a8"
             ],
             [
              0.3333333333333333,
              "#9c179e"
             ],
             [
              0.4444444444444444,
              "#bd3786"
             ],
             [
              0.5555555555555556,
              "#d8576b"
             ],
             [
              0.6666666666666666,
              "#ed7953"
             ],
             [
              0.7777777777777778,
              "#fb9f3a"
             ],
             [
              0.8888888888888888,
              "#fdca26"
             ],
             [
              1,
              "#f0f921"
             ]
            ],
            "type": "surface"
           }
          ],
          "table": [
           {
            "cells": {
             "fill": {
              "color": "#EBF0F8"
             },
             "line": {
              "color": "white"
             }
            },
            "header": {
             "fill": {
              "color": "#C8D4E3"
             },
             "line": {
              "color": "white"
             }
            },
            "type": "table"
           }
          ]
         },
         "layout": {
          "annotationdefaults": {
           "arrowcolor": "#2a3f5f",
           "arrowhead": 0,
           "arrowwidth": 1
          },
          "coloraxis": {
           "colorbar": {
            "outlinewidth": 0,
            "ticks": ""
           }
          },
          "colorscale": {
           "diverging": [
            [
             0,
             "#8e0152"
            ],
            [
             0.1,
             "#c51b7d"
            ],
            [
             0.2,
             "#de77ae"
            ],
            [
             0.3,
             "#f1b6da"
            ],
            [
             0.4,
             "#fde0ef"
            ],
            [
             0.5,
             "#f7f7f7"
            ],
            [
             0.6,
             "#e6f5d0"
            ],
            [
             0.7,
             "#b8e186"
            ],
            [
             0.8,
             "#7fbc41"
            ],
            [
             0.9,
             "#4d9221"
            ],
            [
             1,
             "#276419"
            ]
           ],
           "sequential": [
            [
             0,
             "#0d0887"
            ],
            [
             0.1111111111111111,
             "#46039f"
            ],
            [
             0.2222222222222222,
             "#7201a8"
            ],
            [
             0.3333333333333333,
             "#9c179e"
            ],
            [
             0.4444444444444444,
             "#bd3786"
            ],
            [
             0.5555555555555556,
             "#d8576b"
            ],
            [
             0.6666666666666666,
             "#ed7953"
            ],
            [
             0.7777777777777778,
             "#fb9f3a"
            ],
            [
             0.8888888888888888,
             "#fdca26"
            ],
            [
             1,
             "#f0f921"
            ]
           ],
           "sequentialminus": [
            [
             0,
             "#0d0887"
            ],
            [
             0.1111111111111111,
             "#46039f"
            ],
            [
             0.2222222222222222,
             "#7201a8"
            ],
            [
             0.3333333333333333,
             "#9c179e"
            ],
            [
             0.4444444444444444,
             "#bd3786"
            ],
            [
             0.5555555555555556,
             "#d8576b"
            ],
            [
             0.6666666666666666,
             "#ed7953"
            ],
            [
             0.7777777777777778,
             "#fb9f3a"
            ],
            [
             0.8888888888888888,
             "#fdca26"
            ],
            [
             1,
             "#f0f921"
            ]
           ]
          },
          "colorway": [
           "#636efa",
           "#EF553B",
           "#00cc96",
           "#ab63fa",
           "#FFA15A",
           "#19d3f3",
           "#FF6692",
           "#B6E880",
           "#FF97FF",
           "#FECB52"
          ],
          "font": {
           "color": "#2a3f5f"
          },
          "geo": {
           "bgcolor": "white",
           "lakecolor": "white",
           "landcolor": "#E5ECF6",
           "showlakes": true,
           "showland": true,
           "subunitcolor": "white"
          },
          "hoverlabel": {
           "align": "left"
          },
          "hovermode": "closest",
          "mapbox": {
           "style": "light"
          },
          "paper_bgcolor": "white",
          "plot_bgcolor": "#E5ECF6",
          "polar": {
           "angularaxis": {
            "gridcolor": "white",
            "linecolor": "white",
            "ticks": ""
           },
           "bgcolor": "#E5ECF6",
           "radialaxis": {
            "gridcolor": "white",
            "linecolor": "white",
            "ticks": ""
           }
          },
          "scene": {
           "xaxis": {
            "backgroundcolor": "#E5ECF6",
            "gridcolor": "white",
            "gridwidth": 2,
            "linecolor": "white",
            "showbackground": true,
            "ticks": "",
            "zerolinecolor": "white"
           },
           "yaxis": {
            "backgroundcolor": "#E5ECF6",
            "gridcolor": "white",
            "gridwidth": 2,
            "linecolor": "white",
            "showbackground": true,
            "ticks": "",
            "zerolinecolor": "white"
           },
           "zaxis": {
            "backgroundcolor": "#E5ECF6",
            "gridcolor": "white",
            "gridwidth": 2,
            "linecolor": "white",
            "showbackground": true,
            "ticks": "",
            "zerolinecolor": "white"
           }
          },
          "shapedefaults": {
           "line": {
            "color": "#2a3f5f"
           }
          },
          "ternary": {
           "aaxis": {
            "gridcolor": "white",
            "linecolor": "white",
            "ticks": ""
           },
           "baxis": {
            "gridcolor": "white",
            "linecolor": "white",
            "ticks": ""
           },
           "bgcolor": "#E5ECF6",
           "caxis": {
            "gridcolor": "white",
            "linecolor": "white",
            "ticks": ""
           }
          },
          "title": {
           "x": 0.05
          },
          "xaxis": {
           "automargin": true,
           "gridcolor": "white",
           "linecolor": "white",
           "ticks": "",
           "title": {
            "standoff": 15
           },
           "zerolinecolor": "white",
           "zerolinewidth": 2
          },
          "yaxis": {
           "automargin": true,
           "gridcolor": "white",
           "linecolor": "white",
           "ticks": "",
           "title": {
            "standoff": 15
           },
           "zerolinecolor": "white",
           "zerolinewidth": 2
          }
         }
        },
        "title": {
         "text": "Evolution of total participants and certifications"
        },
        "xaxis": {
         "anchor": "y",
         "domain": [
          0,
          0.94
         ],
         "title": {
          "text": "Years"
         }
        },
        "yaxis": {
         "anchor": "x",
         "domain": [
          0,
          1
         ],
         "title": {
          "text": "Participation"
         }
        },
        "yaxis2": {
         "anchor": "x",
         "overlaying": "y",
         "side": "right",
         "title": {
          "text": "Certified"
         }
        }
       }
      },
      "text/html": [
       "<div>\n",
       "        \n",
       "        \n",
       "            <div id=\"e837bf7f-19b0-4ab0-ad00-163d2e73c7ee\" class=\"plotly-graph-div\" style=\"height:525px; width:100%;\"></div>\n",
       "            <script type=\"text/javascript\">\n",
       "                require([\"plotly\"], function(Plotly) {\n",
       "                    window.PLOTLYENV=window.PLOTLYENV || {};\n",
       "                    \n",
       "                if (document.getElementById(\"e837bf7f-19b0-4ab0-ad00-163d2e73c7ee\")) {\n",
       "                    Plotly.newPlot(\n",
       "                        'e837bf7f-19b0-4ab0-ad00-163d2e73c7ee',\n",
       "                        [{\"name\": \"Participants\", \"type\": \"scatter\", \"x\": [\"2012\", \"2013\", \"2014\", \"2015\"], \"xaxis\": \"x\", \"y\": [297398, 752816, 1142677, 1560589], \"yaxis\": \"y\"}, {\"name\": \"Certifications\", \"type\": \"scatter\", \"x\": [\"2012\", \"2013\", \"2014\", \"2015\"], \"xaxis\": \"x\", \"y\": [17365, 51991, 71342, 82195], \"yaxis\": \"y2\"}],\n",
       "                        {\"template\": {\"data\": {\"bar\": [{\"error_x\": {\"color\": \"#2a3f5f\"}, \"error_y\": {\"color\": \"#2a3f5f\"}, \"marker\": {\"line\": {\"color\": \"#E5ECF6\", \"width\": 0.5}}, \"type\": \"bar\"}], \"barpolar\": [{\"marker\": {\"line\": {\"color\": \"#E5ECF6\", \"width\": 0.5}}, \"type\": \"barpolar\"}], \"carpet\": [{\"aaxis\": {\"endlinecolor\": \"#2a3f5f\", \"gridcolor\": \"white\", \"linecolor\": \"white\", \"minorgridcolor\": \"white\", \"startlinecolor\": \"#2a3f5f\"}, \"baxis\": {\"endlinecolor\": \"#2a3f5f\", \"gridcolor\": \"white\", \"linecolor\": \"white\", \"minorgridcolor\": \"white\", \"startlinecolor\": \"#2a3f5f\"}, \"type\": \"carpet\"}], \"choropleth\": [{\"colorbar\": {\"outlinewidth\": 0, \"ticks\": \"\"}, \"type\": \"choropleth\"}], \"contour\": [{\"colorbar\": {\"outlinewidth\": 0, \"ticks\": \"\"}, \"colorscale\": [[0.0, \"#0d0887\"], [0.1111111111111111, \"#46039f\"], [0.2222222222222222, \"#7201a8\"], [0.3333333333333333, \"#9c179e\"], [0.4444444444444444, \"#bd3786\"], [0.5555555555555556, \"#d8576b\"], [0.6666666666666666, \"#ed7953\"], [0.7777777777777778, \"#fb9f3a\"], [0.8888888888888888, \"#fdca26\"], [1.0, \"#f0f921\"]], \"type\": \"contour\"}], \"contourcarpet\": [{\"colorbar\": {\"outlinewidth\": 0, \"ticks\": \"\"}, \"type\": \"contourcarpet\"}], \"heatmap\": [{\"colorbar\": {\"outlinewidth\": 0, \"ticks\": \"\"}, \"colorscale\": [[0.0, \"#0d0887\"], [0.1111111111111111, \"#46039f\"], [0.2222222222222222, \"#7201a8\"], [0.3333333333333333, \"#9c179e\"], [0.4444444444444444, \"#bd3786\"], [0.5555555555555556, \"#d8576b\"], [0.6666666666666666, \"#ed7953\"], [0.7777777777777778, \"#fb9f3a\"], [0.8888888888888888, \"#fdca26\"], [1.0, \"#f0f921\"]], \"type\": \"heatmap\"}], \"heatmapgl\": [{\"colorbar\": {\"outlinewidth\": 0, \"ticks\": \"\"}, \"colorscale\": [[0.0, \"#0d0887\"], [0.1111111111111111, \"#46039f\"], [0.2222222222222222, \"#7201a8\"], [0.3333333333333333, \"#9c179e\"], [0.4444444444444444, \"#bd3786\"], [0.5555555555555556, \"#d8576b\"], [0.6666666666666666, \"#ed7953\"], [0.7777777777777778, \"#fb9f3a\"], [0.8888888888888888, \"#fdca26\"], [1.0, \"#f0f921\"]], \"type\": \"heatmapgl\"}], \"histogram\": [{\"marker\": {\"colorbar\": {\"outlinewidth\": 0, \"ticks\": \"\"}}, \"type\": \"histogram\"}], \"histogram2d\": [{\"colorbar\": {\"outlinewidth\": 0, \"ticks\": \"\"}, \"colorscale\": [[0.0, \"#0d0887\"], [0.1111111111111111, \"#46039f\"], [0.2222222222222222, \"#7201a8\"], [0.3333333333333333, \"#9c179e\"], [0.4444444444444444, \"#bd3786\"], [0.5555555555555556, \"#d8576b\"], [0.6666666666666666, \"#ed7953\"], [0.7777777777777778, \"#fb9f3a\"], [0.8888888888888888, \"#fdca26\"], [1.0, \"#f0f921\"]], \"type\": \"histogram2d\"}], \"histogram2dcontour\": [{\"colorbar\": {\"outlinewidth\": 0, \"ticks\": \"\"}, \"colorscale\": [[0.0, \"#0d0887\"], [0.1111111111111111, \"#46039f\"], [0.2222222222222222, \"#7201a8\"], [0.3333333333333333, \"#9c179e\"], [0.4444444444444444, \"#bd3786\"], [0.5555555555555556, \"#d8576b\"], [0.6666666666666666, \"#ed7953\"], [0.7777777777777778, \"#fb9f3a\"], [0.8888888888888888, \"#fdca26\"], [1.0, \"#f0f921\"]], \"type\": \"histogram2dcontour\"}], \"mesh3d\": [{\"colorbar\": {\"outlinewidth\": 0, \"ticks\": \"\"}, \"type\": \"mesh3d\"}], \"parcoords\": [{\"line\": {\"colorbar\": {\"outlinewidth\": 0, \"ticks\": \"\"}}, \"type\": \"parcoords\"}], \"pie\": [{\"automargin\": true, \"type\": \"pie\"}], \"scatter\": [{\"marker\": {\"colorbar\": {\"outlinewidth\": 0, \"ticks\": \"\"}}, \"type\": \"scatter\"}], \"scatter3d\": [{\"line\": {\"colorbar\": {\"outlinewidth\": 0, \"ticks\": \"\"}}, \"marker\": {\"colorbar\": {\"outlinewidth\": 0, \"ticks\": \"\"}}, \"type\": \"scatter3d\"}], \"scattercarpet\": [{\"marker\": {\"colorbar\": {\"outlinewidth\": 0, \"ticks\": \"\"}}, \"type\": \"scattercarpet\"}], \"scattergeo\": [{\"marker\": {\"colorbar\": {\"outlinewidth\": 0, \"ticks\": \"\"}}, \"type\": \"scattergeo\"}], \"scattergl\": [{\"marker\": {\"colorbar\": {\"outlinewidth\": 0, \"ticks\": \"\"}}, \"type\": \"scattergl\"}], \"scattermapbox\": [{\"marker\": {\"colorbar\": {\"outlinewidth\": 0, \"ticks\": \"\"}}, \"type\": \"scattermapbox\"}], \"scatterpolar\": [{\"marker\": {\"colorbar\": {\"outlinewidth\": 0, \"ticks\": \"\"}}, \"type\": \"scatterpolar\"}], \"scatterpolargl\": [{\"marker\": {\"colorbar\": {\"outlinewidth\": 0, \"ticks\": \"\"}}, \"type\": \"scatterpolargl\"}], \"scatterternary\": [{\"marker\": {\"colorbar\": {\"outlinewidth\": 0, \"ticks\": \"\"}}, \"type\": \"scatterternary\"}], \"surface\": [{\"colorbar\": {\"outlinewidth\": 0, \"ticks\": \"\"}, \"colorscale\": [[0.0, \"#0d0887\"], [0.1111111111111111, \"#46039f\"], [0.2222222222222222, \"#7201a8\"], [0.3333333333333333, \"#9c179e\"], [0.4444444444444444, \"#bd3786\"], [0.5555555555555556, \"#d8576b\"], [0.6666666666666666, \"#ed7953\"], [0.7777777777777778, \"#fb9f3a\"], [0.8888888888888888, \"#fdca26\"], [1.0, \"#f0f921\"]], \"type\": \"surface\"}], \"table\": [{\"cells\": {\"fill\": {\"color\": \"#EBF0F8\"}, \"line\": {\"color\": \"white\"}}, \"header\": {\"fill\": {\"color\": \"#C8D4E3\"}, \"line\": {\"color\": \"white\"}}, \"type\": \"table\"}]}, \"layout\": {\"annotationdefaults\": {\"arrowcolor\": \"#2a3f5f\", \"arrowhead\": 0, \"arrowwidth\": 1}, \"coloraxis\": {\"colorbar\": {\"outlinewidth\": 0, \"ticks\": \"\"}}, \"colorscale\": {\"diverging\": [[0, \"#8e0152\"], [0.1, \"#c51b7d\"], [0.2, \"#de77ae\"], [0.3, \"#f1b6da\"], [0.4, \"#fde0ef\"], [0.5, \"#f7f7f7\"], [0.6, \"#e6f5d0\"], [0.7, \"#b8e186\"], [0.8, \"#7fbc41\"], [0.9, \"#4d9221\"], [1, \"#276419\"]], \"sequential\": [[0.0, \"#0d0887\"], [0.1111111111111111, \"#46039f\"], [0.2222222222222222, \"#7201a8\"], [0.3333333333333333, \"#9c179e\"], [0.4444444444444444, \"#bd3786\"], [0.5555555555555556, \"#d8576b\"], [0.6666666666666666, \"#ed7953\"], [0.7777777777777778, \"#fb9f3a\"], [0.8888888888888888, \"#fdca26\"], [1.0, \"#f0f921\"]], \"sequentialminus\": [[0.0, \"#0d0887\"], [0.1111111111111111, \"#46039f\"], [0.2222222222222222, \"#7201a8\"], [0.3333333333333333, \"#9c179e\"], [0.4444444444444444, \"#bd3786\"], [0.5555555555555556, \"#d8576b\"], [0.6666666666666666, \"#ed7953\"], [0.7777777777777778, \"#fb9f3a\"], [0.8888888888888888, \"#fdca26\"], [1.0, \"#f0f921\"]]}, \"colorway\": [\"#636efa\", \"#EF553B\", \"#00cc96\", \"#ab63fa\", \"#FFA15A\", \"#19d3f3\", \"#FF6692\", \"#B6E880\", \"#FF97FF\", \"#FECB52\"], \"font\": {\"color\": \"#2a3f5f\"}, \"geo\": {\"bgcolor\": \"white\", \"lakecolor\": \"white\", \"landcolor\": \"#E5ECF6\", \"showlakes\": true, \"showland\": true, \"subunitcolor\": \"white\"}, \"hoverlabel\": {\"align\": \"left\"}, \"hovermode\": \"closest\", \"mapbox\": {\"style\": \"light\"}, \"paper_bgcolor\": \"white\", \"plot_bgcolor\": \"#E5ECF6\", \"polar\": {\"angularaxis\": {\"gridcolor\": \"white\", \"linecolor\": \"white\", \"ticks\": \"\"}, \"bgcolor\": \"#E5ECF6\", \"radialaxis\": {\"gridcolor\": \"white\", \"linecolor\": \"white\", \"ticks\": \"\"}}, \"scene\": {\"xaxis\": {\"backgroundcolor\": \"#E5ECF6\", \"gridcolor\": \"white\", \"gridwidth\": 2, \"linecolor\": \"white\", \"showbackground\": true, \"ticks\": \"\", \"zerolinecolor\": \"white\"}, \"yaxis\": {\"backgroundcolor\": \"#E5ECF6\", \"gridcolor\": \"white\", \"gridwidth\": 2, \"linecolor\": \"white\", \"showbackground\": true, \"ticks\": \"\", \"zerolinecolor\": \"white\"}, \"zaxis\": {\"backgroundcolor\": \"#E5ECF6\", \"gridcolor\": \"white\", \"gridwidth\": 2, \"linecolor\": \"white\", \"showbackground\": true, \"ticks\": \"\", \"zerolinecolor\": \"white\"}}, \"shapedefaults\": {\"line\": {\"color\": \"#2a3f5f\"}}, \"ternary\": {\"aaxis\": {\"gridcolor\": \"white\", \"linecolor\": \"white\", \"ticks\": \"\"}, \"baxis\": {\"gridcolor\": \"white\", \"linecolor\": \"white\", \"ticks\": \"\"}, \"bgcolor\": \"#E5ECF6\", \"caxis\": {\"gridcolor\": \"white\", \"linecolor\": \"white\", \"ticks\": \"\"}}, \"title\": {\"x\": 0.05}, \"xaxis\": {\"automargin\": true, \"gridcolor\": \"white\", \"linecolor\": \"white\", \"ticks\": \"\", \"title\": {\"standoff\": 15}, \"zerolinecolor\": \"white\", \"zerolinewidth\": 2}, \"yaxis\": {\"automargin\": true, \"gridcolor\": \"white\", \"linecolor\": \"white\", \"ticks\": \"\", \"title\": {\"standoff\": 15}, \"zerolinecolor\": \"white\", \"zerolinewidth\": 2}}}, \"title\": {\"text\": \"Evolution of total participants and certifications\"}, \"xaxis\": {\"anchor\": \"y\", \"domain\": [0.0, 0.94], \"title\": {\"text\": \"Years\"}}, \"yaxis\": {\"anchor\": \"x\", \"domain\": [0.0, 1.0], \"title\": {\"text\": \"Participation\"}}, \"yaxis2\": {\"anchor\": \"x\", \"overlaying\": \"y\", \"side\": \"right\", \"title\": {\"text\": \"Certified\"}}},\n",
       "                        {\"responsive\": true}\n",
       "                    ).then(function(){\n",
       "                            \n",
       "var gd = document.getElementById('e837bf7f-19b0-4ab0-ad00-163d2e73c7ee');\n",
       "var x = new MutationObserver(function (mutations, observer) {{\n",
       "        var display = window.getComputedStyle(gd).display;\n",
       "        if (!display || display === 'none') {{\n",
       "            console.log([gd, 'removed!']);\n",
       "            Plotly.purge(gd);\n",
       "            observer.disconnect();\n",
       "        }}\n",
       "}});\n",
       "\n",
       "// Listen for the removal of the full notebook cells\n",
       "var notebookContainer = gd.closest('#notebook-container');\n",
       "if (notebookContainer) {{\n",
       "    x.observe(notebookContainer, {childList: true});\n",
       "}}\n",
       "\n",
       "// Listen for the clearing of the current output cell\n",
       "var outputEl = gd.closest('.output');\n",
       "if (outputEl) {{\n",
       "    x.observe(outputEl, {childList: true});\n",
       "}}\n",
       "\n",
       "                        })\n",
       "                };\n",
       "                });\n",
       "            </script>\n",
       "        </div>"
      ]
     },
     "metadata": {},
     "output_type": "display_data"
    }
   ],
   "source": [
    "# Create figure with secondary y-axis\n",
    "fig = make_subplots(specs=[[{\"secondary_y\": True}]])\n",
    "\n",
    "# Add traces\n",
    "fig.add_trace(\n",
    "    go.Scatter(name='Participants', x=evolution3[\"Years\"], y=evolution3[\"participants\"]),\n",
    "    secondary_y=False,\n",
    ")\n",
    "\n",
    "fig.add_trace(\n",
    "    go.Scatter(name='Certifications', x=evolution3[\"Years\"], y=evolution3[\"certified\"]),\n",
    "    secondary_y=True,\n",
    ")\n",
    "\n",
    "# Add figure title\n",
    "fig.update_layout(\n",
    "    title_text=\"Evolution of total participants and certifications\"\n",
    ")\n",
    "\n",
    "# Set x-axis title\n",
    "fig.update_xaxes(title_text=\"Years\")\n",
    "\n",
    "# Set y-axes titles\n",
    "fig.update_yaxes(title_text=\"Participation\", secondary_y=False)\n",
    "fig.update_yaxes(title_text=\"Certified\", secondary_y=True)\n",
    "\n",
    "fig.show()"
   ]
  },
  {
   "cell_type": "markdown",
   "metadata": {},
   "source": [
    "# Hypothesis testing: The longer the course duration, the less people finish more than 50% of the course"
   ]
  },
  {
   "cell_type": "code",
   "execution_count": 71,
   "metadata": {},
   "outputs": [
    {
     "data": {
      "text/plain": [
       "-0.30021015950112095"
      ]
     },
     "execution_count": 71,
     "metadata": {},
     "output_type": "execute_result"
    }
   ],
   "source": [
    "online_courses[\"tot_hours\"].corr(online_courses[\"%attended_>50%\"])"
   ]
  },
  {
   "cell_type": "code",
   "execution_count": 79,
   "metadata": {},
   "outputs": [
    {
     "data": {
      "text/html": [
       "<div>\n",
       "<style scoped>\n",
       "    .dataframe tbody tr th:only-of-type {\n",
       "        vertical-align: middle;\n",
       "    }\n",
       "\n",
       "    .dataframe tbody tr th {\n",
       "        vertical-align: top;\n",
       "    }\n",
       "\n",
       "    .dataframe thead th {\n",
       "        text-align: right;\n",
       "    }\n",
       "</style>\n",
       "<table border=\"1\" class=\"dataframe\">\n",
       "  <thead>\n",
       "    <tr style=\"text-align: right;\">\n",
       "      <th></th>\n",
       "      <th>Institution</th>\n",
       "      <th>course_title</th>\n",
       "      <th>subject</th>\n",
       "      <th>honor_code</th>\n",
       "      <th>participants</th>\n",
       "      <th>attended_&gt;50%</th>\n",
       "      <th>certified</th>\n",
       "      <th>Attended &gt; 50% of course</th>\n",
       "      <th>%finish</th>\n",
       "      <th>%certified_&lt;50%</th>\n",
       "      <th>...</th>\n",
       "      <th>%_grade</th>\n",
       "      <th>Course duration (hours)</th>\n",
       "      <th>median_hours</th>\n",
       "      <th>median_age</th>\n",
       "      <th>%_male</th>\n",
       "      <th>%_female</th>\n",
       "      <th>%_degree</th>\n",
       "      <th>Years</th>\n",
       "      <th>%_certified</th>\n",
       "      <th>%_attended_&gt;50%</th>\n",
       "    </tr>\n",
       "  </thead>\n",
       "  <tbody>\n",
       "    <tr>\n",
       "      <th>0</th>\n",
       "      <td>MITx</td>\n",
       "      <td>Circuits and Electronics</td>\n",
       "      <td>Science, Technology, Engineering, and Mathematics</td>\n",
       "      <td>1</td>\n",
       "      <td>36105</td>\n",
       "      <td>5431</td>\n",
       "      <td>3003</td>\n",
       "      <td>15.04</td>\n",
       "      <td>8.32</td>\n",
       "      <td>54.98</td>\n",
       "      <td>...</td>\n",
       "      <td>28.97</td>\n",
       "      <td>418.94</td>\n",
       "      <td>64.45</td>\n",
       "      <td>26.0</td>\n",
       "      <td>88.28</td>\n",
       "      <td>11.72</td>\n",
       "      <td>60.68</td>\n",
       "      <td>2012</td>\n",
       "      <td>0.083174</td>\n",
       "      <td>0.150422</td>\n",
       "    </tr>\n",
       "    <tr>\n",
       "      <th>1</th>\n",
       "      <td>MITx</td>\n",
       "      <td>Introduction to Computer Science and Programming</td>\n",
       "      <td>Computer Science</td>\n",
       "      <td>1</td>\n",
       "      <td>62709</td>\n",
       "      <td>8949</td>\n",
       "      <td>5783</td>\n",
       "      <td>14.27</td>\n",
       "      <td>9.22</td>\n",
       "      <td>64.05</td>\n",
       "      <td>...</td>\n",
       "      <td>39.50</td>\n",
       "      <td>884.04</td>\n",
       "      <td>78.53</td>\n",
       "      <td>28.0</td>\n",
       "      <td>83.50</td>\n",
       "      <td>16.50</td>\n",
       "      <td>63.04</td>\n",
       "      <td>2012</td>\n",
       "      <td>0.092220</td>\n",
       "      <td>0.142707</td>\n",
       "    </tr>\n",
       "    <tr>\n",
       "      <th>2</th>\n",
       "      <td>MITx</td>\n",
       "      <td>Introduction to Solid State Chemistry</td>\n",
       "      <td>Science, Technology, Engineering, and Mathematics</td>\n",
       "      <td>1</td>\n",
       "      <td>16663</td>\n",
       "      <td>2855</td>\n",
       "      <td>2082</td>\n",
       "      <td>17.13</td>\n",
       "      <td>12.49</td>\n",
       "      <td>72.85</td>\n",
       "      <td>...</td>\n",
       "      <td>34.89</td>\n",
       "      <td>227.55</td>\n",
       "      <td>61.28</td>\n",
       "      <td>27.0</td>\n",
       "      <td>70.32</td>\n",
       "      <td>29.68</td>\n",
       "      <td>58.76</td>\n",
       "      <td>2012</td>\n",
       "      <td>0.124947</td>\n",
       "      <td>0.171338</td>\n",
       "    </tr>\n",
       "    <tr>\n",
       "      <th>3</th>\n",
       "      <td>HarvardX</td>\n",
       "      <td>Introduction to Computer Science</td>\n",
       "      <td>Computer Science</td>\n",
       "      <td>1</td>\n",
       "      <td>129400</td>\n",
       "      <td>12888</td>\n",
       "      <td>1439</td>\n",
       "      <td>9.96</td>\n",
       "      <td>1.11</td>\n",
       "      <td>11.11</td>\n",
       "      <td>...</td>\n",
       "      <td>1.11</td>\n",
       "      <td>220.90</td>\n",
       "      <td>0.00</td>\n",
       "      <td>28.0</td>\n",
       "      <td>80.02</td>\n",
       "      <td>19.98</td>\n",
       "      <td>58.78</td>\n",
       "      <td>2012</td>\n",
       "      <td>0.011121</td>\n",
       "      <td>0.099598</td>\n",
       "    </tr>\n",
       "    <tr>\n",
       "      <th>4</th>\n",
       "      <td>HarvardX</td>\n",
       "      <td>Health in Numbers: Quantitative Methods in Cli...</td>\n",
       "      <td>Government, Health, and Social Science</td>\n",
       "      <td>1</td>\n",
       "      <td>52521</td>\n",
       "      <td>10729</td>\n",
       "      <td>5058</td>\n",
       "      <td>20.44</td>\n",
       "      <td>9.64</td>\n",
       "      <td>47.12</td>\n",
       "      <td>...</td>\n",
       "      <td>32.52</td>\n",
       "      <td>804.41</td>\n",
       "      <td>76.10</td>\n",
       "      <td>32.0</td>\n",
       "      <td>56.78</td>\n",
       "      <td>43.22</td>\n",
       "      <td>88.33</td>\n",
       "      <td>2012</td>\n",
       "      <td>0.096304</td>\n",
       "      <td>0.204280</td>\n",
       "    </tr>\n",
       "    <tr>\n",
       "      <th>...</th>\n",
       "      <td>...</td>\n",
       "      <td>...</td>\n",
       "      <td>...</td>\n",
       "      <td>...</td>\n",
       "      <td>...</td>\n",
       "      <td>...</td>\n",
       "      <td>...</td>\n",
       "      <td>...</td>\n",
       "      <td>...</td>\n",
       "      <td>...</td>\n",
       "      <td>...</td>\n",
       "      <td>...</td>\n",
       "      <td>...</td>\n",
       "      <td>...</td>\n",
       "      <td>...</td>\n",
       "      <td>...</td>\n",
       "      <td>...</td>\n",
       "      <td>...</td>\n",
       "      <td>...</td>\n",
       "      <td>...</td>\n",
       "      <td>...</td>\n",
       "    </tr>\n",
       "    <tr>\n",
       "      <th>285</th>\n",
       "      <td>HarvardX</td>\n",
       "      <td>First Nights: Symphonie Fantastique</td>\n",
       "      <td>Humanities, History, Design, Religion, and Edu...</td>\n",
       "      <td>0</td>\n",
       "      <td>615</td>\n",
       "      <td>305</td>\n",
       "      <td>20</td>\n",
       "      <td>49.59</td>\n",
       "      <td>3.25</td>\n",
       "      <td>6.56</td>\n",
       "      <td>...</td>\n",
       "      <td>3.25</td>\n",
       "      <td>1.71</td>\n",
       "      <td>5.93</td>\n",
       "      <td>38.0</td>\n",
       "      <td>56.82</td>\n",
       "      <td>43.18</td>\n",
       "      <td>74.66</td>\n",
       "      <td>2016</td>\n",
       "      <td>0.032520</td>\n",
       "      <td>0.495935</td>\n",
       "    </tr>\n",
       "    <tr>\n",
       "      <th>286</th>\n",
       "      <td>HarvardX</td>\n",
       "      <td>Introduction to Family Engagement in Education</td>\n",
       "      <td>Humanities, History, Design, Religion, and Edu...</td>\n",
       "      <td>0</td>\n",
       "      <td>2871</td>\n",
       "      <td>267</td>\n",
       "      <td>20</td>\n",
       "      <td>9.30</td>\n",
       "      <td>0.70</td>\n",
       "      <td>7.49</td>\n",
       "      <td>...</td>\n",
       "      <td>0.70</td>\n",
       "      <td>4.26</td>\n",
       "      <td>11.33</td>\n",
       "      <td>34.0</td>\n",
       "      <td>25.24</td>\n",
       "      <td>74.76</td>\n",
       "      <td>82.31</td>\n",
       "      <td>2016</td>\n",
       "      <td>0.006966</td>\n",
       "      <td>0.092999</td>\n",
       "    </tr>\n",
       "    <tr>\n",
       "      <th>287</th>\n",
       "      <td>MITx</td>\n",
       "      <td>Introduction to Control System Design</td>\n",
       "      <td>Science, Technology, Engineering, and Mathematics</td>\n",
       "      <td>0</td>\n",
       "      <td>3937</td>\n",
       "      <td>974</td>\n",
       "      <td>49</td>\n",
       "      <td>24.74</td>\n",
       "      <td>1.24</td>\n",
       "      <td>5.03</td>\n",
       "      <td>...</td>\n",
       "      <td>8.23</td>\n",
       "      <td>15.62</td>\n",
       "      <td>58.50</td>\n",
       "      <td>24.0</td>\n",
       "      <td>91.17</td>\n",
       "      <td>8.83</td>\n",
       "      <td>61.32</td>\n",
       "      <td>2016</td>\n",
       "      <td>0.012446</td>\n",
       "      <td>0.247396</td>\n",
       "    </tr>\n",
       "    <tr>\n",
       "      <th>288</th>\n",
       "      <td>MITx</td>\n",
       "      <td>Introduction to State Space Control</td>\n",
       "      <td>Science, Technology, Engineering, and Mathematics</td>\n",
       "      <td>0</td>\n",
       "      <td>1431</td>\n",
       "      <td>208</td>\n",
       "      <td>8</td>\n",
       "      <td>14.54</td>\n",
       "      <td>0.56</td>\n",
       "      <td>3.85</td>\n",
       "      <td>...</td>\n",
       "      <td>5.73</td>\n",
       "      <td>3.22</td>\n",
       "      <td>62.38</td>\n",
       "      <td>25.0</td>\n",
       "      <td>93.44</td>\n",
       "      <td>6.56</td>\n",
       "      <td>72.31</td>\n",
       "      <td>2016</td>\n",
       "      <td>0.005590</td>\n",
       "      <td>0.145353</td>\n",
       "    </tr>\n",
       "    <tr>\n",
       "      <th>289</th>\n",
       "      <td>MITx</td>\n",
       "      <td>Magnetic Materials and Devices</td>\n",
       "      <td>Science, Technology, Engineering, and Mathematics</td>\n",
       "      <td>0</td>\n",
       "      <td>1294</td>\n",
       "      <td>364</td>\n",
       "      <td>38</td>\n",
       "      <td>28.13</td>\n",
       "      <td>2.94</td>\n",
       "      <td>10.44</td>\n",
       "      <td>...</td>\n",
       "      <td>14.30</td>\n",
       "      <td>6.87</td>\n",
       "      <td>40.59</td>\n",
       "      <td>25.0</td>\n",
       "      <td>85.95</td>\n",
       "      <td>14.05</td>\n",
       "      <td>65.78</td>\n",
       "      <td>2016</td>\n",
       "      <td>0.029366</td>\n",
       "      <td>0.281298</td>\n",
       "    </tr>\n",
       "  </tbody>\n",
       "</table>\n",
       "<p>290 rows × 22 columns</p>\n",
       "</div>"
      ],
      "text/plain": [
       "    Institution                                       course_title  \\\n",
       "0          MITx                           Circuits and Electronics   \n",
       "1          MITx   Introduction to Computer Science and Programming   \n",
       "2          MITx              Introduction to Solid State Chemistry   \n",
       "3      HarvardX                   Introduction to Computer Science   \n",
       "4      HarvardX  Health in Numbers: Quantitative Methods in Cli...   \n",
       "..          ...                                                ...   \n",
       "285    HarvardX                First Nights: Symphonie Fantastique   \n",
       "286    HarvardX     Introduction to Family Engagement in Education   \n",
       "287        MITx              Introduction to Control System Design   \n",
       "288        MITx                Introduction to State Space Control   \n",
       "289        MITx                     Magnetic Materials and Devices   \n",
       "\n",
       "                                               subject  honor_code  \\\n",
       "0    Science, Technology, Engineering, and Mathematics           1   \n",
       "1                                     Computer Science           1   \n",
       "2    Science, Technology, Engineering, and Mathematics           1   \n",
       "3                                     Computer Science           1   \n",
       "4               Government, Health, and Social Science           1   \n",
       "..                                                 ...         ...   \n",
       "285  Humanities, History, Design, Religion, and Edu...           0   \n",
       "286  Humanities, History, Design, Religion, and Edu...           0   \n",
       "287  Science, Technology, Engineering, and Mathematics           0   \n",
       "288  Science, Technology, Engineering, and Mathematics           0   \n",
       "289  Science, Technology, Engineering, and Mathematics           0   \n",
       "\n",
       "     participants  attended_>50%  certified  Attended > 50% of course  \\\n",
       "0           36105           5431       3003                     15.04   \n",
       "1           62709           8949       5783                     14.27   \n",
       "2           16663           2855       2082                     17.13   \n",
       "3          129400          12888       1439                      9.96   \n",
       "4           52521          10729       5058                     20.44   \n",
       "..            ...            ...        ...                       ...   \n",
       "285           615            305         20                     49.59   \n",
       "286          2871            267         20                      9.30   \n",
       "287          3937            974         49                     24.74   \n",
       "288          1431            208          8                     14.54   \n",
       "289          1294            364         38                     28.13   \n",
       "\n",
       "     %finish  %certified_<50%  ... %_grade  Course duration (hours)  \\\n",
       "0       8.32            54.98  ...   28.97                   418.94   \n",
       "1       9.22            64.05  ...   39.50                   884.04   \n",
       "2      12.49            72.85  ...   34.89                   227.55   \n",
       "3       1.11            11.11  ...    1.11                   220.90   \n",
       "4       9.64            47.12  ...   32.52                   804.41   \n",
       "..       ...              ...  ...     ...                      ...   \n",
       "285     3.25             6.56  ...    3.25                     1.71   \n",
       "286     0.70             7.49  ...    0.70                     4.26   \n",
       "287     1.24             5.03  ...    8.23                    15.62   \n",
       "288     0.56             3.85  ...    5.73                     3.22   \n",
       "289     2.94            10.44  ...   14.30                     6.87   \n",
       "\n",
       "     median_hours  median_age  %_male  %_female  %_degree  Years  %_certified  \\\n",
       "0           64.45        26.0   88.28     11.72     60.68   2012     0.083174   \n",
       "1           78.53        28.0   83.50     16.50     63.04   2012     0.092220   \n",
       "2           61.28        27.0   70.32     29.68     58.76   2012     0.124947   \n",
       "3            0.00        28.0   80.02     19.98     58.78   2012     0.011121   \n",
       "4           76.10        32.0   56.78     43.22     88.33   2012     0.096304   \n",
       "..            ...         ...     ...       ...       ...    ...          ...   \n",
       "285          5.93        38.0   56.82     43.18     74.66   2016     0.032520   \n",
       "286         11.33        34.0   25.24     74.76     82.31   2016     0.006966   \n",
       "287         58.50        24.0   91.17      8.83     61.32   2016     0.012446   \n",
       "288         62.38        25.0   93.44      6.56     72.31   2016     0.005590   \n",
       "289         40.59        25.0   85.95     14.05     65.78   2016     0.029366   \n",
       "\n",
       "    %_attended_>50%  \n",
       "0          0.150422  \n",
       "1          0.142707  \n",
       "2          0.171338  \n",
       "3          0.099598  \n",
       "4          0.204280  \n",
       "..              ...  \n",
       "285        0.495935  \n",
       "286        0.092999  \n",
       "287        0.247396  \n",
       "288        0.145353  \n",
       "289        0.281298  \n",
       "\n",
       "[290 rows x 22 columns]"
      ]
     },
     "execution_count": 79,
     "metadata": {},
     "output_type": "execute_result"
    }
   ],
   "source": [
    "online_courses"
   ]
  },
  {
   "cell_type": "code",
   "execution_count": 103,
   "metadata": {},
   "outputs": [],
   "source": [
    "#course_hours = online_courses.sort_values(\"tot_hours\", inplace = True)\n",
    "#attended = online_courses.sort_values(\"attended_>50%\", inplace = True)"
   ]
  },
  {
   "cell_type": "code",
   "execution_count": 104,
   "metadata": {},
   "outputs": [],
   "source": [
    "#ex.line(x = course_hours, y = attended)"
   ]
  },
  {
   "cell_type": "code",
   "execution_count": 105,
   "metadata": {},
   "outputs": [],
   "source": [
    "#online_courses.plot.scatter(online_courses[\"tot_hours\"], online_courses[\"attended_>50%\"])"
   ]
  },
  {
   "cell_type": "code",
   "execution_count": 106,
   "metadata": {},
   "outputs": [],
   "source": [
    "X = sm.add_constant(online_courses[\"tot_hours\"])\n",
    "model = sm.OLS(online_courses[\"attended_>50%\"],X)\n",
    "results = model.fit()"
   ]
  },
  {
   "cell_type": "code",
   "execution_count": 107,
   "metadata": {},
   "outputs": [
    {
     "name": "stdout",
     "output_type": "stream",
     "text": [
      "                            OLS Regression Results                            \n",
      "==============================================================================\n",
      "Dep. Variable:          attended_>50%   R-squared:                       0.369\n",
      "Model:                            OLS   Adj. R-squared:                  0.366\n",
      "Method:                 Least Squares   F-statistic:                     168.1\n",
      "Date:                Fri, 29 Nov 2019   Prob (F-statistic):           1.34e-30\n",
      "Time:                        09:13:32   Log-Likelihood:                -2675.2\n",
      "No. Observations:                 290   AIC:                             5354.\n",
      "Df Residuals:                     288   BIC:                             5362.\n",
      "Df Model:                           1                                         \n",
      "Covariance Type:            nonrobust                                         \n",
      "==============================================================================\n",
      "                 coef    std err          t      P>|t|      [0.025      0.975]\n",
      "------------------------------------------------------------------------------\n",
      "const       1416.7615    168.988      8.384      0.000    1084.154    1749.369\n",
      "tot_hours     11.9224      0.919     12.967      0.000      10.113      13.732\n",
      "==============================================================================\n",
      "Omnibus:                      268.121   Durbin-Watson:                   1.900\n",
      "Prob(Omnibus):                  0.000   Jarque-Bera (JB):             6581.730\n",
      "Skew:                           3.765   Prob(JB):                         0.00\n",
      "Kurtosis:                      25.091   Cond. No.                         215.\n",
      "==============================================================================\n",
      "\n",
      "Warnings:\n",
      "[1] Standard Errors assume that the covariance matrix of the errors is correctly specified.\n"
     ]
    }
   ],
   "source": [
    "print(results.summary())"
   ]
  },
  {
   "cell_type": "code",
   "execution_count": 80,
   "metadata": {},
   "outputs": [],
   "source": [
    "online_courses.rename(columns = {\"Attended > 50% of course\": \"% Attended more than half of course\"}, inplace = True)"
   ]
  },
  {
   "cell_type": "code",
   "execution_count": 81,
   "metadata": {},
   "outputs": [
    {
     "data": {
      "application/vnd.plotly.v1+json": {
       "config": {
        "plotlyServerURL": "https://plot.ly"
       },
       "data": [
        {
         "hoverlabel": {
          "namelength": 0
         },
         "hovertemplate": "Course duration (hours)=%{x}<br>% Attended more than half of course=%{y}",
         "legendgroup": "",
         "marker": {
          "color": "#636efa",
          "symbol": "circle"
         },
         "mode": "markers",
         "name": "",
         "showlegend": false,
         "type": "scatter",
         "x": [
          418.94,
          884.04,
          227.55,
          220.9,
          804.41,
          639.4,
          68.11,
          279.22,
          380.35,
          186.61,
          148.54,
          476.84,
          140.72,
          84.75,
          110.67,
          145.95,
          95.14,
          65.56,
          452.55,
          331,
          101.36,
          138.94,
          12.57,
          154.23,
          399.77,
          104.37,
          117.84,
          523.56,
          60.99,
          145.08,
          13.89,
          99.29,
          853.36,
          68.25,
          101.83,
          19.6,
          40.13,
          84.99,
          224.14,
          33.76,
          55.04,
          188.51,
          39.34,
          313.27,
          34.28,
          97.28,
          159.84,
          108.97,
          34.82,
          7.23,
          27.85,
          46.04,
          58.19,
          47.9,
          145.01,
          56.9,
          24.76,
          34.79,
          55.2,
          31.69,
          86.76,
          22.82,
          62.01,
          232.93,
          39.96,
          182.26,
          59.23,
          103.05,
          129.34,
          206.46,
          17.31,
          20.45,
          81.04,
          38.86,
          22.93,
          9.36,
          7.68,
          6.77,
          51.77,
          40.6,
          16.85,
          54.46,
          88.43,
          255.4,
          65.35,
          26.71,
          41.65,
          3.2,
          44.73,
          23.92,
          81,
          3.63,
          6.58,
          50.33,
          3.28,
          17.21,
          2.41,
          18.49,
          23.03,
          275.96,
          48.23,
          3.4,
          9.2,
          485.67,
          82.24,
          68.16,
          76.36,
          110.41,
          33.06,
          26.27,
          36.51,
          107.06,
          99.42,
          24.59,
          66.87,
          217.1,
          48.98,
          3.16,
          21.03,
          11.54,
          187.44,
          40.5,
          20.36,
          27.9,
          29.49,
          37.84,
          126.65,
          648.95,
          121.16,
          159.01,
          5.88,
          98.6,
          20.14,
          20.5,
          29.02,
          64.07,
          36.12,
          34.15,
          30.79,
          12.86,
          8.35,
          3.6,
          5.33,
          11.95,
          13.23,
          7.49,
          20.03,
          344.95,
          67.6,
          69.95,
          218.27,
          547.35,
          83.98,
          895.01,
          15.61,
          90.12,
          67.71,
          41.5,
          11.99,
          43.57,
          10.93,
          567.96,
          97.06,
          63.24,
          41.98,
          40.32,
          166.11,
          11.83,
          11.11,
          4.95,
          4.39,
          5.71,
          3.35,
          6.13,
          3.49,
          6.93,
          4.51,
          77.46,
          18.64,
          77.42,
          51.1,
          174.06,
          28.65,
          17.95,
          316.74,
          8.08,
          1.85,
          1.18,
          1.08,
          109.74,
          45.06,
          83.14,
          21.5,
          109,
          20.12,
          64.81,
          9.8,
          167.8,
          25.68,
          6.84,
          3.44,
          3.11,
          2.27,
          30.39,
          47.23,
          4.94,
          3.66,
          2.03,
          2.02,
          1.95,
          18.37,
          14.81,
          10.6,
          12.87,
          6.44,
          56.13,
          94.63,
          114.85,
          14.21,
          3.88,
          8.89,
          708.69,
          21.3,
          97.71,
          53.1,
          248.96,
          8.21,
          2.6,
          19.79,
          19.23,
          29.9,
          45.76,
          16.98,
          28.24,
          27.77,
          269.33,
          28.77,
          674.4,
          5.99,
          20.91,
          25.06,
          72.3,
          45.06,
          28.87,
          5.8,
          79.36,
          144.07,
          2.99,
          50.6,
          25.48,
          4.28,
          10.78,
          44.72,
          45.41,
          37.58,
          24.48,
          2.53,
          710.96,
          5.68,
          10.31,
          24.76,
          0.62,
          27.02,
          19.33,
          4.94,
          33.63,
          25.96,
          20.17,
          1.55,
          355.29,
          0.11,
          39.56,
          28.25,
          39.83,
          29.82,
          485.85,
          94.63,
          17.5,
          27.31,
          37.86,
          56.54,
          7.09,
          11.1,
          18.76,
          8.59,
          1.71,
          4.26,
          15.62,
          3.22,
          6.87
         ],
         "xaxis": "x",
         "y": [
          15.04,
          14.27,
          17.13,
          9.96,
          20.44,
          9.9,
          10.13,
          22.41,
          9.04,
          16.05,
          10.56,
          21.41,
          6.99,
          19.52,
          16.1,
          9.04,
          7.27,
          7.18,
          11.28,
          16.61,
          6.74,
          14.23,
          23.86,
          16.16,
          11.89,
          17.76,
          5.93,
          14.43,
          11.28,
          17.39,
          44.74,
          27.02,
          8.82,
          34.03,
          14.52,
          21.2,
          5.15,
          16.44,
          11.1,
          43.43,
          21.43,
          18.82,
          27.8,
          15.23,
          5.82,
          19.11,
          10.34,
          25.32,
          37.81,
          10.95,
          19.76,
          27.72,
          26.43,
          15.18,
          13.47,
          12.42,
          50.44,
          31.17,
          9.09,
          41.24,
          5.83,
          23.78,
          17.28,
          20.14,
          20.17,
          15.08,
          8.32,
          21.07,
          6.75,
          19.71,
          25.11,
          25.18,
          12.94,
          7,
          46.1,
          25.16,
          46.41,
          36.45,
          13.53,
          24.07,
          4.02,
          15.5,
          17.78,
          19.91,
          19.64,
          29.28,
          14.44,
          44.85,
          21.84,
          46.13,
          19.08,
          38.35,
          34.7,
          12.55,
          40.5,
          9.39,
          31.55,
          19.97,
          43.24,
          8.51,
          21.19,
          43.25,
          26.98,
          18.02,
          23.15,
          24.65,
          8.18,
          25.84,
          26.14,
          19.7,
          7.25,
          48.73,
          3.88,
          3.95,
          11.85,
          10.15,
          7.19,
          39.48,
          46.37,
          7.42,
          10.91,
          10.14,
          31.65,
          78.7,
          5.19,
          36.6,
          15.22,
          21.06,
          26.9,
          17.52,
          23.92,
          20.29,
          34.7,
          20.44,
          45.49,
          17.46,
          19.71,
          28.23,
          6.45,
          82.6,
          77.02,
          83.96,
          77.9,
          21.12,
          63.46,
          43.51,
          21.54,
          17.41,
          5.85,
          10.67,
          20.44,
          15.89,
          16.01,
          17.76,
          21,
          41.87,
          7.75,
          45.69,
          28.02,
          15.11,
          18.71,
          14.09,
          11.87,
          10.17,
          5.83,
          36.37,
          20.41,
          27.03,
          37.59,
          41.2,
          45.5,
          55.97,
          46.4,
          41.32,
          54.33,
          22.08,
          38.93,
          9.85,
          24.11,
          15.86,
          3.93,
          14.3,
          20.6,
          14.46,
          26.13,
          18.59,
          49.57,
          50,
          41.49,
          11.75,
          10.46,
          3.61,
          16.17,
          38.56,
          56.95,
          37.49,
          41.09,
          18.82,
          13.62,
          32.39,
          27.71,
          45.67,
          42.73,
          45.09,
          32.17,
          25.95,
          18.61,
          51.69,
          46.21,
          37.28,
          15.9,
          36.29,
          50.63,
          47.03,
          36.71,
          13.67,
          9.2,
          16.75,
          48.14,
          33.59,
          50.11,
          6.09,
          45.16,
          24.39,
          5.27,
          13.83,
          46.53,
          32.24,
          40.74,
          54.33,
          20.61,
          20.93,
          16.41,
          25.6,
          18.64,
          10.55,
          2.63,
          25.92,
          45.78,
          7.63,
          19.39,
          14.21,
          11.62,
          17.06,
          29.28,
          22.11,
          15.58,
          32.47,
          14.74,
          29.38,
          23.39,
          17.27,
          32.17,
          16.76,
          27.58,
          24.89,
          81.57,
          16.18,
          26.92,
          32.21,
          25.71,
          34.34,
          9.29,
          30.66,
          53.29,
          20.05,
          19.53,
          13.05,
          78.18,
          22.59,
          58.07,
          23.3,
          26.16,
          19.13,
          14.82,
          16.37,
          18.9,
          35.64,
          12.83,
          17.29,
          12.42,
          17.08,
          33.92,
          23.08,
          51.29,
          49.59,
          9.3,
          24.74,
          14.54,
          28.13
         ],
         "yaxis": "y"
        },
        {
         "hoverlabel": {
          "namelength": 0
         },
         "hovertemplate": "<b>OLS trendline</b><br>% Attended more than half of course = -0.030253 * Course duration (hours) + 27.790447<br>R<sup>2</sup>=0.090126<br><br>Course duration (hours)=%{x}<br>% Attended more than half of course=%{y} <b>(trend)</b>",
         "legendgroup": "",
         "marker": {
          "color": "#636efa",
          "symbol": "circle"
         },
         "mode": "lines",
         "name": "",
         "showlegend": false,
         "type": "scatter",
         "x": [
          0.11,
          0.62,
          1.08,
          1.18,
          1.55,
          1.71,
          1.85,
          1.95,
          2.02,
          2.03,
          2.27,
          2.41,
          2.53,
          2.6,
          2.99,
          3.11,
          3.16,
          3.2,
          3.22,
          3.28,
          3.35,
          3.4,
          3.44,
          3.49,
          3.6,
          3.63,
          3.66,
          3.88,
          4.26,
          4.28,
          4.39,
          4.51,
          4.94,
          4.94,
          4.95,
          5.33,
          5.68,
          5.71,
          5.8,
          5.88,
          5.99,
          6.13,
          6.44,
          6.58,
          6.77,
          6.84,
          6.87,
          6.93,
          7.09,
          7.23,
          7.49,
          7.68,
          8.08,
          8.21,
          8.35,
          8.59,
          8.89,
          9.2,
          9.36,
          9.8,
          10.31,
          10.6,
          10.78,
          10.93,
          11.1,
          11.11,
          11.54,
          11.83,
          11.95,
          11.99,
          12.57,
          12.86,
          12.87,
          13.23,
          13.89,
          14.21,
          14.81,
          15.61,
          15.62,
          16.85,
          16.98,
          17.21,
          17.31,
          17.5,
          17.95,
          18.37,
          18.49,
          18.64,
          18.76,
          19.23,
          19.33,
          19.6,
          19.79,
          20.03,
          20.12,
          20.14,
          20.17,
          20.36,
          20.45,
          20.5,
          20.91,
          21.03,
          21.3,
          21.5,
          22.82,
          22.93,
          23.03,
          23.92,
          24.48,
          24.59,
          24.76,
          24.76,
          25.06,
          25.48,
          25.68,
          25.96,
          26.27,
          26.71,
          27.02,
          27.31,
          27.77,
          27.85,
          27.9,
          28.24,
          28.25,
          28.65,
          28.77,
          28.87,
          29.02,
          29.49,
          29.82,
          29.9,
          30.39,
          30.79,
          31.69,
          33.06,
          33.63,
          33.76,
          34.15,
          34.28,
          34.79,
          34.82,
          36.12,
          36.51,
          37.58,
          37.84,
          37.86,
          38.86,
          39.34,
          39.56,
          39.83,
          39.96,
          40.13,
          40.32,
          40.5,
          40.6,
          41.5,
          41.65,
          41.98,
          43.57,
          44.72,
          44.73,
          45.06,
          45.06,
          45.41,
          45.76,
          46.04,
          47.23,
          47.9,
          48.23,
          48.98,
          50.33,
          50.6,
          51.1,
          51.77,
          53.1,
          54.46,
          55.04,
          55.2,
          56.13,
          56.54,
          56.9,
          58.19,
          59.23,
          60.99,
          62.01,
          63.24,
          64.07,
          64.81,
          65.35,
          65.56,
          66.87,
          67.6,
          67.71,
          68.11,
          68.16,
          68.25,
          69.95,
          72.3,
          76.36,
          77.42,
          77.46,
          79.36,
          81,
          81.04,
          82.24,
          83.14,
          83.98,
          84.75,
          84.99,
          86.76,
          88.43,
          90.12,
          94.63,
          94.63,
          95.14,
          97.06,
          97.28,
          97.71,
          98.6,
          99.29,
          99.42,
          101.36,
          101.83,
          103.05,
          104.37,
          107.06,
          108.97,
          109,
          109.74,
          110.41,
          110.67,
          114.85,
          117.84,
          121.16,
          126.65,
          129.34,
          138.94,
          140.72,
          144.07,
          145.01,
          145.08,
          145.95,
          148.54,
          154.23,
          159.01,
          159.84,
          166.11,
          167.8,
          174.06,
          182.26,
          186.61,
          187.44,
          188.51,
          206.46,
          217.1,
          218.27,
          220.9,
          224.14,
          227.55,
          232.93,
          248.96,
          255.4,
          269.33,
          275.96,
          279.22,
          313.27,
          316.74,
          331,
          344.95,
          355.29,
          380.35,
          399.77,
          418.94,
          452.55,
          476.84,
          485.67,
          485.85,
          523.56,
          547.35,
          567.96,
          639.4,
          648.95,
          674.4,
          708.69,
          710.96,
          804.41,
          853.36,
          884.04,
          895.01
         ],
         "xaxis": "x",
         "y": [
          27.78711928215123,
          27.771690271692105,
          27.757773909317205,
          27.75474861314875,
          27.743555017325463,
          27.738714543455934,
          27.734479128820094,
          27.73145383265164,
          27.72933612533372,
          27.729033595716874,
          27.72177288491258,
          27.71753747027674,
          27.71390711487459,
          27.711789407556672,
          27.699990752499694,
          27.696360397097546,
          27.69484774901332,
          27.693637630545936,
          27.693032571312244,
          27.691217393611172,
          27.68909968629325,
          27.687587038209024,
          27.68637691974164,
          27.684864271657414,
          27.681536445872112,
          27.680628857021574,
          27.679721268171036,
          27.673065616600436,
          27.6615694911603,
          27.660964431926608,
          27.657636606141306,
          27.65400625073916,
          27.6409974772148,
          27.6409974772148,
          27.640694947597954,
          27.62919882215782,
          27.618610285568224,
          27.617702696717686,
          27.614979930166076,
          27.61255969323131,
          27.60923186744601,
          27.60499645281017,
          27.595618034687956,
          27.59138262005212,
          27.58563455733205,
          27.58351685001413,
          27.582609261163594,
          27.58079408346252,
          27.575953609592993,
          27.571718194957153,
          27.563852424919165,
          27.5581043621991,
          27.546003177525275,
          27.54207029250628,
          27.537834877870445,
          27.53057416706615,
          27.52149827856078,
          27.512119860438567,
          27.50727938656904,
          27.49396808342783,
          27.478539072968704,
          27.469765714080182,
          27.46432018097696,
          27.459782236724276,
          27.4546392332379,
          27.454336703621053,
          27.441327930096694,
          27.43255457120817,
          27.428924215806024,
          27.42771409733864,
          27.410167379561596,
          27.40139402067307,
          27.401091491056228,
          27.390200424849784,
          27.370233470137972,
          27.360552522398912,
          27.342400745388176,
          27.318198376040527,
          27.31789584642368,
          27.28068470355167,
          27.276751818532677,
          27.269793637345227,
          27.26676834117677,
          27.261020278456705,
          27.247406445698655,
          27.23470020179114,
          27.23106984638899,
          27.226531902136305,
          27.222901546734157,
          27.208682654742415,
          27.20565735857396,
          27.19748905891913,
          27.19174099619906,
          27.184480285394766,
          27.181757518843156,
          27.181152459609464,
          27.180244870758926,
          27.17449680803886,
          27.17177404148725,
          27.17026139340302,
          27.15785767911235,
          27.154227323710202,
          27.146059024055372,
          27.14000843171846,
          27.10007452229484,
          27.096746696509538,
          27.09372140034108,
          27.06679626444182,
          27.049854605898467,
          27.046526780113165,
          27.041383776626787,
          27.041383776626787,
          27.03230788812142,
          27.019601644213907,
          27.01355105187699,
          27.005080222605315,
          26.9957018044831,
          26.982390501341893,
          26.97301208321968,
          26.964238724331157,
          26.95032236195626,
          26.947902125021493,
          26.946389476937266,
          26.936103469964515,
          26.93580094034767,
          26.923699755673844,
          26.920069400271696,
          26.91704410410324,
          26.912506159850558,
          26.898287267858812,
          26.888303790502906,
          26.885883553568142,
          26.871059602342708,
          26.858958417668884,
          26.83173075215278,
          26.79028419464493,
          26.773040006484727,
          26.769107121465737,
          26.757308466408755,
          26.753375581389765,
          26.73794657093064,
          26.7370389820801,
          26.69771013189017,
          26.68591147683319,
          26.653540807830712,
          26.645675037792724,
          26.645069978559032,
          26.614817016874472,
          26.600295595265884,
          26.59363994369528,
          26.585471644040446,
          26.581538759021456,
          26.576395755535078,
          26.57064769281501,
          26.56520215971179,
          26.562176863543336,
          26.534949198027228,
          26.530411253774545,
          26.52042777641864,
          26.472325567340185,
          26.437534661402943,
          26.437232131786097,
          26.42724865443019,
          26.42724865443019,
          26.416660117840593,
          26.406071581251,
          26.39760075197932,
          26.361599727574692,
          26.341330243246034,
          26.33134676589013,
          26.30865704462671,
          26.26781554635255,
          26.259647246697718,
          26.244520765855437,
          26.224251281526783,
          26.184014842486317,
          26.142870814595312,
          26.125324096818265,
          26.120483622948736,
          26.092348368582094,
          26.079944654291424,
          26.06905358808498,
          26.030027267511898,
          25.998564187359953,
          25.945318974795125,
          25.914460953876873,
          25.877249811004862,
          25.852139852806676,
          25.8297526611601,
          25.813416061850436,
          25.807062939896678,
          25.767431560089904,
          25.745346898060173,
          25.74201907227487,
          25.729917887601047,
          25.728405239516817,
          25.725682472965207,
          25.674252438101455,
          25.603157978142733,
          25.480330953703415,
          25.44826281431778,
          25.447052695850395,
          25.38957206864973,
          25.33995721148705,
          25.338747093019666,
          25.302443538998194,
          25.275215873482086,
          25.249803385667054,
          25.226508605169943,
          25.219247894365648,
          25.165700152183973,
          25.115177706170755,
          25.064050200923848,
          24.927609343726473,
          24.927609343726473,
          24.912180333267347,
          24.85409464683299,
          24.847438995262387,
          24.834430221738025,
          24.807505085838766,
          24.78663054227642,
          24.782697657257426,
          24.724006911589377,
          24.70978801959763,
          24.672879406342467,
          24.632945496918847,
          24.551565029987376,
          24.493781873169862,
          24.492874284319328,
          24.47048709267275,
          24.450217608344094,
          24.44235183830611,
          24.31589445846464,
          24.225438103027802,
          24.124998270235057,
          23.958909510586814,
          23.877529043655343,
          23.587100611483553,
          23.533250339685033,
          23.431902918041754,
          23.403465134058266,
          23.401347426740344,
          23.375027350074777,
          23.296672179311763,
          23.124532827326608,
          22.979923670474403,
          22.954813712276216,
          22.765127642514017,
          22.714000137267107,
          22.524616597121753,
          22.276542311308347,
          22.144941927980504,
          22.119831969782318,
          22.08746130077984,
          21.544420638541958,
          21.222529126218223,
          21.187133161047285,
          21.10756787181689,
          21.009548275958913,
          20.906385676614555,
          20.743624742751614,
          20.258669766948092,
          20.063840693699518,
          19.642416937433573,
          19.441839801464933,
          19.34321514637326,
          18.313101801013943,
          18.208124023968512,
          17.776716790346665,
          17.35468797484703,
          17.041872351028665,
          16.283733131213552,
          15.696220615299369,
          15.116271339806325,
          14.099469297588211,
          13.364624858270211,
          13.097491206595532,
          13.092045673492311,
          11.951206488367498,
          11.231488529891777,
          10.607974989572963,
          8.44670340682789,
          8.157787622740322,
          7.387849747868234,
          6.350475691704617,
          6.281801468680662,
          3.45466219925839,
          1.9737797247991011,
          1.045618860316754,
          0.7137438706371135
         ],
         "yaxis": "y"
        }
       ],
       "layout": {
        "height": 600,
        "legend": {
         "tracegroupgap": 0
        },
        "margin": {
         "t": 60
        },
        "template": {
         "data": {
          "bar": [
           {
            "error_x": {
             "color": "#2a3f5f"
            },
            "error_y": {
             "color": "#2a3f5f"
            },
            "marker": {
             "line": {
              "color": "#E5ECF6",
              "width": 0.5
             }
            },
            "type": "bar"
           }
          ],
          "barpolar": [
           {
            "marker": {
             "line": {
              "color": "#E5ECF6",
              "width": 0.5
             }
            },
            "type": "barpolar"
           }
          ],
          "carpet": [
           {
            "aaxis": {
             "endlinecolor": "#2a3f5f",
             "gridcolor": "white",
             "linecolor": "white",
             "minorgridcolor": "white",
             "startlinecolor": "#2a3f5f"
            },
            "baxis": {
             "endlinecolor": "#2a3f5f",
             "gridcolor": "white",
             "linecolor": "white",
             "minorgridcolor": "white",
             "startlinecolor": "#2a3f5f"
            },
            "type": "carpet"
           }
          ],
          "choropleth": [
           {
            "colorbar": {
             "outlinewidth": 0,
             "ticks": ""
            },
            "type": "choropleth"
           }
          ],
          "contour": [
           {
            "colorbar": {
             "outlinewidth": 0,
             "ticks": ""
            },
            "colorscale": [
             [
              0,
              "#0d0887"
             ],
             [
              0.1111111111111111,
              "#46039f"
             ],
             [
              0.2222222222222222,
              "#7201a8"
             ],
             [
              0.3333333333333333,
              "#9c179e"
             ],
             [
              0.4444444444444444,
              "#bd3786"
             ],
             [
              0.5555555555555556,
              "#d8576b"
             ],
             [
              0.6666666666666666,
              "#ed7953"
             ],
             [
              0.7777777777777778,
              "#fb9f3a"
             ],
             [
              0.8888888888888888,
              "#fdca26"
             ],
             [
              1,
              "#f0f921"
             ]
            ],
            "type": "contour"
           }
          ],
          "contourcarpet": [
           {
            "colorbar": {
             "outlinewidth": 0,
             "ticks": ""
            },
            "type": "contourcarpet"
           }
          ],
          "heatmap": [
           {
            "colorbar": {
             "outlinewidth": 0,
             "ticks": ""
            },
            "colorscale": [
             [
              0,
              "#0d0887"
             ],
             [
              0.1111111111111111,
              "#46039f"
             ],
             [
              0.2222222222222222,
              "#7201a8"
             ],
             [
              0.3333333333333333,
              "#9c179e"
             ],
             [
              0.4444444444444444,
              "#bd3786"
             ],
             [
              0.5555555555555556,
              "#d8576b"
             ],
             [
              0.6666666666666666,
              "#ed7953"
             ],
             [
              0.7777777777777778,
              "#fb9f3a"
             ],
             [
              0.8888888888888888,
              "#fdca26"
             ],
             [
              1,
              "#f0f921"
             ]
            ],
            "type": "heatmap"
           }
          ],
          "heatmapgl": [
           {
            "colorbar": {
             "outlinewidth": 0,
             "ticks": ""
            },
            "colorscale": [
             [
              0,
              "#0d0887"
             ],
             [
              0.1111111111111111,
              "#46039f"
             ],
             [
              0.2222222222222222,
              "#7201a8"
             ],
             [
              0.3333333333333333,
              "#9c179e"
             ],
             [
              0.4444444444444444,
              "#bd3786"
             ],
             [
              0.5555555555555556,
              "#d8576b"
             ],
             [
              0.6666666666666666,
              "#ed7953"
             ],
             [
              0.7777777777777778,
              "#fb9f3a"
             ],
             [
              0.8888888888888888,
              "#fdca26"
             ],
             [
              1,
              "#f0f921"
             ]
            ],
            "type": "heatmapgl"
           }
          ],
          "histogram": [
           {
            "marker": {
             "colorbar": {
              "outlinewidth": 0,
              "ticks": ""
             }
            },
            "type": "histogram"
           }
          ],
          "histogram2d": [
           {
            "colorbar": {
             "outlinewidth": 0,
             "ticks": ""
            },
            "colorscale": [
             [
              0,
              "#0d0887"
             ],
             [
              0.1111111111111111,
              "#46039f"
             ],
             [
              0.2222222222222222,
              "#7201a8"
             ],
             [
              0.3333333333333333,
              "#9c179e"
             ],
             [
              0.4444444444444444,
              "#bd3786"
             ],
             [
              0.5555555555555556,
              "#d8576b"
             ],
             [
              0.6666666666666666,
              "#ed7953"
             ],
             [
              0.7777777777777778,
              "#fb9f3a"
             ],
             [
              0.8888888888888888,
              "#fdca26"
             ],
             [
              1,
              "#f0f921"
             ]
            ],
            "type": "histogram2d"
           }
          ],
          "histogram2dcontour": [
           {
            "colorbar": {
             "outlinewidth": 0,
             "ticks": ""
            },
            "colorscale": [
             [
              0,
              "#0d0887"
             ],
             [
              0.1111111111111111,
              "#46039f"
             ],
             [
              0.2222222222222222,
              "#7201a8"
             ],
             [
              0.3333333333333333,
              "#9c179e"
             ],
             [
              0.4444444444444444,
              "#bd3786"
             ],
             [
              0.5555555555555556,
              "#d8576b"
             ],
             [
              0.6666666666666666,
              "#ed7953"
             ],
             [
              0.7777777777777778,
              "#fb9f3a"
             ],
             [
              0.8888888888888888,
              "#fdca26"
             ],
             [
              1,
              "#f0f921"
             ]
            ],
            "type": "histogram2dcontour"
           }
          ],
          "mesh3d": [
           {
            "colorbar": {
             "outlinewidth": 0,
             "ticks": ""
            },
            "type": "mesh3d"
           }
          ],
          "parcoords": [
           {
            "line": {
             "colorbar": {
              "outlinewidth": 0,
              "ticks": ""
             }
            },
            "type": "parcoords"
           }
          ],
          "pie": [
           {
            "automargin": true,
            "type": "pie"
           }
          ],
          "scatter": [
           {
            "marker": {
             "colorbar": {
              "outlinewidth": 0,
              "ticks": ""
             }
            },
            "type": "scatter"
           }
          ],
          "scatter3d": [
           {
            "line": {
             "colorbar": {
              "outlinewidth": 0,
              "ticks": ""
             }
            },
            "marker": {
             "colorbar": {
              "outlinewidth": 0,
              "ticks": ""
             }
            },
            "type": "scatter3d"
           }
          ],
          "scattercarpet": [
           {
            "marker": {
             "colorbar": {
              "outlinewidth": 0,
              "ticks": ""
             }
            },
            "type": "scattercarpet"
           }
          ],
          "scattergeo": [
           {
            "marker": {
             "colorbar": {
              "outlinewidth": 0,
              "ticks": ""
             }
            },
            "type": "scattergeo"
           }
          ],
          "scattergl": [
           {
            "marker": {
             "colorbar": {
              "outlinewidth": 0,
              "ticks": ""
             }
            },
            "type": "scattergl"
           }
          ],
          "scattermapbox": [
           {
            "marker": {
             "colorbar": {
              "outlinewidth": 0,
              "ticks": ""
             }
            },
            "type": "scattermapbox"
           }
          ],
          "scatterpolar": [
           {
            "marker": {
             "colorbar": {
              "outlinewidth": 0,
              "ticks": ""
             }
            },
            "type": "scatterpolar"
           }
          ],
          "scatterpolargl": [
           {
            "marker": {
             "colorbar": {
              "outlinewidth": 0,
              "ticks": ""
             }
            },
            "type": "scatterpolargl"
           }
          ],
          "scatterternary": [
           {
            "marker": {
             "colorbar": {
              "outlinewidth": 0,
              "ticks": ""
             }
            },
            "type": "scatterternary"
           }
          ],
          "surface": [
           {
            "colorbar": {
             "outlinewidth": 0,
             "ticks": ""
            },
            "colorscale": [
             [
              0,
              "#0d0887"
             ],
             [
              0.1111111111111111,
              "#46039f"
             ],
             [
              0.2222222222222222,
              "#7201a8"
             ],
             [
              0.3333333333333333,
              "#9c179e"
             ],
             [
              0.4444444444444444,
              "#bd3786"
             ],
             [
              0.5555555555555556,
              "#d8576b"
             ],
             [
              0.6666666666666666,
              "#ed7953"
             ],
             [
              0.7777777777777778,
              "#fb9f3a"
             ],
             [
              0.8888888888888888,
              "#fdca26"
             ],
             [
              1,
              "#f0f921"
             ]
            ],
            "type": "surface"
           }
          ],
          "table": [
           {
            "cells": {
             "fill": {
              "color": "#EBF0F8"
             },
             "line": {
              "color": "white"
             }
            },
            "header": {
             "fill": {
              "color": "#C8D4E3"
             },
             "line": {
              "color": "white"
             }
            },
            "type": "table"
           }
          ]
         },
         "layout": {
          "annotationdefaults": {
           "arrowcolor": "#2a3f5f",
           "arrowhead": 0,
           "arrowwidth": 1
          },
          "coloraxis": {
           "colorbar": {
            "outlinewidth": 0,
            "ticks": ""
           }
          },
          "colorscale": {
           "diverging": [
            [
             0,
             "#8e0152"
            ],
            [
             0.1,
             "#c51b7d"
            ],
            [
             0.2,
             "#de77ae"
            ],
            [
             0.3,
             "#f1b6da"
            ],
            [
             0.4,
             "#fde0ef"
            ],
            [
             0.5,
             "#f7f7f7"
            ],
            [
             0.6,
             "#e6f5d0"
            ],
            [
             0.7,
             "#b8e186"
            ],
            [
             0.8,
             "#7fbc41"
            ],
            [
             0.9,
             "#4d9221"
            ],
            [
             1,
             "#276419"
            ]
           ],
           "sequential": [
            [
             0,
             "#0d0887"
            ],
            [
             0.1111111111111111,
             "#46039f"
            ],
            [
             0.2222222222222222,
             "#7201a8"
            ],
            [
             0.3333333333333333,
             "#9c179e"
            ],
            [
             0.4444444444444444,
             "#bd3786"
            ],
            [
             0.5555555555555556,
             "#d8576b"
            ],
            [
             0.6666666666666666,
             "#ed7953"
            ],
            [
             0.7777777777777778,
             "#fb9f3a"
            ],
            [
             0.8888888888888888,
             "#fdca26"
            ],
            [
             1,
             "#f0f921"
            ]
           ],
           "sequentialminus": [
            [
             0,
             "#0d0887"
            ],
            [
             0.1111111111111111,
             "#46039f"
            ],
            [
             0.2222222222222222,
             "#7201a8"
            ],
            [
             0.3333333333333333,
             "#9c179e"
            ],
            [
             0.4444444444444444,
             "#bd3786"
            ],
            [
             0.5555555555555556,
             "#d8576b"
            ],
            [
             0.6666666666666666,
             "#ed7953"
            ],
            [
             0.7777777777777778,
             "#fb9f3a"
            ],
            [
             0.8888888888888888,
             "#fdca26"
            ],
            [
             1,
             "#f0f921"
            ]
           ]
          },
          "colorway": [
           "#636efa",
           "#EF553B",
           "#00cc96",
           "#ab63fa",
           "#FFA15A",
           "#19d3f3",
           "#FF6692",
           "#B6E880",
           "#FF97FF",
           "#FECB52"
          ],
          "font": {
           "color": "#2a3f5f"
          },
          "geo": {
           "bgcolor": "white",
           "lakecolor": "white",
           "landcolor": "#E5ECF6",
           "showlakes": true,
           "showland": true,
           "subunitcolor": "white"
          },
          "hoverlabel": {
           "align": "left"
          },
          "hovermode": "closest",
          "mapbox": {
           "style": "light"
          },
          "paper_bgcolor": "white",
          "plot_bgcolor": "#E5ECF6",
          "polar": {
           "angularaxis": {
            "gridcolor": "white",
            "linecolor": "white",
            "ticks": ""
           },
           "bgcolor": "#E5ECF6",
           "radialaxis": {
            "gridcolor": "white",
            "linecolor": "white",
            "ticks": ""
           }
          },
          "scene": {
           "xaxis": {
            "backgroundcolor": "#E5ECF6",
            "gridcolor": "white",
            "gridwidth": 2,
            "linecolor": "white",
            "showbackground": true,
            "ticks": "",
            "zerolinecolor": "white"
           },
           "yaxis": {
            "backgroundcolor": "#E5ECF6",
            "gridcolor": "white",
            "gridwidth": 2,
            "linecolor": "white",
            "showbackground": true,
            "ticks": "",
            "zerolinecolor": "white"
           },
           "zaxis": {
            "backgroundcolor": "#E5ECF6",
            "gridcolor": "white",
            "gridwidth": 2,
            "linecolor": "white",
            "showbackground": true,
            "ticks": "",
            "zerolinecolor": "white"
           }
          },
          "shapedefaults": {
           "line": {
            "color": "#2a3f5f"
           }
          },
          "ternary": {
           "aaxis": {
            "gridcolor": "white",
            "linecolor": "white",
            "ticks": ""
           },
           "baxis": {
            "gridcolor": "white",
            "linecolor": "white",
            "ticks": ""
           },
           "bgcolor": "#E5ECF6",
           "caxis": {
            "gridcolor": "white",
            "linecolor": "white",
            "ticks": ""
           }
          },
          "title": {
           "x": 0.05
          },
          "xaxis": {
           "automargin": true,
           "gridcolor": "white",
           "linecolor": "white",
           "ticks": "",
           "title": {
            "standoff": 15
           },
           "zerolinecolor": "white",
           "zerolinewidth": 2
          },
          "yaxis": {
           "automargin": true,
           "gridcolor": "white",
           "linecolor": "white",
           "ticks": "",
           "title": {
            "standoff": 15
           },
           "zerolinecolor": "white",
           "zerolinewidth": 2
          }
         }
        },
        "xaxis": {
         "anchor": "y",
         "domain": [
          0,
          1
         ],
         "title": {
          "text": "Course duration (hours)"
         }
        },
        "yaxis": {
         "anchor": "x",
         "domain": [
          0,
          1
         ],
         "title": {
          "text": "% Attended more than half of course"
         }
        }
       }
      },
      "text/html": [
       "<div>\n",
       "        \n",
       "        \n",
       "            <div id=\"26321679-4bd1-421d-be4a-5cac60be7e02\" class=\"plotly-graph-div\" style=\"height:600px; width:100%;\"></div>\n",
       "            <script type=\"text/javascript\">\n",
       "                require([\"plotly\"], function(Plotly) {\n",
       "                    window.PLOTLYENV=window.PLOTLYENV || {};\n",
       "                    \n",
       "                if (document.getElementById(\"26321679-4bd1-421d-be4a-5cac60be7e02\")) {\n",
       "                    Plotly.newPlot(\n",
       "                        '26321679-4bd1-421d-be4a-5cac60be7e02',\n",
       "                        [{\"hoverlabel\": {\"namelength\": 0}, \"hovertemplate\": \"Course duration (hours)=%{x}<br>% Attended more than half of course=%{y}\", \"legendgroup\": \"\", \"marker\": {\"color\": \"#636efa\", \"symbol\": \"circle\"}, \"mode\": \"markers\", \"name\": \"\", \"showlegend\": false, \"type\": \"scatter\", \"x\": [418.94, 884.04, 227.55, 220.9, 804.41, 639.4, 68.11, 279.22, 380.35, 186.61, 148.54, 476.84, 140.72, 84.75, 110.67, 145.95, 95.14, 65.56, 452.55, 331.0, 101.36, 138.94, 12.57, 154.23, 399.77, 104.37, 117.84, 523.56, 60.99, 145.08, 13.89, 99.29, 853.36, 68.25, 101.83, 19.6, 40.13, 84.99, 224.14, 33.76, 55.04, 188.51, 39.34, 313.27, 34.28, 97.28, 159.84, 108.97, 34.82, 7.23, 27.85, 46.04, 58.19, 47.9, 145.01, 56.9, 24.76, 34.79, 55.2, 31.69, 86.76, 22.82, 62.01, 232.93, 39.96, 182.26, 59.23, 103.05, 129.34, 206.46, 17.31, 20.45, 81.04, 38.86, 22.93, 9.36, 7.68, 6.77, 51.77, 40.6, 16.85, 54.46, 88.43, 255.4, 65.35, 26.71, 41.65, 3.2, 44.73, 23.92, 81.0, 3.63, 6.58, 50.33, 3.28, 17.21, 2.41, 18.49, 23.03, 275.96, 48.23, 3.4, 9.2, 485.67, 82.24, 68.16, 76.36, 110.41, 33.06, 26.27, 36.51, 107.06, 99.42, 24.59, 66.87, 217.1, 48.98, 3.16, 21.03, 11.54, 187.44, 40.5, 20.36, 27.9, 29.49, 37.84, 126.65, 648.95, 121.16, 159.01, 5.88, 98.6, 20.14, 20.5, 29.02, 64.07, 36.12, 34.15, 30.79, 12.86, 8.35, 3.6, 5.33, 11.95, 13.23, 7.49, 20.03, 344.95, 67.6, 69.95, 218.27, 547.35, 83.98, 895.01, 15.61, 90.12, 67.71, 41.5, 11.99, 43.57, 10.93, 567.96, 97.06, 63.24, 41.98, 40.32, 166.11, 11.83, 11.11, 4.95, 4.39, 5.71, 3.35, 6.13, 3.49, 6.93, 4.51, 77.46, 18.64, 77.42, 51.1, 174.06, 28.65, 17.95, 316.74, 8.08, 1.85, 1.18, 1.08, 109.74, 45.06, 83.14, 21.5, 109.0, 20.12, 64.81, 9.8, 167.8, 25.68, 6.84, 3.44, 3.11, 2.27, 30.39, 47.23, 4.94, 3.66, 2.03, 2.02, 1.95, 18.37, 14.81, 10.6, 12.87, 6.44, 56.13, 94.63, 114.85, 14.21, 3.88, 8.89, 708.69, 21.3, 97.71, 53.1, 248.96, 8.21, 2.6, 19.79, 19.23, 29.9, 45.76, 16.98, 28.24, 27.77, 269.33, 28.77, 674.4, 5.99, 20.91, 25.06, 72.3, 45.06, 28.87, 5.8, 79.36, 144.07, 2.99, 50.6, 25.48, 4.28, 10.78, 44.72, 45.41, 37.58, 24.48, 2.53, 710.96, 5.68, 10.31, 24.76, 0.62, 27.02, 19.33, 4.94, 33.63, 25.96, 20.17, 1.55, 355.29, 0.11, 39.56, 28.25, 39.83, 29.82, 485.85, 94.63, 17.5, 27.31, 37.86, 56.54, 7.09, 11.1, 18.76, 8.59, 1.71, 4.26, 15.62, 3.22, 6.87], \"xaxis\": \"x\", \"y\": [15.04, 14.27, 17.13, 9.96, 20.44, 9.9, 10.13, 22.41, 9.04, 16.05, 10.56, 21.41, 6.99, 19.52, 16.1, 9.04, 7.27, 7.18, 11.28, 16.61, 6.74, 14.23, 23.86, 16.16, 11.89, 17.76, 5.93, 14.43, 11.28, 17.39, 44.74, 27.02, 8.82, 34.03, 14.52, 21.2, 5.15, 16.44, 11.1, 43.43, 21.43, 18.82, 27.8, 15.23, 5.82, 19.11, 10.34, 25.32, 37.81, 10.95, 19.76, 27.72, 26.43, 15.18, 13.47, 12.42, 50.44, 31.17, 9.09, 41.24, 5.83, 23.78, 17.28, 20.14, 20.17, 15.08, 8.32, 21.07, 6.75, 19.71, 25.11, 25.18, 12.94, 7.0, 46.1, 25.16, 46.41, 36.45, 13.53, 24.07, 4.02, 15.5, 17.78, 19.91, 19.64, 29.28, 14.44, 44.85, 21.84, 46.13, 19.08, 38.35, 34.7, 12.55, 40.5, 9.39, 31.55, 19.97, 43.24, 8.51, 21.19, 43.25, 26.98, 18.02, 23.15, 24.65, 8.18, 25.84, 26.14, 19.7, 7.25, 48.73, 3.88, 3.95, 11.85, 10.15, 7.19, 39.48, 46.37, 7.42, 10.91, 10.14, 31.65, 78.7, 5.19, 36.6, 15.22, 21.06, 26.9, 17.52, 23.92, 20.29, 34.7, 20.44, 45.49, 17.46, 19.71, 28.23, 6.45, 82.6, 77.02, 83.96, 77.9, 21.12, 63.46, 43.51, 21.54, 17.41, 5.85, 10.67, 20.44, 15.89, 16.01, 17.76, 21.0, 41.87, 7.75, 45.69, 28.02, 15.11, 18.71, 14.09, 11.87, 10.17, 5.83, 36.37, 20.41, 27.03, 37.59, 41.2, 45.5, 55.97, 46.4, 41.32, 54.33, 22.08, 38.93, 9.85, 24.11, 15.86, 3.93, 14.3, 20.6, 14.46, 26.13, 18.59, 49.57, 50.0, 41.49, 11.75, 10.46, 3.61, 16.17, 38.56, 56.95, 37.49, 41.09, 18.82, 13.62, 32.39, 27.71, 45.67, 42.73, 45.09, 32.17, 25.95, 18.61, 51.69, 46.21, 37.28, 15.9, 36.29, 50.63, 47.03, 36.71, 13.67, 9.2, 16.75, 48.14, 33.59, 50.11, 6.09, 45.16, 24.39, 5.27, 13.83, 46.53, 32.24, 40.74, 54.33, 20.61, 20.93, 16.41, 25.6, 18.64, 10.55, 2.63, 25.92, 45.78, 7.63, 19.39, 14.21, 11.62, 17.06, 29.28, 22.11, 15.58, 32.47, 14.74, 29.38, 23.39, 17.27, 32.17, 16.76, 27.58, 24.89, 81.57, 16.18, 26.92, 32.21, 25.71, 34.34, 9.29, 30.66, 53.29, 20.05, 19.53, 13.05, 78.18, 22.59, 58.07, 23.3, 26.16, 19.13, 14.82, 16.37, 18.9, 35.64, 12.83, 17.29, 12.42, 17.08, 33.92, 23.08, 51.29, 49.59, 9.3, 24.74, 14.54, 28.13], \"yaxis\": \"y\"}, {\"hoverlabel\": {\"namelength\": 0}, \"hovertemplate\": \"<b>OLS trendline</b><br>% Attended more than half of course = -0.030253 * Course duration (hours) + 27.790447<br>R<sup>2</sup>=0.090126<br><br>Course duration (hours)=%{x}<br>% Attended more than half of course=%{y} <b>(trend)</b>\", \"legendgroup\": \"\", \"marker\": {\"color\": \"#636efa\", \"symbol\": \"circle\"}, \"mode\": \"lines\", \"name\": \"\", \"showlegend\": false, \"type\": \"scatter\", \"x\": [0.11, 0.62, 1.08, 1.18, 1.55, 1.71, 1.85, 1.95, 2.02, 2.03, 2.27, 2.41, 2.53, 2.6, 2.99, 3.11, 3.16, 3.2, 3.22, 3.28, 3.35, 3.4, 3.44, 3.49, 3.6, 3.63, 3.66, 3.88, 4.26, 4.28, 4.39, 4.51, 4.94, 4.94, 4.95, 5.33, 5.68, 5.71, 5.8, 5.88, 5.99, 6.13, 6.44, 6.58, 6.77, 6.84, 6.87, 6.93, 7.09, 7.23, 7.49, 7.68, 8.08, 8.21, 8.35, 8.59, 8.89, 9.2, 9.36, 9.8, 10.31, 10.6, 10.78, 10.93, 11.1, 11.11, 11.54, 11.83, 11.95, 11.99, 12.57, 12.86, 12.87, 13.23, 13.89, 14.21, 14.81, 15.61, 15.62, 16.85, 16.98, 17.21, 17.31, 17.5, 17.95, 18.37, 18.49, 18.64, 18.76, 19.23, 19.33, 19.6, 19.79, 20.03, 20.12, 20.14, 20.17, 20.36, 20.45, 20.5, 20.91, 21.03, 21.3, 21.5, 22.82, 22.93, 23.03, 23.92, 24.48, 24.59, 24.76, 24.76, 25.06, 25.48, 25.68, 25.96, 26.27, 26.71, 27.02, 27.31, 27.77, 27.85, 27.9, 28.24, 28.25, 28.65, 28.77, 28.87, 29.02, 29.49, 29.82, 29.9, 30.39, 30.79, 31.69, 33.06, 33.63, 33.76, 34.15, 34.28, 34.79, 34.82, 36.12, 36.51, 37.58, 37.84, 37.86, 38.86, 39.34, 39.56, 39.83, 39.96, 40.13, 40.32, 40.5, 40.6, 41.5, 41.65, 41.98, 43.57, 44.72, 44.73, 45.06, 45.06, 45.41, 45.76, 46.04, 47.23, 47.9, 48.23, 48.98, 50.33, 50.6, 51.1, 51.77, 53.1, 54.46, 55.04, 55.2, 56.13, 56.54, 56.9, 58.19, 59.23, 60.99, 62.01, 63.24, 64.07, 64.81, 65.35, 65.56, 66.87, 67.6, 67.71, 68.11, 68.16, 68.25, 69.95, 72.3, 76.36, 77.42, 77.46, 79.36, 81.0, 81.04, 82.24, 83.14, 83.98, 84.75, 84.99, 86.76, 88.43, 90.12, 94.63, 94.63, 95.14, 97.06, 97.28, 97.71, 98.6, 99.29, 99.42, 101.36, 101.83, 103.05, 104.37, 107.06, 108.97, 109.0, 109.74, 110.41, 110.67, 114.85, 117.84, 121.16, 126.65, 129.34, 138.94, 140.72, 144.07, 145.01, 145.08, 145.95, 148.54, 154.23, 159.01, 159.84, 166.11, 167.8, 174.06, 182.26, 186.61, 187.44, 188.51, 206.46, 217.1, 218.27, 220.9, 224.14, 227.55, 232.93, 248.96, 255.4, 269.33, 275.96, 279.22, 313.27, 316.74, 331.0, 344.95, 355.29, 380.35, 399.77, 418.94, 452.55, 476.84, 485.67, 485.85, 523.56, 547.35, 567.96, 639.4, 648.95, 674.4, 708.69, 710.96, 804.41, 853.36, 884.04, 895.01], \"xaxis\": \"x\", \"y\": [27.78711928215123, 27.771690271692105, 27.757773909317205, 27.75474861314875, 27.743555017325463, 27.738714543455934, 27.734479128820094, 27.73145383265164, 27.72933612533372, 27.729033595716874, 27.72177288491258, 27.71753747027674, 27.71390711487459, 27.711789407556672, 27.699990752499694, 27.696360397097546, 27.69484774901332, 27.693637630545936, 27.693032571312244, 27.691217393611172, 27.68909968629325, 27.687587038209024, 27.68637691974164, 27.684864271657414, 27.681536445872112, 27.680628857021574, 27.679721268171036, 27.673065616600436, 27.6615694911603, 27.660964431926608, 27.657636606141306, 27.65400625073916, 27.6409974772148, 27.6409974772148, 27.640694947597954, 27.62919882215782, 27.618610285568224, 27.617702696717686, 27.614979930166076, 27.61255969323131, 27.60923186744601, 27.60499645281017, 27.595618034687956, 27.59138262005212, 27.58563455733205, 27.58351685001413, 27.582609261163594, 27.58079408346252, 27.575953609592993, 27.571718194957153, 27.563852424919165, 27.5581043621991, 27.546003177525275, 27.54207029250628, 27.537834877870445, 27.53057416706615, 27.52149827856078, 27.512119860438567, 27.50727938656904, 27.49396808342783, 27.478539072968704, 27.469765714080182, 27.46432018097696, 27.459782236724276, 27.4546392332379, 27.454336703621053, 27.441327930096694, 27.43255457120817, 27.428924215806024, 27.42771409733864, 27.410167379561596, 27.40139402067307, 27.401091491056228, 27.390200424849784, 27.370233470137972, 27.360552522398912, 27.342400745388176, 27.318198376040527, 27.31789584642368, 27.28068470355167, 27.276751818532677, 27.269793637345227, 27.26676834117677, 27.261020278456705, 27.247406445698655, 27.23470020179114, 27.23106984638899, 27.226531902136305, 27.222901546734157, 27.208682654742415, 27.20565735857396, 27.19748905891913, 27.19174099619906, 27.184480285394766, 27.181757518843156, 27.181152459609464, 27.180244870758926, 27.17449680803886, 27.17177404148725, 27.17026139340302, 27.15785767911235, 27.154227323710202, 27.146059024055372, 27.14000843171846, 27.10007452229484, 27.096746696509538, 27.09372140034108, 27.06679626444182, 27.049854605898467, 27.046526780113165, 27.041383776626787, 27.041383776626787, 27.03230788812142, 27.019601644213907, 27.01355105187699, 27.005080222605315, 26.9957018044831, 26.982390501341893, 26.97301208321968, 26.964238724331157, 26.95032236195626, 26.947902125021493, 26.946389476937266, 26.936103469964515, 26.93580094034767, 26.923699755673844, 26.920069400271696, 26.91704410410324, 26.912506159850558, 26.898287267858812, 26.888303790502906, 26.885883553568142, 26.871059602342708, 26.858958417668884, 26.83173075215278, 26.79028419464493, 26.773040006484727, 26.769107121465737, 26.757308466408755, 26.753375581389765, 26.73794657093064, 26.7370389820801, 26.69771013189017, 26.68591147683319, 26.653540807830712, 26.645675037792724, 26.645069978559032, 26.614817016874472, 26.600295595265884, 26.59363994369528, 26.585471644040446, 26.581538759021456, 26.576395755535078, 26.57064769281501, 26.56520215971179, 26.562176863543336, 26.534949198027228, 26.530411253774545, 26.52042777641864, 26.472325567340185, 26.437534661402943, 26.437232131786097, 26.42724865443019, 26.42724865443019, 26.416660117840593, 26.406071581251, 26.39760075197932, 26.361599727574692, 26.341330243246034, 26.33134676589013, 26.30865704462671, 26.26781554635255, 26.259647246697718, 26.244520765855437, 26.224251281526783, 26.184014842486317, 26.142870814595312, 26.125324096818265, 26.120483622948736, 26.092348368582094, 26.079944654291424, 26.06905358808498, 26.030027267511898, 25.998564187359953, 25.945318974795125, 25.914460953876873, 25.877249811004862, 25.852139852806676, 25.8297526611601, 25.813416061850436, 25.807062939896678, 25.767431560089904, 25.745346898060173, 25.74201907227487, 25.729917887601047, 25.728405239516817, 25.725682472965207, 25.674252438101455, 25.603157978142733, 25.480330953703415, 25.44826281431778, 25.447052695850395, 25.38957206864973, 25.33995721148705, 25.338747093019666, 25.302443538998194, 25.275215873482086, 25.249803385667054, 25.226508605169943, 25.219247894365648, 25.165700152183973, 25.115177706170755, 25.064050200923848, 24.927609343726473, 24.927609343726473, 24.912180333267347, 24.85409464683299, 24.847438995262387, 24.834430221738025, 24.807505085838766, 24.78663054227642, 24.782697657257426, 24.724006911589377, 24.70978801959763, 24.672879406342467, 24.632945496918847, 24.551565029987376, 24.493781873169862, 24.492874284319328, 24.47048709267275, 24.450217608344094, 24.44235183830611, 24.31589445846464, 24.225438103027802, 24.124998270235057, 23.958909510586814, 23.877529043655343, 23.587100611483553, 23.533250339685033, 23.431902918041754, 23.403465134058266, 23.401347426740344, 23.375027350074777, 23.296672179311763, 23.124532827326608, 22.979923670474403, 22.954813712276216, 22.765127642514017, 22.714000137267107, 22.524616597121753, 22.276542311308347, 22.144941927980504, 22.119831969782318, 22.08746130077984, 21.544420638541958, 21.222529126218223, 21.187133161047285, 21.10756787181689, 21.009548275958913, 20.906385676614555, 20.743624742751614, 20.258669766948092, 20.063840693699518, 19.642416937433573, 19.441839801464933, 19.34321514637326, 18.313101801013943, 18.208124023968512, 17.776716790346665, 17.35468797484703, 17.041872351028665, 16.283733131213552, 15.696220615299369, 15.116271339806325, 14.099469297588211, 13.364624858270211, 13.097491206595532, 13.092045673492311, 11.951206488367498, 11.231488529891777, 10.607974989572963, 8.44670340682789, 8.157787622740322, 7.387849747868234, 6.350475691704617, 6.281801468680662, 3.45466219925839, 1.9737797247991011, 1.045618860316754, 0.7137438706371135], \"yaxis\": \"y\"}],\n",
       "                        {\"height\": 600, \"legend\": {\"tracegroupgap\": 0}, \"margin\": {\"t\": 60}, \"template\": {\"data\": {\"bar\": [{\"error_x\": {\"color\": \"#2a3f5f\"}, \"error_y\": {\"color\": \"#2a3f5f\"}, \"marker\": {\"line\": {\"color\": \"#E5ECF6\", \"width\": 0.5}}, \"type\": \"bar\"}], \"barpolar\": [{\"marker\": {\"line\": {\"color\": \"#E5ECF6\", \"width\": 0.5}}, \"type\": \"barpolar\"}], \"carpet\": [{\"aaxis\": {\"endlinecolor\": \"#2a3f5f\", \"gridcolor\": \"white\", \"linecolor\": \"white\", \"minorgridcolor\": \"white\", \"startlinecolor\": \"#2a3f5f\"}, \"baxis\": {\"endlinecolor\": \"#2a3f5f\", \"gridcolor\": \"white\", \"linecolor\": \"white\", \"minorgridcolor\": \"white\", \"startlinecolor\": \"#2a3f5f\"}, \"type\": \"carpet\"}], \"choropleth\": [{\"colorbar\": {\"outlinewidth\": 0, \"ticks\": \"\"}, \"type\": \"choropleth\"}], \"contour\": [{\"colorbar\": {\"outlinewidth\": 0, \"ticks\": \"\"}, \"colorscale\": [[0.0, \"#0d0887\"], [0.1111111111111111, \"#46039f\"], [0.2222222222222222, \"#7201a8\"], [0.3333333333333333, \"#9c179e\"], [0.4444444444444444, \"#bd3786\"], [0.5555555555555556, \"#d8576b\"], [0.6666666666666666, \"#ed7953\"], [0.7777777777777778, \"#fb9f3a\"], [0.8888888888888888, \"#fdca26\"], [1.0, \"#f0f921\"]], \"type\": \"contour\"}], \"contourcarpet\": [{\"colorbar\": {\"outlinewidth\": 0, \"ticks\": \"\"}, \"type\": \"contourcarpet\"}], \"heatmap\": [{\"colorbar\": {\"outlinewidth\": 0, \"ticks\": \"\"}, \"colorscale\": [[0.0, \"#0d0887\"], [0.1111111111111111, \"#46039f\"], [0.2222222222222222, \"#7201a8\"], [0.3333333333333333, \"#9c179e\"], [0.4444444444444444, \"#bd3786\"], [0.5555555555555556, \"#d8576b\"], [0.6666666666666666, \"#ed7953\"], [0.7777777777777778, \"#fb9f3a\"], [0.8888888888888888, \"#fdca26\"], [1.0, \"#f0f921\"]], \"type\": \"heatmap\"}], \"heatmapgl\": [{\"colorbar\": {\"outlinewidth\": 0, \"ticks\": \"\"}, \"colorscale\": [[0.0, \"#0d0887\"], [0.1111111111111111, \"#46039f\"], [0.2222222222222222, \"#7201a8\"], [0.3333333333333333, \"#9c179e\"], [0.4444444444444444, \"#bd3786\"], [0.5555555555555556, \"#d8576b\"], [0.6666666666666666, \"#ed7953\"], [0.7777777777777778, \"#fb9f3a\"], [0.8888888888888888, \"#fdca26\"], [1.0, \"#f0f921\"]], \"type\": \"heatmapgl\"}], \"histogram\": [{\"marker\": {\"colorbar\": {\"outlinewidth\": 0, \"ticks\": \"\"}}, \"type\": \"histogram\"}], \"histogram2d\": [{\"colorbar\": {\"outlinewidth\": 0, \"ticks\": \"\"}, \"colorscale\": [[0.0, \"#0d0887\"], [0.1111111111111111, \"#46039f\"], [0.2222222222222222, \"#7201a8\"], [0.3333333333333333, \"#9c179e\"], [0.4444444444444444, \"#bd3786\"], [0.5555555555555556, \"#d8576b\"], [0.6666666666666666, \"#ed7953\"], [0.7777777777777778, \"#fb9f3a\"], [0.8888888888888888, \"#fdca26\"], [1.0, \"#f0f921\"]], \"type\": \"histogram2d\"}], \"histogram2dcontour\": [{\"colorbar\": {\"outlinewidth\": 0, \"ticks\": \"\"}, \"colorscale\": [[0.0, \"#0d0887\"], [0.1111111111111111, \"#46039f\"], [0.2222222222222222, \"#7201a8\"], [0.3333333333333333, \"#9c179e\"], [0.4444444444444444, \"#bd3786\"], [0.5555555555555556, \"#d8576b\"], [0.6666666666666666, \"#ed7953\"], [0.7777777777777778, \"#fb9f3a\"], [0.8888888888888888, \"#fdca26\"], [1.0, \"#f0f921\"]], \"type\": \"histogram2dcontour\"}], \"mesh3d\": [{\"colorbar\": {\"outlinewidth\": 0, \"ticks\": \"\"}, \"type\": \"mesh3d\"}], \"parcoords\": [{\"line\": {\"colorbar\": {\"outlinewidth\": 0, \"ticks\": \"\"}}, \"type\": \"parcoords\"}], \"pie\": [{\"automargin\": true, \"type\": \"pie\"}], \"scatter\": [{\"marker\": {\"colorbar\": {\"outlinewidth\": 0, \"ticks\": \"\"}}, \"type\": \"scatter\"}], \"scatter3d\": [{\"line\": {\"colorbar\": {\"outlinewidth\": 0, \"ticks\": \"\"}}, \"marker\": {\"colorbar\": {\"outlinewidth\": 0, \"ticks\": \"\"}}, \"type\": \"scatter3d\"}], \"scattercarpet\": [{\"marker\": {\"colorbar\": {\"outlinewidth\": 0, \"ticks\": \"\"}}, \"type\": \"scattercarpet\"}], \"scattergeo\": [{\"marker\": {\"colorbar\": {\"outlinewidth\": 0, \"ticks\": \"\"}}, \"type\": \"scattergeo\"}], \"scattergl\": [{\"marker\": {\"colorbar\": {\"outlinewidth\": 0, \"ticks\": \"\"}}, \"type\": \"scattergl\"}], \"scattermapbox\": [{\"marker\": {\"colorbar\": {\"outlinewidth\": 0, \"ticks\": \"\"}}, \"type\": \"scattermapbox\"}], \"scatterpolar\": [{\"marker\": {\"colorbar\": {\"outlinewidth\": 0, \"ticks\": \"\"}}, \"type\": \"scatterpolar\"}], \"scatterpolargl\": [{\"marker\": {\"colorbar\": {\"outlinewidth\": 0, \"ticks\": \"\"}}, \"type\": \"scatterpolargl\"}], \"scatterternary\": [{\"marker\": {\"colorbar\": {\"outlinewidth\": 0, \"ticks\": \"\"}}, \"type\": \"scatterternary\"}], \"surface\": [{\"colorbar\": {\"outlinewidth\": 0, \"ticks\": \"\"}, \"colorscale\": [[0.0, \"#0d0887\"], [0.1111111111111111, \"#46039f\"], [0.2222222222222222, \"#7201a8\"], [0.3333333333333333, \"#9c179e\"], [0.4444444444444444, \"#bd3786\"], [0.5555555555555556, \"#d8576b\"], [0.6666666666666666, \"#ed7953\"], [0.7777777777777778, \"#fb9f3a\"], [0.8888888888888888, \"#fdca26\"], [1.0, \"#f0f921\"]], \"type\": \"surface\"}], \"table\": [{\"cells\": {\"fill\": {\"color\": \"#EBF0F8\"}, \"line\": {\"color\": \"white\"}}, \"header\": {\"fill\": {\"color\": \"#C8D4E3\"}, \"line\": {\"color\": \"white\"}}, \"type\": \"table\"}]}, \"layout\": {\"annotationdefaults\": {\"arrowcolor\": \"#2a3f5f\", \"arrowhead\": 0, \"arrowwidth\": 1}, \"coloraxis\": {\"colorbar\": {\"outlinewidth\": 0, \"ticks\": \"\"}}, \"colorscale\": {\"diverging\": [[0, \"#8e0152\"], [0.1, \"#c51b7d\"], [0.2, \"#de77ae\"], [0.3, \"#f1b6da\"], [0.4, \"#fde0ef\"], [0.5, \"#f7f7f7\"], [0.6, \"#e6f5d0\"], [0.7, \"#b8e186\"], [0.8, \"#7fbc41\"], [0.9, \"#4d9221\"], [1, \"#276419\"]], \"sequential\": [[0.0, \"#0d0887\"], [0.1111111111111111, \"#46039f\"], [0.2222222222222222, \"#7201a8\"], [0.3333333333333333, \"#9c179e\"], [0.4444444444444444, \"#bd3786\"], [0.5555555555555556, \"#d8576b\"], [0.6666666666666666, \"#ed7953\"], [0.7777777777777778, \"#fb9f3a\"], [0.8888888888888888, \"#fdca26\"], [1.0, \"#f0f921\"]], \"sequentialminus\": [[0.0, \"#0d0887\"], [0.1111111111111111, \"#46039f\"], [0.2222222222222222, \"#7201a8\"], [0.3333333333333333, \"#9c179e\"], [0.4444444444444444, \"#bd3786\"], [0.5555555555555556, \"#d8576b\"], [0.6666666666666666, \"#ed7953\"], [0.7777777777777778, \"#fb9f3a\"], [0.8888888888888888, \"#fdca26\"], [1.0, \"#f0f921\"]]}, \"colorway\": [\"#636efa\", \"#EF553B\", \"#00cc96\", \"#ab63fa\", \"#FFA15A\", \"#19d3f3\", \"#FF6692\", \"#B6E880\", \"#FF97FF\", \"#FECB52\"], \"font\": {\"color\": \"#2a3f5f\"}, \"geo\": {\"bgcolor\": \"white\", \"lakecolor\": \"white\", \"landcolor\": \"#E5ECF6\", \"showlakes\": true, \"showland\": true, \"subunitcolor\": \"white\"}, \"hoverlabel\": {\"align\": \"left\"}, \"hovermode\": \"closest\", \"mapbox\": {\"style\": \"light\"}, \"paper_bgcolor\": \"white\", \"plot_bgcolor\": \"#E5ECF6\", \"polar\": {\"angularaxis\": {\"gridcolor\": \"white\", \"linecolor\": \"white\", \"ticks\": \"\"}, \"bgcolor\": \"#E5ECF6\", \"radialaxis\": {\"gridcolor\": \"white\", \"linecolor\": \"white\", \"ticks\": \"\"}}, \"scene\": {\"xaxis\": {\"backgroundcolor\": \"#E5ECF6\", \"gridcolor\": \"white\", \"gridwidth\": 2, \"linecolor\": \"white\", \"showbackground\": true, \"ticks\": \"\", \"zerolinecolor\": \"white\"}, \"yaxis\": {\"backgroundcolor\": \"#E5ECF6\", \"gridcolor\": \"white\", \"gridwidth\": 2, \"linecolor\": \"white\", \"showbackground\": true, \"ticks\": \"\", \"zerolinecolor\": \"white\"}, \"zaxis\": {\"backgroundcolor\": \"#E5ECF6\", \"gridcolor\": \"white\", \"gridwidth\": 2, \"linecolor\": \"white\", \"showbackground\": true, \"ticks\": \"\", \"zerolinecolor\": \"white\"}}, \"shapedefaults\": {\"line\": {\"color\": \"#2a3f5f\"}}, \"ternary\": {\"aaxis\": {\"gridcolor\": \"white\", \"linecolor\": \"white\", \"ticks\": \"\"}, \"baxis\": {\"gridcolor\": \"white\", \"linecolor\": \"white\", \"ticks\": \"\"}, \"bgcolor\": \"#E5ECF6\", \"caxis\": {\"gridcolor\": \"white\", \"linecolor\": \"white\", \"ticks\": \"\"}}, \"title\": {\"x\": 0.05}, \"xaxis\": {\"automargin\": true, \"gridcolor\": \"white\", \"linecolor\": \"white\", \"ticks\": \"\", \"title\": {\"standoff\": 15}, \"zerolinecolor\": \"white\", \"zerolinewidth\": 2}, \"yaxis\": {\"automargin\": true, \"gridcolor\": \"white\", \"linecolor\": \"white\", \"ticks\": \"\", \"title\": {\"standoff\": 15}, \"zerolinecolor\": \"white\", \"zerolinewidth\": 2}}}, \"xaxis\": {\"anchor\": \"y\", \"domain\": [0.0, 1.0], \"title\": {\"text\": \"Course duration (hours)\"}}, \"yaxis\": {\"anchor\": \"x\", \"domain\": [0.0, 1.0], \"title\": {\"text\": \"% Attended more than half of course\"}}},\n",
       "                        {\"responsive\": true}\n",
       "                    ).then(function(){\n",
       "                            \n",
       "var gd = document.getElementById('26321679-4bd1-421d-be4a-5cac60be7e02');\n",
       "var x = new MutationObserver(function (mutations, observer) {{\n",
       "        var display = window.getComputedStyle(gd).display;\n",
       "        if (!display || display === 'none') {{\n",
       "            console.log([gd, 'removed!']);\n",
       "            Plotly.purge(gd);\n",
       "            observer.disconnect();\n",
       "        }}\n",
       "}});\n",
       "\n",
       "// Listen for the removal of the full notebook cells\n",
       "var notebookContainer = gd.closest('#notebook-container');\n",
       "if (notebookContainer) {{\n",
       "    x.observe(notebookContainer, {childList: true});\n",
       "}}\n",
       "\n",
       "// Listen for the clearing of the current output cell\n",
       "var outputEl = gd.closest('.output');\n",
       "if (outputEl) {{\n",
       "    x.observe(outputEl, {childList: true});\n",
       "}}\n",
       "\n",
       "                        })\n",
       "                };\n",
       "                });\n",
       "            </script>\n",
       "        </div>"
      ]
     },
     "metadata": {},
     "output_type": "display_data"
    }
   ],
   "source": [
    "ex.scatter(online_courses, x = online_courses[\"Course duration (hours)\"], y = online_courses[\"% Attended more than half of course\"], trendline=\"ols\")\n"
   ]
  },
  {
   "cell_type": "code",
   "execution_count": 111,
   "metadata": {},
   "outputs": [
    {
     "data": {
      "application/vnd.plotly.v1+json": {
       "config": {
        "plotlyServerURL": "https://plot.ly"
       },
       "data": [
        {
         "hoverlabel": {
          "namelength": 0
         },
         "hovertemplate": "Course duration (hours)=%{x}<br>%_certified=%{y}",
         "legendgroup": "",
         "marker": {
          "color": "#636efa",
          "symbol": "circle"
         },
         "mode": "markers",
         "name": "",
         "showlegend": false,
         "type": "scatter",
         "x": [
          418.94,
          884.04,
          227.55,
          220.9,
          804.41,
          639.4,
          68.11,
          279.22,
          380.35,
          186.61,
          148.54,
          476.84,
          140.72,
          84.75,
          110.67,
          145.95,
          95.14,
          65.56,
          452.55,
          331,
          101.36,
          138.94,
          12.57,
          154.23,
          399.77,
          104.37,
          117.84,
          523.56,
          60.99,
          145.08,
          13.89,
          99.29,
          853.36,
          68.25,
          101.83,
          19.6,
          40.13,
          84.99,
          224.14,
          33.76,
          55.04,
          188.51,
          39.34,
          313.27,
          34.28,
          97.28,
          159.84,
          108.97,
          34.82,
          7.23,
          27.85,
          46.04,
          58.19,
          47.9,
          145.01,
          56.9,
          24.76,
          34.79,
          55.2,
          31.69,
          86.76,
          22.82,
          62.01,
          232.93,
          39.96,
          182.26,
          59.23,
          103.05,
          129.34,
          206.46,
          17.31,
          20.45,
          81.04,
          38.86,
          22.93,
          9.36,
          7.68,
          6.77,
          51.77,
          40.6,
          16.85,
          54.46,
          88.43,
          255.4,
          65.35,
          26.71,
          41.65,
          3.2,
          44.73,
          23.92,
          81,
          3.63,
          6.58,
          50.33,
          3.28,
          17.21,
          2.41,
          18.49,
          23.03,
          275.96,
          48.23,
          3.4,
          9.2,
          485.67,
          82.24,
          68.16,
          76.36,
          110.41,
          33.06,
          26.27,
          36.51,
          107.06,
          99.42,
          24.59,
          66.87,
          217.1,
          48.98,
          3.16,
          21.03,
          11.54,
          187.44,
          40.5,
          20.36,
          27.9,
          29.49,
          37.84,
          126.65,
          648.95,
          121.16,
          159.01,
          5.88,
          98.6,
          20.14,
          20.5,
          29.02,
          64.07,
          36.12,
          34.15,
          30.79,
          12.86,
          8.35,
          3.6,
          5.33,
          11.95,
          13.23,
          7.49,
          20.03,
          344.95,
          67.6,
          69.95,
          218.27,
          547.35,
          83.98,
          895.01,
          15.61,
          90.12,
          67.71,
          41.5,
          11.99,
          43.57,
          10.93,
          567.96,
          97.06,
          63.24,
          41.98,
          40.32,
          166.11,
          11.83,
          11.11,
          4.95,
          4.39,
          5.71,
          3.35,
          6.13,
          3.49,
          6.93,
          4.51,
          77.46,
          18.64,
          77.42,
          51.1,
          174.06,
          28.65,
          17.95,
          316.74,
          8.08,
          1.85,
          1.18,
          1.08,
          109.74,
          45.06,
          83.14,
          21.5,
          109,
          20.12,
          64.81,
          9.8,
          167.8,
          25.68,
          6.84,
          3.44,
          3.11,
          2.27,
          30.39,
          47.23,
          4.94,
          3.66,
          2.03,
          2.02,
          1.95,
          18.37,
          14.81,
          10.6,
          12.87,
          6.44,
          56.13,
          94.63,
          114.85,
          14.21,
          3.88,
          8.89,
          708.69,
          21.3,
          97.71,
          53.1,
          248.96,
          8.21,
          2.6,
          19.79,
          19.23,
          29.9,
          45.76,
          16.98,
          28.24,
          27.77,
          269.33,
          28.77,
          674.4,
          5.99,
          20.91,
          25.06,
          72.3,
          45.06,
          28.87,
          5.8,
          79.36,
          144.07,
          2.99,
          50.6,
          25.48,
          4.28,
          10.78,
          44.72,
          45.41,
          37.58,
          24.48,
          2.53,
          710.96,
          5.68,
          10.31,
          24.76,
          0.62,
          27.02,
          19.33,
          4.94,
          33.63,
          25.96,
          20.17,
          1.55,
          355.29,
          0.11,
          39.56,
          28.25,
          39.83,
          29.82,
          485.85,
          94.63,
          17.5,
          27.31,
          37.86,
          56.54,
          7.09,
          11.1,
          18.76,
          8.59,
          1.71,
          4.26,
          15.62,
          3.22,
          6.87
         ],
         "xaxis": "x",
         "y": [
          0.08317407561279601,
          0.09221961759874978,
          0.12494748844745844,
          0.011120556414219475,
          0.09630433540869367,
          0.05067298868155399,
          0.06614268440145103,
          0.15862140201074232,
          0.04395323906273929,
          0.09251603463822114,
          0.06584288443170964,
          0.11361485894515508,
          0.053917210992153984,
          0.09352106227106227,
          0.11833987661245092,
          0.06729641693811075,
          0.031937129002591755,
          0.04135423767325608,
          0.05074784836921706,
          0.08442951390294248,
          0.024044654358093602,
          0.08701762604672952,
          0,
          0.05507549969450991,
          0.030484683345718768,
          0.08480129650507329,
          0.017721045494926823,
          0.0870561884263391,
          0.021602257924446373,
          0.07791659631943272,
          0,
          0.15879315291192503,
          0.00465372509891092,
          0.20535158680771623,
          0.04585010655931802,
          0.04467472654001151,
          0.0039017229390404078,
          0.10565663844352369,
          0.02245486269154908,
          0.29991915925626517,
          0.05717900063251107,
          0.0911551061102407,
          0.15334302325581395,
          0.05702271351661304,
          0.008499537153917361,
          0.11423790690599331,
          0.04707647702128742,
          0.05623451692815855,
          0.26477121279431365,
          0,
          0.04769828064337216,
          0.13275535085342727,
          0.04749051648672308,
          0.07462102689486552,
          0.07017989776610466,
          0.020335700451904453,
          0.3207762557077626,
          0.13314289466771737,
          0.04595148616330714,
          0.30058758721997797,
          0.03879743411391916,
          0.10151811492968241,
          0.05423452768729642,
          0.10416290409969298,
          0.0769835035349568,
          0.06015230050553529,
          0,
          0.10710501290585518,
          0.0250220630223745,
          0.10120378741019175,
          0.10610624315443593,
          0.13929118097256565,
          0.042395067984122965,
          0.03126787416587226,
          0.3228228228228228,
          0.10147936672722555,
          0.05425531914893617,
          0.22077922077922077,
          0.05253664036076663,
          0.1658157602663707,
          0.0016918088256027068,
          0.07699943278502552,
          0.060683891742697234,
          0.0853125,
          0.024267740812571485,
          0.10618304829919188,
          0.012281018602131119,
          0.2674791533033996,
          0.10224564044661899,
          0.33842746400885937,
          0.1076988879384089,
          0.23281733746130032,
          0.07796964939822083,
          0.057882592201494,
          0.2384313725490196,
          0.057878435927216414,
          0.1667423898228078,
          0.07214285714285715,
          0.3394538606403013,
          0.0050584226224085135,
          0.21452933151432468,
          0.26972353337828725,
          0.056715648362980146,
          0.09566112782410305,
          0.11279178338001868,
          0.14546750469772565,
          0.028796561604584527,
          0.08736192332683561,
          0.04357397707431868,
          0.06203234371228578,
          0.019741153342070772,
          0.09445910290237466,
          0.00884878219730156,
          0.002438495719085293,
          0.07750521920668059,
          0.018192305985712386,
          0.019469983775013522,
          0.2593856655290102,
          0.13712899543378995,
          0.0056901615271659324,
          0.035949506037321624,
          0.016659547202050404,
          0.12596839169507282,
          0.11693178978928959,
          0.01775471182736957,
          0.06885387437945176,
          0.05183515775917579,
          0.1158126680609501,
          0.06543438077634012,
          0.11162790697674418,
          0.09264238572476167,
          0.0556778453968665,
          0.06614712031933093,
          0.0544846577498033,
          0.09467084639498433,
          0.028366262001110847,
          0.03356890459363958,
          0.10300866904640489,
          0.010634293242988896,
          0.08845612388549977,
          0.08607907742998352,
          0.112,
          0.08509036144578314,
          0.029982075932866222,
          0.019923788786064236,
          0.0790641387656313,
          0.09739319333816075,
          0.06961392278455691,
          0.020771513353115726,
          0.029786513865718914,
          0.0360232125260046,
          0.06180469715698393,
          0.05625301786576533,
          0.09715736416870506,
          0.018171329679838477,
          0.024881740775780512,
          0.010302113568537672,
          0.14486830154405086,
          0.10424966799468792,
          0.03650655021834061,
          0.07363370880267,
          0.06274719008112434,
          0.023424878836833602,
          0.038925335832552324,
          0.02076777847702958,
          0.06766002736810096,
          0.0695629575085546,
          0.15172413793103448,
          0.11405901314158196,
          0.18705035971223022,
          0.2084295612009238,
          0.19404715887127946,
          0.15478686233403213,
          0.15168539325842698,
          0.28507462686567164,
          0.12839673913043478,
          0.19434628975265017,
          0.04779607010090282,
          0.03246859193995758,
          0.0870020964360587,
          0.003523382447149263,
          0.01550407933051759,
          0.027822974292222583,
          0.01706791232482932,
          0.12589413447782546,
          0.07869481765834933,
          0.2564102564102564,
          0.258130081300813,
          0.22113502935420742,
          0.056223329750154726,
          0.01452261799627122,
          0.009158458614135131,
          0.045378552663004536,
          0.1685632026323005,
          0.10069225928256766,
          0.04277238403451996,
          0.07979626485568761,
          0.12200225333977145,
          0.038963031139745356,
          0.13191990577149587,
          0.1262002743484225,
          0.1358313817330211,
          0.14316702819956617,
          0.16775682954982685,
          0.11643356643356643,
          0.06856540084388185,
          0.10499637943519188,
          0.17402597402597403,
          0.13270142180094788,
          0.11650485436893204,
          0.051425030978934326,
          0.08626506024096385,
          0.12151067323481117,
          0.1255911718339464,
          0.07974683544303797,
          0.047792819305473806,
          0.035341884285318814,
          0.04628099173553719,
          0.20052083333333334,
          0.0729483282674772,
          0.1164354770912148,
          0.00247720319600796,
          0.015160558672555807,
          0.16169010001449485,
          0.017574386636506,
          0.05881428885607465,
          0.08315381301163291,
          0.0406885758998435,
          0.1329505300353357,
          0.13854142081661552,
          0.0789225842908269,
          0.013144145630534015,
          0.04030944625407166,
          0.01903628792385485,
          0.001401840677759493,
          0.007836809957358535,
          0.005925623212096444,
          0.13223803917371293,
          0.085166784953868,
          0.0016155088852988692,
          0.01327433628318584,
          0.006154879140555058,
          0.06964705882352941,
          0.11654320987654321,
          0.005970809376382132,
          0.012729652868685958,
          0.036635006784260515,
          0.012289780077619664,
          0.0442684766214178,
          0.021482277121374866,
          0.002104770813844715,
          0.019744483159117306,
          0.06214990664177114,
          0.021250758955676987,
          0.013545347467608953,
          0.014758937356510331,
          0.10392156862745099,
          0.04288221764919501,
          0.006993006993006993,
          0.02527075812274368,
          0.05126135216952573,
          0.007530120481927711,
          0.012181616832779624,
          0.02831715210355987,
          0.03586321934945788,
          0.04019370460048426,
          0.010733044073989496,
          0.02073283382941599,
          0.06629834254143646,
          0.12123645122440786,
          0.012422360248447204,
          0.03230083162588888,
          0.011901747277791846,
          0.014606095457159287,
          0.019067357512953367,
          0.04464454082594758,
          0.04228514406885368,
          0.07949308755760369,
          0.0114598903836572,
          0.013937889280892025,
          0.0014732362088721558,
          0.0012158054711246201,
          0.027837259100642397,
          0.015374478365912585,
          0.05328892589508743,
          0.032520325203252036,
          0.006966213862765587,
          0.012446024892049785,
          0.005590496156533892,
          0.02936630602782071
         ],
         "yaxis": "y"
        },
        {
         "hoverlabel": {
          "namelength": 0
         },
         "hovertemplate": "<b>OLS trendline</b><br>%_certified = -0.000034 * Course duration (hours) + 0.080990<br>R<sup>2</sup>=0.005787<br><br>Course duration (hours)=%{x}<br>%_certified=%{y} <b>(trend)</b>",
         "legendgroup": "",
         "marker": {
          "color": "#636efa",
          "symbol": "circle"
         },
         "mode": "lines",
         "name": "",
         "showlegend": false,
         "type": "scatter",
         "x": [
          0.11,
          0.62,
          1.08,
          1.18,
          1.55,
          1.71,
          1.85,
          1.95,
          2.02,
          2.03,
          2.27,
          2.41,
          2.53,
          2.6,
          2.99,
          3.11,
          3.16,
          3.2,
          3.22,
          3.28,
          3.35,
          3.4,
          3.44,
          3.49,
          3.6,
          3.63,
          3.66,
          3.88,
          4.26,
          4.28,
          4.39,
          4.51,
          4.94,
          4.94,
          4.95,
          5.33,
          5.68,
          5.71,
          5.8,
          5.88,
          5.99,
          6.13,
          6.44,
          6.58,
          6.77,
          6.84,
          6.87,
          6.93,
          7.09,
          7.23,
          7.49,
          7.68,
          8.08,
          8.21,
          8.35,
          8.59,
          8.89,
          9.2,
          9.36,
          9.8,
          10.31,
          10.6,
          10.78,
          10.93,
          11.1,
          11.11,
          11.54,
          11.83,
          11.95,
          11.99,
          12.57,
          12.86,
          12.87,
          13.23,
          13.89,
          14.21,
          14.81,
          15.61,
          15.62,
          16.85,
          16.98,
          17.21,
          17.31,
          17.5,
          17.95,
          18.37,
          18.49,
          18.64,
          18.76,
          19.23,
          19.33,
          19.6,
          19.79,
          20.03,
          20.12,
          20.14,
          20.17,
          20.36,
          20.45,
          20.5,
          20.91,
          21.03,
          21.3,
          21.5,
          22.82,
          22.93,
          23.03,
          23.92,
          24.48,
          24.59,
          24.76,
          24.76,
          25.06,
          25.48,
          25.68,
          25.96,
          26.27,
          26.71,
          27.02,
          27.31,
          27.77,
          27.85,
          27.9,
          28.24,
          28.25,
          28.65,
          28.77,
          28.87,
          29.02,
          29.49,
          29.82,
          29.9,
          30.39,
          30.79,
          31.69,
          33.06,
          33.63,
          33.76,
          34.15,
          34.28,
          34.79,
          34.82,
          36.12,
          36.51,
          37.58,
          37.84,
          37.86,
          38.86,
          39.34,
          39.56,
          39.83,
          39.96,
          40.13,
          40.32,
          40.5,
          40.6,
          41.5,
          41.65,
          41.98,
          43.57,
          44.72,
          44.73,
          45.06,
          45.06,
          45.41,
          45.76,
          46.04,
          47.23,
          47.9,
          48.23,
          48.98,
          50.33,
          50.6,
          51.1,
          51.77,
          53.1,
          54.46,
          55.04,
          55.2,
          56.13,
          56.54,
          56.9,
          58.19,
          59.23,
          60.99,
          62.01,
          63.24,
          64.07,
          64.81,
          65.35,
          65.56,
          66.87,
          67.6,
          67.71,
          68.11,
          68.16,
          68.25,
          69.95,
          72.3,
          76.36,
          77.42,
          77.46,
          79.36,
          81,
          81.04,
          82.24,
          83.14,
          83.98,
          84.75,
          84.99,
          86.76,
          88.43,
          90.12,
          94.63,
          94.63,
          95.14,
          97.06,
          97.28,
          97.71,
          98.6,
          99.29,
          99.42,
          101.36,
          101.83,
          103.05,
          104.37,
          107.06,
          108.97,
          109,
          109.74,
          110.41,
          110.67,
          114.85,
          117.84,
          121.16,
          126.65,
          129.34,
          138.94,
          140.72,
          144.07,
          145.01,
          145.08,
          145.95,
          148.54,
          154.23,
          159.01,
          159.84,
          166.11,
          167.8,
          174.06,
          182.26,
          186.61,
          187.44,
          188.51,
          206.46,
          217.1,
          218.27,
          220.9,
          224.14,
          227.55,
          232.93,
          248.96,
          255.4,
          269.33,
          275.96,
          279.22,
          313.27,
          316.74,
          331,
          344.95,
          355.29,
          380.35,
          399.77,
          418.94,
          452.55,
          476.84,
          485.67,
          485.85,
          523.56,
          547.35,
          567.96,
          639.4,
          648.95,
          674.4,
          708.69,
          710.96,
          804.41,
          853.36,
          884.04,
          895.01
         ],
         "xaxis": "x",
         "y": [
          0.08098637792891288,
          0.08096922717008344,
          0.08095375785819806,
          0.08095039496430993,
          0.08093795225692388,
          0.08093257162670288,
          0.0809278635752595,
          0.08092450068137137,
          0.08092214665564969,
          0.08092181036626088,
          0.08091373942092937,
          0.080909031369486,
          0.08090499589682025,
          0.08090264187109857,
          0.08088952658493488,
          0.08088549111226913,
          0.08088380966532507,
          0.08088246450776981,
          0.0808817919289922,
          0.08087977419265932,
          0.08087742016693764,
          0.08087573871999357,
          0.08087439356243832,
          0.08087271211549425,
          0.08086901293221732,
          0.08086800406405088,
          0.08086699519588444,
          0.08085959682933057,
          0.08084681783255569,
          0.08084614525377808,
          0.08084244607050113,
          0.08083841059783539,
          0.08082395015411645,
          0.08082395015411645,
          0.08082361386472764,
          0.08081083486795276,
          0.08079906473934433,
          0.08079805587117789,
          0.08079502926667857,
          0.08079233895156808,
          0.08078863976829113,
          0.08078393171684776,
          0.08077350674579457,
          0.0807687986943512,
          0.08076240919596377,
          0.08076005517024208,
          0.08075904630207564,
          0.08075702856574277,
          0.08075164793552177,
          0.0807469398840784,
          0.08073819635996927,
          0.08073180686158184,
          0.08071835528602933,
          0.08071398352397477,
          0.0807092754725314,
          0.0807012045271999,
          0.08069111584553552,
          0.08068069087448233,
          0.08067531024426133,
          0.0806605135111536,
          0.08064336275232416,
          0.0806336103600486,
          0.08062755715104997,
          0.08062251281021779,
          0.08061679589060797,
          0.08061645960121916,
          0.08060199915750023,
          0.08059224676522467,
          0.08058821129255891,
          0.08058686613500367,
          0.08056736135045253,
          0.08055760895817697,
          0.08055727266878816,
          0.08054516625079092,
          0.08052297115112929,
          0.08051220989068729,
          0.08049203252735855,
          0.08046512937625355,
          0.08046479308686473,
          0.0804234294920408,
          0.08041905772998624,
          0.08041132307404356,
          0.08040796018015543,
          0.080401570681768,
          0.08038643765927143,
          0.08037231350494131,
          0.08036827803227556,
          0.08036323369144337,
          0.08035919821877763,
          0.08034339261750344,
          0.08034002972361531,
          0.08033094991011737,
          0.08032456041172994,
          0.08031648946639844,
          0.08031346286189912,
          0.08031279028312151,
          0.08031178141495507,
          0.08030539191656763,
          0.08030236531206832,
          0.08030068386512425,
          0.08028689600018295,
          0.0802828605275172,
          0.08027378071401926,
          0.080267054926243,
          0.08022266472691976,
          0.08021896554364283,
          0.0802156026497547,
          0.08018567289415039,
          0.08016684068837689,
          0.08016314150509996,
          0.08015742458549015,
          0.08015742458549015,
          0.08014733590382576,
          0.08013321174949564,
          0.0801264859617194,
          0.08011706985883264,
          0.08010664488777947,
          0.08009184815467171,
          0.08008142318361852,
          0.08007167079134296,
          0.08005620147945759,
          0.08005351116434709,
          0.08005182971740303,
          0.0800403958781834,
          0.0800400595887946,
          0.0800266080132421,
          0.08002257254057635,
          0.08001920964668822,
          0.08001416530585603,
          0.07999835970458184,
          0.07998726215475103,
          0.07998457183964054,
          0.07996809365958872,
          0.07995464208403623,
          0.07992437603904311,
          0.0798783043927758,
          0.07985913589761348,
          0.07985476413555892,
          0.07984164884939524,
          0.07983727708734067,
          0.07982012632851124,
          0.0798191174603448,
          0.07977539983979919,
          0.0797622845536355,
          0.07972630158903256,
          0.07971755806492344,
          0.07971688548614582,
          0.07968325654726457,
          0.07966711465660158,
          0.0796597162900477,
          0.07965063647654975,
          0.0796462647144952,
          0.07964054779488539,
          0.07963415829649795,
          0.07962810508749932,
          0.0796247421936112,
          0.07959447614861807,
          0.0795894318077859,
          0.07957833425795507,
          0.0795248642451339,
          0.07948619096542046,
          0.07948585467603166,
          0.07947475712620083,
          0.07947475712620083,
          0.07946298699759241,
          0.07945121686898397,
          0.07944180076609722,
          0.07940178232882854,
          0.0793792509397781,
          0.0793681533899473,
          0.07934293168578635,
          0.07929753261829667,
          0.07928845280479874,
          0.07927163833535811,
          0.07924910694630767,
          0.07920438045759562,
          0.07915864510071713,
          0.079139140316166,
          0.07913375968594501,
          0.07910248477278545,
          0.07908869690784413,
          0.07907659048984689,
          0.07903320915869007,
          0.07899823506225358,
          0.07893904812982258,
          0.0789047466121637,
          0.07886338301733978,
          0.07883547099806834,
          0.07881058558329622,
          0.07879242595630034,
          0.07878536387913529,
          0.07874130996920085,
          0.07871676084381754,
          0.07871306166054061,
          0.0786996100849881,
          0.07869792863804405,
          0.07869490203354473,
          0.07863773283744661,
          0.07855870483107569,
          0.07842217133921782,
          0.0783865246640037,
          0.07838517950644845,
          0.07832128452257409,
          0.07826613306280884,
          0.0782647879052536,
          0.07822443317859609,
          0.07819416713360297,
          0.07816591882494273,
          0.07814002454200417,
          0.07813195359667267,
          0.07807243037485286,
          0.07801627004692117,
          0.07795943714021188,
          0.07780777062585745,
          0.07780777062585745,
          0.07779061986702801,
          0.07772605230437603,
          0.07771865393782215,
          0.07770419349410321,
          0.07767426373849891,
          0.07765105977067084,
          0.07764668800861628,
          0.07758144786718667,
          0.07756564226591248,
          0.07752461496047736,
          0.07748022476115411,
          0.07738976291556356,
          0.07732553164230038,
          0.07732452277413394,
          0.07729963735936182,
          0.07727710597031139,
          0.07726836244620226,
          0.07712779348167864,
          0.07702724295442372,
          0.07691559487733798,
          0.07673097200287994,
          0.07664051015728938,
          0.07631767234402942,
          0.0762578128328208,
          0.07614515588756862,
          0.07611354468502025,
          0.07611119065929857,
          0.07608193348247189,
          0.07599483453076945,
          0.07580348586853516,
          0.0756427395406828,
          0.07561482752141137,
          0.07540397407462596,
          0.07534714116791665,
          0.07513662401052004,
          0.07486086671169383,
          0.0747145808275604,
          0.07468666880828896,
          0.07465068584368603,
          0.07404704639076766,
          0.0736892344810712,
          0.07364988862258014,
          0.07356144451332246,
          0.07345248675134722,
          0.07333781206976217,
          0.07315688837858106,
          0.07261781648831468,
          0.07240124612191945,
          0.0719327950033037,
          0.07170983513852103,
          0.07160020479776816,
          0.07045513942886172,
          0.0703384470109438,
          0.06985889834249723,
          0.06938977464510383,
          0.06904205141707175,
          0.0681993102087077,
          0.06754623621563391,
          0.0669015694572804,
          0.0657713008214817,
          0.06495445389605624,
          0.06465751036573483,
          0.0646514571567362,
          0.06338330987152441,
          0.06258327741553954,
          0.06189018498519705,
          0.059487733591520806,
          0.0591665772252049,
          0.05831072073067718,
          0.057157584416439235,
          0.05708124672517881,
          0.05393862238672632,
          0.052292485828489305,
          0.05126074998361267,
          0.050891840524085394
         ],
         "yaxis": "y"
        }
       ],
       "layout": {
        "height": 600,
        "legend": {
         "tracegroupgap": 0
        },
        "margin": {
         "t": 60
        },
        "template": {
         "data": {
          "bar": [
           {
            "error_x": {
             "color": "#2a3f5f"
            },
            "error_y": {
             "color": "#2a3f5f"
            },
            "marker": {
             "line": {
              "color": "#E5ECF6",
              "width": 0.5
             }
            },
            "type": "bar"
           }
          ],
          "barpolar": [
           {
            "marker": {
             "line": {
              "color": "#E5ECF6",
              "width": 0.5
             }
            },
            "type": "barpolar"
           }
          ],
          "carpet": [
           {
            "aaxis": {
             "endlinecolor": "#2a3f5f",
             "gridcolor": "white",
             "linecolor": "white",
             "minorgridcolor": "white",
             "startlinecolor": "#2a3f5f"
            },
            "baxis": {
             "endlinecolor": "#2a3f5f",
             "gridcolor": "white",
             "linecolor": "white",
             "minorgridcolor": "white",
             "startlinecolor": "#2a3f5f"
            },
            "type": "carpet"
           }
          ],
          "choropleth": [
           {
            "colorbar": {
             "outlinewidth": 0,
             "ticks": ""
            },
            "type": "choropleth"
           }
          ],
          "contour": [
           {
            "colorbar": {
             "outlinewidth": 0,
             "ticks": ""
            },
            "colorscale": [
             [
              0,
              "#0d0887"
             ],
             [
              0.1111111111111111,
              "#46039f"
             ],
             [
              0.2222222222222222,
              "#7201a8"
             ],
             [
              0.3333333333333333,
              "#9c179e"
             ],
             [
              0.4444444444444444,
              "#bd3786"
             ],
             [
              0.5555555555555556,
              "#d8576b"
             ],
             [
              0.6666666666666666,
              "#ed7953"
             ],
             [
              0.7777777777777778,
              "#fb9f3a"
             ],
             [
              0.8888888888888888,
              "#fdca26"
             ],
             [
              1,
              "#f0f921"
             ]
            ],
            "type": "contour"
           }
          ],
          "contourcarpet": [
           {
            "colorbar": {
             "outlinewidth": 0,
             "ticks": ""
            },
            "type": "contourcarpet"
           }
          ],
          "heatmap": [
           {
            "colorbar": {
             "outlinewidth": 0,
             "ticks": ""
            },
            "colorscale": [
             [
              0,
              "#0d0887"
             ],
             [
              0.1111111111111111,
              "#46039f"
             ],
             [
              0.2222222222222222,
              "#7201a8"
             ],
             [
              0.3333333333333333,
              "#9c179e"
             ],
             [
              0.4444444444444444,
              "#bd3786"
             ],
             [
              0.5555555555555556,
              "#d8576b"
             ],
             [
              0.6666666666666666,
              "#ed7953"
             ],
             [
              0.7777777777777778,
              "#fb9f3a"
             ],
             [
              0.8888888888888888,
              "#fdca26"
             ],
             [
              1,
              "#f0f921"
             ]
            ],
            "type": "heatmap"
           }
          ],
          "heatmapgl": [
           {
            "colorbar": {
             "outlinewidth": 0,
             "ticks": ""
            },
            "colorscale": [
             [
              0,
              "#0d0887"
             ],
             [
              0.1111111111111111,
              "#46039f"
             ],
             [
              0.2222222222222222,
              "#7201a8"
             ],
             [
              0.3333333333333333,
              "#9c179e"
             ],
             [
              0.4444444444444444,
              "#bd3786"
             ],
             [
              0.5555555555555556,
              "#d8576b"
             ],
             [
              0.6666666666666666,
              "#ed7953"
             ],
             [
              0.7777777777777778,
              "#fb9f3a"
             ],
             [
              0.8888888888888888,
              "#fdca26"
             ],
             [
              1,
              "#f0f921"
             ]
            ],
            "type": "heatmapgl"
           }
          ],
          "histogram": [
           {
            "marker": {
             "colorbar": {
              "outlinewidth": 0,
              "ticks": ""
             }
            },
            "type": "histogram"
           }
          ],
          "histogram2d": [
           {
            "colorbar": {
             "outlinewidth": 0,
             "ticks": ""
            },
            "colorscale": [
             [
              0,
              "#0d0887"
             ],
             [
              0.1111111111111111,
              "#46039f"
             ],
             [
              0.2222222222222222,
              "#7201a8"
             ],
             [
              0.3333333333333333,
              "#9c179e"
             ],
             [
              0.4444444444444444,
              "#bd3786"
             ],
             [
              0.5555555555555556,
              "#d8576b"
             ],
             [
              0.6666666666666666,
              "#ed7953"
             ],
             [
              0.7777777777777778,
              "#fb9f3a"
             ],
             [
              0.8888888888888888,
              "#fdca26"
             ],
             [
              1,
              "#f0f921"
             ]
            ],
            "type": "histogram2d"
           }
          ],
          "histogram2dcontour": [
           {
            "colorbar": {
             "outlinewidth": 0,
             "ticks": ""
            },
            "colorscale": [
             [
              0,
              "#0d0887"
             ],
             [
              0.1111111111111111,
              "#46039f"
             ],
             [
              0.2222222222222222,
              "#7201a8"
             ],
             [
              0.3333333333333333,
              "#9c179e"
             ],
             [
              0.4444444444444444,
              "#bd3786"
             ],
             [
              0.5555555555555556,
              "#d8576b"
             ],
             [
              0.6666666666666666,
              "#ed7953"
             ],
             [
              0.7777777777777778,
              "#fb9f3a"
             ],
             [
              0.8888888888888888,
              "#fdca26"
             ],
             [
              1,
              "#f0f921"
             ]
            ],
            "type": "histogram2dcontour"
           }
          ],
          "mesh3d": [
           {
            "colorbar": {
             "outlinewidth": 0,
             "ticks": ""
            },
            "type": "mesh3d"
           }
          ],
          "parcoords": [
           {
            "line": {
             "colorbar": {
              "outlinewidth": 0,
              "ticks": ""
             }
            },
            "type": "parcoords"
           }
          ],
          "pie": [
           {
            "automargin": true,
            "type": "pie"
           }
          ],
          "scatter": [
           {
            "marker": {
             "colorbar": {
              "outlinewidth": 0,
              "ticks": ""
             }
            },
            "type": "scatter"
           }
          ],
          "scatter3d": [
           {
            "line": {
             "colorbar": {
              "outlinewidth": 0,
              "ticks": ""
             }
            },
            "marker": {
             "colorbar": {
              "outlinewidth": 0,
              "ticks": ""
             }
            },
            "type": "scatter3d"
           }
          ],
          "scattercarpet": [
           {
            "marker": {
             "colorbar": {
              "outlinewidth": 0,
              "ticks": ""
             }
            },
            "type": "scattercarpet"
           }
          ],
          "scattergeo": [
           {
            "marker": {
             "colorbar": {
              "outlinewidth": 0,
              "ticks": ""
             }
            },
            "type": "scattergeo"
           }
          ],
          "scattergl": [
           {
            "marker": {
             "colorbar": {
              "outlinewidth": 0,
              "ticks": ""
             }
            },
            "type": "scattergl"
           }
          ],
          "scattermapbox": [
           {
            "marker": {
             "colorbar": {
              "outlinewidth": 0,
              "ticks": ""
             }
            },
            "type": "scattermapbox"
           }
          ],
          "scatterpolar": [
           {
            "marker": {
             "colorbar": {
              "outlinewidth": 0,
              "ticks": ""
             }
            },
            "type": "scatterpolar"
           }
          ],
          "scatterpolargl": [
           {
            "marker": {
             "colorbar": {
              "outlinewidth": 0,
              "ticks": ""
             }
            },
            "type": "scatterpolargl"
           }
          ],
          "scatterternary": [
           {
            "marker": {
             "colorbar": {
              "outlinewidth": 0,
              "ticks": ""
             }
            },
            "type": "scatterternary"
           }
          ],
          "surface": [
           {
            "colorbar": {
             "outlinewidth": 0,
             "ticks": ""
            },
            "colorscale": [
             [
              0,
              "#0d0887"
             ],
             [
              0.1111111111111111,
              "#46039f"
             ],
             [
              0.2222222222222222,
              "#7201a8"
             ],
             [
              0.3333333333333333,
              "#9c179e"
             ],
             [
              0.4444444444444444,
              "#bd3786"
             ],
             [
              0.5555555555555556,
              "#d8576b"
             ],
             [
              0.6666666666666666,
              "#ed7953"
             ],
             [
              0.7777777777777778,
              "#fb9f3a"
             ],
             [
              0.8888888888888888,
              "#fdca26"
             ],
             [
              1,
              "#f0f921"
             ]
            ],
            "type": "surface"
           }
          ],
          "table": [
           {
            "cells": {
             "fill": {
              "color": "#EBF0F8"
             },
             "line": {
              "color": "white"
             }
            },
            "header": {
             "fill": {
              "color": "#C8D4E3"
             },
             "line": {
              "color": "white"
             }
            },
            "type": "table"
           }
          ]
         },
         "layout": {
          "annotationdefaults": {
           "arrowcolor": "#2a3f5f",
           "arrowhead": 0,
           "arrowwidth": 1
          },
          "coloraxis": {
           "colorbar": {
            "outlinewidth": 0,
            "ticks": ""
           }
          },
          "colorscale": {
           "diverging": [
            [
             0,
             "#8e0152"
            ],
            [
             0.1,
             "#c51b7d"
            ],
            [
             0.2,
             "#de77ae"
            ],
            [
             0.3,
             "#f1b6da"
            ],
            [
             0.4,
             "#fde0ef"
            ],
            [
             0.5,
             "#f7f7f7"
            ],
            [
             0.6,
             "#e6f5d0"
            ],
            [
             0.7,
             "#b8e186"
            ],
            [
             0.8,
             "#7fbc41"
            ],
            [
             0.9,
             "#4d9221"
            ],
            [
             1,
             "#276419"
            ]
           ],
           "sequential": [
            [
             0,
             "#0d0887"
            ],
            [
             0.1111111111111111,
             "#46039f"
            ],
            [
             0.2222222222222222,
             "#7201a8"
            ],
            [
             0.3333333333333333,
             "#9c179e"
            ],
            [
             0.4444444444444444,
             "#bd3786"
            ],
            [
             0.5555555555555556,
             "#d8576b"
            ],
            [
             0.6666666666666666,
             "#ed7953"
            ],
            [
             0.7777777777777778,
             "#fb9f3a"
            ],
            [
             0.8888888888888888,
             "#fdca26"
            ],
            [
             1,
             "#f0f921"
            ]
           ],
           "sequentialminus": [
            [
             0,
             "#0d0887"
            ],
            [
             0.1111111111111111,
             "#46039f"
            ],
            [
             0.2222222222222222,
             "#7201a8"
            ],
            [
             0.3333333333333333,
             "#9c179e"
            ],
            [
             0.4444444444444444,
             "#bd3786"
            ],
            [
             0.5555555555555556,
             "#d8576b"
            ],
            [
             0.6666666666666666,
             "#ed7953"
            ],
            [
             0.7777777777777778,
             "#fb9f3a"
            ],
            [
             0.8888888888888888,
             "#fdca26"
            ],
            [
             1,
             "#f0f921"
            ]
           ]
          },
          "colorway": [
           "#636efa",
           "#EF553B",
           "#00cc96",
           "#ab63fa",
           "#FFA15A",
           "#19d3f3",
           "#FF6692",
           "#B6E880",
           "#FF97FF",
           "#FECB52"
          ],
          "font": {
           "color": "#2a3f5f"
          },
          "geo": {
           "bgcolor": "white",
           "lakecolor": "white",
           "landcolor": "#E5ECF6",
           "showlakes": true,
           "showland": true,
           "subunitcolor": "white"
          },
          "hoverlabel": {
           "align": "left"
          },
          "hovermode": "closest",
          "mapbox": {
           "style": "light"
          },
          "paper_bgcolor": "white",
          "plot_bgcolor": "#E5ECF6",
          "polar": {
           "angularaxis": {
            "gridcolor": "white",
            "linecolor": "white",
            "ticks": ""
           },
           "bgcolor": "#E5ECF6",
           "radialaxis": {
            "gridcolor": "white",
            "linecolor": "white",
            "ticks": ""
           }
          },
          "scene": {
           "xaxis": {
            "backgroundcolor": "#E5ECF6",
            "gridcolor": "white",
            "gridwidth": 2,
            "linecolor": "white",
            "showbackground": true,
            "ticks": "",
            "zerolinecolor": "white"
           },
           "yaxis": {
            "backgroundcolor": "#E5ECF6",
            "gridcolor": "white",
            "gridwidth": 2,
            "linecolor": "white",
            "showbackground": true,
            "ticks": "",
            "zerolinecolor": "white"
           },
           "zaxis": {
            "backgroundcolor": "#E5ECF6",
            "gridcolor": "white",
            "gridwidth": 2,
            "linecolor": "white",
            "showbackground": true,
            "ticks": "",
            "zerolinecolor": "white"
           }
          },
          "shapedefaults": {
           "line": {
            "color": "#2a3f5f"
           }
          },
          "ternary": {
           "aaxis": {
            "gridcolor": "white",
            "linecolor": "white",
            "ticks": ""
           },
           "baxis": {
            "gridcolor": "white",
            "linecolor": "white",
            "ticks": ""
           },
           "bgcolor": "#E5ECF6",
           "caxis": {
            "gridcolor": "white",
            "linecolor": "white",
            "ticks": ""
           }
          },
          "title": {
           "x": 0.05
          },
          "xaxis": {
           "automargin": true,
           "gridcolor": "white",
           "linecolor": "white",
           "ticks": "",
           "title": {
            "standoff": 15
           },
           "zerolinecolor": "white",
           "zerolinewidth": 2
          },
          "yaxis": {
           "automargin": true,
           "gridcolor": "white",
           "linecolor": "white",
           "ticks": "",
           "title": {
            "standoff": 15
           },
           "zerolinecolor": "white",
           "zerolinewidth": 2
          }
         }
        },
        "xaxis": {
         "anchor": "y",
         "domain": [
          0,
          1
         ],
         "title": {
          "text": "Course duration (hours)"
         }
        },
        "yaxis": {
         "anchor": "x",
         "domain": [
          0,
          1
         ],
         "title": {
          "text": "%_certified"
         }
        }
       }
      },
      "text/html": [
       "<div>\n",
       "        \n",
       "        \n",
       "            <div id=\"ddd85694-af64-4521-bfe2-dcc38c3dcd00\" class=\"plotly-graph-div\" style=\"height:600px; width:100%;\"></div>\n",
       "            <script type=\"text/javascript\">\n",
       "                require([\"plotly\"], function(Plotly) {\n",
       "                    window.PLOTLYENV=window.PLOTLYENV || {};\n",
       "                    \n",
       "                if (document.getElementById(\"ddd85694-af64-4521-bfe2-dcc38c3dcd00\")) {\n",
       "                    Plotly.newPlot(\n",
       "                        'ddd85694-af64-4521-bfe2-dcc38c3dcd00',\n",
       "                        [{\"hoverlabel\": {\"namelength\": 0}, \"hovertemplate\": \"Course duration (hours)=%{x}<br>%_certified=%{y}\", \"legendgroup\": \"\", \"marker\": {\"color\": \"#636efa\", \"symbol\": \"circle\"}, \"mode\": \"markers\", \"name\": \"\", \"showlegend\": false, \"type\": \"scatter\", \"x\": [418.94, 884.04, 227.55, 220.9, 804.41, 639.4, 68.11, 279.22, 380.35, 186.61, 148.54, 476.84, 140.72, 84.75, 110.67, 145.95, 95.14, 65.56, 452.55, 331.0, 101.36, 138.94, 12.57, 154.23, 399.77, 104.37, 117.84, 523.56, 60.99, 145.08, 13.89, 99.29, 853.36, 68.25, 101.83, 19.6, 40.13, 84.99, 224.14, 33.76, 55.04, 188.51, 39.34, 313.27, 34.28, 97.28, 159.84, 108.97, 34.82, 7.23, 27.85, 46.04, 58.19, 47.9, 145.01, 56.9, 24.76, 34.79, 55.2, 31.69, 86.76, 22.82, 62.01, 232.93, 39.96, 182.26, 59.23, 103.05, 129.34, 206.46, 17.31, 20.45, 81.04, 38.86, 22.93, 9.36, 7.68, 6.77, 51.77, 40.6, 16.85, 54.46, 88.43, 255.4, 65.35, 26.71, 41.65, 3.2, 44.73, 23.92, 81.0, 3.63, 6.58, 50.33, 3.28, 17.21, 2.41, 18.49, 23.03, 275.96, 48.23, 3.4, 9.2, 485.67, 82.24, 68.16, 76.36, 110.41, 33.06, 26.27, 36.51, 107.06, 99.42, 24.59, 66.87, 217.1, 48.98, 3.16, 21.03, 11.54, 187.44, 40.5, 20.36, 27.9, 29.49, 37.84, 126.65, 648.95, 121.16, 159.01, 5.88, 98.6, 20.14, 20.5, 29.02, 64.07, 36.12, 34.15, 30.79, 12.86, 8.35, 3.6, 5.33, 11.95, 13.23, 7.49, 20.03, 344.95, 67.6, 69.95, 218.27, 547.35, 83.98, 895.01, 15.61, 90.12, 67.71, 41.5, 11.99, 43.57, 10.93, 567.96, 97.06, 63.24, 41.98, 40.32, 166.11, 11.83, 11.11, 4.95, 4.39, 5.71, 3.35, 6.13, 3.49, 6.93, 4.51, 77.46, 18.64, 77.42, 51.1, 174.06, 28.65, 17.95, 316.74, 8.08, 1.85, 1.18, 1.08, 109.74, 45.06, 83.14, 21.5, 109.0, 20.12, 64.81, 9.8, 167.8, 25.68, 6.84, 3.44, 3.11, 2.27, 30.39, 47.23, 4.94, 3.66, 2.03, 2.02, 1.95, 18.37, 14.81, 10.6, 12.87, 6.44, 56.13, 94.63, 114.85, 14.21, 3.88, 8.89, 708.69, 21.3, 97.71, 53.1, 248.96, 8.21, 2.6, 19.79, 19.23, 29.9, 45.76, 16.98, 28.24, 27.77, 269.33, 28.77, 674.4, 5.99, 20.91, 25.06, 72.3, 45.06, 28.87, 5.8, 79.36, 144.07, 2.99, 50.6, 25.48, 4.28, 10.78, 44.72, 45.41, 37.58, 24.48, 2.53, 710.96, 5.68, 10.31, 24.76, 0.62, 27.02, 19.33, 4.94, 33.63, 25.96, 20.17, 1.55, 355.29, 0.11, 39.56, 28.25, 39.83, 29.82, 485.85, 94.63, 17.5, 27.31, 37.86, 56.54, 7.09, 11.1, 18.76, 8.59, 1.71, 4.26, 15.62, 3.22, 6.87], \"xaxis\": \"x\", \"y\": [0.08317407561279601, 0.09221961759874978, 0.12494748844745844, 0.011120556414219475, 0.09630433540869367, 0.05067298868155399, 0.06614268440145103, 0.15862140201074232, 0.04395323906273929, 0.09251603463822114, 0.06584288443170964, 0.11361485894515508, 0.053917210992153984, 0.09352106227106227, 0.11833987661245092, 0.06729641693811075, 0.031937129002591755, 0.04135423767325608, 0.05074784836921706, 0.08442951390294248, 0.024044654358093602, 0.08701762604672952, 0.0, 0.05507549969450991, 0.030484683345718768, 0.08480129650507329, 0.017721045494926823, 0.0870561884263391, 0.021602257924446373, 0.07791659631943272, 0.0, 0.15879315291192503, 0.00465372509891092, 0.20535158680771623, 0.04585010655931802, 0.04467472654001151, 0.0039017229390404078, 0.10565663844352369, 0.02245486269154908, 0.29991915925626517, 0.05717900063251107, 0.0911551061102407, 0.15334302325581395, 0.05702271351661304, 0.008499537153917361, 0.11423790690599331, 0.04707647702128742, 0.05623451692815855, 0.26477121279431365, 0.0, 0.04769828064337216, 0.13275535085342727, 0.04749051648672308, 0.07462102689486552, 0.07017989776610466, 0.020335700451904453, 0.3207762557077626, 0.13314289466771737, 0.04595148616330714, 0.30058758721997797, 0.03879743411391916, 0.10151811492968241, 0.05423452768729642, 0.10416290409969298, 0.0769835035349568, 0.06015230050553529, 0.0, 0.10710501290585518, 0.0250220630223745, 0.10120378741019175, 0.10610624315443593, 0.13929118097256565, 0.042395067984122965, 0.03126787416587226, 0.3228228228228228, 0.10147936672722555, 0.05425531914893617, 0.22077922077922077, 0.05253664036076663, 0.1658157602663707, 0.0016918088256027068, 0.07699943278502552, 0.060683891742697234, 0.0853125, 0.024267740812571485, 0.10618304829919188, 0.012281018602131119, 0.2674791533033996, 0.10224564044661899, 0.33842746400885937, 0.1076988879384089, 0.23281733746130032, 0.07796964939822083, 0.057882592201494, 0.2384313725490196, 0.057878435927216414, 0.1667423898228078, 0.07214285714285715, 0.3394538606403013, 0.0050584226224085135, 0.21452933151432468, 0.26972353337828725, 0.056715648362980146, 0.09566112782410305, 0.11279178338001868, 0.14546750469772565, 0.028796561604584527, 0.08736192332683561, 0.04357397707431868, 0.06203234371228578, 0.019741153342070772, 0.09445910290237466, 0.00884878219730156, 0.002438495719085293, 0.07750521920668059, 0.018192305985712386, 0.019469983775013522, 0.2593856655290102, 0.13712899543378995, 0.0056901615271659324, 0.035949506037321624, 0.016659547202050404, 0.12596839169507282, 0.11693178978928959, 0.01775471182736957, 0.06885387437945176, 0.05183515775917579, 0.1158126680609501, 0.06543438077634012, 0.11162790697674418, 0.09264238572476167, 0.0556778453968665, 0.06614712031933093, 0.0544846577498033, 0.09467084639498433, 0.028366262001110847, 0.03356890459363958, 0.10300866904640489, 0.010634293242988896, 0.08845612388549977, 0.08607907742998352, 0.112, 0.08509036144578314, 0.029982075932866222, 0.019923788786064236, 0.0790641387656313, 0.09739319333816075, 0.06961392278455691, 0.020771513353115726, 0.029786513865718914, 0.0360232125260046, 0.06180469715698393, 0.05625301786576533, 0.09715736416870506, 0.018171329679838477, 0.024881740775780512, 0.010302113568537672, 0.14486830154405086, 0.10424966799468792, 0.03650655021834061, 0.07363370880267, 0.06274719008112434, 0.023424878836833602, 0.038925335832552324, 0.02076777847702958, 0.06766002736810096, 0.0695629575085546, 0.15172413793103448, 0.11405901314158196, 0.18705035971223022, 0.2084295612009238, 0.19404715887127946, 0.15478686233403213, 0.15168539325842698, 0.28507462686567164, 0.12839673913043478, 0.19434628975265017, 0.04779607010090282, 0.03246859193995758, 0.0870020964360587, 0.003523382447149263, 0.01550407933051759, 0.027822974292222583, 0.01706791232482932, 0.12589413447782546, 0.07869481765834933, 0.2564102564102564, 0.258130081300813, 0.22113502935420742, 0.056223329750154726, 0.01452261799627122, 0.009158458614135131, 0.045378552663004536, 0.1685632026323005, 0.10069225928256766, 0.04277238403451996, 0.07979626485568761, 0.12200225333977145, 0.038963031139745356, 0.13191990577149587, 0.1262002743484225, 0.1358313817330211, 0.14316702819956617, 0.16775682954982685, 0.11643356643356643, 0.06856540084388185, 0.10499637943519188, 0.17402597402597403, 0.13270142180094788, 0.11650485436893204, 0.051425030978934326, 0.08626506024096385, 0.12151067323481117, 0.1255911718339464, 0.07974683544303797, 0.047792819305473806, 0.035341884285318814, 0.04628099173553719, 0.20052083333333334, 0.0729483282674772, 0.1164354770912148, 0.00247720319600796, 0.015160558672555807, 0.16169010001449485, 0.017574386636506, 0.05881428885607465, 0.08315381301163291, 0.0406885758998435, 0.1329505300353357, 0.13854142081661552, 0.0789225842908269, 0.013144145630534015, 0.04030944625407166, 0.01903628792385485, 0.001401840677759493, 0.007836809957358535, 0.005925623212096444, 0.13223803917371293, 0.085166784953868, 0.0016155088852988692, 0.01327433628318584, 0.006154879140555058, 0.06964705882352941, 0.11654320987654321, 0.005970809376382132, 0.012729652868685958, 0.036635006784260515, 0.012289780077619664, 0.0442684766214178, 0.021482277121374866, 0.002104770813844715, 0.019744483159117306, 0.06214990664177114, 0.021250758955676987, 0.013545347467608953, 0.014758937356510331, 0.10392156862745099, 0.04288221764919501, 0.006993006993006993, 0.02527075812274368, 0.05126135216952573, 0.007530120481927711, 0.012181616832779624, 0.02831715210355987, 0.03586321934945788, 0.04019370460048426, 0.010733044073989496, 0.02073283382941599, 0.06629834254143646, 0.12123645122440786, 0.012422360248447204, 0.03230083162588888, 0.011901747277791846, 0.014606095457159287, 0.019067357512953367, 0.04464454082594758, 0.04228514406885368, 0.07949308755760369, 0.0114598903836572, 0.013937889280892025, 0.0014732362088721558, 0.0012158054711246201, 0.027837259100642397, 0.015374478365912585, 0.05328892589508743, 0.032520325203252036, 0.006966213862765587, 0.012446024892049785, 0.005590496156533892, 0.02936630602782071], \"yaxis\": \"y\"}, {\"hoverlabel\": {\"namelength\": 0}, \"hovertemplate\": \"<b>OLS trendline</b><br>%_certified = -0.000034 * Course duration (hours) + 0.080990<br>R<sup>2</sup>=0.005787<br><br>Course duration (hours)=%{x}<br>%_certified=%{y} <b>(trend)</b>\", \"legendgroup\": \"\", \"marker\": {\"color\": \"#636efa\", \"symbol\": \"circle\"}, \"mode\": \"lines\", \"name\": \"\", \"showlegend\": false, \"type\": \"scatter\", \"x\": [0.11, 0.62, 1.08, 1.18, 1.55, 1.71, 1.85, 1.95, 2.02, 2.03, 2.27, 2.41, 2.53, 2.6, 2.99, 3.11, 3.16, 3.2, 3.22, 3.28, 3.35, 3.4, 3.44, 3.49, 3.6, 3.63, 3.66, 3.88, 4.26, 4.28, 4.39, 4.51, 4.94, 4.94, 4.95, 5.33, 5.68, 5.71, 5.8, 5.88, 5.99, 6.13, 6.44, 6.58, 6.77, 6.84, 6.87, 6.93, 7.09, 7.23, 7.49, 7.68, 8.08, 8.21, 8.35, 8.59, 8.89, 9.2, 9.36, 9.8, 10.31, 10.6, 10.78, 10.93, 11.1, 11.11, 11.54, 11.83, 11.95, 11.99, 12.57, 12.86, 12.87, 13.23, 13.89, 14.21, 14.81, 15.61, 15.62, 16.85, 16.98, 17.21, 17.31, 17.5, 17.95, 18.37, 18.49, 18.64, 18.76, 19.23, 19.33, 19.6, 19.79, 20.03, 20.12, 20.14, 20.17, 20.36, 20.45, 20.5, 20.91, 21.03, 21.3, 21.5, 22.82, 22.93, 23.03, 23.92, 24.48, 24.59, 24.76, 24.76, 25.06, 25.48, 25.68, 25.96, 26.27, 26.71, 27.02, 27.31, 27.77, 27.85, 27.9, 28.24, 28.25, 28.65, 28.77, 28.87, 29.02, 29.49, 29.82, 29.9, 30.39, 30.79, 31.69, 33.06, 33.63, 33.76, 34.15, 34.28, 34.79, 34.82, 36.12, 36.51, 37.58, 37.84, 37.86, 38.86, 39.34, 39.56, 39.83, 39.96, 40.13, 40.32, 40.5, 40.6, 41.5, 41.65, 41.98, 43.57, 44.72, 44.73, 45.06, 45.06, 45.41, 45.76, 46.04, 47.23, 47.9, 48.23, 48.98, 50.33, 50.6, 51.1, 51.77, 53.1, 54.46, 55.04, 55.2, 56.13, 56.54, 56.9, 58.19, 59.23, 60.99, 62.01, 63.24, 64.07, 64.81, 65.35, 65.56, 66.87, 67.6, 67.71, 68.11, 68.16, 68.25, 69.95, 72.3, 76.36, 77.42, 77.46, 79.36, 81.0, 81.04, 82.24, 83.14, 83.98, 84.75, 84.99, 86.76, 88.43, 90.12, 94.63, 94.63, 95.14, 97.06, 97.28, 97.71, 98.6, 99.29, 99.42, 101.36, 101.83, 103.05, 104.37, 107.06, 108.97, 109.0, 109.74, 110.41, 110.67, 114.85, 117.84, 121.16, 126.65, 129.34, 138.94, 140.72, 144.07, 145.01, 145.08, 145.95, 148.54, 154.23, 159.01, 159.84, 166.11, 167.8, 174.06, 182.26, 186.61, 187.44, 188.51, 206.46, 217.1, 218.27, 220.9, 224.14, 227.55, 232.93, 248.96, 255.4, 269.33, 275.96, 279.22, 313.27, 316.74, 331.0, 344.95, 355.29, 380.35, 399.77, 418.94, 452.55, 476.84, 485.67, 485.85, 523.56, 547.35, 567.96, 639.4, 648.95, 674.4, 708.69, 710.96, 804.41, 853.36, 884.04, 895.01], \"xaxis\": \"x\", \"y\": [0.08098637792891288, 0.08096922717008344, 0.08095375785819806, 0.08095039496430993, 0.08093795225692388, 0.08093257162670288, 0.0809278635752595, 0.08092450068137137, 0.08092214665564969, 0.08092181036626088, 0.08091373942092937, 0.080909031369486, 0.08090499589682025, 0.08090264187109857, 0.08088952658493488, 0.08088549111226913, 0.08088380966532507, 0.08088246450776981, 0.0808817919289922, 0.08087977419265932, 0.08087742016693764, 0.08087573871999357, 0.08087439356243832, 0.08087271211549425, 0.08086901293221732, 0.08086800406405088, 0.08086699519588444, 0.08085959682933057, 0.08084681783255569, 0.08084614525377808, 0.08084244607050113, 0.08083841059783539, 0.08082395015411645, 0.08082395015411645, 0.08082361386472764, 0.08081083486795276, 0.08079906473934433, 0.08079805587117789, 0.08079502926667857, 0.08079233895156808, 0.08078863976829113, 0.08078393171684776, 0.08077350674579457, 0.0807687986943512, 0.08076240919596377, 0.08076005517024208, 0.08075904630207564, 0.08075702856574277, 0.08075164793552177, 0.0807469398840784, 0.08073819635996927, 0.08073180686158184, 0.08071835528602933, 0.08071398352397477, 0.0807092754725314, 0.0807012045271999, 0.08069111584553552, 0.08068069087448233, 0.08067531024426133, 0.0806605135111536, 0.08064336275232416, 0.0806336103600486, 0.08062755715104997, 0.08062251281021779, 0.08061679589060797, 0.08061645960121916, 0.08060199915750023, 0.08059224676522467, 0.08058821129255891, 0.08058686613500367, 0.08056736135045253, 0.08055760895817697, 0.08055727266878816, 0.08054516625079092, 0.08052297115112929, 0.08051220989068729, 0.08049203252735855, 0.08046512937625355, 0.08046479308686473, 0.0804234294920408, 0.08041905772998624, 0.08041132307404356, 0.08040796018015543, 0.080401570681768, 0.08038643765927143, 0.08037231350494131, 0.08036827803227556, 0.08036323369144337, 0.08035919821877763, 0.08034339261750344, 0.08034002972361531, 0.08033094991011737, 0.08032456041172994, 0.08031648946639844, 0.08031346286189912, 0.08031279028312151, 0.08031178141495507, 0.08030539191656763, 0.08030236531206832, 0.08030068386512425, 0.08028689600018295, 0.0802828605275172, 0.08027378071401926, 0.080267054926243, 0.08022266472691976, 0.08021896554364283, 0.0802156026497547, 0.08018567289415039, 0.08016684068837689, 0.08016314150509996, 0.08015742458549015, 0.08015742458549015, 0.08014733590382576, 0.08013321174949564, 0.0801264859617194, 0.08011706985883264, 0.08010664488777947, 0.08009184815467171, 0.08008142318361852, 0.08007167079134296, 0.08005620147945759, 0.08005351116434709, 0.08005182971740303, 0.0800403958781834, 0.0800400595887946, 0.0800266080132421, 0.08002257254057635, 0.08001920964668822, 0.08001416530585603, 0.07999835970458184, 0.07998726215475103, 0.07998457183964054, 0.07996809365958872, 0.07995464208403623, 0.07992437603904311, 0.0798783043927758, 0.07985913589761348, 0.07985476413555892, 0.07984164884939524, 0.07983727708734067, 0.07982012632851124, 0.0798191174603448, 0.07977539983979919, 0.0797622845536355, 0.07972630158903256, 0.07971755806492344, 0.07971688548614582, 0.07968325654726457, 0.07966711465660158, 0.0796597162900477, 0.07965063647654975, 0.0796462647144952, 0.07964054779488539, 0.07963415829649795, 0.07962810508749932, 0.0796247421936112, 0.07959447614861807, 0.0795894318077859, 0.07957833425795507, 0.0795248642451339, 0.07948619096542046, 0.07948585467603166, 0.07947475712620083, 0.07947475712620083, 0.07946298699759241, 0.07945121686898397, 0.07944180076609722, 0.07940178232882854, 0.0793792509397781, 0.0793681533899473, 0.07934293168578635, 0.07929753261829667, 0.07928845280479874, 0.07927163833535811, 0.07924910694630767, 0.07920438045759562, 0.07915864510071713, 0.079139140316166, 0.07913375968594501, 0.07910248477278545, 0.07908869690784413, 0.07907659048984689, 0.07903320915869007, 0.07899823506225358, 0.07893904812982258, 0.0789047466121637, 0.07886338301733978, 0.07883547099806834, 0.07881058558329622, 0.07879242595630034, 0.07878536387913529, 0.07874130996920085, 0.07871676084381754, 0.07871306166054061, 0.0786996100849881, 0.07869792863804405, 0.07869490203354473, 0.07863773283744661, 0.07855870483107569, 0.07842217133921782, 0.0783865246640037, 0.07838517950644845, 0.07832128452257409, 0.07826613306280884, 0.0782647879052536, 0.07822443317859609, 0.07819416713360297, 0.07816591882494273, 0.07814002454200417, 0.07813195359667267, 0.07807243037485286, 0.07801627004692117, 0.07795943714021188, 0.07780777062585745, 0.07780777062585745, 0.07779061986702801, 0.07772605230437603, 0.07771865393782215, 0.07770419349410321, 0.07767426373849891, 0.07765105977067084, 0.07764668800861628, 0.07758144786718667, 0.07756564226591248, 0.07752461496047736, 0.07748022476115411, 0.07738976291556356, 0.07732553164230038, 0.07732452277413394, 0.07729963735936182, 0.07727710597031139, 0.07726836244620226, 0.07712779348167864, 0.07702724295442372, 0.07691559487733798, 0.07673097200287994, 0.07664051015728938, 0.07631767234402942, 0.0762578128328208, 0.07614515588756862, 0.07611354468502025, 0.07611119065929857, 0.07608193348247189, 0.07599483453076945, 0.07580348586853516, 0.0756427395406828, 0.07561482752141137, 0.07540397407462596, 0.07534714116791665, 0.07513662401052004, 0.07486086671169383, 0.0747145808275604, 0.07468666880828896, 0.07465068584368603, 0.07404704639076766, 0.0736892344810712, 0.07364988862258014, 0.07356144451332246, 0.07345248675134722, 0.07333781206976217, 0.07315688837858106, 0.07261781648831468, 0.07240124612191945, 0.0719327950033037, 0.07170983513852103, 0.07160020479776816, 0.07045513942886172, 0.0703384470109438, 0.06985889834249723, 0.06938977464510383, 0.06904205141707175, 0.0681993102087077, 0.06754623621563391, 0.0669015694572804, 0.0657713008214817, 0.06495445389605624, 0.06465751036573483, 0.0646514571567362, 0.06338330987152441, 0.06258327741553954, 0.06189018498519705, 0.059487733591520806, 0.0591665772252049, 0.05831072073067718, 0.057157584416439235, 0.05708124672517881, 0.05393862238672632, 0.052292485828489305, 0.05126074998361267, 0.050891840524085394], \"yaxis\": \"y\"}],\n",
       "                        {\"height\": 600, \"legend\": {\"tracegroupgap\": 0}, \"margin\": {\"t\": 60}, \"template\": {\"data\": {\"bar\": [{\"error_x\": {\"color\": \"#2a3f5f\"}, \"error_y\": {\"color\": \"#2a3f5f\"}, \"marker\": {\"line\": {\"color\": \"#E5ECF6\", \"width\": 0.5}}, \"type\": \"bar\"}], \"barpolar\": [{\"marker\": {\"line\": {\"color\": \"#E5ECF6\", \"width\": 0.5}}, \"type\": \"barpolar\"}], \"carpet\": [{\"aaxis\": {\"endlinecolor\": \"#2a3f5f\", \"gridcolor\": \"white\", \"linecolor\": \"white\", \"minorgridcolor\": \"white\", \"startlinecolor\": \"#2a3f5f\"}, \"baxis\": {\"endlinecolor\": \"#2a3f5f\", \"gridcolor\": \"white\", \"linecolor\": \"white\", \"minorgridcolor\": \"white\", \"startlinecolor\": \"#2a3f5f\"}, \"type\": \"carpet\"}], \"choropleth\": [{\"colorbar\": {\"outlinewidth\": 0, \"ticks\": \"\"}, \"type\": \"choropleth\"}], \"contour\": [{\"colorbar\": {\"outlinewidth\": 0, \"ticks\": \"\"}, \"colorscale\": [[0.0, \"#0d0887\"], [0.1111111111111111, \"#46039f\"], [0.2222222222222222, \"#7201a8\"], [0.3333333333333333, \"#9c179e\"], [0.4444444444444444, \"#bd3786\"], [0.5555555555555556, \"#d8576b\"], [0.6666666666666666, \"#ed7953\"], [0.7777777777777778, \"#fb9f3a\"], [0.8888888888888888, \"#fdca26\"], [1.0, \"#f0f921\"]], \"type\": \"contour\"}], \"contourcarpet\": [{\"colorbar\": {\"outlinewidth\": 0, \"ticks\": \"\"}, \"type\": \"contourcarpet\"}], \"heatmap\": [{\"colorbar\": {\"outlinewidth\": 0, \"ticks\": \"\"}, \"colorscale\": [[0.0, \"#0d0887\"], [0.1111111111111111, \"#46039f\"], [0.2222222222222222, \"#7201a8\"], [0.3333333333333333, \"#9c179e\"], [0.4444444444444444, \"#bd3786\"], [0.5555555555555556, \"#d8576b\"], [0.6666666666666666, \"#ed7953\"], [0.7777777777777778, \"#fb9f3a\"], [0.8888888888888888, \"#fdca26\"], [1.0, \"#f0f921\"]], \"type\": \"heatmap\"}], \"heatmapgl\": [{\"colorbar\": {\"outlinewidth\": 0, \"ticks\": \"\"}, \"colorscale\": [[0.0, \"#0d0887\"], [0.1111111111111111, \"#46039f\"], [0.2222222222222222, \"#7201a8\"], [0.3333333333333333, \"#9c179e\"], [0.4444444444444444, \"#bd3786\"], [0.5555555555555556, \"#d8576b\"], [0.6666666666666666, \"#ed7953\"], [0.7777777777777778, \"#fb9f3a\"], [0.8888888888888888, \"#fdca26\"], [1.0, \"#f0f921\"]], \"type\": \"heatmapgl\"}], \"histogram\": [{\"marker\": {\"colorbar\": {\"outlinewidth\": 0, \"ticks\": \"\"}}, \"type\": \"histogram\"}], \"histogram2d\": [{\"colorbar\": {\"outlinewidth\": 0, \"ticks\": \"\"}, \"colorscale\": [[0.0, \"#0d0887\"], [0.1111111111111111, \"#46039f\"], [0.2222222222222222, \"#7201a8\"], [0.3333333333333333, \"#9c179e\"], [0.4444444444444444, \"#bd3786\"], [0.5555555555555556, \"#d8576b\"], [0.6666666666666666, \"#ed7953\"], [0.7777777777777778, \"#fb9f3a\"], [0.8888888888888888, \"#fdca26\"], [1.0, \"#f0f921\"]], \"type\": \"histogram2d\"}], \"histogram2dcontour\": [{\"colorbar\": {\"outlinewidth\": 0, \"ticks\": \"\"}, \"colorscale\": [[0.0, \"#0d0887\"], [0.1111111111111111, \"#46039f\"], [0.2222222222222222, \"#7201a8\"], [0.3333333333333333, \"#9c179e\"], [0.4444444444444444, \"#bd3786\"], [0.5555555555555556, \"#d8576b\"], [0.6666666666666666, \"#ed7953\"], [0.7777777777777778, \"#fb9f3a\"], [0.8888888888888888, \"#fdca26\"], [1.0, \"#f0f921\"]], \"type\": \"histogram2dcontour\"}], \"mesh3d\": [{\"colorbar\": {\"outlinewidth\": 0, \"ticks\": \"\"}, \"type\": \"mesh3d\"}], \"parcoords\": [{\"line\": {\"colorbar\": {\"outlinewidth\": 0, \"ticks\": \"\"}}, \"type\": \"parcoords\"}], \"pie\": [{\"automargin\": true, \"type\": \"pie\"}], \"scatter\": [{\"marker\": {\"colorbar\": {\"outlinewidth\": 0, \"ticks\": \"\"}}, \"type\": \"scatter\"}], \"scatter3d\": [{\"line\": {\"colorbar\": {\"outlinewidth\": 0, \"ticks\": \"\"}}, \"marker\": {\"colorbar\": {\"outlinewidth\": 0, \"ticks\": \"\"}}, \"type\": \"scatter3d\"}], \"scattercarpet\": [{\"marker\": {\"colorbar\": {\"outlinewidth\": 0, \"ticks\": \"\"}}, \"type\": \"scattercarpet\"}], \"scattergeo\": [{\"marker\": {\"colorbar\": {\"outlinewidth\": 0, \"ticks\": \"\"}}, \"type\": \"scattergeo\"}], \"scattergl\": [{\"marker\": {\"colorbar\": {\"outlinewidth\": 0, \"ticks\": \"\"}}, \"type\": \"scattergl\"}], \"scattermapbox\": [{\"marker\": {\"colorbar\": {\"outlinewidth\": 0, \"ticks\": \"\"}}, \"type\": \"scattermapbox\"}], \"scatterpolar\": [{\"marker\": {\"colorbar\": {\"outlinewidth\": 0, \"ticks\": \"\"}}, \"type\": \"scatterpolar\"}], \"scatterpolargl\": [{\"marker\": {\"colorbar\": {\"outlinewidth\": 0, \"ticks\": \"\"}}, \"type\": \"scatterpolargl\"}], \"scatterternary\": [{\"marker\": {\"colorbar\": {\"outlinewidth\": 0, \"ticks\": \"\"}}, \"type\": \"scatterternary\"}], \"surface\": [{\"colorbar\": {\"outlinewidth\": 0, \"ticks\": \"\"}, \"colorscale\": [[0.0, \"#0d0887\"], [0.1111111111111111, \"#46039f\"], [0.2222222222222222, \"#7201a8\"], [0.3333333333333333, \"#9c179e\"], [0.4444444444444444, \"#bd3786\"], [0.5555555555555556, \"#d8576b\"], [0.6666666666666666, \"#ed7953\"], [0.7777777777777778, \"#fb9f3a\"], [0.8888888888888888, \"#fdca26\"], [1.0, \"#f0f921\"]], \"type\": \"surface\"}], \"table\": [{\"cells\": {\"fill\": {\"color\": \"#EBF0F8\"}, \"line\": {\"color\": \"white\"}}, \"header\": {\"fill\": {\"color\": \"#C8D4E3\"}, \"line\": {\"color\": \"white\"}}, \"type\": \"table\"}]}, \"layout\": {\"annotationdefaults\": {\"arrowcolor\": \"#2a3f5f\", \"arrowhead\": 0, \"arrowwidth\": 1}, \"coloraxis\": {\"colorbar\": {\"outlinewidth\": 0, \"ticks\": \"\"}}, \"colorscale\": {\"diverging\": [[0, \"#8e0152\"], [0.1, \"#c51b7d\"], [0.2, \"#de77ae\"], [0.3, \"#f1b6da\"], [0.4, \"#fde0ef\"], [0.5, \"#f7f7f7\"], [0.6, \"#e6f5d0\"], [0.7, \"#b8e186\"], [0.8, \"#7fbc41\"], [0.9, \"#4d9221\"], [1, \"#276419\"]], \"sequential\": [[0.0, \"#0d0887\"], [0.1111111111111111, \"#46039f\"], [0.2222222222222222, \"#7201a8\"], [0.3333333333333333, \"#9c179e\"], [0.4444444444444444, \"#bd3786\"], [0.5555555555555556, \"#d8576b\"], [0.6666666666666666, \"#ed7953\"], [0.7777777777777778, \"#fb9f3a\"], [0.8888888888888888, \"#fdca26\"], [1.0, \"#f0f921\"]], \"sequentialminus\": [[0.0, \"#0d0887\"], [0.1111111111111111, \"#46039f\"], [0.2222222222222222, \"#7201a8\"], [0.3333333333333333, \"#9c179e\"], [0.4444444444444444, \"#bd3786\"], [0.5555555555555556, \"#d8576b\"], [0.6666666666666666, \"#ed7953\"], [0.7777777777777778, \"#fb9f3a\"], [0.8888888888888888, \"#fdca26\"], [1.0, \"#f0f921\"]]}, \"colorway\": [\"#636efa\", \"#EF553B\", \"#00cc96\", \"#ab63fa\", \"#FFA15A\", \"#19d3f3\", \"#FF6692\", \"#B6E880\", \"#FF97FF\", \"#FECB52\"], \"font\": {\"color\": \"#2a3f5f\"}, \"geo\": {\"bgcolor\": \"white\", \"lakecolor\": \"white\", \"landcolor\": \"#E5ECF6\", \"showlakes\": true, \"showland\": true, \"subunitcolor\": \"white\"}, \"hoverlabel\": {\"align\": \"left\"}, \"hovermode\": \"closest\", \"mapbox\": {\"style\": \"light\"}, \"paper_bgcolor\": \"white\", \"plot_bgcolor\": \"#E5ECF6\", \"polar\": {\"angularaxis\": {\"gridcolor\": \"white\", \"linecolor\": \"white\", \"ticks\": \"\"}, \"bgcolor\": \"#E5ECF6\", \"radialaxis\": {\"gridcolor\": \"white\", \"linecolor\": \"white\", \"ticks\": \"\"}}, \"scene\": {\"xaxis\": {\"backgroundcolor\": \"#E5ECF6\", \"gridcolor\": \"white\", \"gridwidth\": 2, \"linecolor\": \"white\", \"showbackground\": true, \"ticks\": \"\", \"zerolinecolor\": \"white\"}, \"yaxis\": {\"backgroundcolor\": \"#E5ECF6\", \"gridcolor\": \"white\", \"gridwidth\": 2, \"linecolor\": \"white\", \"showbackground\": true, \"ticks\": \"\", \"zerolinecolor\": \"white\"}, \"zaxis\": {\"backgroundcolor\": \"#E5ECF6\", \"gridcolor\": \"white\", \"gridwidth\": 2, \"linecolor\": \"white\", \"showbackground\": true, \"ticks\": \"\", \"zerolinecolor\": \"white\"}}, \"shapedefaults\": {\"line\": {\"color\": \"#2a3f5f\"}}, \"ternary\": {\"aaxis\": {\"gridcolor\": \"white\", \"linecolor\": \"white\", \"ticks\": \"\"}, \"baxis\": {\"gridcolor\": \"white\", \"linecolor\": \"white\", \"ticks\": \"\"}, \"bgcolor\": \"#E5ECF6\", \"caxis\": {\"gridcolor\": \"white\", \"linecolor\": \"white\", \"ticks\": \"\"}}, \"title\": {\"x\": 0.05}, \"xaxis\": {\"automargin\": true, \"gridcolor\": \"white\", \"linecolor\": \"white\", \"ticks\": \"\", \"title\": {\"standoff\": 15}, \"zerolinecolor\": \"white\", \"zerolinewidth\": 2}, \"yaxis\": {\"automargin\": true, \"gridcolor\": \"white\", \"linecolor\": \"white\", \"ticks\": \"\", \"title\": {\"standoff\": 15}, \"zerolinecolor\": \"white\", \"zerolinewidth\": 2}}}, \"xaxis\": {\"anchor\": \"y\", \"domain\": [0.0, 1.0], \"title\": {\"text\": \"Course duration (hours)\"}}, \"yaxis\": {\"anchor\": \"x\", \"domain\": [0.0, 1.0], \"title\": {\"text\": \"%_certified\"}}},\n",
       "                        {\"responsive\": true}\n",
       "                    ).then(function(){\n",
       "                            \n",
       "var gd = document.getElementById('ddd85694-af64-4521-bfe2-dcc38c3dcd00');\n",
       "var x = new MutationObserver(function (mutations, observer) {{\n",
       "        var display = window.getComputedStyle(gd).display;\n",
       "        if (!display || display === 'none') {{\n",
       "            console.log([gd, 'removed!']);\n",
       "            Plotly.purge(gd);\n",
       "            observer.disconnect();\n",
       "        }}\n",
       "}});\n",
       "\n",
       "// Listen for the removal of the full notebook cells\n",
       "var notebookContainer = gd.closest('#notebook-container');\n",
       "if (notebookContainer) {{\n",
       "    x.observe(notebookContainer, {childList: true});\n",
       "}}\n",
       "\n",
       "// Listen for the clearing of the current output cell\n",
       "var outputEl = gd.closest('.output');\n",
       "if (outputEl) {{\n",
       "    x.observe(outputEl, {childList: true});\n",
       "}}\n",
       "\n",
       "                        })\n",
       "                };\n",
       "                });\n",
       "            </script>\n",
       "        </div>"
      ]
     },
     "metadata": {},
     "output_type": "display_data"
    }
   ],
   "source": [
    "ex.scatter(online_courses, x = online_courses[\"Course duration (hours)\"], y = online_courses[\"%_certified\"], trendline=\"ols\")"
   ]
  },
  {
   "cell_type": "code",
   "execution_count": 112,
   "metadata": {},
   "outputs": [],
   "source": [
    "online_courses.rename(columns = {\"tot_hours\": \"Course duration (hours)\", \"participants\":\"Participants per course\"}, inplace = True)\n"
   ]
  },
  {
   "cell_type": "code",
   "execution_count": 113,
   "metadata": {},
   "outputs": [
    {
     "data": {
      "application/vnd.plotly.v1+json": {
       "config": {
        "plotlyServerURL": "https://plot.ly"
       },
       "data": [
        {
         "hoverlabel": {
          "namelength": 0
         },
         "hovertemplate": "Course duration (hours)=%{x}<br>Participants per course=%{y}",
         "legendgroup": "",
         "marker": {
          "color": "#636efa",
          "symbol": "circle"
         },
         "mode": "markers",
         "name": "",
         "showlegend": false,
         "type": "scatter",
         "x": [
          418.94,
          884.04,
          227.55,
          220.9,
          804.41,
          639.4,
          68.11,
          279.22,
          380.35,
          186.61,
          148.54,
          476.84,
          140.72,
          84.75,
          110.67,
          145.95,
          95.14,
          65.56,
          452.55,
          331,
          101.36,
          138.94,
          12.57,
          154.23,
          399.77,
          104.37,
          117.84,
          523.56,
          60.99,
          145.08,
          13.89,
          99.29,
          853.36,
          68.25,
          101.83,
          19.6,
          40.13,
          84.99,
          224.14,
          33.76,
          55.04,
          188.51,
          39.34,
          313.27,
          34.28,
          97.28,
          159.84,
          108.97,
          34.82,
          7.23,
          27.85,
          46.04,
          58.19,
          47.9,
          145.01,
          56.9,
          24.76,
          34.79,
          55.2,
          31.69,
          86.76,
          22.82,
          62.01,
          232.93,
          39.96,
          182.26,
          59.23,
          103.05,
          129.34,
          206.46,
          17.31,
          20.45,
          81.04,
          38.86,
          22.93,
          9.36,
          7.68,
          6.77,
          51.77,
          40.6,
          16.85,
          54.46,
          88.43,
          255.4,
          65.35,
          26.71,
          41.65,
          3.2,
          44.73,
          23.92,
          81,
          3.63,
          6.58,
          50.33,
          3.28,
          17.21,
          2.41,
          18.49,
          23.03,
          275.96,
          48.23,
          3.4,
          9.2,
          485.67,
          82.24,
          68.16,
          76.36,
          110.41,
          33.06,
          26.27,
          36.51,
          107.06,
          99.42,
          24.59,
          66.87,
          217.1,
          48.98,
          3.16,
          21.03,
          11.54,
          187.44,
          40.5,
          20.36,
          27.9,
          29.49,
          37.84,
          126.65,
          648.95,
          121.16,
          159.01,
          5.88,
          98.6,
          20.14,
          20.5,
          29.02,
          64.07,
          36.12,
          34.15,
          30.79,
          12.86,
          8.35,
          3.6,
          5.33,
          11.95,
          13.23,
          7.49,
          20.03,
          344.95,
          67.6,
          69.95,
          218.27,
          547.35,
          83.98,
          895.01,
          15.61,
          90.12,
          67.71,
          41.5,
          11.99,
          43.57,
          10.93,
          567.96,
          97.06,
          63.24,
          41.98,
          40.32,
          166.11,
          11.83,
          11.11,
          4.95,
          4.39,
          5.71,
          3.35,
          6.13,
          3.49,
          6.93,
          4.51,
          77.46,
          18.64,
          77.42,
          51.1,
          174.06,
          28.65,
          17.95,
          316.74,
          8.08,
          1.85,
          1.18,
          1.08,
          109.74,
          45.06,
          83.14,
          21.5,
          109,
          20.12,
          64.81,
          9.8,
          167.8,
          25.68,
          6.84,
          3.44,
          3.11,
          2.27,
          30.39,
          47.23,
          4.94,
          3.66,
          2.03,
          2.02,
          1.95,
          18.37,
          14.81,
          10.6,
          12.87,
          6.44,
          56.13,
          94.63,
          114.85,
          14.21,
          3.88,
          8.89,
          708.69,
          21.3,
          97.71,
          53.1,
          248.96,
          8.21,
          2.6,
          19.79,
          19.23,
          29.9,
          45.76,
          16.98,
          28.24,
          27.77,
          269.33,
          28.77,
          674.4,
          5.99,
          20.91,
          25.06,
          72.3,
          45.06,
          28.87,
          5.8,
          79.36,
          144.07,
          2.99,
          50.6,
          25.48,
          4.28,
          10.78,
          44.72,
          45.41,
          37.58,
          24.48,
          2.53,
          710.96,
          5.68,
          10.31,
          24.76,
          0.62,
          27.02,
          19.33,
          4.94,
          33.63,
          25.96,
          20.17,
          1.55,
          355.29,
          0.11,
          39.56,
          28.25,
          39.83,
          29.82,
          485.85,
          94.63,
          17.5,
          27.31,
          37.86,
          56.54,
          7.09,
          11.1,
          18.76,
          8.59,
          1.71,
          4.26,
          15.62,
          3.22,
          6.87
         ],
         "xaxis": "x",
         "y": [
          36105,
          62709,
          16663,
          129400,
          52521,
          65380,
          8270,
          29044,
          39178,
          58779,
          16752,
          28535,
          25873,
          8736,
          23179,
          15350,
          11961,
          17604,
          35903,
          24707,
          25619,
          17077,
          5857,
          34371,
          60555,
          28384,
          21387,
          57147,
          18424,
          47384,
          6446,
          20914,
          259577,
          12856,
          33784,
          8685,
          25886,
          11102,
          26364,
          7422,
          7905,
          21063,
          8256,
          31391,
          11883,
          13148,
          39319,
          36330,
          6753,
          7156,
          12621,
          7382,
          13708,
          10225,
          35409,
          27882,
          5256,
          30456,
          5854,
          5446,
          12939,
          10737,
          6140,
          22148,
          5092,
          15627,
          10755,
          36805,
          19263,
          21017,
          7304,
          8493,
          11841,
          5245,
          4662,
          3853,
          2820,
          2310,
          13305,
          9010,
          7093,
          7052,
          26086,
          25600,
          20109,
          5321,
          11074,
          1559,
          15942,
          4515,
          11690,
          1615,
          1911,
          25569,
          1275,
          10332,
          2201,
          7000,
          4248,
          301082,
          5864,
          1483,
          3879,
          49529,
          21420,
          15433,
          6980,
          30780,
          13173,
          4143,
          12208,
          28425,
          22828,
          18454,
          7664,
          22537,
          7396,
          1465,
          7008,
          5448,
          10932,
          11705,
          6454,
          12007,
          3661,
          9266,
          15530,
          26776,
          13525,
          14835,
          4091,
          7723,
          5261,
          5084,
          4785,
          25206,
          15282,
          3922,
          10626,
          4262,
          2428,
          2250,
          2656,
          6137,
          9185,
          2479,
          8286,
          19996,
          8088,
          41361,
          18266,
          31551,
          12426,
          53964,
          6934,
          31710,
          48922,
          4404,
          4518,
          5725,
          4794,
          54361,
          16094,
          16005,
          4767,
          6577,
          23087,
          2175,
          4033,
          2085,
          1732,
          2587,
          2862,
          1602,
          670,
          1472,
          1698,
          7532,
          6129,
          5724,
          18732,
          38119,
          6146,
          5566,
          14679,
          3126,
          702,
          492,
          511,
          30699,
          10191,
          11574,
          4187,
          29176,
          3178,
          18540,
          1178,
          12426,
          6519,
          849,
          729,
          427,
          461,
          2599,
          2860,
          948,
          1381,
          385,
          422,
          515,
          4842,
          2075,
          3654,
          3806,
          790,
          8495,
          10837,
          7260,
          3072,
          658,
          2379,
          168335,
          8377,
          13798,
          5747,
          63658,
          2321,
          639,
          6792,
          4237,
          5309,
          18183,
          2456,
          8405,
          16407,
          17354,
          9788,
          18686,
          1409,
          5571,
          3842,
          8936,
          4250,
          4050,
          4522,
          22153,
          14003,
          1546,
          13260,
          1862,
          4276,
          2583,
          3749,
          3294,
          10188,
          3049,
          510,
          33044,
          1716,
          2493,
          4955,
          664,
          9933,
          1236,
          1199,
          4130,
          8758,
          9743,
          362,
          12455,
          322,
          8297,
          7898,
          8695,
          4825,
          21212,
          8017,
          2604,
          4014,
          22959,
          12218,
          1645,
          2335,
          4553,
          2402,
          615,
          2871,
          3937,
          1431,
          1294
         ],
         "yaxis": "y"
        },
        {
         "hoverlabel": {
          "namelength": 0
         },
         "hovertemplate": "<b>OLS trendline</b><br>Participants per course = 105.679139 * Course duration (hours) + 5306.736764<br>R<sup>2</sup>=0.348704<br><br>Course duration (hours)=%{x}<br>Participants per course=%{y} <b>(trend)</b>",
         "legendgroup": "",
         "marker": {
          "color": "#636efa",
          "symbol": "circle"
         },
         "mode": "lines",
         "name": "",
         "showlegend": false,
         "type": "scatter",
         "x": [
          0.11,
          0.62,
          1.08,
          1.18,
          1.55,
          1.71,
          1.85,
          1.95,
          2.02,
          2.03,
          2.27,
          2.41,
          2.53,
          2.6,
          2.99,
          3.11,
          3.16,
          3.2,
          3.22,
          3.28,
          3.35,
          3.4,
          3.44,
          3.49,
          3.6,
          3.63,
          3.66,
          3.88,
          4.26,
          4.28,
          4.39,
          4.51,
          4.94,
          4.94,
          4.95,
          5.33,
          5.68,
          5.71,
          5.8,
          5.88,
          5.99,
          6.13,
          6.44,
          6.58,
          6.77,
          6.84,
          6.87,
          6.93,
          7.09,
          7.23,
          7.49,
          7.68,
          8.08,
          8.21,
          8.35,
          8.59,
          8.89,
          9.2,
          9.36,
          9.8,
          10.31,
          10.6,
          10.78,
          10.93,
          11.1,
          11.11,
          11.54,
          11.83,
          11.95,
          11.99,
          12.57,
          12.86,
          12.87,
          13.23,
          13.89,
          14.21,
          14.81,
          15.61,
          15.62,
          16.85,
          16.98,
          17.21,
          17.31,
          17.5,
          17.95,
          18.37,
          18.49,
          18.64,
          18.76,
          19.23,
          19.33,
          19.6,
          19.79,
          20.03,
          20.12,
          20.14,
          20.17,
          20.36,
          20.45,
          20.5,
          20.91,
          21.03,
          21.3,
          21.5,
          22.82,
          22.93,
          23.03,
          23.92,
          24.48,
          24.59,
          24.76,
          24.76,
          25.06,
          25.48,
          25.68,
          25.96,
          26.27,
          26.71,
          27.02,
          27.31,
          27.77,
          27.85,
          27.9,
          28.24,
          28.25,
          28.65,
          28.77,
          28.87,
          29.02,
          29.49,
          29.82,
          29.9,
          30.39,
          30.79,
          31.69,
          33.06,
          33.63,
          33.76,
          34.15,
          34.28,
          34.79,
          34.82,
          36.12,
          36.51,
          37.58,
          37.84,
          37.86,
          38.86,
          39.34,
          39.56,
          39.83,
          39.96,
          40.13,
          40.32,
          40.5,
          40.6,
          41.5,
          41.65,
          41.98,
          43.57,
          44.72,
          44.73,
          45.06,
          45.06,
          45.41,
          45.76,
          46.04,
          47.23,
          47.9,
          48.23,
          48.98,
          50.33,
          50.6,
          51.1,
          51.77,
          53.1,
          54.46,
          55.04,
          55.2,
          56.13,
          56.54,
          56.9,
          58.19,
          59.23,
          60.99,
          62.01,
          63.24,
          64.07,
          64.81,
          65.35,
          65.56,
          66.87,
          67.6,
          67.71,
          68.11,
          68.16,
          68.25,
          69.95,
          72.3,
          76.36,
          77.42,
          77.46,
          79.36,
          81,
          81.04,
          82.24,
          83.14,
          83.98,
          84.75,
          84.99,
          86.76,
          88.43,
          90.12,
          94.63,
          94.63,
          95.14,
          97.06,
          97.28,
          97.71,
          98.6,
          99.29,
          99.42,
          101.36,
          101.83,
          103.05,
          104.37,
          107.06,
          108.97,
          109,
          109.74,
          110.41,
          110.67,
          114.85,
          117.84,
          121.16,
          126.65,
          129.34,
          138.94,
          140.72,
          144.07,
          145.01,
          145.08,
          145.95,
          148.54,
          154.23,
          159.01,
          159.84,
          166.11,
          167.8,
          174.06,
          182.26,
          186.61,
          187.44,
          188.51,
          206.46,
          217.1,
          218.27,
          220.9,
          224.14,
          227.55,
          232.93,
          248.96,
          255.4,
          269.33,
          275.96,
          279.22,
          313.27,
          316.74,
          331,
          344.95,
          355.29,
          380.35,
          399.77,
          418.94,
          452.55,
          476.84,
          485.67,
          485.85,
          523.56,
          547.35,
          567.96,
          639.4,
          648.95,
          674.4,
          708.69,
          710.96,
          804.41,
          853.36,
          884.04,
          895.01
         ],
         "xaxis": "x",
         "y": [
          5318.361468896842,
          5372.2578295674875,
          5420.870233309639,
          5431.438147166628,
          5470.539428437489,
          5487.448090608671,
          5502.243170008456,
          5512.811083865446,
          5520.208623565339,
          5521.265414951037,
          5546.628408207812,
          5561.423487607597,
          5574.1049842359835,
          5581.5025239358765,
          5622.717387978135,
          5635.398884606522,
          5640.682841535016,
          5644.910007077812,
          5647.02358984921,
          5653.364338163404,
          5660.761877863296,
          5666.045834791791,
          5670.273000334587,
          5675.556957263081,
          5687.18166250577,
          5690.352036662866,
          5693.522410819964,
          5716.7718213053395,
          5756.929893961899,
          5759.043476733297,
          5770.668181975985,
          5783.3496786043725,
          5828.791708189427,
          5828.791708189427,
          5829.848499575126,
          5870.006572231685,
          5906.9942707311475,
          5910.164644888244,
          5919.675767359535,
          5928.130098445126,
          5939.754803687814,
          5954.5498830875995,
          5987.310416044266,
          6002.1054954440515,
          6022.184531772331,
          6029.582071472224,
          6032.75244562932,
          6039.093193943514,
          6056.001856114697,
          6070.796935514482,
          6098.273511542654,
          6118.352547870934,
          6160.624203298891,
          6174.362491312978,
          6189.157570712762,
          6214.520563969537,
          6246.224305540505,
          6278.984838497172,
          6295.893500668355,
          6342.392321639108,
          6396.288682309753,
          6426.935632495022,
          6445.957877437603,
          6461.809748223087,
          6479.7752017799685,
          6480.831993165668,
          6526.274022750722,
          6556.920972935991,
          6569.602469564378,
          6573.829635107174,
          6635.123535477712,
          6665.770485662981,
          6666.82727704868,
          6704.871766933842,
          6774.619998389971,
          6808.437322732337,
          6871.844805874272,
          6956.388116730188,
          6957.444908115886,
          7087.430248556855,
          7101.168536570941,
          7125.474738442017,
          7136.042652299006,
          7156.121688627286,
          7203.677300983738,
          7248.062539183093,
          7260.74403581148,
          7276.595906596964,
          7289.277403225351,
          7338.946598353201,
          7349.51451221019,
          7378.047879624062,
          7398.126915952342,
          7423.4899092091155,
          7433.0010316804055,
          7435.114614451804,
          7438.284988608901,
          7458.36402493718,
          7467.875147408471,
          7473.159104336965,
          7516.487551150622,
          7529.169047779009,
          7557.70241519288,
          7578.838242906859,
          7718.3347058191175,
          7729.959411061805,
          7740.527324918796,
          7834.581758246,
          7893.76207584514,
          7905.386781087829,
          7923.352234644711,
          7923.352234644711,
          7955.055976215679,
          7999.441214415034,
          8020.577042129013,
          8050.167200928583,
          8082.92773388525,
          8129.426554856002,
          8162.187087812669,
          8192.834037997938,
          8241.446441740089,
          8249.90077282568,
          8255.184729754175,
          8291.115636867939,
          8292.172428253638,
          8334.444083681596,
          8347.125580309983,
          8357.693494166972,
          8373.545364952455,
          8423.214560080305,
          8458.08867580837,
          8466.543006893962,
          8518.32578479321,
          8560.597440221167,
          8655.70866493407,
          8800.489084774825,
          8860.726193759663,
          8874.46448177375,
          8915.679345816008,
          8929.417633830095,
          8983.313994500739,
          8986.484368657837,
          9123.867248798697,
          9165.082112840955,
          9278.158791110742,
          9305.635367138915,
          9307.748949910312,
          9413.428088480206,
          9464.154074993754,
          9487.403485479132,
          9515.936852893003,
          9529.675140907088,
          9547.64059446397,
          9567.71963079225,
          9586.741875734831,
          9597.30978959182,
          9692.421014304724,
          9708.272885090208,
          9743.147000818271,
          9911.176831144403,
          10032.70784049978,
          10033.764631885479,
          10068.638747613542,
          10068.638747613542,
          10105.626446113005,
          10142.614144612467,
          10172.20430341204,
          10297.962478310212,
          10368.76750115204,
          10403.641616880104,
          10482.900970807525,
          10625.56780787688,
          10654.10117529075,
          10706.940744575699,
          10777.745767417528,
          10918.299021715484,
          11062.02265017054,
          11123.316550541078,
          11140.225212712261,
          11238.506811582261,
          11281.835258395917,
          11319.879748281079,
          11456.205837036241,
          11566.11214114893,
          11752.107425031943,
          11859.900146373235,
          11989.885486814203,
          12077.599171827213,
          12155.801734368935,
          12212.868469196677,
          12235.061088296356,
          12373.500759822917,
          12450.646530978936,
          12462.271236221624,
          12504.542891649582,
          12509.826848578077,
          12519.337971049368,
          12698.992506618186,
          12947.338482257435,
          13376.395784851202,
          13488.415671735289,
          13492.642837278083,
          13693.433200560881,
          13866.746987815506,
          13870.974153358304,
          13997.789119642173,
          14092.90034435508,
          14181.670820753789,
          14263.043757452608,
          14288.406750709379,
          14475.45882597809,
          14651.942987389815,
          14830.540731572932,
          15307.153646523151,
          15307.153646523151,
          15361.050007193797,
          15563.95395324799,
          15587.20336373337,
          15632.64539331842,
          15726.699826645628,
          15799.618432258856,
          15813.35672027294,
          16018.374249098531,
          16068.043444226383,
          16196.971993281652,
          16336.46845619391,
          16620.745338946923,
          16822.59249361542,
          16825.76286777252,
          16903.965430314238,
          16974.770453156067,
          17002.24702918424,
          17443.985828406392,
          17759.966452730372,
          18110.82119278242,
          18690.999663531133,
          18975.276546284145,
          19989.79627655512,
          20177.90514320953,
          20531.930257418673,
          20631.268647674373,
          20638.666187374267,
          20730.607037930073,
          21004.316006826095,
          21605.63030528879,
          22110.776587652876,
          22198.490272665887,
          22861.09847149912,
          23039.69621568224,
          23701.24762312977,
          24567.816559402894,
          25027.52081218193,
          25115.234497194942,
          25228.311175464725,
          27125.251712794314,
          28249.677747177975,
          28373.322339304752,
          28651.25847374357,
          28993.658882710024,
          29354.02474523336,
          29922.578510739386,
          31616.615102014774,
          32297.188754404888,
          33769.2991546835,
          34469.95184340189,
          34814.465835139745,
          38412.840503444604,
          38779.54711428214,
          40286.53163028882,
          41760.75561333883,
          42853.47790615152,
          45501.797118713046,
          47554.08598974037,
          49579.955076125225,
          53131.83092345934,
          55698.777199322045,
          56631.923992894204,
          56650.94623783679,
          60636.10655330745,
          63150.21325988522,
          65328.26030581072,
          72877.9779652439,
          73887.21373858639,
          76576.74781519016,
          80200.48547675181,
          80440.37712130546,
          90316.09262066198,
          95489.08645365825,
          98731.32242498257,
          99890.62257509431
         ],
         "yaxis": "y"
        }
       ],
       "layout": {
        "height": 600,
        "legend": {
         "tracegroupgap": 0
        },
        "margin": {
         "t": 60
        },
        "template": {
         "data": {
          "bar": [
           {
            "error_x": {
             "color": "#2a3f5f"
            },
            "error_y": {
             "color": "#2a3f5f"
            },
            "marker": {
             "line": {
              "color": "#E5ECF6",
              "width": 0.5
             }
            },
            "type": "bar"
           }
          ],
          "barpolar": [
           {
            "marker": {
             "line": {
              "color": "#E5ECF6",
              "width": 0.5
             }
            },
            "type": "barpolar"
           }
          ],
          "carpet": [
           {
            "aaxis": {
             "endlinecolor": "#2a3f5f",
             "gridcolor": "white",
             "linecolor": "white",
             "minorgridcolor": "white",
             "startlinecolor": "#2a3f5f"
            },
            "baxis": {
             "endlinecolor": "#2a3f5f",
             "gridcolor": "white",
             "linecolor": "white",
             "minorgridcolor": "white",
             "startlinecolor": "#2a3f5f"
            },
            "type": "carpet"
           }
          ],
          "choropleth": [
           {
            "colorbar": {
             "outlinewidth": 0,
             "ticks": ""
            },
            "type": "choropleth"
           }
          ],
          "contour": [
           {
            "colorbar": {
             "outlinewidth": 0,
             "ticks": ""
            },
            "colorscale": [
             [
              0,
              "#0d0887"
             ],
             [
              0.1111111111111111,
              "#46039f"
             ],
             [
              0.2222222222222222,
              "#7201a8"
             ],
             [
              0.3333333333333333,
              "#9c179e"
             ],
             [
              0.4444444444444444,
              "#bd3786"
             ],
             [
              0.5555555555555556,
              "#d8576b"
             ],
             [
              0.6666666666666666,
              "#ed7953"
             ],
             [
              0.7777777777777778,
              "#fb9f3a"
             ],
             [
              0.8888888888888888,
              "#fdca26"
             ],
             [
              1,
              "#f0f921"
             ]
            ],
            "type": "contour"
           }
          ],
          "contourcarpet": [
           {
            "colorbar": {
             "outlinewidth": 0,
             "ticks": ""
            },
            "type": "contourcarpet"
           }
          ],
          "heatmap": [
           {
            "colorbar": {
             "outlinewidth": 0,
             "ticks": ""
            },
            "colorscale": [
             [
              0,
              "#0d0887"
             ],
             [
              0.1111111111111111,
              "#46039f"
             ],
             [
              0.2222222222222222,
              "#7201a8"
             ],
             [
              0.3333333333333333,
              "#9c179e"
             ],
             [
              0.4444444444444444,
              "#bd3786"
             ],
             [
              0.5555555555555556,
              "#d8576b"
             ],
             [
              0.6666666666666666,
              "#ed7953"
             ],
             [
              0.7777777777777778,
              "#fb9f3a"
             ],
             [
              0.8888888888888888,
              "#fdca26"
             ],
             [
              1,
              "#f0f921"
             ]
            ],
            "type": "heatmap"
           }
          ],
          "heatmapgl": [
           {
            "colorbar": {
             "outlinewidth": 0,
             "ticks": ""
            },
            "colorscale": [
             [
              0,
              "#0d0887"
             ],
             [
              0.1111111111111111,
              "#46039f"
             ],
             [
              0.2222222222222222,
              "#7201a8"
             ],
             [
              0.3333333333333333,
              "#9c179e"
             ],
             [
              0.4444444444444444,
              "#bd3786"
             ],
             [
              0.5555555555555556,
              "#d8576b"
             ],
             [
              0.6666666666666666,
              "#ed7953"
             ],
             [
              0.7777777777777778,
              "#fb9f3a"
             ],
             [
              0.8888888888888888,
              "#fdca26"
             ],
             [
              1,
              "#f0f921"
             ]
            ],
            "type": "heatmapgl"
           }
          ],
          "histogram": [
           {
            "marker": {
             "colorbar": {
              "outlinewidth": 0,
              "ticks": ""
             }
            },
            "type": "histogram"
           }
          ],
          "histogram2d": [
           {
            "colorbar": {
             "outlinewidth": 0,
             "ticks": ""
            },
            "colorscale": [
             [
              0,
              "#0d0887"
             ],
             [
              0.1111111111111111,
              "#46039f"
             ],
             [
              0.2222222222222222,
              "#7201a8"
             ],
             [
              0.3333333333333333,
              "#9c179e"
             ],
             [
              0.4444444444444444,
              "#bd3786"
             ],
             [
              0.5555555555555556,
              "#d8576b"
             ],
             [
              0.6666666666666666,
              "#ed7953"
             ],
             [
              0.7777777777777778,
              "#fb9f3a"
             ],
             [
              0.8888888888888888,
              "#fdca26"
             ],
             [
              1,
              "#f0f921"
             ]
            ],
            "type": "histogram2d"
           }
          ],
          "histogram2dcontour": [
           {
            "colorbar": {
             "outlinewidth": 0,
             "ticks": ""
            },
            "colorscale": [
             [
              0,
              "#0d0887"
             ],
             [
              0.1111111111111111,
              "#46039f"
             ],
             [
              0.2222222222222222,
              "#7201a8"
             ],
             [
              0.3333333333333333,
              "#9c179e"
             ],
             [
              0.4444444444444444,
              "#bd3786"
             ],
             [
              0.5555555555555556,
              "#d8576b"
             ],
             [
              0.6666666666666666,
              "#ed7953"
             ],
             [
              0.7777777777777778,
              "#fb9f3a"
             ],
             [
              0.8888888888888888,
              "#fdca26"
             ],
             [
              1,
              "#f0f921"
             ]
            ],
            "type": "histogram2dcontour"
           }
          ],
          "mesh3d": [
           {
            "colorbar": {
             "outlinewidth": 0,
             "ticks": ""
            },
            "type": "mesh3d"
           }
          ],
          "parcoords": [
           {
            "line": {
             "colorbar": {
              "outlinewidth": 0,
              "ticks": ""
             }
            },
            "type": "parcoords"
           }
          ],
          "pie": [
           {
            "automargin": true,
            "type": "pie"
           }
          ],
          "scatter": [
           {
            "marker": {
             "colorbar": {
              "outlinewidth": 0,
              "ticks": ""
             }
            },
            "type": "scatter"
           }
          ],
          "scatter3d": [
           {
            "line": {
             "colorbar": {
              "outlinewidth": 0,
              "ticks": ""
             }
            },
            "marker": {
             "colorbar": {
              "outlinewidth": 0,
              "ticks": ""
             }
            },
            "type": "scatter3d"
           }
          ],
          "scattercarpet": [
           {
            "marker": {
             "colorbar": {
              "outlinewidth": 0,
              "ticks": ""
             }
            },
            "type": "scattercarpet"
           }
          ],
          "scattergeo": [
           {
            "marker": {
             "colorbar": {
              "outlinewidth": 0,
              "ticks": ""
             }
            },
            "type": "scattergeo"
           }
          ],
          "scattergl": [
           {
            "marker": {
             "colorbar": {
              "outlinewidth": 0,
              "ticks": ""
             }
            },
            "type": "scattergl"
           }
          ],
          "scattermapbox": [
           {
            "marker": {
             "colorbar": {
              "outlinewidth": 0,
              "ticks": ""
             }
            },
            "type": "scattermapbox"
           }
          ],
          "scatterpolar": [
           {
            "marker": {
             "colorbar": {
              "outlinewidth": 0,
              "ticks": ""
             }
            },
            "type": "scatterpolar"
           }
          ],
          "scatterpolargl": [
           {
            "marker": {
             "colorbar": {
              "outlinewidth": 0,
              "ticks": ""
             }
            },
            "type": "scatterpolargl"
           }
          ],
          "scatterternary": [
           {
            "marker": {
             "colorbar": {
              "outlinewidth": 0,
              "ticks": ""
             }
            },
            "type": "scatterternary"
           }
          ],
          "surface": [
           {
            "colorbar": {
             "outlinewidth": 0,
             "ticks": ""
            },
            "colorscale": [
             [
              0,
              "#0d0887"
             ],
             [
              0.1111111111111111,
              "#46039f"
             ],
             [
              0.2222222222222222,
              "#7201a8"
             ],
             [
              0.3333333333333333,
              "#9c179e"
             ],
             [
              0.4444444444444444,
              "#bd3786"
             ],
             [
              0.5555555555555556,
              "#d8576b"
             ],
             [
              0.6666666666666666,
              "#ed7953"
             ],
             [
              0.7777777777777778,
              "#fb9f3a"
             ],
             [
              0.8888888888888888,
              "#fdca26"
             ],
             [
              1,
              "#f0f921"
             ]
            ],
            "type": "surface"
           }
          ],
          "table": [
           {
            "cells": {
             "fill": {
              "color": "#EBF0F8"
             },
             "line": {
              "color": "white"
             }
            },
            "header": {
             "fill": {
              "color": "#C8D4E3"
             },
             "line": {
              "color": "white"
             }
            },
            "type": "table"
           }
          ]
         },
         "layout": {
          "annotationdefaults": {
           "arrowcolor": "#2a3f5f",
           "arrowhead": 0,
           "arrowwidth": 1
          },
          "coloraxis": {
           "colorbar": {
            "outlinewidth": 0,
            "ticks": ""
           }
          },
          "colorscale": {
           "diverging": [
            [
             0,
             "#8e0152"
            ],
            [
             0.1,
             "#c51b7d"
            ],
            [
             0.2,
             "#de77ae"
            ],
            [
             0.3,
             "#f1b6da"
            ],
            [
             0.4,
             "#fde0ef"
            ],
            [
             0.5,
             "#f7f7f7"
            ],
            [
             0.6,
             "#e6f5d0"
            ],
            [
             0.7,
             "#b8e186"
            ],
            [
             0.8,
             "#7fbc41"
            ],
            [
             0.9,
             "#4d9221"
            ],
            [
             1,
             "#276419"
            ]
           ],
           "sequential": [
            [
             0,
             "#0d0887"
            ],
            [
             0.1111111111111111,
             "#46039f"
            ],
            [
             0.2222222222222222,
             "#7201a8"
            ],
            [
             0.3333333333333333,
             "#9c179e"
            ],
            [
             0.4444444444444444,
             "#bd3786"
            ],
            [
             0.5555555555555556,
             "#d8576b"
            ],
            [
             0.6666666666666666,
             "#ed7953"
            ],
            [
             0.7777777777777778,
             "#fb9f3a"
            ],
            [
             0.8888888888888888,
             "#fdca26"
            ],
            [
             1,
             "#f0f921"
            ]
           ],
           "sequentialminus": [
            [
             0,
             "#0d0887"
            ],
            [
             0.1111111111111111,
             "#46039f"
            ],
            [
             0.2222222222222222,
             "#7201a8"
            ],
            [
             0.3333333333333333,
             "#9c179e"
            ],
            [
             0.4444444444444444,
             "#bd3786"
            ],
            [
             0.5555555555555556,
             "#d8576b"
            ],
            [
             0.6666666666666666,
             "#ed7953"
            ],
            [
             0.7777777777777778,
             "#fb9f3a"
            ],
            [
             0.8888888888888888,
             "#fdca26"
            ],
            [
             1,
             "#f0f921"
            ]
           ]
          },
          "colorway": [
           "#636efa",
           "#EF553B",
           "#00cc96",
           "#ab63fa",
           "#FFA15A",
           "#19d3f3",
           "#FF6692",
           "#B6E880",
           "#FF97FF",
           "#FECB52"
          ],
          "font": {
           "color": "#2a3f5f"
          },
          "geo": {
           "bgcolor": "white",
           "lakecolor": "white",
           "landcolor": "#E5ECF6",
           "showlakes": true,
           "showland": true,
           "subunitcolor": "white"
          },
          "hoverlabel": {
           "align": "left"
          },
          "hovermode": "closest",
          "mapbox": {
           "style": "light"
          },
          "paper_bgcolor": "white",
          "plot_bgcolor": "#E5ECF6",
          "polar": {
           "angularaxis": {
            "gridcolor": "white",
            "linecolor": "white",
            "ticks": ""
           },
           "bgcolor": "#E5ECF6",
           "radialaxis": {
            "gridcolor": "white",
            "linecolor": "white",
            "ticks": ""
           }
          },
          "scene": {
           "xaxis": {
            "backgroundcolor": "#E5ECF6",
            "gridcolor": "white",
            "gridwidth": 2,
            "linecolor": "white",
            "showbackground": true,
            "ticks": "",
            "zerolinecolor": "white"
           },
           "yaxis": {
            "backgroundcolor": "#E5ECF6",
            "gridcolor": "white",
            "gridwidth": 2,
            "linecolor": "white",
            "showbackground": true,
            "ticks": "",
            "zerolinecolor": "white"
           },
           "zaxis": {
            "backgroundcolor": "#E5ECF6",
            "gridcolor": "white",
            "gridwidth": 2,
            "linecolor": "white",
            "showbackground": true,
            "ticks": "",
            "zerolinecolor": "white"
           }
          },
          "shapedefaults": {
           "line": {
            "color": "#2a3f5f"
           }
          },
          "ternary": {
           "aaxis": {
            "gridcolor": "white",
            "linecolor": "white",
            "ticks": ""
           },
           "baxis": {
            "gridcolor": "white",
            "linecolor": "white",
            "ticks": ""
           },
           "bgcolor": "#E5ECF6",
           "caxis": {
            "gridcolor": "white",
            "linecolor": "white",
            "ticks": ""
           }
          },
          "title": {
           "x": 0.05
          },
          "xaxis": {
           "automargin": true,
           "gridcolor": "white",
           "linecolor": "white",
           "ticks": "",
           "title": {
            "standoff": 15
           },
           "zerolinecolor": "white",
           "zerolinewidth": 2
          },
          "yaxis": {
           "automargin": true,
           "gridcolor": "white",
           "linecolor": "white",
           "ticks": "",
           "title": {
            "standoff": 15
           },
           "zerolinecolor": "white",
           "zerolinewidth": 2
          }
         }
        },
        "xaxis": {
         "anchor": "y",
         "domain": [
          0,
          1
         ],
         "title": {
          "text": "Course duration (hours)"
         }
        },
        "yaxis": {
         "anchor": "x",
         "domain": [
          0,
          1
         ],
         "title": {
          "text": "Participants per course"
         }
        }
       }
      },
      "text/html": [
       "<div>\n",
       "        \n",
       "        \n",
       "            <div id=\"919157a2-a4d8-4db9-82cc-d6f00f7d7158\" class=\"plotly-graph-div\" style=\"height:600px; width:100%;\"></div>\n",
       "            <script type=\"text/javascript\">\n",
       "                require([\"plotly\"], function(Plotly) {\n",
       "                    window.PLOTLYENV=window.PLOTLYENV || {};\n",
       "                    \n",
       "                if (document.getElementById(\"919157a2-a4d8-4db9-82cc-d6f00f7d7158\")) {\n",
       "                    Plotly.newPlot(\n",
       "                        '919157a2-a4d8-4db9-82cc-d6f00f7d7158',\n",
       "                        [{\"hoverlabel\": {\"namelength\": 0}, \"hovertemplate\": \"Course duration (hours)=%{x}<br>Participants per course=%{y}\", \"legendgroup\": \"\", \"marker\": {\"color\": \"#636efa\", \"symbol\": \"circle\"}, \"mode\": \"markers\", \"name\": \"\", \"showlegend\": false, \"type\": \"scatter\", \"x\": [418.94, 884.04, 227.55, 220.9, 804.41, 639.4, 68.11, 279.22, 380.35, 186.61, 148.54, 476.84, 140.72, 84.75, 110.67, 145.95, 95.14, 65.56, 452.55, 331.0, 101.36, 138.94, 12.57, 154.23, 399.77, 104.37, 117.84, 523.56, 60.99, 145.08, 13.89, 99.29, 853.36, 68.25, 101.83, 19.6, 40.13, 84.99, 224.14, 33.76, 55.04, 188.51, 39.34, 313.27, 34.28, 97.28, 159.84, 108.97, 34.82, 7.23, 27.85, 46.04, 58.19, 47.9, 145.01, 56.9, 24.76, 34.79, 55.2, 31.69, 86.76, 22.82, 62.01, 232.93, 39.96, 182.26, 59.23, 103.05, 129.34, 206.46, 17.31, 20.45, 81.04, 38.86, 22.93, 9.36, 7.68, 6.77, 51.77, 40.6, 16.85, 54.46, 88.43, 255.4, 65.35, 26.71, 41.65, 3.2, 44.73, 23.92, 81.0, 3.63, 6.58, 50.33, 3.28, 17.21, 2.41, 18.49, 23.03, 275.96, 48.23, 3.4, 9.2, 485.67, 82.24, 68.16, 76.36, 110.41, 33.06, 26.27, 36.51, 107.06, 99.42, 24.59, 66.87, 217.1, 48.98, 3.16, 21.03, 11.54, 187.44, 40.5, 20.36, 27.9, 29.49, 37.84, 126.65, 648.95, 121.16, 159.01, 5.88, 98.6, 20.14, 20.5, 29.02, 64.07, 36.12, 34.15, 30.79, 12.86, 8.35, 3.6, 5.33, 11.95, 13.23, 7.49, 20.03, 344.95, 67.6, 69.95, 218.27, 547.35, 83.98, 895.01, 15.61, 90.12, 67.71, 41.5, 11.99, 43.57, 10.93, 567.96, 97.06, 63.24, 41.98, 40.32, 166.11, 11.83, 11.11, 4.95, 4.39, 5.71, 3.35, 6.13, 3.49, 6.93, 4.51, 77.46, 18.64, 77.42, 51.1, 174.06, 28.65, 17.95, 316.74, 8.08, 1.85, 1.18, 1.08, 109.74, 45.06, 83.14, 21.5, 109.0, 20.12, 64.81, 9.8, 167.8, 25.68, 6.84, 3.44, 3.11, 2.27, 30.39, 47.23, 4.94, 3.66, 2.03, 2.02, 1.95, 18.37, 14.81, 10.6, 12.87, 6.44, 56.13, 94.63, 114.85, 14.21, 3.88, 8.89, 708.69, 21.3, 97.71, 53.1, 248.96, 8.21, 2.6, 19.79, 19.23, 29.9, 45.76, 16.98, 28.24, 27.77, 269.33, 28.77, 674.4, 5.99, 20.91, 25.06, 72.3, 45.06, 28.87, 5.8, 79.36, 144.07, 2.99, 50.6, 25.48, 4.28, 10.78, 44.72, 45.41, 37.58, 24.48, 2.53, 710.96, 5.68, 10.31, 24.76, 0.62, 27.02, 19.33, 4.94, 33.63, 25.96, 20.17, 1.55, 355.29, 0.11, 39.56, 28.25, 39.83, 29.82, 485.85, 94.63, 17.5, 27.31, 37.86, 56.54, 7.09, 11.1, 18.76, 8.59, 1.71, 4.26, 15.62, 3.22, 6.87], \"xaxis\": \"x\", \"y\": [36105, 62709, 16663, 129400, 52521, 65380, 8270, 29044, 39178, 58779, 16752, 28535, 25873, 8736, 23179, 15350, 11961, 17604, 35903, 24707, 25619, 17077, 5857, 34371, 60555, 28384, 21387, 57147, 18424, 47384, 6446, 20914, 259577, 12856, 33784, 8685, 25886, 11102, 26364, 7422, 7905, 21063, 8256, 31391, 11883, 13148, 39319, 36330, 6753, 7156, 12621, 7382, 13708, 10225, 35409, 27882, 5256, 30456, 5854, 5446, 12939, 10737, 6140, 22148, 5092, 15627, 10755, 36805, 19263, 21017, 7304, 8493, 11841, 5245, 4662, 3853, 2820, 2310, 13305, 9010, 7093, 7052, 26086, 25600, 20109, 5321, 11074, 1559, 15942, 4515, 11690, 1615, 1911, 25569, 1275, 10332, 2201, 7000, 4248, 301082, 5864, 1483, 3879, 49529, 21420, 15433, 6980, 30780, 13173, 4143, 12208, 28425, 22828, 18454, 7664, 22537, 7396, 1465, 7008, 5448, 10932, 11705, 6454, 12007, 3661, 9266, 15530, 26776, 13525, 14835, 4091, 7723, 5261, 5084, 4785, 25206, 15282, 3922, 10626, 4262, 2428, 2250, 2656, 6137, 9185, 2479, 8286, 19996, 8088, 41361, 18266, 31551, 12426, 53964, 6934, 31710, 48922, 4404, 4518, 5725, 4794, 54361, 16094, 16005, 4767, 6577, 23087, 2175, 4033, 2085, 1732, 2587, 2862, 1602, 670, 1472, 1698, 7532, 6129, 5724, 18732, 38119, 6146, 5566, 14679, 3126, 702, 492, 511, 30699, 10191, 11574, 4187, 29176, 3178, 18540, 1178, 12426, 6519, 849, 729, 427, 461, 2599, 2860, 948, 1381, 385, 422, 515, 4842, 2075, 3654, 3806, 790, 8495, 10837, 7260, 3072, 658, 2379, 168335, 8377, 13798, 5747, 63658, 2321, 639, 6792, 4237, 5309, 18183, 2456, 8405, 16407, 17354, 9788, 18686, 1409, 5571, 3842, 8936, 4250, 4050, 4522, 22153, 14003, 1546, 13260, 1862, 4276, 2583, 3749, 3294, 10188, 3049, 510, 33044, 1716, 2493, 4955, 664, 9933, 1236, 1199, 4130, 8758, 9743, 362, 12455, 322, 8297, 7898, 8695, 4825, 21212, 8017, 2604, 4014, 22959, 12218, 1645, 2335, 4553, 2402, 615, 2871, 3937, 1431, 1294], \"yaxis\": \"y\"}, {\"hoverlabel\": {\"namelength\": 0}, \"hovertemplate\": \"<b>OLS trendline</b><br>Participants per course = 105.679139 * Course duration (hours) + 5306.736764<br>R<sup>2</sup>=0.348704<br><br>Course duration (hours)=%{x}<br>Participants per course=%{y} <b>(trend)</b>\", \"legendgroup\": \"\", \"marker\": {\"color\": \"#636efa\", \"symbol\": \"circle\"}, \"mode\": \"lines\", \"name\": \"\", \"showlegend\": false, \"type\": \"scatter\", \"x\": [0.11, 0.62, 1.08, 1.18, 1.55, 1.71, 1.85, 1.95, 2.02, 2.03, 2.27, 2.41, 2.53, 2.6, 2.99, 3.11, 3.16, 3.2, 3.22, 3.28, 3.35, 3.4, 3.44, 3.49, 3.6, 3.63, 3.66, 3.88, 4.26, 4.28, 4.39, 4.51, 4.94, 4.94, 4.95, 5.33, 5.68, 5.71, 5.8, 5.88, 5.99, 6.13, 6.44, 6.58, 6.77, 6.84, 6.87, 6.93, 7.09, 7.23, 7.49, 7.68, 8.08, 8.21, 8.35, 8.59, 8.89, 9.2, 9.36, 9.8, 10.31, 10.6, 10.78, 10.93, 11.1, 11.11, 11.54, 11.83, 11.95, 11.99, 12.57, 12.86, 12.87, 13.23, 13.89, 14.21, 14.81, 15.61, 15.62, 16.85, 16.98, 17.21, 17.31, 17.5, 17.95, 18.37, 18.49, 18.64, 18.76, 19.23, 19.33, 19.6, 19.79, 20.03, 20.12, 20.14, 20.17, 20.36, 20.45, 20.5, 20.91, 21.03, 21.3, 21.5, 22.82, 22.93, 23.03, 23.92, 24.48, 24.59, 24.76, 24.76, 25.06, 25.48, 25.68, 25.96, 26.27, 26.71, 27.02, 27.31, 27.77, 27.85, 27.9, 28.24, 28.25, 28.65, 28.77, 28.87, 29.02, 29.49, 29.82, 29.9, 30.39, 30.79, 31.69, 33.06, 33.63, 33.76, 34.15, 34.28, 34.79, 34.82, 36.12, 36.51, 37.58, 37.84, 37.86, 38.86, 39.34, 39.56, 39.83, 39.96, 40.13, 40.32, 40.5, 40.6, 41.5, 41.65, 41.98, 43.57, 44.72, 44.73, 45.06, 45.06, 45.41, 45.76, 46.04, 47.23, 47.9, 48.23, 48.98, 50.33, 50.6, 51.1, 51.77, 53.1, 54.46, 55.04, 55.2, 56.13, 56.54, 56.9, 58.19, 59.23, 60.99, 62.01, 63.24, 64.07, 64.81, 65.35, 65.56, 66.87, 67.6, 67.71, 68.11, 68.16, 68.25, 69.95, 72.3, 76.36, 77.42, 77.46, 79.36, 81.0, 81.04, 82.24, 83.14, 83.98, 84.75, 84.99, 86.76, 88.43, 90.12, 94.63, 94.63, 95.14, 97.06, 97.28, 97.71, 98.6, 99.29, 99.42, 101.36, 101.83, 103.05, 104.37, 107.06, 108.97, 109.0, 109.74, 110.41, 110.67, 114.85, 117.84, 121.16, 126.65, 129.34, 138.94, 140.72, 144.07, 145.01, 145.08, 145.95, 148.54, 154.23, 159.01, 159.84, 166.11, 167.8, 174.06, 182.26, 186.61, 187.44, 188.51, 206.46, 217.1, 218.27, 220.9, 224.14, 227.55, 232.93, 248.96, 255.4, 269.33, 275.96, 279.22, 313.27, 316.74, 331.0, 344.95, 355.29, 380.35, 399.77, 418.94, 452.55, 476.84, 485.67, 485.85, 523.56, 547.35, 567.96, 639.4, 648.95, 674.4, 708.69, 710.96, 804.41, 853.36, 884.04, 895.01], \"xaxis\": \"x\", \"y\": [5318.361468896842, 5372.2578295674875, 5420.870233309639, 5431.438147166628, 5470.539428437489, 5487.448090608671, 5502.243170008456, 5512.811083865446, 5520.208623565339, 5521.265414951037, 5546.628408207812, 5561.423487607597, 5574.1049842359835, 5581.5025239358765, 5622.717387978135, 5635.398884606522, 5640.682841535016, 5644.910007077812, 5647.02358984921, 5653.364338163404, 5660.761877863296, 5666.045834791791, 5670.273000334587, 5675.556957263081, 5687.18166250577, 5690.352036662866, 5693.522410819964, 5716.7718213053395, 5756.929893961899, 5759.043476733297, 5770.668181975985, 5783.3496786043725, 5828.791708189427, 5828.791708189427, 5829.848499575126, 5870.006572231685, 5906.9942707311475, 5910.164644888244, 5919.675767359535, 5928.130098445126, 5939.754803687814, 5954.5498830875995, 5987.310416044266, 6002.1054954440515, 6022.184531772331, 6029.582071472224, 6032.75244562932, 6039.093193943514, 6056.001856114697, 6070.796935514482, 6098.273511542654, 6118.352547870934, 6160.624203298891, 6174.362491312978, 6189.157570712762, 6214.520563969537, 6246.224305540505, 6278.984838497172, 6295.893500668355, 6342.392321639108, 6396.288682309753, 6426.935632495022, 6445.957877437603, 6461.809748223087, 6479.7752017799685, 6480.831993165668, 6526.274022750722, 6556.920972935991, 6569.602469564378, 6573.829635107174, 6635.123535477712, 6665.770485662981, 6666.82727704868, 6704.871766933842, 6774.619998389971, 6808.437322732337, 6871.844805874272, 6956.388116730188, 6957.444908115886, 7087.430248556855, 7101.168536570941, 7125.474738442017, 7136.042652299006, 7156.121688627286, 7203.677300983738, 7248.062539183093, 7260.74403581148, 7276.595906596964, 7289.277403225351, 7338.946598353201, 7349.51451221019, 7378.047879624062, 7398.126915952342, 7423.4899092091155, 7433.0010316804055, 7435.114614451804, 7438.284988608901, 7458.36402493718, 7467.875147408471, 7473.159104336965, 7516.487551150622, 7529.169047779009, 7557.70241519288, 7578.838242906859, 7718.3347058191175, 7729.959411061805, 7740.527324918796, 7834.581758246, 7893.76207584514, 7905.386781087829, 7923.352234644711, 7923.352234644711, 7955.055976215679, 7999.441214415034, 8020.577042129013, 8050.167200928583, 8082.92773388525, 8129.426554856002, 8162.187087812669, 8192.834037997938, 8241.446441740089, 8249.90077282568, 8255.184729754175, 8291.115636867939, 8292.172428253638, 8334.444083681596, 8347.125580309983, 8357.693494166972, 8373.545364952455, 8423.214560080305, 8458.08867580837, 8466.543006893962, 8518.32578479321, 8560.597440221167, 8655.70866493407, 8800.489084774825, 8860.726193759663, 8874.46448177375, 8915.679345816008, 8929.417633830095, 8983.313994500739, 8986.484368657837, 9123.867248798697, 9165.082112840955, 9278.158791110742, 9305.635367138915, 9307.748949910312, 9413.428088480206, 9464.154074993754, 9487.403485479132, 9515.936852893003, 9529.675140907088, 9547.64059446397, 9567.71963079225, 9586.741875734831, 9597.30978959182, 9692.421014304724, 9708.272885090208, 9743.147000818271, 9911.176831144403, 10032.70784049978, 10033.764631885479, 10068.638747613542, 10068.638747613542, 10105.626446113005, 10142.614144612467, 10172.20430341204, 10297.962478310212, 10368.76750115204, 10403.641616880104, 10482.900970807525, 10625.56780787688, 10654.10117529075, 10706.940744575699, 10777.745767417528, 10918.299021715484, 11062.02265017054, 11123.316550541078, 11140.225212712261, 11238.506811582261, 11281.835258395917, 11319.879748281079, 11456.205837036241, 11566.11214114893, 11752.107425031943, 11859.900146373235, 11989.885486814203, 12077.599171827213, 12155.801734368935, 12212.868469196677, 12235.061088296356, 12373.500759822917, 12450.646530978936, 12462.271236221624, 12504.542891649582, 12509.826848578077, 12519.337971049368, 12698.992506618186, 12947.338482257435, 13376.395784851202, 13488.415671735289, 13492.642837278083, 13693.433200560881, 13866.746987815506, 13870.974153358304, 13997.789119642173, 14092.90034435508, 14181.670820753789, 14263.043757452608, 14288.406750709379, 14475.45882597809, 14651.942987389815, 14830.540731572932, 15307.153646523151, 15307.153646523151, 15361.050007193797, 15563.95395324799, 15587.20336373337, 15632.64539331842, 15726.699826645628, 15799.618432258856, 15813.35672027294, 16018.374249098531, 16068.043444226383, 16196.971993281652, 16336.46845619391, 16620.745338946923, 16822.59249361542, 16825.76286777252, 16903.965430314238, 16974.770453156067, 17002.24702918424, 17443.985828406392, 17759.966452730372, 18110.82119278242, 18690.999663531133, 18975.276546284145, 19989.79627655512, 20177.90514320953, 20531.930257418673, 20631.268647674373, 20638.666187374267, 20730.607037930073, 21004.316006826095, 21605.63030528879, 22110.776587652876, 22198.490272665887, 22861.09847149912, 23039.69621568224, 23701.24762312977, 24567.816559402894, 25027.52081218193, 25115.234497194942, 25228.311175464725, 27125.251712794314, 28249.677747177975, 28373.322339304752, 28651.25847374357, 28993.658882710024, 29354.02474523336, 29922.578510739386, 31616.615102014774, 32297.188754404888, 33769.2991546835, 34469.95184340189, 34814.465835139745, 38412.840503444604, 38779.54711428214, 40286.53163028882, 41760.75561333883, 42853.47790615152, 45501.797118713046, 47554.08598974037, 49579.955076125225, 53131.83092345934, 55698.777199322045, 56631.923992894204, 56650.94623783679, 60636.10655330745, 63150.21325988522, 65328.26030581072, 72877.9779652439, 73887.21373858639, 76576.74781519016, 80200.48547675181, 80440.37712130546, 90316.09262066198, 95489.08645365825, 98731.32242498257, 99890.62257509431], \"yaxis\": \"y\"}],\n",
       "                        {\"height\": 600, \"legend\": {\"tracegroupgap\": 0}, \"margin\": {\"t\": 60}, \"template\": {\"data\": {\"bar\": [{\"error_x\": {\"color\": \"#2a3f5f\"}, \"error_y\": {\"color\": \"#2a3f5f\"}, \"marker\": {\"line\": {\"color\": \"#E5ECF6\", \"width\": 0.5}}, \"type\": \"bar\"}], \"barpolar\": [{\"marker\": {\"line\": {\"color\": \"#E5ECF6\", \"width\": 0.5}}, \"type\": \"barpolar\"}], \"carpet\": [{\"aaxis\": {\"endlinecolor\": \"#2a3f5f\", \"gridcolor\": \"white\", \"linecolor\": \"white\", \"minorgridcolor\": \"white\", \"startlinecolor\": \"#2a3f5f\"}, \"baxis\": {\"endlinecolor\": \"#2a3f5f\", \"gridcolor\": \"white\", \"linecolor\": \"white\", \"minorgridcolor\": \"white\", \"startlinecolor\": \"#2a3f5f\"}, \"type\": \"carpet\"}], \"choropleth\": [{\"colorbar\": {\"outlinewidth\": 0, \"ticks\": \"\"}, \"type\": \"choropleth\"}], \"contour\": [{\"colorbar\": {\"outlinewidth\": 0, \"ticks\": \"\"}, \"colorscale\": [[0.0, \"#0d0887\"], [0.1111111111111111, \"#46039f\"], [0.2222222222222222, \"#7201a8\"], [0.3333333333333333, \"#9c179e\"], [0.4444444444444444, \"#bd3786\"], [0.5555555555555556, \"#d8576b\"], [0.6666666666666666, \"#ed7953\"], [0.7777777777777778, \"#fb9f3a\"], [0.8888888888888888, \"#fdca26\"], [1.0, \"#f0f921\"]], \"type\": \"contour\"}], \"contourcarpet\": [{\"colorbar\": {\"outlinewidth\": 0, \"ticks\": \"\"}, \"type\": \"contourcarpet\"}], \"heatmap\": [{\"colorbar\": {\"outlinewidth\": 0, \"ticks\": \"\"}, \"colorscale\": [[0.0, \"#0d0887\"], [0.1111111111111111, \"#46039f\"], [0.2222222222222222, \"#7201a8\"], [0.3333333333333333, \"#9c179e\"], [0.4444444444444444, \"#bd3786\"], [0.5555555555555556, \"#d8576b\"], [0.6666666666666666, \"#ed7953\"], [0.7777777777777778, \"#fb9f3a\"], [0.8888888888888888, \"#fdca26\"], [1.0, \"#f0f921\"]], \"type\": \"heatmap\"}], \"heatmapgl\": [{\"colorbar\": {\"outlinewidth\": 0, \"ticks\": \"\"}, \"colorscale\": [[0.0, \"#0d0887\"], [0.1111111111111111, \"#46039f\"], [0.2222222222222222, \"#7201a8\"], [0.3333333333333333, \"#9c179e\"], [0.4444444444444444, \"#bd3786\"], [0.5555555555555556, \"#d8576b\"], [0.6666666666666666, \"#ed7953\"], [0.7777777777777778, \"#fb9f3a\"], [0.8888888888888888, \"#fdca26\"], [1.0, \"#f0f921\"]], \"type\": \"heatmapgl\"}], \"histogram\": [{\"marker\": {\"colorbar\": {\"outlinewidth\": 0, \"ticks\": \"\"}}, \"type\": \"histogram\"}], \"histogram2d\": [{\"colorbar\": {\"outlinewidth\": 0, \"ticks\": \"\"}, \"colorscale\": [[0.0, \"#0d0887\"], [0.1111111111111111, \"#46039f\"], [0.2222222222222222, \"#7201a8\"], [0.3333333333333333, \"#9c179e\"], [0.4444444444444444, \"#bd3786\"], [0.5555555555555556, \"#d8576b\"], [0.6666666666666666, \"#ed7953\"], [0.7777777777777778, \"#fb9f3a\"], [0.8888888888888888, \"#fdca26\"], [1.0, \"#f0f921\"]], \"type\": \"histogram2d\"}], \"histogram2dcontour\": [{\"colorbar\": {\"outlinewidth\": 0, \"ticks\": \"\"}, \"colorscale\": [[0.0, \"#0d0887\"], [0.1111111111111111, \"#46039f\"], [0.2222222222222222, \"#7201a8\"], [0.3333333333333333, \"#9c179e\"], [0.4444444444444444, \"#bd3786\"], [0.5555555555555556, \"#d8576b\"], [0.6666666666666666, \"#ed7953\"], [0.7777777777777778, \"#fb9f3a\"], [0.8888888888888888, \"#fdca26\"], [1.0, \"#f0f921\"]], \"type\": \"histogram2dcontour\"}], \"mesh3d\": [{\"colorbar\": {\"outlinewidth\": 0, \"ticks\": \"\"}, \"type\": \"mesh3d\"}], \"parcoords\": [{\"line\": {\"colorbar\": {\"outlinewidth\": 0, \"ticks\": \"\"}}, \"type\": \"parcoords\"}], \"pie\": [{\"automargin\": true, \"type\": \"pie\"}], \"scatter\": [{\"marker\": {\"colorbar\": {\"outlinewidth\": 0, \"ticks\": \"\"}}, \"type\": \"scatter\"}], \"scatter3d\": [{\"line\": {\"colorbar\": {\"outlinewidth\": 0, \"ticks\": \"\"}}, \"marker\": {\"colorbar\": {\"outlinewidth\": 0, \"ticks\": \"\"}}, \"type\": \"scatter3d\"}], \"scattercarpet\": [{\"marker\": {\"colorbar\": {\"outlinewidth\": 0, \"ticks\": \"\"}}, \"type\": \"scattercarpet\"}], \"scattergeo\": [{\"marker\": {\"colorbar\": {\"outlinewidth\": 0, \"ticks\": \"\"}}, \"type\": \"scattergeo\"}], \"scattergl\": [{\"marker\": {\"colorbar\": {\"outlinewidth\": 0, \"ticks\": \"\"}}, \"type\": \"scattergl\"}], \"scattermapbox\": [{\"marker\": {\"colorbar\": {\"outlinewidth\": 0, \"ticks\": \"\"}}, \"type\": \"scattermapbox\"}], \"scatterpolar\": [{\"marker\": {\"colorbar\": {\"outlinewidth\": 0, \"ticks\": \"\"}}, \"type\": \"scatterpolar\"}], \"scatterpolargl\": [{\"marker\": {\"colorbar\": {\"outlinewidth\": 0, \"ticks\": \"\"}}, \"type\": \"scatterpolargl\"}], \"scatterternary\": [{\"marker\": {\"colorbar\": {\"outlinewidth\": 0, \"ticks\": \"\"}}, \"type\": \"scatterternary\"}], \"surface\": [{\"colorbar\": {\"outlinewidth\": 0, \"ticks\": \"\"}, \"colorscale\": [[0.0, \"#0d0887\"], [0.1111111111111111, \"#46039f\"], [0.2222222222222222, \"#7201a8\"], [0.3333333333333333, \"#9c179e\"], [0.4444444444444444, \"#bd3786\"], [0.5555555555555556, \"#d8576b\"], [0.6666666666666666, \"#ed7953\"], [0.7777777777777778, \"#fb9f3a\"], [0.8888888888888888, \"#fdca26\"], [1.0, \"#f0f921\"]], \"type\": \"surface\"}], \"table\": [{\"cells\": {\"fill\": {\"color\": \"#EBF0F8\"}, \"line\": {\"color\": \"white\"}}, \"header\": {\"fill\": {\"color\": \"#C8D4E3\"}, \"line\": {\"color\": \"white\"}}, \"type\": \"table\"}]}, \"layout\": {\"annotationdefaults\": {\"arrowcolor\": \"#2a3f5f\", \"arrowhead\": 0, \"arrowwidth\": 1}, \"coloraxis\": {\"colorbar\": {\"outlinewidth\": 0, \"ticks\": \"\"}}, \"colorscale\": {\"diverging\": [[0, \"#8e0152\"], [0.1, \"#c51b7d\"], [0.2, \"#de77ae\"], [0.3, \"#f1b6da\"], [0.4, \"#fde0ef\"], [0.5, \"#f7f7f7\"], [0.6, \"#e6f5d0\"], [0.7, \"#b8e186\"], [0.8, \"#7fbc41\"], [0.9, \"#4d9221\"], [1, \"#276419\"]], \"sequential\": [[0.0, \"#0d0887\"], [0.1111111111111111, \"#46039f\"], [0.2222222222222222, \"#7201a8\"], [0.3333333333333333, \"#9c179e\"], [0.4444444444444444, \"#bd3786\"], [0.5555555555555556, \"#d8576b\"], [0.6666666666666666, \"#ed7953\"], [0.7777777777777778, \"#fb9f3a\"], [0.8888888888888888, \"#fdca26\"], [1.0, \"#f0f921\"]], \"sequentialminus\": [[0.0, \"#0d0887\"], [0.1111111111111111, \"#46039f\"], [0.2222222222222222, \"#7201a8\"], [0.3333333333333333, \"#9c179e\"], [0.4444444444444444, \"#bd3786\"], [0.5555555555555556, \"#d8576b\"], [0.6666666666666666, \"#ed7953\"], [0.7777777777777778, \"#fb9f3a\"], [0.8888888888888888, \"#fdca26\"], [1.0, \"#f0f921\"]]}, \"colorway\": [\"#636efa\", \"#EF553B\", \"#00cc96\", \"#ab63fa\", \"#FFA15A\", \"#19d3f3\", \"#FF6692\", \"#B6E880\", \"#FF97FF\", \"#FECB52\"], \"font\": {\"color\": \"#2a3f5f\"}, \"geo\": {\"bgcolor\": \"white\", \"lakecolor\": \"white\", \"landcolor\": \"#E5ECF6\", \"showlakes\": true, \"showland\": true, \"subunitcolor\": \"white\"}, \"hoverlabel\": {\"align\": \"left\"}, \"hovermode\": \"closest\", \"mapbox\": {\"style\": \"light\"}, \"paper_bgcolor\": \"white\", \"plot_bgcolor\": \"#E5ECF6\", \"polar\": {\"angularaxis\": {\"gridcolor\": \"white\", \"linecolor\": \"white\", \"ticks\": \"\"}, \"bgcolor\": \"#E5ECF6\", \"radialaxis\": {\"gridcolor\": \"white\", \"linecolor\": \"white\", \"ticks\": \"\"}}, \"scene\": {\"xaxis\": {\"backgroundcolor\": \"#E5ECF6\", \"gridcolor\": \"white\", \"gridwidth\": 2, \"linecolor\": \"white\", \"showbackground\": true, \"ticks\": \"\", \"zerolinecolor\": \"white\"}, \"yaxis\": {\"backgroundcolor\": \"#E5ECF6\", \"gridcolor\": \"white\", \"gridwidth\": 2, \"linecolor\": \"white\", \"showbackground\": true, \"ticks\": \"\", \"zerolinecolor\": \"white\"}, \"zaxis\": {\"backgroundcolor\": \"#E5ECF6\", \"gridcolor\": \"white\", \"gridwidth\": 2, \"linecolor\": \"white\", \"showbackground\": true, \"ticks\": \"\", \"zerolinecolor\": \"white\"}}, \"shapedefaults\": {\"line\": {\"color\": \"#2a3f5f\"}}, \"ternary\": {\"aaxis\": {\"gridcolor\": \"white\", \"linecolor\": \"white\", \"ticks\": \"\"}, \"baxis\": {\"gridcolor\": \"white\", \"linecolor\": \"white\", \"ticks\": \"\"}, \"bgcolor\": \"#E5ECF6\", \"caxis\": {\"gridcolor\": \"white\", \"linecolor\": \"white\", \"ticks\": \"\"}}, \"title\": {\"x\": 0.05}, \"xaxis\": {\"automargin\": true, \"gridcolor\": \"white\", \"linecolor\": \"white\", \"ticks\": \"\", \"title\": {\"standoff\": 15}, \"zerolinecolor\": \"white\", \"zerolinewidth\": 2}, \"yaxis\": {\"automargin\": true, \"gridcolor\": \"white\", \"linecolor\": \"white\", \"ticks\": \"\", \"title\": {\"standoff\": 15}, \"zerolinecolor\": \"white\", \"zerolinewidth\": 2}}}, \"xaxis\": {\"anchor\": \"y\", \"domain\": [0.0, 1.0], \"title\": {\"text\": \"Course duration (hours)\"}}, \"yaxis\": {\"anchor\": \"x\", \"domain\": [0.0, 1.0], \"title\": {\"text\": \"Participants per course\"}}},\n",
       "                        {\"responsive\": true}\n",
       "                    ).then(function(){\n",
       "                            \n",
       "var gd = document.getElementById('919157a2-a4d8-4db9-82cc-d6f00f7d7158');\n",
       "var x = new MutationObserver(function (mutations, observer) {{\n",
       "        var display = window.getComputedStyle(gd).display;\n",
       "        if (!display || display === 'none') {{\n",
       "            console.log([gd, 'removed!']);\n",
       "            Plotly.purge(gd);\n",
       "            observer.disconnect();\n",
       "        }}\n",
       "}});\n",
       "\n",
       "// Listen for the removal of the full notebook cells\n",
       "var notebookContainer = gd.closest('#notebook-container');\n",
       "if (notebookContainer) {{\n",
       "    x.observe(notebookContainer, {childList: true});\n",
       "}}\n",
       "\n",
       "// Listen for the clearing of the current output cell\n",
       "var outputEl = gd.closest('.output');\n",
       "if (outputEl) {{\n",
       "    x.observe(outputEl, {childList: true});\n",
       "}}\n",
       "\n",
       "                        })\n",
       "                };\n",
       "                });\n",
       "            </script>\n",
       "        </div>"
      ]
     },
     "metadata": {},
     "output_type": "display_data"
    }
   ],
   "source": [
    "ex.scatter(online_courses, x = \"Course duration (hours)\", y = \"Participants per course\", trendline=\"ols\")\n"
   ]
  },
  {
   "cell_type": "code",
   "execution_count": 114,
   "metadata": {},
   "outputs": [
    {
     "data": {
      "text/plain": [
       "0.5905112748794058"
      ]
     },
     "execution_count": 114,
     "metadata": {},
     "output_type": "execute_result"
    }
   ],
   "source": [
    "online_courses[\"Participants per course\"].corr(online_courses[\"Course duration (hours)\"])"
   ]
  }
 ],
 "metadata": {
  "kernelspec": {
   "display_name": "Python 3",
   "language": "python",
   "name": "python3"
  },
  "language_info": {
   "codemirror_mode": {
    "name": "ipython",
    "version": 3
   },
   "file_extension": ".py",
   "mimetype": "text/x-python",
   "name": "python",
   "nbconvert_exporter": "python",
   "pygments_lexer": "ipython3",
   "version": "3.7.4"
  }
 },
 "nbformat": 4,
 "nbformat_minor": 2
}
